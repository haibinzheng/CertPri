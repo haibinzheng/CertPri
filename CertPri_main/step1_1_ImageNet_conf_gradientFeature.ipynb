{
 "cells": [
  {
   "cell_type": "code",
   "execution_count": 1,
   "id": "90b61167",
   "metadata": {},
   "outputs": [],
   "source": [
    "from tensorflow.keras.datasets import cifar10\n",
    "import numpy as np\n",
    "from tensorflow.keras.layers import Dense\n",
    "from tensorflow.keras.models import Sequential,load_model\n",
    "from tensorflow.keras.utils import to_categorical\n",
    "from sklearn.preprocessing import StandardScaler\n",
    "\n",
    "from tensorflow.keras.applications.vgg19 import VGG19, decode_predictions\n",
    "from tensorflow.keras.preprocessing import image\n",
    "from tensorflow.keras.applications.vgg19 import preprocess_input\n",
    "from tensorflow.keras.models import Model\n",
    "import cv2\n",
    "from keras_preprocessing.image import ImageDataGenerator\n",
    "\n",
    "from tensorflow.keras.layers import *\n",
    "from tensorflow.keras.models import *\n",
    "from tensorflow.keras.optimizers import *\n",
    "from tensorflow.keras import backend as BE\n",
    "from tensorflow.keras.losses import categorical_crossentropy\n",
    "from progressbar import ProgressBar\n",
    "import os\n",
    "import scipy.io\n",
    "import tensorflow as tf\n",
    "import json\n",
    "import sys\n",
    "sys.path.append('..')  \n",
    "from GradPri_utils.utils import *\n",
    "\n",
    "# from tensorflow.keras import backend as BE\n",
    "# from Integrated_Gradients_algorithm import *\n",
    "# from GradVisualizer import *\n",
    "\n",
    "os.environ[\"CUDA_VISIBLE_DEVICES\"] = \"6\"\n",
    "config=tf.compat.v1.ConfigProto()\n",
    "config.gpu_options.allow_growth=True   #不全部占满显存, 按需分配\n",
    "sess=tf.compat.v1.Session(config=config) \n",
    "\n",
    "# tf.compat.v1.disable_eager_execution()\n",
    "# tf.compat.v1.enable_eager_execution()"
   ]
  },
  {
   "cell_type": "code",
   "execution_count": 2,
   "id": "258f8c19",
   "metadata": {},
   "outputs": [],
   "source": [
    "DATA_PATH = '../datasets/ImageNetVal/'\n",
    "file_name = getfile_name(DATA_PATH)\n",
    "file_name = np.sort(file_name)\n",
    "\n",
    "f = open(\"../datasets/ILSVRC2012_devkit_t12/data/ILSVRC2012_validation_ground_truth.txt\",encoding = \"utf-8\")\n",
    "val_ground_truth = f.read()\n",
    "val_ground_truth = val_ground_truth.split('\\n')\n",
    "for i in range(len(val_ground_truth)-1):\n",
    "    val_ground_truth[i] = int(val_ground_truth[i])\n",
    "\n",
    "vgg19_json = json.load(open('/public/liujiawei/.keras/models/imagenet_class_index.json','r',encoding=\"utf-8\"))"
   ]
  },
  {
   "cell_type": "code",
   "execution_count": 3,
   "id": "67d6a7d4",
   "metadata": {},
   "outputs": [],
   "source": [
    "base_model = VGG19(weights='imagenet')"
   ]
  },
  {
   "cell_type": "code",
   "execution_count": 4,
   "id": "cdce5da9",
   "metadata": {},
   "outputs": [
    {
     "name": "stdout",
     "output_type": "stream",
     "text": [
      "n04263257\n",
      "soup bowl\n",
      "1300\n"
     ]
    }
   ],
   "source": [
    "synsets = scipy.io.loadmat(os.path.join('../datasets', 'ILSVRC2012_devkit_t12', 'data', 'meta.mat'))['synsets']\n",
    "\n",
    "ILSVRC2012_ID = [s[0][0][0][0] for s in synsets]\n",
    "\n",
    "index1 = 821\n",
    "WNID = [s[0][1][0] for s in synsets]\n",
    "print(WNID[index1])\n",
    "\n",
    "words = [s[0][2][0] for s in synsets]\n",
    "print(words[index1])\n",
    "\n",
    "num_train_images = [s[0][7][0][0] for s in synsets]\n",
    "print(num_train_images[0])"
   ]
  },
  {
   "cell_type": "code",
   "execution_count": 5,
   "id": "e5b25b12",
   "metadata": {},
   "outputs": [
    {
     "name": "stdout",
     "output_type": "stream",
     "text": [
      "Model: \"vgg19\"\n",
      "_________________________________________________________________\n",
      "Layer (type)                 Output Shape              Param #   \n",
      "=================================================================\n",
      "input_1 (InputLayer)         [(None, 224, 224, 3)]     0         \n",
      "_________________________________________________________________\n",
      "block1_conv1 (Conv2D)        (None, 224, 224, 64)      1792      \n",
      "_________________________________________________________________\n",
      "block1_conv2 (Conv2D)        (None, 224, 224, 64)      36928     \n",
      "_________________________________________________________________\n",
      "block1_pool (MaxPooling2D)   (None, 112, 112, 64)      0         \n",
      "_________________________________________________________________\n",
      "block2_conv1 (Conv2D)        (None, 112, 112, 128)     73856     \n",
      "_________________________________________________________________\n",
      "block2_conv2 (Conv2D)        (None, 112, 112, 128)     147584    \n",
      "_________________________________________________________________\n",
      "block2_pool (MaxPooling2D)   (None, 56, 56, 128)       0         \n",
      "_________________________________________________________________\n",
      "block3_conv1 (Conv2D)        (None, 56, 56, 256)       295168    \n",
      "_________________________________________________________________\n",
      "block3_conv2 (Conv2D)        (None, 56, 56, 256)       590080    \n",
      "_________________________________________________________________\n",
      "block3_conv3 (Conv2D)        (None, 56, 56, 256)       590080    \n",
      "_________________________________________________________________\n",
      "block3_conv4 (Conv2D)        (None, 56, 56, 256)       590080    \n",
      "_________________________________________________________________\n",
      "block3_pool (MaxPooling2D)   (None, 28, 28, 256)       0         \n",
      "_________________________________________________________________\n",
      "block4_conv1 (Conv2D)        (None, 28, 28, 512)       1180160   \n",
      "_________________________________________________________________\n",
      "block4_conv2 (Conv2D)        (None, 28, 28, 512)       2359808   \n",
      "_________________________________________________________________\n",
      "block4_conv3 (Conv2D)        (None, 28, 28, 512)       2359808   \n",
      "_________________________________________________________________\n",
      "block4_conv4 (Conv2D)        (None, 28, 28, 512)       2359808   \n",
      "_________________________________________________________________\n",
      "block4_pool (MaxPooling2D)   (None, 14, 14, 512)       0         \n",
      "_________________________________________________________________\n",
      "block5_conv1 (Conv2D)        (None, 14, 14, 512)       2359808   \n",
      "_________________________________________________________________\n",
      "block5_conv2 (Conv2D)        (None, 14, 14, 512)       2359808   \n",
      "_________________________________________________________________\n",
      "block5_conv3 (Conv2D)        (None, 14, 14, 512)       2359808   \n",
      "_________________________________________________________________\n",
      "block5_conv4 (Conv2D)        (None, 14, 14, 512)       2359808   \n",
      "_________________________________________________________________\n",
      "block5_pool (MaxPooling2D)   (None, 7, 7, 512)         0         \n",
      "_________________________________________________________________\n",
      "flatten (Flatten)            (None, 25088)             0         \n",
      "_________________________________________________________________\n",
      "fc1 (Dense)                  (None, 4096)              102764544 \n",
      "_________________________________________________________________\n",
      "fc2 (Dense)                  (None, 4096)              16781312  \n",
      "_________________________________________________________________\n",
      "predictions (Dense)          (None, 1000)              4097000   \n",
      "=================================================================\n",
      "Total params: 143,667,240\n",
      "Trainable params: 143,667,240\n",
      "Non-trainable params: 0\n",
      "_________________________________________________________________\n"
     ]
    }
   ],
   "source": [
    "base_model.summary()"
   ]
  },
  {
   "cell_type": "code",
   "execution_count": 27,
   "id": "60cf557e",
   "metadata": {},
   "outputs": [
    {
     "name": "stderr",
     "output_type": "stream",
     "text": [
      "100% |########################################################################|\n"
     ]
    }
   ],
   "source": [
    "top_set = 1 # 预测的前n个类中包含真实标签则表示预测正确\n",
    "total_sample_num = 200\n",
    "img_num = range(0, total_sample_num)\n",
    "ground_truth_label = []  # 记录样本的真实标签\n",
    "predicted_confidence = []  # 记录样本的置信度信息\n",
    "binary_flag = [] # 记录样本是否被正确分类，正确分类的标记为1，否则标记为0\n",
    "gradients = [] # 记录样本的梯度信息\n",
    "sec_gradients = [] # 记录样本的梯度信息\n",
    "firProb_gradient_sum = [] # 以第一大置信度作为真实标签，计算梯度和\n",
    "secProb_gradient_sum = [] # 以第二大置信度作为真实标签，计算梯度和\n",
    "num_class = 1000\n",
    "DATA_PATH = '../datasets/ImageNetVal/'\n",
    "file_name = getfile_name(DATA_PATH)\n",
    "file_name = np.sort(file_name)\n",
    "\n",
    "pbar = ProgressBar()\n",
    "for i in pbar(img_num):\n",
    "    img_path = DATA_PATH + file_name[i]\n",
    "    img = image.load_img(img_path, target_size=(224, 224))\n",
    "    x_tmp = image.img_to_array(img)\n",
    "    x_tmp = np.expand_dims(x_tmp, axis=0)\n",
    "    x_tmp = preprocess_input(x_tmp)\n",
    "    pre_tmp = base_model.predict(np.reshape(x_tmp, [-1,224,224,3]))\n",
    "    \n",
    "    predicted_confidence.append(pre_tmp)\n",
    "    ground_truth_label.append(WNID[val_ground_truth[i]-1])\n",
    "    binary_flag.append(\n",
    "        get_acc(predict_label = decode_predictions(pre_tmp, top=top_set), \n",
    "                               ground_truth=WNID[val_ground_truth[i]-1]\n",
    "               )\n",
    "    )\n",
    "    \n",
    "#     target_one_hot = np.reshape(to_categorical(np.argmax(pre_tmp), num_class),(1,-1))\n",
    "#     grads = get_loss_gradients(x_tmp, base_model, target_one_hot)\n",
    "    grads = get_gradients(x_tmp, base_model, np.argmax(pre_tmp))\n",
    "    gradients.append(grads)\n",
    "    firProb_gradient_sum.append(np.sum(np.abs(grads)))\n",
    "    \n",
    "    target_label = np.argsort(-pre_tmp) \n",
    "    target_label = target_label[:,1][0]\n",
    "#     target_one_hot = np.reshape(to_categorical(target_label, num_class),(1,-1))\n",
    "#     grads = get_loss_gradients(x_tmp, base_model, target_one_hot)\n",
    "    grads = get_gradients(x_tmp, base_model, target_label)\n",
    "    sec_gradients.append(grads)\n",
    "    secProb_gradient_sum.append(np.sum(np.abs(grads)))"
   ]
  },
  {
   "cell_type": "code",
   "execution_count": 38,
   "id": "029ebacd",
   "metadata": {},
   "outputs": [
    {
     "name": "stderr",
     "output_type": "stream",
     "text": [
      "100% |########################################################################|\n"
     ]
    }
   ],
   "source": [
    "Gini = []\n",
    "pbar = ProgressBar()\n",
    "for i in pbar(img_num):\n",
    "    Gini.append(np.sum(np.abs(gradients[i])))\n",
    "    \n",
    "#     Gini.append(1 - np.sum(predicted_confidence[i]*predicted_confidence[i]))\n",
    "    \n",
    "#     tmp1 = (gradients[i] - sec_gradients[i]) /sec_gradients[i]\n",
    "#     Gini.append(np.sum(np.abs(tmp1)))\n",
    "    \n",
    "#     Gini.append(secProb_gradient_sum[i])"
   ]
  },
  {
   "cell_type": "code",
   "execution_count": 39,
   "id": "7497d0c1",
   "metadata": {},
   "outputs": [
    {
     "name": "stderr",
     "output_type": "stream",
     "text": [
      "100% |########################################################################|\n",
      "100% |########################################################################|\r"
     ]
    },
    {
     "name": "stdout",
     "output_type": "stream",
     "text": [
      "APFD:  0.688203125\n",
      "RAUC:  0.8138909495548962\n"
     ]
    },
    {
     "name": "stderr",
     "output_type": "stream",
     "text": [
      "\n"
     ]
    }
   ],
   "source": [
    "indexs = np.argsort(Gini)\n",
    "indexs = indexs[::-1]\n",
    "# 计算APFD指标\n",
    "APFD,_,_ = get_APFD(Gini_indexs=indexs, ground_truth_label=np.array(ground_truth_label), \n",
    "                    predicted_confidence=np.array(predicted_confidence), top_set=top_set,\n",
    "                   decode_predictions=decode_predictions)\n",
    "print(\"APFD: \", APFD)\n",
    "\n",
    "# 计算RAUC指标\n",
    "RAUC,_,_ = get_RAUC(Gini_indexs=indexs, ground_truth_label=np.array(ground_truth_label), \n",
    "                    predicted_confidence=np.array(predicted_confidence), top_set=top_set,\n",
    "                    decode_predictions=decode_predictions)\n",
    "print(\"RAUC: \", RAUC)"
   ]
  },
  {
   "cell_type": "code",
   "execution_count": 53,
   "id": "ff221d6a",
   "metadata": {},
   "outputs": [],
   "source": [
    "np.save('./featureExtraction/ImageNet_'+str(total_sample_num)+'samplesGradientFeature.npy',{\n",
    "    'ground_truth_label': np.array(ground_truth_label),\n",
    "    'predicted_confidence': np.array(predicted_confidence),\n",
    "    'binary_flag': np.array(binary_flag),\n",
    "    'gradients': np.array(gradients),\n",
    "    'firProb_gradient_sum': np.array(firProb_gradient_sum),\n",
    "    'secProb_gradient_sum': np.array(secProb_gradient_sum),\n",
    "})"
   ]
  },
  {
   "cell_type": "code",
   "execution_count": null,
   "id": "5c594740",
   "metadata": {},
   "outputs": [],
   "source": []
  },
  {
   "cell_type": "code",
   "execution_count": null,
   "id": "b3df637f",
   "metadata": {},
   "outputs": [],
   "source": []
  }
 ],
 "metadata": {
  "kernelspec": {
   "display_name": "Python 3",
   "language": "python",
   "name": "python3"
  },
  "language_info": {
   "codemirror_mode": {
    "name": "ipython",
    "version": 3
   },
   "file_extension": ".py",
   "mimetype": "text/x-python",
   "name": "python",
   "nbconvert_exporter": "python",
   "pygments_lexer": "ipython3",
   "version": "3.6.13"
  }
 },
 "nbformat": 4,
 "nbformat_minor": 5
}
