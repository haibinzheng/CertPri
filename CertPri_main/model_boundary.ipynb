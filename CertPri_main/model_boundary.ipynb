{
 "cells": [
  {
   "cell_type": "code",
   "execution_count": 47,
   "id": "22e7ab1c",
   "metadata": {},
   "outputs": [],
   "source": [
    "from keras.datasets import fashion_mnist\n",
    "from art.utils import load_mnist\n",
    "import tensorflow as tf\n",
    "from tensorflow.keras.utils import to_categorical\n",
    "from tensorflow.keras.layers import Dense, Dropout, Activation, Flatten, Conv2D, Lambda, MaxPooling2D, BatchNormalization\n",
    "from tensorflow.keras.models import Sequential,load_model\n",
    "from art.metrics.metrics import empirical_robustness, clever_t, clever_u, clever, loss_sensitivity, wasserstein_distance\n",
    "import numpy as np\n",
    "from art.estimators.classification.keras import KerasClassifier\n",
    "import logging\n",
    "\n",
    "import os\n",
    "os.environ[\"CUDA_VISIBLE_DEVICES\"] = \"4\""
   ]
  },
  {
   "cell_type": "code",
   "execution_count": 2,
   "id": "1eb2a0a1",
   "metadata": {},
   "outputs": [
    {
     "name": "stdout",
     "output_type": "stream",
     "text": [
      "Model: \"sequential_11\"\n",
      "_________________________________________________________________\n",
      "Layer (type)                 Output Shape              Param #   \n",
      "=================================================================\n",
      "block1_conv1 (Conv2D)        (None, 28, 28, 64)        1792      \n",
      "_________________________________________________________________\n",
      "block1_act1 (Activation)     (None, 28, 28, 64)        0         \n",
      "_________________________________________________________________\n",
      "block1_pool1 (MaxPooling2D)  (None, 14, 14, 64)        0         \n",
      "_________________________________________________________________\n",
      "block1_conv2 (Conv2D)        (None, 14, 14, 128)       73856     \n",
      "_________________________________________________________________\n",
      "block1_act2 (Activation)     (None, 14, 14, 128)       0         \n",
      "_________________________________________________________________\n",
      "block1_pool2 (MaxPooling2D)  (None, 7, 7, 128)         0         \n",
      "_________________________________________________________________\n",
      "block1_conv3 (Conv2D)        (None, 7, 7, 256)         295168    \n",
      "_________________________________________________________________\n",
      "block1_act3 (Activation)     (None, 7, 7, 256)         0         \n",
      "_________________________________________________________________\n",
      "block1_pool3 (MaxPooling2D)  (None, 3, 3, 256)         0         \n",
      "_________________________________________________________________\n",
      "flatten (Flatten)            (None, 2304)              0         \n",
      "_________________________________________________________________\n",
      "fc1 (Dense)                  (None, 1024)              2360320   \n",
      "_________________________________________________________________\n",
      "drop1 (Dropout)              (None, 1024)              0         \n",
      "_________________________________________________________________\n",
      "fc2 (Dense)                  (None, 32)                32800     \n",
      "_________________________________________________________________\n",
      "drop2 (Dropout)              (None, 32)                0         \n",
      "_________________________________________________________________\n",
      "predictions (Dense)          (None, 10)                330       \n",
      "=================================================================\n",
      "Total params: 2,764,266\n",
      "Trainable params: 2,764,266\n",
      "Non-trainable params: 0\n",
      "_________________________________________________________________\n"
     ]
    }
   ],
   "source": [
    "model = load_model('./fmnist_CNN.h5')\n",
    "model.summary()"
   ]
  },
  {
   "cell_type": "code",
   "execution_count": 19,
   "id": "f35ea3af",
   "metadata": {},
   "outputs": [],
   "source": [
    "# import numpy as np\n",
    "# w1 = model.get_weights()[0]"
   ]
  },
  {
   "cell_type": "code",
   "execution_count": 28,
   "id": "c21a5437",
   "metadata": {},
   "outputs": [
    {
     "name": "stdout",
     "output_type": "stream",
     "text": [
      "(60000, 28, 28) (60000,) (10000, 28, 28) (10000,)\n"
     ]
    }
   ],
   "source": [
    "(x_train, y_train), (x_test, y_test) = fashion_mnist.load_data()\n",
    "print(x_train.shape, y_train.shape, x_test.shape, y_test.shape)\n",
    "x_train = tf.expand_dims(x_train, axis = -1)\n",
    "x_train = tf.keras.backend.repeat_elements(x=x_train, rep=3, axis=-1)\n",
    "x_test = tf.expand_dims(x_test, axis = -1)\n",
    "x_test = tf.keras.backend.repeat_elements(x=x_test, rep=3, axis=-1)"
   ]
  },
  {
   "cell_type": "code",
   "execution_count": 29,
   "id": "75c841b2",
   "metadata": {},
   "outputs": [],
   "source": [
    "# Get FMNIST\n",
    "nb_test = 10\n",
    "x_test, y_test = x_test[:nb_test], y_test[:nb_test]"
   ]
  },
  {
   "cell_type": "code",
   "execution_count": 10,
   "id": "98504744",
   "metadata": {},
   "outputs": [
    {
     "ename": "NameError",
     "evalue": "name 'model' is not defined",
     "output_type": "error",
     "traceback": [
      "\u001b[0;31m---------------------------------------------------------------------------\u001b[0m",
      "\u001b[0;31mNameError\u001b[0m                                 Traceback (most recent call last)",
      "\u001b[0;32m<ipython-input-10-cc929e6d22ef>\u001b[0m in \u001b[0;36m<module>\u001b[0;34m\u001b[0m\n\u001b[1;32m      4\u001b[0m \u001b[0;34m\u001b[0m\u001b[0m\n\u001b[1;32m      5\u001b[0m \u001b[0;31m# Test targeted clever\u001b[0m\u001b[0;34m\u001b[0m\u001b[0;34m\u001b[0m\u001b[0;34m\u001b[0m\u001b[0m\n\u001b[0;32m----> 6\u001b[0;31m \u001b[0mres0\u001b[0m \u001b[0;34m=\u001b[0m \u001b[0mclever_t\u001b[0m\u001b[0;34m(\u001b[0m\u001b[0mmodel\u001b[0m\u001b[0;34m,\u001b[0m \u001b[0mx_test\u001b[0m\u001b[0;34m[\u001b[0m\u001b[0;34m-\u001b[0m\u001b[0;36m1\u001b[0m\u001b[0;34m]\u001b[0m\u001b[0;34m,\u001b[0m \u001b[0;36m2\u001b[0m\u001b[0;34m,\u001b[0m \u001b[0;36m10\u001b[0m\u001b[0;34m,\u001b[0m \u001b[0;36m5\u001b[0m\u001b[0;34m,\u001b[0m \u001b[0mR_L1\u001b[0m\u001b[0;34m,\u001b[0m \u001b[0mnorm\u001b[0m\u001b[0;34m=\u001b[0m\u001b[0;36m1\u001b[0m\u001b[0;34m,\u001b[0m \u001b[0mpool_factor\u001b[0m\u001b[0;34m=\u001b[0m\u001b[0;36m3\u001b[0m\u001b[0;34m)\u001b[0m\u001b[0;34m\u001b[0m\u001b[0;34m\u001b[0m\u001b[0m\n\u001b[0m\u001b[1;32m      7\u001b[0m \u001b[0mres1\u001b[0m \u001b[0;34m=\u001b[0m \u001b[0mclever_t\u001b[0m\u001b[0;34m(\u001b[0m\u001b[0mmodel\u001b[0m\u001b[0;34m,\u001b[0m \u001b[0mx_test\u001b[0m\u001b[0;34m[\u001b[0m\u001b[0;34m-\u001b[0m\u001b[0;36m1\u001b[0m\u001b[0;34m]\u001b[0m\u001b[0;34m,\u001b[0m \u001b[0;36m2\u001b[0m\u001b[0;34m,\u001b[0m \u001b[0;36m10\u001b[0m\u001b[0;34m,\u001b[0m \u001b[0;36m5\u001b[0m\u001b[0;34m,\u001b[0m \u001b[0mR_L2\u001b[0m\u001b[0;34m,\u001b[0m \u001b[0mnorm\u001b[0m\u001b[0;34m=\u001b[0m\u001b[0;36m2\u001b[0m\u001b[0;34m,\u001b[0m \u001b[0mpool_factor\u001b[0m\u001b[0;34m=\u001b[0m\u001b[0;36m3\u001b[0m\u001b[0;34m)\u001b[0m\u001b[0;34m\u001b[0m\u001b[0;34m\u001b[0m\u001b[0m\n\u001b[1;32m      8\u001b[0m \u001b[0mres2\u001b[0m \u001b[0;34m=\u001b[0m \u001b[0mclever_t\u001b[0m\u001b[0;34m(\u001b[0m\u001b[0mmodel\u001b[0m\u001b[0;34m,\u001b[0m \u001b[0mx_test\u001b[0m\u001b[0;34m[\u001b[0m\u001b[0;34m-\u001b[0m\u001b[0;36m1\u001b[0m\u001b[0;34m]\u001b[0m\u001b[0;34m,\u001b[0m \u001b[0;36m2\u001b[0m\u001b[0;34m,\u001b[0m \u001b[0;36m10\u001b[0m\u001b[0;34m,\u001b[0m \u001b[0;36m5\u001b[0m\u001b[0;34m,\u001b[0m \u001b[0mR_LI\u001b[0m\u001b[0;34m,\u001b[0m \u001b[0mnorm\u001b[0m\u001b[0;34m=\u001b[0m\u001b[0mnp\u001b[0m\u001b[0;34m.\u001b[0m\u001b[0minf\u001b[0m\u001b[0;34m,\u001b[0m \u001b[0mpool_factor\u001b[0m\u001b[0;34m=\u001b[0m\u001b[0;36m3\u001b[0m\u001b[0;34m)\u001b[0m\u001b[0;34m\u001b[0m\u001b[0;34m\u001b[0m\u001b[0m\n",
      "\u001b[0;31mNameError\u001b[0m: name 'model' is not defined"
     ]
    }
   ],
   "source": [
    "R_L1 = 40\n",
    "R_L2 = 2\n",
    "R_LI = 0.1\n",
    "\n",
    "# Test targeted clever\n",
    "res0 = clever_t(model, x_test[-1], 2, 10, 5, R_L1, norm=1, pool_factor=3)\n",
    "res1 = clever_t(model, x_test[-1], 2, 10, 5, R_L2, norm=2, pool_factor=3)\n",
    "res2 = clever_t(model, x_test[-1], 2, 10, 5, R_LI, norm=np.inf, pool_factor=3)\n",
    "logger.info(\"Targeted Keras: %f %f %f\", res0, res1, res2)\n",
    "assertNotEqual(res0, res1)\n",
    "assert_not_equal(res1, res2)\n",
    "assert_not_equal(res2, res0)"
   ]
  },
  {
   "cell_type": "code",
   "execution_count": 31,
   "id": "46138c7b",
   "metadata": {},
   "outputs": [
    {
     "data": {
      "text/plain": [
       "TensorShape([28, 28, 3])"
      ]
     },
     "execution_count": 31,
     "metadata": {},
     "output_type": "execute_result"
    }
   ],
   "source": [
    "# Test untargeted clever\n",
    "res0 = clever_u(krc, x_test[-1], 10, 5, R_L1, norm=1, pool_factor=3, verbose=False)\n",
    "res1 = clever_u(krc, x_test[-1], 10, 5, R_L2, norm=2, pool_factor=3, verbose=False)\n",
    "res2 = clever_u(krc, x_test[-1], 10, 5, R_LI, norm=np.inf, pool_factor=3, verbose=False)\n",
    "logger.info(\"Untargeted Keras: %f %f %f\", res0, res1, res2)\n",
    "self.assertNotEqual(res0, res1)\n",
    "self.assertNotEqual(res1, res2)\n",
    "self.assertNotEqual(res2, res0)"
   ]
  },
  {
   "cell_type": "code",
   "execution_count": 2,
   "id": "805afee1",
   "metadata": {},
   "outputs": [],
   "source": [
    "R_L1 = 40\n",
    "R_L2 = 2\n",
    "R_LI = 0.1\n",
    "\n",
    "def _create_krclassifier():\n",
    "    \"\"\"\n",
    "    To create a simple KerasClassifier for testing.\n",
    "    :return:\n",
    "    \"\"\"\n",
    "    import tensorflow as tf\n",
    "\n",
    "    tf_version = [int(v) for v in tf.__version__.split(\".\")]\n",
    "    if tf_version[0] == 2 and tf_version[1] >= 3:\n",
    "        tf.compat.v1.disable_eager_execution()\n",
    "        from tensorflow import keras\n",
    "        from tensorflow.keras.models import Sequential\n",
    "        from tensorflow.keras.layers import Dense, Flatten, Conv2D, MaxPooling2D\n",
    "    else:\n",
    "        import keras\n",
    "        from keras.models import Sequential\n",
    "        from keras.layers import Dense, Flatten, Conv2D, MaxPooling2D\n",
    "\n",
    "    # Create simple CNN\n",
    "    model = Sequential()\n",
    "    model.add(Conv2D(4, kernel_size=(5, 5), activation=\"relu\", input_shape=(28, 28, 1)))\n",
    "    model.add(MaxPooling2D(pool_size=(2, 2)))\n",
    "    model.add(Flatten())\n",
    "    model.add(Dense(10, activation=\"softmax\"))\n",
    "\n",
    "    model.compile(\n",
    "        loss=keras.losses.categorical_crossentropy, optimizer=keras.optimizers.Adam(lr=0.01), metrics=[\"accuracy\"]\n",
    "    )\n",
    "\n",
    "    # Get the classifier\n",
    "    krc = KerasClassifier(model=model, clip_values=(0, 1), use_logits=False)\n",
    "\n",
    "    return krc\n",
    "\n",
    "logger = logging.getLogger(__name__)"
   ]
  },
  {
   "cell_type": "code",
   "execution_count": 19,
   "id": "6bb2db38",
   "metadata": {},
   "outputs": [],
   "source": [
    "# Get MNIST\n",
    "batch_size, nb_train, nb_test = 100, 1000, 100\n",
    "(x_train, y_train), (x_test, y_test), _, _ = load_mnist()\n",
    "x_train, y_train = x_train[:nb_train], y_train[:nb_train]\n",
    "x_test, y_test = x_test[:nb_test], y_test[:nb_test]\n",
    "\n",
    "# Get the classifier\n",
    "krc = _create_krclassifier()\n",
    "krc.fit(x_train, y_train, batch_size=batch_size, nb_epochs=1, verbose=0)\n",
    "\n",
    "# # Test targeted clever\n",
    "# res0 = clever_t(krc, x_test[9], 9, 10, 5, R_L1, norm=1, pool_factor=3)\n",
    "# res1 = clever_t(krc, x_test[-1], 3, 10, 5, R_L2, norm=2, pool_factor=3)\n",
    "# res2 = clever_t(krc, x_test[-1], 3, 10, 5, R_LI, norm=np.inf, pool_factor=3)\n",
    "# logger.info(\"Targeted Keras: %f %f %f\", res0, res1, res2)\n",
    "# # assertNotEqual(res0, res1)\n",
    "# # asserts.assert_not_equal(res1, res2)\n",
    "# # asserts.assert_not_equal(res2, res0)\n",
    "\n",
    "# # Test untargeted clever\n",
    "# res0 = clever_u(krc, x_test[-1], 10, 5, R_L1, norm=1, pool_factor=3, verbose=False)\n",
    "# res1 = clever_u(krc, x_test[-1], 10, 5, R_L2, norm=2, pool_factor=3, verbose=False)\n",
    "# res2 = clever_u(krc, x_test[-1], 10, 5, R_LI, norm=np.inf, pool_factor=3, verbose=False)\n",
    "# logger.info(\"Untargeted Keras: %f %f %f\", res0, res1, res2)\n",
    "# asserts.assert_not_equal(res0, res1)\n",
    "# asserts.assert_not_equal(res1, res2)\n",
    "# asserts.assert_not_equal(res2, res0)\n"
   ]
  },
  {
   "cell_type": "code",
   "execution_count": 20,
   "id": "b35e86ea",
   "metadata": {},
   "outputs": [
    {
     "name": "stdout",
     "output_type": "stream",
     "text": [
      "ID: 0 \n",
      " \t pred: 7 \t ground: 7 \n",
      " \t T-F: True \tclever_score: 0.003328944670751221\n",
      "ID: 1 \n",
      " \t pred: 6 \t ground: 2 \n",
      " \t T-F: False \tclever_score: 0.00047126426988546147\n",
      "ID: 2 \n",
      " \t pred: 1 \t ground: 1 \n",
      " \t T-F: True \tclever_score: 0.0027436670340193143\n",
      "ID: 3 \n",
      " \t pred: 6 \t ground: 0 \n",
      " \t T-F: False \tclever_score: 0.027589897582549358\n",
      "ID: 4 \n",
      " \t pred: 4 \t ground: 4 \n",
      " \t T-F: True \tclever_score: 0.003315034312937169\n",
      "ID: 5 \n",
      " \t pred: 1 \t ground: 1 \n",
      " \t T-F: True \tclever_score: 0.0048344370389878525\n",
      "ID: 6 \n",
      " \t pred: 4 \t ground: 4 \n",
      " \t T-F: True \tclever_score: 0.0008780483278103667\n",
      "ID: 7 \n",
      " \t pred: 9 \t ground: 9 \n",
      " \t T-F: True \tclever_score: 4.938043934320655e-06\n",
      "ID: 8 \n",
      " \t pred: 4 \t ground: 5 \n",
      " \t T-F: False \tclever_score: 0.0056275948310269405\n",
      "ID: 9 \n",
      " \t pred: 7 \t ground: 9 \n",
      " \t T-F: False \tclever_score: 0.0027546073185561203\n"
     ]
    }
   ],
   "source": [
    "tmp1 = 0\n",
    "for index in range(0, nb_test):\n",
    "    pred = krc.predict(np.reshape(x_test[index], [-1,28,28,1]))\n",
    "    res_tmp = clever_u(krc, x_test[index], 10, 5, R_LI, norm=np.inf, pool_factor=3, verbose=False)\n",
    "    tmp1 = tmp1+res_tmp\n",
    "    print('ID:', index, '\\n', '\\t',\n",
    "          'pred:', np.argmax(pred), '\\t',\n",
    "          'ground:', np.argmax(y_test[index]), '\\n', '\\t',\n",
    "          'T-F:', np.argmax(pred)==np.argmax(y_test[index]), '\\t'\n",
    "          'clever_score:', res_tmp)"
   ]
  },
  {
   "cell_type": "code",
   "execution_count": 26,
   "id": "b3164cce",
   "metadata": {},
   "outputs": [],
   "source": [
    "R_L1 = 40\n",
    "R_L2 = 2\n",
    "R_LI = 0.1\n",
    "\n",
    "def _create_krclassifier_FMNIST():\n",
    "    num_classes = 10\n",
    "    input_shape = (28,28,1)\n",
    "    \n",
    "    model = Sequential()\n",
    "    # Block 1\n",
    "    model.add(Conv2D(64, (3, 3), padding='same', name = 'block1_conv1', \n",
    "                     input_shape=input_shape))\n",
    "    # model.add(BatchNormalization(name = 'block1_bn1'))\n",
    "    model.add(Activation('relu', name = 'block1_act1'))\n",
    "    model.add(MaxPooling2D(pool_size=(2, 2), strides=(2, 2), name='block1_pool1'))\n",
    "\n",
    "    model.add(Conv2D(128, (3, 3), padding='same', name = 'block1_conv2'))\n",
    "    # model.add(BatchNormalization(name = 'block1_bn2'))\n",
    "    model.add(Activation('relu', name = 'block1_act2'))\n",
    "    model.add(MaxPooling2D(pool_size=(2, 2), strides=(2, 2), name='block1_pool2'))\n",
    "\n",
    "    model.add(Conv2D(256, (3, 3), padding='same', name = 'block1_conv3'))\n",
    "    # model.add(BatchNormalization(name = 'block1_bn3'))\n",
    "    model.add(Activation('relu', name = 'block1_act3'))\n",
    "    model.add(MaxPooling2D(pool_size=(2, 2), strides=(2, 2), name='block1_pool3'))\n",
    "    # top\n",
    "    model.add(Flatten(name='flatten'))\n",
    "    model.add(Dense(1024, activation='relu', name='fc1'))\n",
    "    model.add(Dropout(0.5, name='drop1'))\n",
    "    model.add(Dense(32, activation='relu', name='fc2'))\n",
    "    model.add(Dropout(0.5, name='drop2'))\n",
    "    # model.add(Dense(64, activation='relu', name='fc3'))\n",
    "    # model.add(Dropout(0.5, name='drop3'))\n",
    "    model.add(Dense(num_classes, activation='softmax', name='predictions'))\n",
    "\n",
    "    \n",
    "    # model = load_model(\"./fmnist_CNN.h5\")\n",
    "    opt = tf.keras.optimizers.Adam(learning_rate=0.00005)\n",
    "    model.compile(loss='categorical_crossentropy',\n",
    "                  optimizer=opt,\n",
    "                  metrics=['accuracy'])\n",
    "\n",
    "    # Get the classifier\n",
    "    krc = KerasClassifier(model=model, clip_values=(0, 1), use_logits=False)\n",
    "\n",
    "    return krc\n",
    "\n",
    "logger = logging.getLogger(__name__)"
   ]
  },
  {
   "cell_type": "code",
   "execution_count": 34,
   "id": "a25b4349",
   "metadata": {},
   "outputs": [
    {
     "name": "stdout",
     "output_type": "stream",
     "text": [
      "Train on 60000 samples, validate on 5000 samples\n",
      "Epoch 1/5\n",
      "60000/60000 [==============================] - 4s 60us/sample - loss: 1.4433 - accuracy: 0.5179 - val_loss: 0.4452 - val_accuracy: 0.8996\n",
      "Epoch 2/5\n",
      "60000/60000 [==============================] - 3s 47us/sample - loss: 0.5639 - accuracy: 0.8274 - val_loss: 0.2289 - val_accuracy: 0.9396\n",
      "Epoch 3/5\n",
      "60000/60000 [==============================] - 2s 39us/sample - loss: 0.3901 - accuracy: 0.8838 - val_loss: 0.1706 - val_accuracy: 0.9506\n",
      "Epoch 4/5\n",
      "60000/60000 [==============================] - 2s 39us/sample - loss: 0.3086 - accuracy: 0.9107 - val_loss: 0.1316 - val_accuracy: 0.9634\n",
      "Epoch 5/5\n",
      "60000/60000 [==============================] - 3s 46us/sample - loss: 0.2629 - accuracy: 0.9233 - val_loss: 0.1100 - val_accuracy: 0.9680\n"
     ]
    }
   ],
   "source": [
    "# Get Fashion-MNIST\n",
    "batch_size, nb_train, nb_test = 100, 1000, 100\n",
    "(x_train, y_train), (x_test, y_test), _, _ = load_mnist()\n",
    "# x_train, y_train = x_train[:nb_train], y_train[:nb_train]\n",
    "# x_test, y_test = x_test[:nb_test], y_test[:nb_test]\n",
    "\n",
    "# Get the classifier\n",
    "krc = _create_krclassifier_FMNIST()\n",
    "krc.fit(x_train, y_train, batch_size=256, nb_epochs=5, \n",
    "        validation_data=(x_test[0:5000], y_test[0:5000]), verbose=1)\n",
    "\n",
    "# checkpoint = tf.keras.callbacks.ModelCheckpoint(filepath=\"./fmnist_CNN.h5\", \n",
    "#                                                     monitor='val_accuracy', \n",
    "#                                                     verbose=1, \n",
    "#                                                     save_best_only=True, mode = 'max')\n",
    "# callbacks_list = [checkpoint]\n",
    "# krc.fit(x_train, y_train, batch_size=256, epochs=20, shuffle=True,\n",
    "#           validation_data=(x_test[0:5000], y_test[0:5000]), callbacks=callbacks_list)"
   ]
  },
  {
   "cell_type": "code",
   "execution_count": null,
   "id": "631fd9b4",
   "metadata": {},
   "outputs": [],
   "source": []
  },
  {
   "cell_type": "code",
   "execution_count": 45,
   "id": "2ecc2c17",
   "metadata": {},
   "outputs": [
    {
     "name": "stdout",
     "output_type": "stream",
     "text": [
      "ID: 151 \n",
      " \t pred: 8 \t ground: 9 \n",
      " \t T-F: False \tclever_score: 0.0008706783480636455\n",
      "ID: 241 \n",
      " \t pred: 8 \t ground: 9 \n",
      " \t T-F: False \tclever_score: 0.000369658655701675\n",
      "ID: 247 \n",
      " \t pred: 6 \t ground: 4 \n",
      " \t T-F: False \tclever_score: 0.0018672173484374735\n",
      "ID: 259 \n",
      " \t pred: 0 \t ground: 6 \n",
      " \t T-F: False \tclever_score: 0.003911552687412376\n",
      "ID: 290 \n",
      " \t pred: 4 \t ground: 8 \n",
      " \t T-F: False \tclever_score: 0.003479892490973268\n",
      "ID: 320 \n",
      " \t pred: 7 \t ground: 9 \n",
      " \t T-F: False \tclever_score: 0.0004299585554347991\n",
      "ID: 321 \n",
      " \t pred: 7 \t ground: 2 \n",
      " \t T-F: False \tclever_score: 0.028364724616386883\n",
      "ID: 445 \n",
      " \t pred: 0 \t ground: 6 \n",
      " \t T-F: False \tclever_score: 0.08024972603931253\n",
      "ID: 571 \n",
      " \t pred: 9 \t ground: 4 \n",
      " \t T-F: False \tclever_score: 5.6730817773811945e-05\n",
      "ID: 578 \n",
      " \t pred: 8 \t ground: 3 \n",
      " \t T-F: False \tclever_score: 0.017135289747440007\n",
      "ID: 582 \n",
      " \t pred: 2 \t ground: 8 \n",
      " \t T-F: False \tclever_score: 0.04801324618676696\n",
      "ID: 591 \n",
      " \t pred: 2 \t ground: 8 \n",
      " \t T-F: False \tclever_score: 0.005298061243270832\n",
      "ID: 619 \n",
      " \t pred: 8 \t ground: 1 \n",
      " \t T-F: False \tclever_score: 0.0004433486483740497\n",
      "ID: 646 \n",
      " \t pred: 6 \t ground: 2 \n",
      " \t T-F: False \tclever_score: 0.0032469835808570328\n",
      "ID: 684 \n",
      " \t pred: 3 \t ground: 7 \n",
      " \t T-F: False \tclever_score: 0.09027059902511196\n",
      "ID: 717 \n",
      " \t pred: 5 \t ground: 0 \n",
      " \t T-F: False \tclever_score: 0.00014079010534848524\n",
      "ID: 720 \n",
      " \t pred: 8 \t ground: 5 \n",
      " \t T-F: False \tclever_score: 0.00030392830405086773\n",
      "ID: 740 \n",
      " \t pred: 9 \t ground: 4 \n",
      " \t T-F: False \tclever_score: 0.01271671814351431\n",
      "ID: 894 \n",
      " \t pred: 8 \t ground: 3 \n",
      " \t T-F: False \tclever_score: 0.005990514869171355\n",
      "ID: 924 \n",
      " \t pred: 7 \t ground: 2 \n",
      " \t T-F: False \tclever_score: 0.007121307502407677\n",
      "ID: 938 \n",
      " \t pred: 5 \t ground: 3 \n",
      " \t T-F: False \tclever_score: 0.0029176431693843314\n",
      "ID: 947 \n",
      " \t pred: 9 \t ground: 8 \n",
      " \t T-F: False \tclever_score: 0.01958898831231619\n",
      "ID: 965 \n",
      " \t pred: 0 \t ground: 6 \n",
      " \t T-F: False \tclever_score: 0.01866735430065758\n",
      "ID: 1014 \n",
      " \t pred: 5 \t ground: 6 \n",
      " \t T-F: False \tclever_score: 0.0006205531973783907\n",
      "ID: 1039 \n",
      " \t pred: 2 \t ground: 7 \n",
      " \t T-F: False \tclever_score: 0.00012972479150047004\n",
      "ID: 1062 \n",
      " \t pred: 9 \t ground: 3 \n",
      " \t T-F: False \tclever_score: 0.0018166419762843007\n",
      "ID: 1068 \n",
      " \t pred: 4 \t ground: 8 \n",
      " \t T-F: False \tclever_score: 0.001852824087737527\n",
      "ID: 1112 \n",
      " \t pred: 6 \t ground: 4 \n",
      " \t T-F: False \tclever_score: 0.01641068181075638\n",
      "ID: 1114 \n",
      " \t pred: 8 \t ground: 3 \n",
      " \t T-F: False \tclever_score: 0.1\n",
      "ID: 1156 \n",
      " \t pred: 8 \t ground: 7 \n",
      " \t T-F: False \tclever_score: 0.009661410274236736\n",
      "ID: 1181 \n",
      " \t pred: 1 \t ground: 6 \n",
      " \t T-F: False \tclever_score: 0.018452891124728484\n",
      "ID: 1182 \n",
      " \t pred: 8 \t ground: 6 \n",
      " \t T-F: False \tclever_score: 0.001716743644007194\n",
      "ID: 1226 \n",
      " \t pred: 2 \t ground: 7 \n",
      " \t T-F: False \tclever_score: 0.1\n",
      "ID: 1232 \n",
      " \t pred: 4 \t ground: 9 \n",
      " \t T-F: False \tclever_score: 0.019127683427450304\n",
      "ID: 1247 \n",
      " \t pred: 5 \t ground: 9 \n",
      " \t T-F: False \tclever_score: 0.009570683512540182\n",
      "ID: 1260 \n",
      " \t pred: 1 \t ground: 7 \n",
      " \t T-F: False \tclever_score: 0.0012353284677138888\n",
      "ID: 1283 \n",
      " \t pred: 2 \t ground: 7 \n",
      " \t T-F: False \tclever_score: 0.03717883617792939\n",
      "ID: 1299 \n",
      " \t pred: 7 \t ground: 5 \n",
      " \t T-F: False \tclever_score: 0.025899316986807752\n",
      "ID: 1319 \n",
      " \t pred: 3 \t ground: 8 \n",
      " \t T-F: False \tclever_score: 0.00037415252405022617\n",
      "ID: 1326 \n",
      " \t pred: 2 \t ground: 7 \n",
      " \t T-F: False \tclever_score: 0.01211166057720279\n",
      "ID: 1378 \n",
      " \t pred: 6 \t ground: 5 \n",
      " \t T-F: False \tclever_score: 0.002347240451252135\n",
      "ID: 1393 \n",
      " \t pred: 3 \t ground: 5 \n",
      " \t T-F: False \tclever_score: 0.027907771398464072\n",
      "ID: 1429 \n",
      " \t pred: 4 \t ground: 9 \n",
      " \t T-F: False \tclever_score: 0.0009970805464895208\n",
      "ID: 1500 \n",
      " \t pred: 1 \t ground: 7 \n",
      " \t T-F: False \tclever_score: 0.005926781824221429\n",
      "ID: 1522 \n",
      " \t pred: 9 \t ground: 7 \n",
      " \t T-F: False \tclever_score: 0.007641557469834194\n",
      "ID: 1530 \n",
      " \t pred: 7 \t ground: 8 \n",
      " \t T-F: False \tclever_score: 0.023575146067391865\n",
      "ID: 1549 \n",
      " \t pred: 6 \t ground: 4 \n",
      " \t T-F: False \tclever_score: 0.1\n",
      "ID: 1553 \n",
      " \t pred: 8 \t ground: 9 \n",
      " \t T-F: False \tclever_score: 0.00014621359455026781\n",
      "ID: 1569 \n",
      " \t pred: 4 \t ground: 6 \n",
      " \t T-F: False \tclever_score: 0.0002957724290836916\n",
      "ID: 1634 \n",
      " \t pred: 7 \t ground: 4 \n",
      " \t T-F: False \tclever_score: 0.005039107938021675\n",
      "ID: 1678 \n",
      " \t pred: 0 \t ground: 2 \n",
      " \t T-F: False \tclever_score: 0.007269994662421893\n",
      "ID: 1681 \n",
      " \t pred: 7 \t ground: 3 \n",
      " \t T-F: False \tclever_score: 0.1\n",
      "ID: 1709 \n",
      " \t pred: 5 \t ground: 9 \n",
      " \t T-F: False \tclever_score: 0.00660595571606991\n",
      "ID: 1721 \n",
      " \t pred: 9 \t ground: 7 \n",
      " \t T-F: False \tclever_score: 0.004775300661421626\n",
      "ID: 1754 \n",
      " \t pred: 2 \t ground: 7 \n",
      " \t T-F: False \tclever_score: 0.0010098903565906876\n",
      "ID: 1790 \n",
      " \t pred: 7 \t ground: 2 \n",
      " \t T-F: False \tclever_score: 0.0006452507797515124\n",
      "ID: 1813 \n",
      " \t pred: 5 \t ground: 8 \n",
      " \t T-F: False \tclever_score: 0.0014340486198455573\n",
      "ID: 1850 \n",
      " \t pred: 7 \t ground: 8 \n",
      " \t T-F: False \tclever_score: 2.8209077664743147e-05\n",
      "ID: 1878 \n",
      " \t pred: 3 \t ground: 8 \n",
      " \t T-F: False \tclever_score: 0.0013554203738151312\n",
      "ID: 1901 \n",
      " \t pred: 4 \t ground: 9 \n",
      " \t T-F: False \tclever_score: 0.0017579461764215055\n",
      "ID: 1952 \n",
      " \t pred: 3 \t ground: 9 \n",
      " \t T-F: False \tclever_score: 0.0062303111476913215\n",
      "ID: 1955 \n",
      " \t pred: 2 \t ground: 8 \n",
      " \t T-F: False \tclever_score: 0.013559995225246485\n"
     ]
    }
   ],
   "source": [
    "nb_test = 2000\n",
    "count1 = 0\n",
    "count2 = 0\n",
    "for index in range(0, nb_test):\n",
    "    pred = krc.predict(np.reshape(x_test[index], [-1,28,28,1]))\n",
    "    if np.argmax(pred)!=np.argmax(y_test[index]):\n",
    "        res_tmp = clever_u(krc, x_test[index], 10, 10, R_LI, norm=np.inf, pool_factor=3, verbose=False)\n",
    "        tmp1 = tmp1+res_tmp\n",
    "        print('ID:', index, '\\n', '\\t',\n",
    "              'pred:', np.argmax(pred), '\\t',\n",
    "              'ground:', np.argmax(y_test[index]), '\\n', '\\t',\n",
    "              'T-F:', np.argmax(pred)==np.argmax(y_test[index]), '\\t'\n",
    "              'clever_score:', res_tmp)\n",
    "        count2 = count2+1\n",
    "        if res_tmp<0.09:\n",
    "            count1 = count1+1"
   ]
  },
  {
   "cell_type": "code",
   "execution_count": 46,
   "id": "214adf9d",
   "metadata": {},
   "outputs": [
    {
     "name": "stdout",
     "output_type": "stream",
     "text": [
      "57 62\n"
     ]
    }
   ],
   "source": [
    "# count1:78/100\n",
    "# count1: 22/23(1000)\n",
    "# count1: 57/62(2000)\n",
    "print(count1, count2)"
   ]
  },
  {
   "cell_type": "code",
   "execution_count": 17,
   "id": "63386d66",
   "metadata": {},
   "outputs": [
    {
     "name": "stdout",
     "output_type": "stream",
     "text": [
      "6.295663504437266 1.2352943377988042 0.0007702954387103044 0.0005591019224632063\n"
     ]
    }
   ],
   "source": [
    "print(res0, res1, res2,res_tmp)"
   ]
  },
  {
   "cell_type": "code",
   "execution_count": 32,
   "id": "f49ddc24",
   "metadata": {},
   "outputs": [
    {
     "name": "stdout",
     "output_type": "stream",
     "text": [
      "0.1\n",
      "0.0465774285867665\n",
      "0.1\n",
      "0.08784920009755488\n",
      "0.1\n",
      "0.1\n",
      "0.1\n",
      "0.03720811096017883\n",
      "0.05661454428495274\n",
      "0.06039763977452185\n",
      "0.07886469237039748\n"
     ]
    }
   ],
   "source": [
    "tmp1 = 0\n",
    "for x_tmp in x_test:\n",
    "    res_tmp = clever_t(krc, x_tmp, 3, 1, 1, R_LI, norm=np.inf, pool_factor=3)\n",
    "    tmp1 = tmp1+res_tmp\n",
    "    print(res_tmp)\n",
    "print(tmp1/10)"
   ]
  },
  {
   "cell_type": "code",
   "execution_count": 23,
   "id": "4d988aa0",
   "metadata": {},
   "outputs": [
    {
     "name": "stdout",
     "output_type": "stream",
     "text": [
      "(28, 28, 1)\n"
     ]
    }
   ],
   "source": [
    "print(x_tmp.shape)"
   ]
  },
  {
   "cell_type": "code",
   "execution_count": 47,
   "id": "7d8627c9",
   "metadata": {},
   "outputs": [
    {
     "data": {
      "text/plain": [
       "array([0., 0., 1., 0., 0., 0., 0., 0., 0., 0.], dtype=float32)"
      ]
     },
     "execution_count": 47,
     "metadata": {},
     "output_type": "execute_result"
    }
   ],
   "source": [
    "y_test[1]"
   ]
  },
  {
   "cell_type": "code",
   "execution_count": 40,
   "id": "1cc98c52",
   "metadata": {},
   "outputs": [
    {
     "data": {
      "text/plain": [
       "(28, 28, 1)"
      ]
     },
     "execution_count": 40,
     "metadata": {},
     "output_type": "execute_result"
    }
   ],
   "source": [
    "x_test[9].shape"
   ]
  },
  {
   "cell_type": "code",
   "execution_count": null,
   "id": "4b7e9f65",
   "metadata": {},
   "outputs": [],
   "source": []
  }
 ],
 "metadata": {
  "kernelspec": {
   "display_name": "Python 3 (ipykernel)",
   "language": "python",
   "name": "python3"
  },
  "language_info": {
   "codemirror_mode": {
    "name": "ipython",
    "version": 3
   },
   "file_extension": ".py",
   "mimetype": "text/x-python",
   "name": "python",
   "nbconvert_exporter": "python",
   "pygments_lexer": "ipython3",
   "version": "3.9.7"
  }
 },
 "nbformat": 4,
 "nbformat_minor": 5
}
