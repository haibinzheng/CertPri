{
 "cells": [
  {
   "cell_type": "code",
   "execution_count": 1,
   "id": "22e7ab1c",
   "metadata": {},
   "outputs": [],
   "source": [
    "from keras.datasets import fashion_mnist\n",
    "from art.utils import load_mnist\n",
    "import tensorflow as tf\n",
    "from tensorflow.keras.utils import to_categorical\n",
    "from tensorflow.keras.layers import Dense, Dropout, Activation, Flatten, Conv2D, Lambda, MaxPooling2D, BatchNormalization\n",
    "from tensorflow.keras.models import Sequential,load_model\n",
    "from art.metrics.metrics import empirical_robustness, clever_t, clever_u, clever, loss_sensitivity, wasserstein_distance\n",
    "import numpy as np\n",
    "from art.estimators.classification.keras import KerasClassifier\n",
    "import logging\n",
    "from progressbar import ProgressBar\n",
    "\n",
    "import sys\n",
    "sys.path.append('..')  \n",
    "from GradPri_utils.utils import *\n",
    "\n",
    "import os\n",
    "os.environ[\"CUDA_VISIBLE_DEVICES\"] = \"4\"\n",
    "tf.compat.v1.disable_eager_execution()"
   ]
  },
  {
   "cell_type": "code",
   "execution_count": 2,
   "id": "b3164cce",
   "metadata": {},
   "outputs": [],
   "source": [
    "R_L1 = 40\n",
    "R_L2 = 2\n",
    "R_LI = 0.1\n",
    "\n",
    "def _create_krclassifier_FMNIST():\n",
    "    num_classes = 10\n",
    "    input_shape = (28,28,1)\n",
    "    \n",
    "    model = Sequential()\n",
    "    # Block 1\n",
    "    model.add(Conv2D(64, (3, 3), padding='same', name = 'block1_conv1', \n",
    "                     input_shape=input_shape))\n",
    "    # model.add(BatchNormalization(name = 'block1_bn1'))\n",
    "    model.add(Activation('relu', name = 'block1_act1'))\n",
    "    model.add(MaxPooling2D(pool_size=(2, 2), strides=(2, 2), name='block1_pool1'))\n",
    "\n",
    "    model.add(Conv2D(128, (3, 3), padding='same', name = 'block1_conv2'))\n",
    "    # model.add(BatchNormalization(name = 'block1_bn2'))\n",
    "    model.add(Activation('relu', name = 'block1_act2'))\n",
    "    model.add(MaxPooling2D(pool_size=(2, 2), strides=(2, 2), name='block1_pool2'))\n",
    "\n",
    "    model.add(Conv2D(256, (3, 3), padding='same', name = 'block1_conv3'))\n",
    "    # model.add(BatchNormalization(name = 'block1_bn3'))\n",
    "    model.add(Activation('relu', name = 'block1_act3'))\n",
    "    model.add(MaxPooling2D(pool_size=(2, 2), strides=(2, 2), name='block1_pool3'))\n",
    "    # top\n",
    "    model.add(Flatten(name='flatten'))\n",
    "    model.add(Dense(1024, activation='relu', name='fc1'))\n",
    "    model.add(Dropout(0.5, name='drop1'))\n",
    "    model.add(Dense(32, activation='relu', name='fc2'))\n",
    "    model.add(Dropout(0.5, name='drop2'))\n",
    "    # model.add(Dense(64, activation='relu', name='fc3'))\n",
    "    # model.add(Dropout(0.5, name='drop3'))\n",
    "    model.add(Dense(num_classes, activation='softmax', name='predictions'))\n",
    "\n",
    "    \n",
    "    # model = load_model(\"./fmnist_CNN.h5\")\n",
    "    opt = tf.keras.optimizers.Adam(learning_rate=0.00005)\n",
    "    model.compile(loss='categorical_crossentropy',\n",
    "                  optimizer=opt,\n",
    "                  metrics=['accuracy'])\n",
    "\n",
    "    # Get the classifier\n",
    "    krc = KerasClassifier(model=model, clip_values=(0, 1), use_logits=False)\n",
    "\n",
    "    return krc\n",
    "\n",
    "logger = logging.getLogger(__name__)"
   ]
  },
  {
   "cell_type": "code",
   "execution_count": 3,
   "id": "a25b4349",
   "metadata": {},
   "outputs": [],
   "source": [
    "# Get Fashion-MNIST\n",
    "(x_train, y_train), (x_test, y_test), _, _ = load_mnist()\n",
    "\n",
    "# Get the classifier\n",
    "# krc = _create_krclassifier_FMNIST()\n",
    "# krc.fit(x_train, y_train, batch_size=256, nb_epochs=5, shuffle=True,\n",
    "#         validation_data=(x_test[0:5000], y_test[0:5000]), verbose=1)\n",
    "\n",
    "krc = load_model('./fmnist_CNN_art.h5')\n",
    "krc = KerasClassifier(model=krc, clip_values=(0, 1), use_logits=False)"
   ]
  },
  {
   "cell_type": "code",
   "execution_count": 4,
   "id": "435d80de",
   "metadata": {},
   "outputs": [],
   "source": [
    "# krc.save(filename='fmnist_CNN_art.h5', path='.')"
   ]
  },
  {
   "cell_type": "code",
   "execution_count": 4,
   "id": "cb48e9b0",
   "metadata": {},
   "outputs": [
    {
     "name": "stderr",
     "output_type": "stream",
     "text": [
      "/public/liujiawei/anaconda3/envs/ZHB_env/lib/python3.6/site-packages/keras/engine/training.py:2470: UserWarning: `Model.state_updates` will be removed in a future version. This property should not be used in TensorFlow 2.0, as `updates` are applied automatically.\n",
      "  warnings.warn('`Model.state_updates` will be removed in a future version. '\n",
      "100% |########################################################################|\n"
     ]
    }
   ],
   "source": [
    "# Gini = []\n",
    "# total_sample_num = 2000\n",
    "# predicted_confidence = []\n",
    "\n",
    "# pbar = ProgressBar()\n",
    "# for index in pbar(range(total_sample_num)):\n",
    "#     pre_tmp = krc.predict(np.reshape(x_test[index], [-1,28,28,1]))\n",
    "#     Gini.append(1-np.sum(pre_tmp*pre_tmp))\n",
    "#     predicted_confidence.append(pre_tmp)"
   ]
  },
  {
   "cell_type": "code",
   "execution_count": 5,
   "id": "0ad32943",
   "metadata": {},
   "outputs": [
    {
     "name": "stderr",
     "output_type": "stream",
     "text": [
      "100% |########################################################################|\n",
      "100% |########################################################################|\r"
     ]
    },
    {
     "name": "stdout",
     "output_type": "stream",
     "text": [
      "APFD:  0.9419964788732395\n",
      "RAUC:  0.9585205891839587\n"
     ]
    },
    {
     "name": "stderr",
     "output_type": "stream",
     "text": [
      "\n"
     ]
    }
   ],
   "source": [
    "# indexs = np.argsort(Gini)\n",
    "# indexs = indexs[::-1]\n",
    "# # 计算APFD指标\n",
    "# APFD,_,_ = get_APFD(Gini_indexs=indexs, ground_truth_label=y_test[range(total_sample_num)],\n",
    "#                    predicted_confidence=np.array(predicted_confidence))\n",
    "# print(\"APFD: \", APFD)\n",
    "\n",
    "# # 计算RAUC指标\n",
    "# RAUC,_,_ = get_RAUC(Gini_indexs=indexs, ground_truth_label=y_test[range(total_sample_num)],\n",
    "#                     predicted_confidence=np.array(predicted_confidence))\n",
    "# print(\"RAUC: \", RAUC)"
   ]
  },
  {
   "cell_type": "code",
   "execution_count": 17,
   "id": "e3c1a238",
   "metadata": {},
   "outputs": [
    {
     "name": "stderr",
     "output_type": "stream",
     "text": [
      "100% |########################################################################|\n"
     ]
    }
   ],
   "source": [
    "Gini = []\n",
    "total_sample_num = 2000\n",
    "predicted_confidence = []\n",
    "\n",
    "pbar = ProgressBar()\n",
    "for index in pbar(range(total_sample_num)):\n",
    "    pre_tmp = krc.predict(np.reshape(x_test[index], [-1,28,28,1]))\n",
    "    Gini.append(\n",
    "        np.sqrt(\n",
    "            ( np.sum( (np.max(pre_tmp)-pre_tmp) * (np.max(pre_tmp)-pre_tmp) ) ) / len(pre_tmp[0])\n",
    "        )\n",
    "    )\n",
    "    predicted_confidence.append(pre_tmp)"
   ]
  },
  {
   "cell_type": "code",
   "execution_count": 19,
   "id": "31104f56",
   "metadata": {},
   "outputs": [
    {
     "name": "stderr",
     "output_type": "stream",
     "text": [
      "100% |########################################################################|\n",
      "100% |########################################################################|\r"
     ]
    },
    {
     "name": "stdout",
     "output_type": "stream",
     "text": [
      "APFD:  0.942637323943662\n",
      "RAUC:  0.9591728487976203\n"
     ]
    },
    {
     "name": "stderr",
     "output_type": "stream",
     "text": [
      "\n"
     ]
    }
   ],
   "source": [
    "indexs = np.argsort(Gini)\n",
    "# indexs = indexs[::-1]\n",
    "# 计算APFD指标\n",
    "APFD,_,_ = get_APFD(Gini_indexs=indexs, ground_truth_label=y_test[range(total_sample_num)],\n",
    "                   predicted_confidence=np.array(predicted_confidence))\n",
    "print(\"APFD: \", APFD)\n",
    "\n",
    "# 计算RAUC指标\n",
    "RAUC,_,_ = get_RAUC(Gini_indexs=indexs, ground_truth_label=y_test[range(total_sample_num)],\n",
    "                    predicted_confidence=np.array(predicted_confidence))\n",
    "print(\"RAUC: \", RAUC)"
   ]
  },
  {
   "cell_type": "code",
   "execution_count": 140,
   "id": "86881556",
   "metadata": {},
   "outputs": [
    {
     "name": "stderr",
     "output_type": "stream",
     "text": [
      "100% |########################################################################|\n"
     ]
    }
   ],
   "source": [
    "# craft adversarial examples\n",
    "x_adv = []\n",
    "y_adv = []\n",
    "max_iter = 100\n",
    "eps = 50\n",
    "thre_conf = 0.999999\n",
    "pbar = ProgressBar()\n",
    "for i in pbar(range(100)):\n",
    "    pre_tmp = krc.predict(np.reshape(x_test[i], [-1,28,28,1]))\n",
    "    x_adv_tmp = np.copy(x_test[i])\n",
    "    # check whether x is right prediction\n",
    "    if np.argmax(pre_tmp[0]) == np.argmax(y_test[i]):\n",
    "        for j in range(max_iter):\n",
    "            grad_tmp = krc.class_gradient(np.reshape(x_adv_tmp, [-1,28,28,1]), \n",
    "                                                 label=np.argmax(y_test[i]))[0][0]\n",
    "            x_adv_tmp = x_adv_tmp - eps * grad_tmp\n",
    "            pre_adv_tmp = krc.predict(np.reshape(x_adv_tmp, [-1,28,28,1]))\n",
    "            if np.argmax(pre_adv_tmp[0]) != np.argmax(y_test[i]):\n",
    "                if np.max(pre_adv_tmp[0])>thre_conf:\n",
    "                    x_adv.append(x_adv_tmp)\n",
    "                    y_adv.append(y_test[i])\n",
    "                    break"
   ]
  },
  {
   "cell_type": "code",
   "execution_count": 20,
   "id": "f914718b",
   "metadata": {},
   "outputs": [
    {
     "name": "stdout",
     "output_type": "stream",
     "text": [
      "(15, 28, 28, 1)\n"
     ]
    }
   ],
   "source": [
    "# x_adv = np.array(x_adv)\n",
    "# y_adv = np.array(y_adv)\n",
    "# np.save('./x_adv.npy', x_adv)\n",
    "# np.save('./y_adv.npy', y_adv)\n",
    "x_adv = np.load('./x_adv.npy')\n",
    "y_adv = np.load('./y_adv.npy')\n",
    "print(x_adv.shape)"
   ]
  },
  {
   "cell_type": "code",
   "execution_count": 21,
   "id": "e9d60bca",
   "metadata": {},
   "outputs": [],
   "source": [
    "X_adv_clean = np.concatenate((x_adv, x_test[100:150]))\n",
    "Y_adv_clean = np.concatenate((y_adv, y_test[100:150]))"
   ]
  },
  {
   "cell_type": "code",
   "execution_count": 26,
   "id": "2c702cfd",
   "metadata": {},
   "outputs": [
    {
     "name": "stderr",
     "output_type": "stream",
     "text": [
      "100% |########################################################################|\n"
     ]
    }
   ],
   "source": [
    "Gini_adv = []\n",
    "predicted_confidence = []\n",
    "\n",
    "pbar = ProgressBar()\n",
    "for index in pbar(range(len(X_adv_clean))):\n",
    "    pre_tmp = krc.predict(np.reshape(X_adv_clean[index], [-1,28,28,1]))\n",
    "#     Gini_adv.append(\n",
    "#         np.sqrt(\n",
    "#             ( np.sum( (np.max(pre_tmp)-pre_tmp) * (np.max(pre_tmp)-pre_tmp) ) ) / len(pre_tmp[0])\n",
    "#         )\n",
    "#     )\n",
    "    Gini_adv.append(1-np.sum(pre_tmp*pre_tmp))\n",
    "    predicted_confidence.append(pre_tmp)"
   ]
  },
  {
   "cell_type": "code",
   "execution_count": 27,
   "id": "0e6cea8a",
   "metadata": {},
   "outputs": [
    {
     "name": "stderr",
     "output_type": "stream",
     "text": [
      "100% |########################################################################|\n",
      "100% |########################################################################|\r"
     ]
    },
    {
     "name": "stdout",
     "output_type": "stream",
     "text": [
      "APFD:  0.13076923076923078\n",
      "RAUC:  0.13793103448275862\n"
     ]
    },
    {
     "name": "stderr",
     "output_type": "stream",
     "text": [
      "\n"
     ]
    }
   ],
   "source": [
    "indexs = np.argsort(Gini_adv)\n",
    "indexs = indexs[::-1]\n",
    "# 计算APFD指标\n",
    "APFD,_,_ = get_APFD(Gini_indexs=indexs, ground_truth_label=Y_adv_clean,\n",
    "                   predicted_confidence=np.array(predicted_confidence))\n",
    "print(\"APFD: \", APFD)\n",
    "\n",
    "# 计算RAUC指标\n",
    "RAUC,_,_ = get_RAUC(Gini_indexs=indexs, ground_truth_label=Y_adv_clean,\n",
    "                    predicted_confidence=np.array(predicted_confidence))\n",
    "print(\"RAUC: \", RAUC)"
   ]
  },
  {
   "cell_type": "code",
   "execution_count": 28,
   "id": "b30fb05b",
   "metadata": {},
   "outputs": [
    {
     "name": "stderr",
     "output_type": "stream",
     "text": [
      "100% |########################################################################|\n"
     ]
    }
   ],
   "source": [
    "# BoundaryGini = []\n",
    "# predicted_confidence = []\n",
    "\n",
    "# R_L1 = 40\n",
    "# R_L2 = 2\n",
    "# R_LI = 0.1\n",
    "# pbar = ProgressBar()\n",
    "# for index in pbar(range(len(X_adv_clean))):\n",
    "#     pre_tmp = krc.predict(np.reshape(X_adv_clean[index], [-1,28,28,1]))\n",
    "#     res_tmp = clever_u(krc, X_adv_clean[index], 10, 10, R_L2, norm=2, pool_factor=5, verbose=False)\n",
    "#     BoundaryGini.append(np.min([res_tmp, 2]))\n",
    "#     predicted_confidence.append(pre_tmp)"
   ]
  },
  {
   "cell_type": "code",
   "execution_count": 29,
   "id": "590ff5da",
   "metadata": {},
   "outputs": [
    {
     "name": "stderr",
     "output_type": "stream",
     "text": [
      "100% |########################################################################|\n",
      "100% |########################################################################|\r"
     ]
    },
    {
     "name": "stdout",
     "output_type": "stream",
     "text": [
      "APFD:  0.6364102564102564\n",
      "RAUC:  0.7045977011494253\n"
     ]
    },
    {
     "name": "stderr",
     "output_type": "stream",
     "text": [
      "\n"
     ]
    }
   ],
   "source": [
    "# indexs = np.argsort(BoundaryGini)\n",
    "# # indexs = indexs[::-1]\n",
    "# # 计算APFD指标\n",
    "# APFD,_,_ = get_APFD(Gini_indexs=indexs, ground_truth_label=Y_adv_clean,\n",
    "#                    predicted_confidence=np.array(predicted_confidence))\n",
    "# print(\"APFD: \", APFD)\n",
    "\n",
    "# # 计算RAUC指标\n",
    "# RAUC,_,_ = get_RAUC(Gini_indexs=indexs, ground_truth_label=Y_adv_clean,\n",
    "#                     predicted_confidence=np.array(predicted_confidence))\n",
    "# print(\"RAUC: \", RAUC)"
   ]
  },
  {
   "cell_type": "code",
   "execution_count": 39,
   "id": "5a0fb5a9",
   "metadata": {},
   "outputs": [
    {
     "name": "stderr",
     "output_type": "stream",
     "text": [
      "100% |########################################################################|\n"
     ]
    }
   ],
   "source": [
    "BoundaryGini = []\n",
    "predicted_confidence = []\n",
    "\n",
    "R_L1 = 40\n",
    "R_L2 = 2\n",
    "R_LI = 0.1\n",
    "pbar = ProgressBar()\n",
    "for index in pbar(range(len(X_adv_clean))):\n",
    "    pre_tmp = krc.predict(np.reshape(X_adv_clean[index], [-1,28,28,1]))\n",
    "#     res_tmp = clever_u(krc, X_adv_clean[index], 10, 10, R_L2, norm=2, pool_factor=5, verbose=False)\n",
    "#     BoundaryGini.append(np.min([res_tmp, 2]))\n",
    "    res_tmp = clever(krc, X_adv_clean[index], 10, 10, R_L2, norm=2, pool_factor=5, verbose=False)\n",
    "    BoundaryGini.append(\n",
    "        np.sqrt(\n",
    "            ( np.sum( (np.min(res_tmp)-res_tmp) * (np.min(res_tmp)-res_tmp) ) ) / len(res_tmp)\n",
    "        )\n",
    "    )\n",
    "    predicted_confidence.append(pre_tmp)"
   ]
  },
  {
   "cell_type": "code",
   "execution_count": 40,
   "id": "fa67a6a7",
   "metadata": {},
   "outputs": [
    {
     "name": "stderr",
     "output_type": "stream",
     "text": [
      "100% |########################################################################|\n",
      "100% |########################################################################|\r"
     ]
    },
    {
     "name": "stdout",
     "output_type": "stream",
     "text": [
      "APFD:  0.5943589743589743\n",
      "RAUC:  0.6574712643678161\n"
     ]
    },
    {
     "name": "stderr",
     "output_type": "stream",
     "text": [
      "\n"
     ]
    }
   ],
   "source": [
    "indexs = np.argsort(BoundaryGini)\n",
    "# indexs = indexs[::-1]\n",
    "# 计算APFD指标\n",
    "APFD,_,_ = get_APFD(Gini_indexs=indexs, ground_truth_label=Y_adv_clean,\n",
    "                   predicted_confidence=np.array(predicted_confidence))\n",
    "print(\"APFD: \", APFD)\n",
    "\n",
    "# 计算RAUC指标\n",
    "RAUC,_,_ = get_RAUC(Gini_indexs=indexs, ground_truth_label=Y_adv_clean,\n",
    "                    predicted_confidence=np.array(predicted_confidence))\n",
    "print(\"RAUC: \", RAUC)"
   ]
  },
  {
   "cell_type": "code",
   "execution_count": 204,
   "id": "7493c0f4",
   "metadata": {},
   "outputs": [
    {
     "name": "stderr",
     "output_type": "stream",
     "text": [
      "100% |########################################################################|\n"
     ]
    }
   ],
   "source": [
    "grad_Gini = []\n",
    "predicted_confidence = []\n",
    "pbar = ProgressBar()\n",
    "for index in pbar(range(len(X_adv_clean))):\n",
    "    pre_tmp = krc.predict(np.reshape(X_adv_clean[index], [-1,28,28,1]))\n",
    "    grad_tmp = krc.class_gradient(np.reshape(X_adv_clean[index], [-1,28,28,1]), \n",
    "                                  label=np.argmax(pre_tmp[0]))[0][0]\n",
    "    grad_Gini.append(np.sum(np.abs(grad_tmp)))\n",
    "    predicted_confidence.append(pre_tmp)"
   ]
  },
  {
   "cell_type": "code",
   "execution_count": 205,
   "id": "a054dbfa",
   "metadata": {},
   "outputs": [
    {
     "name": "stderr",
     "output_type": "stream",
     "text": [
      "100% |########################################################################|\n",
      "100% |########################################################################|\r"
     ]
    },
    {
     "name": "stdout",
     "output_type": "stream",
     "text": [
      "APFD:  0.13076923076923078\n",
      "RAUC:  0.13793103448275862\n"
     ]
    },
    {
     "name": "stderr",
     "output_type": "stream",
     "text": [
      "\n"
     ]
    }
   ],
   "source": [
    "indexs = np.argsort(grad_Gini)\n",
    "indexs = indexs[::-1]\n",
    "# 计算APFD指标\n",
    "APFD,_,_ = get_APFD(Gini_indexs=indexs, ground_truth_label=Y_adv_clean,\n",
    "                   predicted_confidence=np.array(predicted_confidence))\n",
    "print(\"APFD: \", APFD)\n",
    "\n",
    "# 计算RAUC指标\n",
    "RAUC,_,_ = get_RAUC(Gini_indexs=indexs, ground_truth_label=Y_adv_clean,\n",
    "                    predicted_confidence=np.array(predicted_confidence))\n",
    "print(\"RAUC: \", RAUC)"
   ]
  },
  {
   "cell_type": "code",
   "execution_count": 13,
   "id": "85f6dffa",
   "metadata": {},
   "outputs": [],
   "source": [
    "clever_t?"
   ]
  },
  {
   "cell_type": "code",
   "execution_count": null,
   "id": "b35159cf",
   "metadata": {},
   "outputs": [],
   "source": []
  }
 ],
 "metadata": {
  "kernelspec": {
   "display_name": "Python 3",
   "language": "python",
   "name": "python3"
  },
  "language_info": {
   "codemirror_mode": {
    "name": "ipython",
    "version": 3
   },
   "file_extension": ".py",
   "mimetype": "text/x-python",
   "name": "python",
   "nbconvert_exporter": "python",
   "pygments_lexer": "ipython3",
   "version": "3.6.13"
  }
 },
 "nbformat": 4,
 "nbformat_minor": 5
}
