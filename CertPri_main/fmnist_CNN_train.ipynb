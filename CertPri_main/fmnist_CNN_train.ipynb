{
 "cells": [
  {
   "cell_type": "code",
   "execution_count": 16,
   "id": "7f1d6a80",
   "metadata": {},
   "outputs": [],
   "source": [
    "from keras.datasets import fashion_mnist\n",
    "import tensorflow as tf\n",
    "from tensorflow.keras.utils import to_categorical\n",
    "from tensorflow.keras.layers import Dense, Dropout, Activation, Flatten, Conv2D, Lambda, MaxPooling2D, BatchNormalization\n",
    "from tensorflow.keras.models import Sequential,load_model\n",
    "\n",
    "import os\n",
    "os.environ[\"CUDA_VISIBLE_DEVICES\"] = \"4\""
   ]
  },
  {
   "cell_type": "code",
   "execution_count": 24,
   "id": "83b0da55",
   "metadata": {},
   "outputs": [
    {
     "name": "stdout",
     "output_type": "stream",
     "text": [
      "(60000, 28, 28) (60000,) (10000, 28, 28) (10000,)\n"
     ]
    }
   ],
   "source": [
    "(x_train, y_train), (x_test, y_test) = fashion_mnist.load_data()\n",
    "print(x_train.shape, y_train.shape, x_test.shape, y_test.shape)\n",
    "x_train = tf.expand_dims(x_train, axis = -1)\n",
    "x_train = tf.keras.backend.repeat_elements(x=x_train, rep=3, axis=-1)\n",
    "x_test = tf.expand_dims(x_test, axis = -1)\n",
    "x_test = tf.keras.backend.repeat_elements(x=x_test, rep=3, axis=-1)"
   ]
  },
  {
   "cell_type": "code",
   "execution_count": 25,
   "id": "8dc38698",
   "metadata": {},
   "outputs": [
    {
     "name": "stdout",
     "output_type": "stream",
     "text": [
      "(60000, 28, 28, 3) (60000, 10) (10000, 28, 28, 3) (10000, 10)\n"
     ]
    }
   ],
   "source": [
    "num_classes = 10\n",
    "# Convert class vectors to binary class matrices.\n",
    "y_train = to_categorical(y_train, num_classes)\n",
    "y_test = to_categorical(y_test, num_classes)\n",
    "print(x_train.shape, y_train.shape, x_test.shape, y_test.shape)"
   ]
  },
  {
   "cell_type": "code",
   "execution_count": null,
   "id": "0ca5ec50",
   "metadata": {},
   "outputs": [],
   "source": []
  },
  {
   "cell_type": "code",
   "execution_count": 52,
   "id": "2a35f3a7",
   "metadata": {},
   "outputs": [],
   "source": [
    "input_shape = (28,28,3)\n",
    "\n",
    "model = Sequential()\n",
    "# Block 1\n",
    "model.add(Conv2D(64, (3, 3), padding='same', name = 'block1_conv1', \n",
    "                 input_shape=input_shape))\n",
    "# model.add(BatchNormalization(name = 'block1_bn1'))\n",
    "model.add(Activation('relu', name = 'block1_act1'))\n",
    "model.add(MaxPooling2D(pool_size=(2, 2), strides=(2, 2), name='block1_pool1'))\n",
    "\n",
    "model.add(Conv2D(128, (3, 3), padding='same', name = 'block1_conv2'))\n",
    "# model.add(BatchNormalization(name = 'block1_bn2'))\n",
    "model.add(Activation('relu', name = 'block1_act2'))\n",
    "model.add(MaxPooling2D(pool_size=(2, 2), strides=(2, 2), name='block1_pool2'))\n",
    "\n",
    "model.add(Conv2D(256, (3, 3), padding='same', name = 'block1_conv3'))\n",
    "# model.add(BatchNormalization(name = 'block1_bn3'))\n",
    "model.add(Activation('relu', name = 'block1_act3'))\n",
    "model.add(MaxPooling2D(pool_size=(2, 2), strides=(2, 2), name='block1_pool3'))\n",
    "\n",
    "# model.add(Conv2D(256, (3, 3), padding='same', name = 'block1_conv4'))\n",
    "# # model.add(BatchNormalization(name = 'block1_bn4'))\n",
    "# model.add(Activation('relu', name = 'block1_act4'))\n",
    "# model.add(MaxPooling2D(pool_size=(2, 2), strides=(2, 2), name='block1_pool4'))\n",
    "\n",
    "# top\n",
    "model.add(Flatten(name='flatten'))\n",
    "model.add(Dense(1024, activation='relu', name='fc1'))\n",
    "model.add(Dropout(0.5, name='drop1'))\n",
    "model.add(Dense(32, activation='relu', name='fc2'))\n",
    "model.add(Dropout(0.5, name='drop2'))\n",
    "# model.add(Dense(64, activation='relu', name='fc3'))\n",
    "# model.add(Dropout(0.5, name='drop3'))\n",
    "model.add(Dense(num_classes, activation='softmax', name='predictions'))"
   ]
  },
  {
   "cell_type": "code",
   "execution_count": 53,
   "id": "fb9d69b9",
   "metadata": {},
   "outputs": [
    {
     "name": "stdout",
     "output_type": "stream",
     "text": [
      "Model: \"sequential_11\"\n",
      "_________________________________________________________________\n",
      "Layer (type)                 Output Shape              Param #   \n",
      "=================================================================\n",
      "block1_conv1 (Conv2D)        (None, 28, 28, 64)        1792      \n",
      "_________________________________________________________________\n",
      "block1_act1 (Activation)     (None, 28, 28, 64)        0         \n",
      "_________________________________________________________________\n",
      "block1_pool1 (MaxPooling2D)  (None, 14, 14, 64)        0         \n",
      "_________________________________________________________________\n",
      "block1_conv2 (Conv2D)        (None, 14, 14, 128)       73856     \n",
      "_________________________________________________________________\n",
      "block1_act2 (Activation)     (None, 14, 14, 128)       0         \n",
      "_________________________________________________________________\n",
      "block1_pool2 (MaxPooling2D)  (None, 7, 7, 128)         0         \n",
      "_________________________________________________________________\n",
      "block1_conv3 (Conv2D)        (None, 7, 7, 256)         295168    \n",
      "_________________________________________________________________\n",
      "block1_act3 (Activation)     (None, 7, 7, 256)         0         \n",
      "_________________________________________________________________\n",
      "block1_pool3 (MaxPooling2D)  (None, 3, 3, 256)         0         \n",
      "_________________________________________________________________\n",
      "flatten (Flatten)            (None, 2304)              0         \n",
      "_________________________________________________________________\n",
      "fc1 (Dense)                  (None, 1024)              2360320   \n",
      "_________________________________________________________________\n",
      "drop1 (Dropout)              (None, 1024)              0         \n",
      "_________________________________________________________________\n",
      "fc2 (Dense)                  (None, 32)                32800     \n",
      "_________________________________________________________________\n",
      "drop2 (Dropout)              (None, 32)                0         \n",
      "_________________________________________________________________\n",
      "predictions (Dense)          (None, 10)                330       \n",
      "=================================================================\n",
      "Total params: 2,764,266\n",
      "Trainable params: 2,764,266\n",
      "Non-trainable params: 0\n",
      "_________________________________________________________________\n"
     ]
    }
   ],
   "source": [
    "model.summary()"
   ]
  },
  {
   "cell_type": "code",
   "execution_count": 54,
   "id": "a146579e",
   "metadata": {},
   "outputs": [
    {
     "name": "stdout",
     "output_type": "stream",
     "text": [
      "Epoch 1/20\n",
      "235/235 [==============================] - 2s 6ms/step - loss: 2.7924 - accuracy: 0.1684 - val_loss: 1.8275 - val_accuracy: 0.3320\n",
      "\n",
      "Epoch 00001: val_accuracy improved from -inf to 0.33200, saving model to ./fmnist_CNN.h5\n",
      "Epoch 2/20\n",
      "235/235 [==============================] - 1s 5ms/step - loss: 1.8196 - accuracy: 0.3451 - val_loss: 1.2573 - val_accuracy: 0.5606\n",
      "\n",
      "Epoch 00002: val_accuracy improved from 0.33200 to 0.56060, saving model to ./fmnist_CNN.h5\n",
      "Epoch 3/20\n",
      "235/235 [==============================] - 1s 6ms/step - loss: 1.3510 - accuracy: 0.5056 - val_loss: 0.6733 - val_accuracy: 0.7988\n",
      "\n",
      "Epoch 00003: val_accuracy improved from 0.56060 to 0.79880, saving model to ./fmnist_CNN.h5\n",
      "Epoch 4/20\n",
      "235/235 [==============================] - 1s 5ms/step - loss: 0.9515 - accuracy: 0.6675 - val_loss: 0.5201 - val_accuracy: 0.8398\n",
      "\n",
      "Epoch 00004: val_accuracy improved from 0.79880 to 0.83980, saving model to ./fmnist_CNN.h5\n",
      "Epoch 5/20\n",
      "235/235 [==============================] - 1s 5ms/step - loss: 0.8001 - accuracy: 0.7231 - val_loss: 0.4583 - val_accuracy: 0.8496\n",
      "\n",
      "Epoch 00005: val_accuracy improved from 0.83980 to 0.84960, saving model to ./fmnist_CNN.h5\n",
      "Epoch 6/20\n",
      "235/235 [==============================] - 1s 5ms/step - loss: 0.7210 - accuracy: 0.7534 - val_loss: 0.4208 - val_accuracy: 0.8666\n",
      "\n",
      "Epoch 00006: val_accuracy improved from 0.84960 to 0.86660, saving model to ./fmnist_CNN.h5\n",
      "Epoch 7/20\n",
      "235/235 [==============================] - 1s 6ms/step - loss: 0.6629 - accuracy: 0.7738 - val_loss: 0.4013 - val_accuracy: 0.8716\n",
      "\n",
      "Epoch 00007: val_accuracy improved from 0.86660 to 0.87160, saving model to ./fmnist_CNN.h5\n",
      "Epoch 8/20\n",
      "235/235 [==============================] - 1s 6ms/step - loss: 0.6088 - accuracy: 0.7926 - val_loss: 0.3758 - val_accuracy: 0.8770\n",
      "\n",
      "Epoch 00008: val_accuracy improved from 0.87160 to 0.87700, saving model to ./fmnist_CNN.h5\n",
      "Epoch 9/20\n",
      "235/235 [==============================] - 1s 5ms/step - loss: 0.5736 - accuracy: 0.8043 - val_loss: 0.3589 - val_accuracy: 0.8828\n",
      "\n",
      "Epoch 00009: val_accuracy improved from 0.87700 to 0.88280, saving model to ./fmnist_CNN.h5\n",
      "Epoch 10/20\n",
      "235/235 [==============================] - 1s 6ms/step - loss: 0.5415 - accuracy: 0.8148 - val_loss: 0.3446 - val_accuracy: 0.8842\n",
      "\n",
      "Epoch 00010: val_accuracy improved from 0.88280 to 0.88420, saving model to ./fmnist_CNN.h5\n",
      "Epoch 11/20\n",
      "235/235 [==============================] - 1s 5ms/step - loss: 0.5131 - accuracy: 0.8262 - val_loss: 0.3390 - val_accuracy: 0.8870\n",
      "\n",
      "Epoch 00011: val_accuracy improved from 0.88420 to 0.88700, saving model to ./fmnist_CNN.h5\n",
      "Epoch 12/20\n",
      "235/235 [==============================] - 1s 6ms/step - loss: 0.4855 - accuracy: 0.8353 - val_loss: 0.3271 - val_accuracy: 0.8920\n",
      "\n",
      "Epoch 00012: val_accuracy improved from 0.88700 to 0.89200, saving model to ./fmnist_CNN.h5\n",
      "Epoch 13/20\n",
      "235/235 [==============================] - 1s 6ms/step - loss: 0.4663 - accuracy: 0.8447 - val_loss: 0.3155 - val_accuracy: 0.8902\n",
      "\n",
      "Epoch 00013: val_accuracy did not improve from 0.89200\n",
      "Epoch 14/20\n",
      "235/235 [==============================] - 1s 6ms/step - loss: 0.4457 - accuracy: 0.8507 - val_loss: 0.3135 - val_accuracy: 0.8952\n",
      "\n",
      "Epoch 00014: val_accuracy improved from 0.89200 to 0.89520, saving model to ./fmnist_CNN.h5\n",
      "Epoch 15/20\n",
      "235/235 [==============================] - 1s 6ms/step - loss: 0.4276 - accuracy: 0.8545 - val_loss: 0.3125 - val_accuracy: 0.8958\n",
      "\n",
      "Epoch 00015: val_accuracy improved from 0.89520 to 0.89580, saving model to ./fmnist_CNN.h5\n",
      "Epoch 16/20\n",
      "235/235 [==============================] - 1s 5ms/step - loss: 0.4065 - accuracy: 0.8633 - val_loss: 0.3016 - val_accuracy: 0.8962\n",
      "\n",
      "Epoch 00016: val_accuracy improved from 0.89580 to 0.89620, saving model to ./fmnist_CNN.h5\n",
      "Epoch 17/20\n",
      "235/235 [==============================] - 1s 5ms/step - loss: 0.3876 - accuracy: 0.8679 - val_loss: 0.3004 - val_accuracy: 0.9026\n",
      "\n",
      "Epoch 00017: val_accuracy improved from 0.89620 to 0.90260, saving model to ./fmnist_CNN.h5\n",
      "Epoch 18/20\n",
      "235/235 [==============================] - 1s 5ms/step - loss: 0.3801 - accuracy: 0.8713 - val_loss: 0.2910 - val_accuracy: 0.9006\n",
      "\n",
      "Epoch 00018: val_accuracy did not improve from 0.90260\n",
      "Epoch 19/20\n",
      "235/235 [==============================] - 1s 6ms/step - loss: 0.3657 - accuracy: 0.8763 - val_loss: 0.2869 - val_accuracy: 0.9052\n",
      "\n",
      "Epoch 00019: val_accuracy improved from 0.90260 to 0.90520, saving model to ./fmnist_CNN.h5\n",
      "Epoch 20/20\n",
      "235/235 [==============================] - 1s 5ms/step - loss: 0.3554 - accuracy: 0.8779 - val_loss: 0.2860 - val_accuracy: 0.9080\n",
      "\n",
      "Epoch 00020: val_accuracy improved from 0.90520 to 0.90800, saving model to ./fmnist_CNN.h5\n"
     ]
    },
    {
     "data": {
      "text/plain": [
       "<keras.callbacks.History at 0x7f20bc31ea90>"
      ]
     },
     "execution_count": 54,
     "metadata": {},
     "output_type": "execute_result"
    }
   ],
   "source": [
    "# model = load_model(\"./fmnist_CNN.h5\")\n",
    "opt = tf.keras.optimizers.Adam(learning_rate=0.00005)\n",
    "model.compile(loss='categorical_crossentropy',\n",
    "              optimizer=opt,\n",
    "              metrics=['accuracy'])\n",
    "checkpoint = tf.keras.callbacks.ModelCheckpoint(filepath=\"./fmnist_CNN.h5\", \n",
    "                                                monitor='val_accuracy', \n",
    "                                                verbose=1, \n",
    "                                                save_best_only=True, mode = 'max')\n",
    "callbacks_list = [checkpoint]\n",
    "model.fit(x_train, y_train, batch_size=256, epochs=20, shuffle=True,\n",
    "          validation_data=(x_test[0:5000], y_test[0:5000]), callbacks=callbacks_list)"
   ]
  },
  {
   "cell_type": "code",
   "execution_count": 55,
   "id": "97b3a57b",
   "metadata": {},
   "outputs": [
    {
     "name": "stdout",
     "output_type": "stream",
     "text": [
      "313/313 [==============================] - 1s 2ms/step - loss: 0.2796 - accuracy: 0.9079\n"
     ]
    },
    {
     "data": {
      "text/plain": [
       "[0.27957823872566223, 0.9078999757766724]"
      ]
     },
     "execution_count": 55,
     "metadata": {},
     "output_type": "execute_result"
    }
   ],
   "source": [
    "model.evaluate(x=x_test, y=y_test, batch_size=None, \n",
    "               verbose=1)"
   ]
  },
  {
   "cell_type": "code",
   "execution_count": null,
   "id": "3fa3ed94",
   "metadata": {},
   "outputs": [],
   "source": []
  }
 ],
 "metadata": {
  "kernelspec": {
   "display_name": "Python 3",
   "language": "python",
   "name": "python3"
  },
  "language_info": {
   "codemirror_mode": {
    "name": "ipython",
    "version": 3
   },
   "file_extension": ".py",
   "mimetype": "text/x-python",
   "name": "python",
   "nbconvert_exporter": "python",
   "pygments_lexer": "ipython3",
   "version": "3.6.13"
  }
 },
 "nbformat": 4,
 "nbformat_minor": 5
}
