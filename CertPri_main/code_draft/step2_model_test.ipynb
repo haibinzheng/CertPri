{
 "cells": [
  {
   "cell_type": "code",
   "execution_count": 45,
   "id": "90b61167",
   "metadata": {},
   "outputs": [],
   "source": [
    "import numpy as np\n",
    "\n",
    "DATA_PATH = \"/public/liujiawei/huawei/ZHB/ADF-master/mnist/\"\n",
    "X_train = np.load(DATA_PATH+\"mnist_train.npy\")\n",
    "Y_train = np.load(DATA_PATH+\"mnist_train_label.npy\")\n",
    "X_test = np.load(DATA_PATH+\"mnist_test.npy\")\n",
    "Y_test = np.load(DATA_PATH+\"mnist_test_label.npy\")"
   ]
  },
  {
   "cell_type": "code",
   "execution_count": 46,
   "id": "3a62ca22",
   "metadata": {},
   "outputs": [],
   "source": [
    "from tensorflow.keras.layers import Dense\n",
    "from tensorflow.keras.models import Sequential,load_model\n",
    "from tensorflow.keras.utils import to_categorical\n",
    "from sklearn.preprocessing import StandardScaler"
   ]
  },
  {
   "cell_type": "code",
   "execution_count": 47,
   "id": "bc88dd0d",
   "metadata": {},
   "outputs": [],
   "source": [
    "input_shape = 28*28\n",
    "\n",
    "model = Sequential()\n",
    "model.add(Dense(input_shape=(input_shape,), units=input_shape, activation='relu'))\n",
    "model.add(Dense(units=512, activation='relu'))\n",
    "model.add(Dense(units=1024, activation='relu'))\n",
    "model.add(Dense(units=64, activation='relu'))\n",
    "model.add(Dense(units=10, activation='softmax'))\n",
    "model.compile(optimizer='adam', loss='categorical_crossentropy', metrics=['accuracy'])"
   ]
  },
  {
   "cell_type": "code",
   "execution_count": 49,
   "id": "85833ebe",
   "metadata": {},
   "outputs": [],
   "source": [
    "MODEL_PATH = \"/public/liujiawei/huawei/ZHB/ADF-master/models/\"\n",
    "model = load_model(MODEL_PATH+\"mnist_FC4.h5\")"
   ]
  },
  {
   "cell_type": "code",
   "execution_count": 50,
   "id": "46c53e36",
   "metadata": {},
   "outputs": [
    {
     "name": "stdout",
     "output_type": "stream",
     "text": [
      "7\n",
      "2\n",
      "1\n",
      "0\n"
     ]
    },
    {
     "data": {
      "image/png": "[encoded data removed]",
      "text/plain": [
       "<Figure size 432x288 with 4 Axes>"
      ]
     },
     "metadata": {
      "needs_background": "light"
     },
     "output_type": "display_data"
    }
   ],
   "source": [
    "import matplotlib.pyplot as plt\n",
    "\n",
    "plt.figure()\n",
    "plt.subplot(221)\n",
    "plt.imshow(X_test[0].reshape((28,28,1)))\n",
    "print(np.argmax(model.predict(X_test[0:1])))\n",
    "\n",
    "plt.subplot(222)\n",
    "plt.imshow(X_test[1].reshape((28,28,1)))\n",
    "print(np.argmax(model.predict(X_test[1:2])))\n",
    "\n",
    "plt.subplot(223)\n",
    "plt.imshow(X_test[2].reshape((28,28,1)))\n",
    "print(np.argmax(model.predict(X_test[2:3])))\n",
    "\n",
    "plt.subplot(224)\n",
    "plt.imshow(X_test[3].reshape((28,28,1)))\n",
    "print(np.argmax(model.predict(X_test[3:4])))"
   ]
  },
  {
   "cell_type": "code",
   "execution_count": null,
   "id": "69ab7ff7",
   "metadata": {},
   "outputs": [],
   "source": []
  },
  {
   "cell_type": "code",
   "execution_count": null,
   "id": "5d156d70",
   "metadata": {},
   "outputs": [],
   "source": []
  }
 ],
 "metadata": {
  "kernelspec": {
   "display_name": "Python 3",
   "language": "python",
   "name": "python3"
  },
  "language_info": {
   "codemirror_mode": {
    "name": "ipython",
    "version": 3
   },
   "file_extension": ".py",
   "mimetype": "text/x-python",
   "name": "python",
   "nbconvert_exporter": "python",
   "pygments_lexer": "ipython3",
   "version": "3.6.13"
  }
 },
 "nbformat": 4,
 "nbformat_minor": 5
}
