{
 "cells": [
  {
   "cell_type": "code",
   "execution_count": 1,
   "id": "90b61167",
   "metadata": {},
   "outputs": [],
   "source": [
    "from tensorflow.keras.datasets import cifar10\n",
    "import numpy as np\n",
    "from tensorflow.keras.layers import Dense\n",
    "from tensorflow.keras.models import Sequential,load_model\n",
    "from tensorflow.keras.utils import to_categorical\n",
    "from sklearn.preprocessing import StandardScaler\n",
    "\n",
    "from tensorflow.keras.applications.vgg19 import VGG19, decode_predictions\n",
    "from tensorflow.keras.preprocessing import image\n",
    "from tensorflow.keras.applications.vgg19 import preprocess_input\n",
    "from tensorflow.keras.models import Model\n",
    "import cv2\n",
    "from keras_preprocessing.image import ImageDataGenerator\n",
    "\n",
    "from tensorflow.keras.layers import *\n",
    "from tensorflow.keras.models import *\n",
    "from tensorflow.keras.optimizers import *\n",
    "from tensorflow.keras.losses import categorical_crossentropy\n",
    "from progressbar import ProgressBar\n",
    "import os\n",
    "import tensorflow as tf\n",
    "import json\n",
    "\n",
    "# from tensorflow.keras import backend as BE\n",
    "# from Integrated_Gradients_algorithm import *\n",
    "# from GradVisualizer import *\n",
    "\n",
    "os.environ[\"CUDA_VISIBLE_DEVICES\"] = \"6\"\n",
    "config=tf.compat.v1.ConfigProto()\n",
    "config.gpu_options.allow_growth=True   #不全部占满显存, 按需分配\n",
    "sess=tf.compat.v1.Session(config=config) "
   ]
  },
  {
   "cell_type": "code",
   "execution_count": 348,
   "id": "7b5a05cd",
   "metadata": {},
   "outputs": [],
   "source": [
    "def get_acc(predict_label, ground_truth=None):\n",
    "    for i in predict_label[0]:\n",
    "        if i[0] == ground_truth:\n",
    "            return True\n",
    "    return False\n",
    "\n",
    "def softmax( f ):\n",
    "    # instead: first shift the values of f so that the highest number is 0:\n",
    "    f -= np.max(f) # f becomes [-666, -333, 0]\n",
    "    return np.exp(f) / np.sum(np.exp(f))  # safe to do, gives the correct answer\n",
    "\n",
    "\n",
    "# def get_APFD_ImageNet(Gini, WNID, predicted_confidence, top_set=None):\n",
    "#     Gini = np.array(Gini)\n",
    "#     indexs = np.argsort(Gini)[::-1]\n",
    "\n",
    "#     o_i = 0\n",
    "#     pbar = ProgressBar()\n",
    "#     wrong_num = 0\n",
    "#     for i in pbar(range(0, len(Gini))):\n",
    "#         if top_set is not None:\n",
    "#             if not get_acc(predict_label=decode_predictions(predicted_confidence[indexs[i]], top=top_set), ground_truth=WNID[val_ground_truth[indexs[i]]-1]):\n",
    "#                 o_i = o_i+i\n",
    "#                 print(i, o_i)\n",
    "#                 wrong_num = wrong_num+1\n",
    "\n",
    "#     APFD = 1 - o_i/(len(Gini)*wrong_num) + 1/(2*len(Gini))\n",
    "#     print(o_i, len(Gini),wrong_num)\n",
    "#     return APFD\n",
    "\n",
    "\n",
    "def get_APFD(Gini_indexs, ground_truth_label, predicted_confidence, top_set=None):\n",
    "    o_i = 0\n",
    "    pbar = ProgressBar()\n",
    "    wrong_num = 0\n",
    "    wrong_num_index = []\n",
    "    for i in pbar(range(0, len(Gini_indexs))):\n",
    "        if top_set is not None:\n",
    "            if not get_acc(predict_label=decode_predictions(predicted_confidence[Gini_indexs[i]], top=top_set), \n",
    "                           ground_truth=ground_truth_label[Gini_indexs[i]]):\n",
    "                o_i = o_i+i\n",
    "#                 print(i, o_i)\n",
    "                wrong_num = wrong_num+1\n",
    "                wrong_num_index.append(Gini_indexs[i])\n",
    "        else:\n",
    "            if np.argmax(ground_truth_label[Gini_indexs[i]]) != np.argmax(predicted_confidence[Gini_indexs[i]]):\n",
    "                o_i = o_i+i\n",
    "                wrong_num = wrong_num+1\n",
    "                wrong_num_index.append(Gini_indexs[i])\n",
    "    APFD = 1 - o_i/(len(Gini_indexs)*wrong_num) + 1/(2*len(Gini_indexs))\n",
    "    return APFD, wrong_num, np.array(wrong_num_index).reshape(-1)\n",
    "\n",
    "\n",
    "def get_RAUC(Gini_indexs, ground_truth_label, predicted_confidence, top_set=None):\n",
    "    pre_y_axis = []\n",
    "    o_i = 0\n",
    "    wrong_num = 0\n",
    "    pbar = ProgressBar()\n",
    "    for i in pbar(range(0, len(Gini_indexs))):\n",
    "        if top_set is not None:\n",
    "            if not get_acc(predict_label=decode_predictions(predicted_confidence[Gini_indexs[i]], top=top_set), \n",
    "                           ground_truth=ground_truth_label[Gini_indexs[i]]):  \n",
    "                o_i = o_i+1\n",
    "                wrong_num = wrong_num+1\n",
    "                pre_y_axis.append(o_i)\n",
    "            else:\n",
    "                pre_y_axis.append(o_i)\n",
    "        else:\n",
    "            if np.argmax(ground_truth_label[Gini_indexs[i]]) != np.argmax(predicted_confidence[Gini_indexs[i]]):\n",
    "                o_i = o_i+1\n",
    "                wrong_num = wrong_num+1\n",
    "                pre_y_axis.append(o_i)\n",
    "            else:\n",
    "                pre_y_axis.append(o_i)\n",
    "    true_y_axis = wrong_num*(len(Gini_indexs)-wrong_num) + (wrong_num+1)*wrong_num/2\n",
    "    RAUC = np.sum(pre_y_axis)/true_y_axis\n",
    "#     print(\"RAUC: \", RAUC)\n",
    "    return RAUC, len(Gini_indexs), wrong_num"
   ]
  },
  {
   "cell_type": "code",
   "execution_count": 56,
   "id": "f6056c68",
   "metadata": {},
   "outputs": [],
   "source": [
    "def get_img_array(img_path, size=(299, 299)):\n",
    "    # `img` is a PIL image of size 299x299\n",
    "    img = keras.preprocessing.image.load_img(img_path, target_size=size)\n",
    "    # `array` is a float32 Numpy array of shape (299, 299, 3)\n",
    "    array = keras.preprocessing.image.img_to_array(img)\n",
    "    # We add a dimension to transform our array into a \"batch\"\n",
    "    # of size (1, 299, 299, 3)\n",
    "    array = np.expand_dims(array, axis=0)\n",
    "    return array\n",
    "\n",
    "\n",
    "def get_gradients(img_input, model, top_pred_idx):\n",
    "    \"\"\"Computes the gradients of outputs w.r.t input image.\n",
    "\n",
    "    Args:\n",
    "        img_input: 4D image tensor\n",
    "        top_pred_idx: Predicted label for the input image\n",
    "\n",
    "    Returns:\n",
    "        Gradients of the predictions w.r.t img_input\n",
    "    \"\"\"\n",
    "    images = tf.cast(img_input, tf.float32)\n",
    "\n",
    "    with tf.GradientTape() as tape:\n",
    "        tape.watch(images)\n",
    "        preds = model(images)\n",
    "        top_class = preds[:, top_pred_idx]\n",
    "\n",
    "    grads = tape.gradient(top_class, images)\n",
    "    return grads\n",
    "\n",
    "\n",
    "def get_integrated_gradients(img_input, model, top_pred_idx, baseline=None, num_steps=50):\n",
    "    \"\"\"Computes Integrated Gradients for a predicted label.\n",
    "\n",
    "    Args:\n",
    "        img_input (ndarray): Original image\n",
    "        top_pred_idx: Predicted label for the input image\n",
    "        baseline (ndarray): The baseline image to start with for interpolation\n",
    "        num_steps: Number of interpolation steps between the baseline\n",
    "            and the input used in the computation of integrated gradients. These\n",
    "            steps along determine the integral approximation error. By default,\n",
    "            num_steps is set to 50.\n",
    "\n",
    "    Returns:\n",
    "        Integrated gradients w.r.t input image\n",
    "    \"\"\"\n",
    "    # If baseline is not provided, start with a black image\n",
    "    # having same size as the input image.\n",
    "    if baseline is None:\n",
    "        baseline = np.zeros(img_size).astype(np.float32)\n",
    "    else:\n",
    "        baseline = baseline.astype(np.float32)\n",
    "\n",
    "    # 1. Do interpolation.\n",
    "    img_input = img_input.astype(np.float32)\n",
    "    interpolated_image = [\n",
    "        baseline + (step / num_steps) * (img_input - baseline)\n",
    "        for step in range(num_steps + 1)\n",
    "    ]\n",
    "    interpolated_image = np.array(interpolated_image).astype(np.float32)\n",
    "\n",
    "    # 2. Preprocess the interpolated images\n",
    "#     interpolated_image = model.preprocess_input(interpolated_image)\n",
    "\n",
    "    # 3. Get the gradients\n",
    "    grads = []\n",
    "    for i, img in enumerate(interpolated_image):\n",
    "        img = tf.expand_dims(img, axis=0)\n",
    "        grad = get_gradients(img, model, top_pred_idx=top_pred_idx)\n",
    "        grads.append(grad[0])\n",
    "    grads = tf.convert_to_tensor(grads, dtype=tf.float32)\n",
    "\n",
    "    # 4. Approximate the integral using the trapezoidal rule\n",
    "    grads_tmp = (grads[:-1] + grads[1:]) / 2.0\n",
    "    avg_grads = tf.reduce_mean(grads_tmp, axis=0)\n",
    "\n",
    "    # 5. Calculate integrated gradients and return\n",
    "    integrated_grads = (img_input - baseline) * avg_grads\n",
    "    return integrated_grads, grads, avg_grads\n",
    "\n",
    "\n",
    "def random_baseline_integrated_gradients(\n",
    "    img_input, model, top_pred_idx, num_steps=50, num_runs=2\n",
    "):\n",
    "    \"\"\"Generates a number of random baseline images.\n",
    "\n",
    "    Args:\n",
    "        img_input (ndarray): 3D image\n",
    "        top_pred_idx: Predicted label for the input image\n",
    "        num_steps: Number of interpolation steps between the baseline\n",
    "            and the input used in the computation of integrated gradients. These\n",
    "            steps along determine the integral approximation error. By default,\n",
    "            num_steps is set to 50.\n",
    "        num_runs: number of baseline images to generate\n",
    "\n",
    "    Returns:\n",
    "        Averaged integrated gradients for `num_runs` baseline images\n",
    "    \"\"\"\n",
    "    # 1. List to keep track of Integrated Gradients (IG) for all the images\n",
    "    integrated_grads = []\n",
    "\n",
    "    # 2. Get the integrated gradients for all the baselines\n",
    "    for run in range(num_runs):\n",
    "        baseline = np.random.random(img_size) * 255\n",
    "        igrads, grads, avg_grads = get_integrated_gradients(\n",
    "            img_input=img_input,\n",
    "            top_pred_idx=top_pred_idx,\n",
    "            baseline=baseline,\n",
    "            num_steps=num_steps,\n",
    "        )\n",
    "        integrated_grads.append(igrads)\n",
    "\n",
    "    # 3. Return the average integrated gradients for the image\n",
    "    integrated_grads = tf.convert_to_tensor(integrated_grads)\n",
    "    return tf.reduce_mean(integrated_grads, axis=0)"
   ]
  },
  {
   "cell_type": "code",
   "execution_count": 3,
   "id": "3a62ca22",
   "metadata": {},
   "outputs": [],
   "source": [
    "def getfile_name(file_dir):   \n",
    "    for root, dirs, files in os.walk(file_dir):\n",
    "        return files\n",
    "#          print(root) #当前目录路径  \n",
    "#          print(dirs) #当前路径下所有子目录  \n",
    "#          print(files) #当前路径下所有非目录子文件 \n"
   ]
  },
  {
   "cell_type": "code",
   "execution_count": 4,
   "id": "258f8c19",
   "metadata": {},
   "outputs": [],
   "source": [
    "DATA_PATH = '/public/liujiawei/huawei/ZHB/ADF-master/datasets/ImageNetVal/'\n",
    "file_name = getfile_name(DATA_PATH)\n",
    "file_name = np.sort(file_name)\n",
    "\n",
    "f = open(\"/public/liujiawei/huawei/ZHB/ADF-master/datasets/ILSVRC2012_devkit_t12/data/ILSVRC2012_validation_ground_truth.txt\",encoding = \"utf-8\")\n",
    "val_ground_truth = f.read()\n",
    "val_ground_truth = val_ground_truth.split('\\n')\n",
    "for i in range(len(val_ground_truth)-1):\n",
    "    val_ground_truth[i] = int(val_ground_truth[i])\n",
    "\n",
    "    \n",
    "vgg19_json = json.load(open('/public/liujiawei/.keras/models/imagenet_class_index.json','r',encoding=\"utf-8\"))\n",
    "# numbers = []\n",
    "# with open('/public/liujiawei/huawei/ZHB/ADF-master/datasets/ILSVRC2012_devkit_t12/data/ILSVRC2012_validation_ground_truth.txt', 'r') as f:\n",
    "#     for line in f:\n",
    "#         numbers.extend([int(num)\n",
    "#                        for num in line.split('\\n')])"
   ]
  },
  {
   "cell_type": "code",
   "execution_count": 5,
   "id": "340779b1",
   "metadata": {},
   "outputs": [
    {
     "name": "stdout",
     "output_type": "stream",
     "text": [
      "ILSVRC2012_val_00000001.JPEG\n",
      "False\n",
      "(50000,)\n",
      "['ILSVRC2012_val_00001000.JPEG' 'ILSVRC2012_val_00001001.JPEG'\n",
      " 'ILSVRC2012_val_00001002.JPEG' 'ILSVRC2012_val_00001003.JPEG'\n",
      " 'ILSVRC2012_val_00001004.JPEG' 'ILSVRC2012_val_00001005.JPEG'\n",
      " 'ILSVRC2012_val_00001006.JPEG' 'ILSVRC2012_val_00001007.JPEG'\n",
      " 'ILSVRC2012_val_00001008.JPEG']\n"
     ]
    }
   ],
   "source": [
    "print((file_name[0]))\n",
    "label_tmp = file_name[0][-13:-5]\n",
    "# label_tmp = int(label_tmp)+1.0\n",
    "print((label_tmp=='00013979'))\n",
    "print(np.shape(file_name))\n",
    "print(np.sort(file_name)[999:1008])"
   ]
  },
  {
   "cell_type": "code",
   "execution_count": 6,
   "id": "6b47a696",
   "metadata": {},
   "outputs": [],
   "source": [
    "# from gpuinfo import GPUInfo\n",
    "\n",
    "# def get_gpu_id(num_gpu=1):\n",
    "#     \"\"\"get ID of GPUS\n",
    "#     :param num_gpu:  num of GPUs to use\n",
    "#     :return: gpu_id: ID of allocated GPUs\n",
    "#     \"\"\"\n",
    "#     available_device=GPUInfo.check_empty()\n",
    "#     if len(available_device)>=num_gpu:\n",
    "#         gpu_id = available_device[:num_gpu]\n",
    "#     else:\n",
    "#         raise Exception('Only {} GPUs to use!'.format(len(available_device)))\n",
    "#     if num_gpu == 1:\n",
    "#         gpu_id = gpu_id[0]\n",
    "\n",
    "\n",
    "#     return gpu_id\n",
    "\n",
    "# os.environ[\"CUDA_VISIBLE_DEVICES\"] = \"0\"\n",
    "# config=tf.compat.v1.ConfigProto()\n",
    "# config.gpu_options.allow_growth=True   #不全部占满显存, 按需分配\n",
    "# sess=tf.compat.v1.Session(config=config) "
   ]
  },
  {
   "cell_type": "code",
   "execution_count": 7,
   "id": "67d6a7d4",
   "metadata": {},
   "outputs": [],
   "source": [
    "base_model = VGG19(weights='imagenet')"
   ]
  },
  {
   "cell_type": "code",
   "execution_count": 8,
   "id": "cdce5da9",
   "metadata": {},
   "outputs": [
    {
     "name": "stdout",
     "output_type": "stream",
     "text": [
      "n04263257\n",
      "soup bowl\n",
      "1300\n"
     ]
    }
   ],
   "source": [
    "import os\n",
    "import scipy.io\n",
    "\n",
    "synsets = scipy.io.loadmat(os.path.join('/public/liujiawei/huawei/ZHB/ADF-master/datasets', 'ILSVRC2012_devkit_t12', 'data', 'meta.mat'))['synsets']\n",
    "# print(len(synsets))\n",
    "# print(synsets)\n",
    "\n",
    "ILSVRC2012_ID = [s[0][0][0][0] for s in synsets]\n",
    "# print(ILSVRC2012_ID)\n",
    "\n",
    "index1 = 821\n",
    "WNID = [s[0][1][0] for s in synsets]\n",
    "print(WNID[index1])\n",
    "\n",
    "words = [s[0][2][0] for s in synsets]\n",
    "print(words[index1])\n",
    "\n",
    "num_train_images = [s[0][7][0][0] for s in synsets]\n",
    "print(num_train_images[0])"
   ]
  },
  {
   "cell_type": "code",
   "execution_count": 9,
   "id": "e5b25b12",
   "metadata": {},
   "outputs": [
    {
     "name": "stdout",
     "output_type": "stream",
     "text": [
      "Model: \"vgg19\"\n",
      "_________________________________________________________________\n",
      "Layer (type)                 Output Shape              Param #   \n",
      "=================================================================\n",
      "input_1 (InputLayer)         [(None, 224, 224, 3)]     0         \n",
      "_________________________________________________________________\n",
      "block1_conv1 (Conv2D)        (None, 224, 224, 64)      1792      \n",
      "_________________________________________________________________\n",
      "block1_conv2 (Conv2D)        (None, 224, 224, 64)      36928     \n",
      "_________________________________________________________________\n",
      "block1_pool (MaxPooling2D)   (None, 112, 112, 64)      0         \n",
      "_________________________________________________________________\n",
      "block2_conv1 (Conv2D)        (None, 112, 112, 128)     73856     \n",
      "_________________________________________________________________\n",
      "block2_conv2 (Conv2D)        (None, 112, 112, 128)     147584    \n",
      "_________________________________________________________________\n",
      "block2_pool (MaxPooling2D)   (None, 56, 56, 128)       0         \n",
      "_________________________________________________________________\n",
      "block3_conv1 (Conv2D)        (None, 56, 56, 256)       295168    \n",
      "_________________________________________________________________\n",
      "block3_conv2 (Conv2D)        (None, 56, 56, 256)       590080    \n",
      "_________________________________________________________________\n",
      "block3_conv3 (Conv2D)        (None, 56, 56, 256)       590080    \n",
      "_________________________________________________________________\n",
      "block3_conv4 (Conv2D)        (None, 56, 56, 256)       590080    \n",
      "_________________________________________________________________\n",
      "block3_pool (MaxPooling2D)   (None, 28, 28, 256)       0         \n",
      "_________________________________________________________________\n",
      "block4_conv1 (Conv2D)        (None, 28, 28, 512)       1180160   \n",
      "_________________________________________________________________\n",
      "block4_conv2 (Conv2D)        (None, 28, 28, 512)       2359808   \n",
      "_________________________________________________________________\n",
      "block4_conv3 (Conv2D)        (None, 28, 28, 512)       2359808   \n",
      "_________________________________________________________________\n",
      "block4_conv4 (Conv2D)        (None, 28, 28, 512)       2359808   \n",
      "_________________________________________________________________\n",
      "block4_pool (MaxPooling2D)   (None, 14, 14, 512)       0         \n",
      "_________________________________________________________________\n",
      "block5_conv1 (Conv2D)        (None, 14, 14, 512)       2359808   \n",
      "_________________________________________________________________\n",
      "block5_conv2 (Conv2D)        (None, 14, 14, 512)       2359808   \n",
      "_________________________________________________________________\n",
      "block5_conv3 (Conv2D)        (None, 14, 14, 512)       2359808   \n",
      "_________________________________________________________________\n",
      "block5_conv4 (Conv2D)        (None, 14, 14, 512)       2359808   \n",
      "_________________________________________________________________\n",
      "block5_pool (MaxPooling2D)   (None, 7, 7, 512)         0         \n",
      "_________________________________________________________________\n",
      "flatten (Flatten)            (None, 25088)             0         \n",
      "_________________________________________________________________\n",
      "fc1 (Dense)                  (None, 4096)              102764544 \n",
      "_________________________________________________________________\n",
      "fc2 (Dense)                  (None, 4096)              16781312  \n",
      "_________________________________________________________________\n",
      "predictions (Dense)          (None, 1000)              4097000   \n",
      "=================================================================\n",
      "Total params: 143,667,240\n",
      "Trainable params: 143,667,240\n",
      "Non-trainable params: 0\n",
      "_________________________________________________________________\n"
     ]
    }
   ],
   "source": [
    "base_model.summary()"
   ]
  },
  {
   "cell_type": "code",
   "execution_count": null,
   "id": "62673669",
   "metadata": {},
   "outputs": [],
   "source": []
  },
  {
   "cell_type": "code",
   "execution_count": 13,
   "id": "85c66160",
   "metadata": {},
   "outputs": [],
   "source": [
    "# img_num = range(0,1000) # 设置使用的样本数量和位置\n",
    "# pbar = ProgressBar()\n",
    "# acc = 0\n",
    "# for i in pbar(img_num):\n",
    "# #     print(file_name[i])\n",
    "#     img_path = DATA_PATH + file_name[i]\n",
    "#     img = image.load_img(img_path, target_size=(224, 224))\n",
    "#     x_tmp = image.img_to_array(img)\n",
    "#     x_tmp = np.expand_dims(x_tmp, axis=0)\n",
    "#     x_tmp = preprocess_input(x_tmp)\n",
    "#     y_tmp = base_model.predict(np.reshape(x_tmp, [-1,224,224,3]))\n",
    "# #     print(WNID[val_ground_truth[i]])\n",
    "# # *********************注意这里的 WNID 的索引需要“-1”*************************\n",
    "#     acc = acc + get_acc(predict_label=decode_predictions(y_tmp, top=1), ground_truth=WNID[val_ground_truth[i]-1])\n",
    "# #     if decode_predictions(y_tmp, top=3)[0][0][0] == WNID[val_ground_truth[i]]:\n",
    "# #         acc = acc+1\n",
    "    \n",
    "# print(\"The number of right classified:\", acc)"
   ]
  },
  {
   "cell_type": "code",
   "execution_count": 14,
   "id": "84a7a62b",
   "metadata": {},
   "outputs": [],
   "source": [
    "# img_num = range(0,10)\n",
    "# pbar = ProgressBar()\n",
    "# for i in pbar(img_num):\n",
    "#     print(WNID[val_ground_truth[i]])"
   ]
  },
  {
   "cell_type": "code",
   "execution_count": 11,
   "id": "5f19935e",
   "metadata": {},
   "outputs": [],
   "source": [
    "# print(decode_predictions(y_tmp, top=4)[0][3][0])  ## 第一维的[0]是固定的，第二维的[i]表示第top(i+1)，第三维的[0]表示标签、[1]表示标签的真实名字、[2]表示标签的对应置信度\n",
    "# print(decode_predictions(y_tmp, top=4)[0][3][1])\n",
    "# print(decode_predictions(y_tmp, top=4)[0][3][2])"
   ]
  },
  {
   "cell_type": "code",
   "execution_count": 10,
   "id": "2721948d",
   "metadata": {},
   "outputs": [
    {
     "data": {
      "text/plain": [
       "'n02437616'"
      ]
     },
     "execution_count": 10,
     "metadata": {},
     "output_type": "execute_result"
    }
   ],
   "source": [
    "WNID[val_ground_truth[i]-1]"
   ]
  },
  {
   "cell_type": "code",
   "execution_count": 11,
   "id": "2cbd7bd2",
   "metadata": {},
   "outputs": [],
   "source": [
    "# get_acc(predict_label=decode_predictions(y_tmp, top=3), ground_truth=WNID[val_ground_truth[i]])"
   ]
  },
  {
   "cell_type": "code",
   "execution_count": 12,
   "id": "1e4bf5a2",
   "metadata": {},
   "outputs": [],
   "source": [
    "# pbar = ProgressBar()\n",
    "# tmp_train = [cv2.resize(i,(224,224)) for i in pbar(X_train)]\n",
    "# pbar = ProgressBar()\n",
    "# tmp_test = [cv2.resize(i,(224,224)) for i in pbar(X_test)]\n",
    "# ## 重新转回为 array\n",
    "# # tmp_train = np.array(tmp_train)\n",
    "# # tmp_test = np.array(tmp_test)\n",
    "\n",
    "# print(len(tmp_train))\n",
    "# print(np.shape(tmp_train[0:2]))"
   ]
  },
  {
   "cell_type": "code",
   "execution_count": 13,
   "id": "9fce3d73",
   "metadata": {},
   "outputs": [],
   "source": [
    "# # keras 的图像处理操作\n",
    "# img_path = 'zebra.png'\n",
    "# img = image.load_img(img_path, target_size=(224, 224))\n",
    "# x = image.img_to_array(img)\n",
    "# x = np.expand_dims(x, axis=0)\n",
    "# x = preprocess_input(x)\n",
    "# y1 = base_model.predict(np.reshape(img, [-1,224,224,3]))\n",
    "# print(np.argmax(y1))\n",
    "\n",
    "# # keras 预训练模型的标签解释器\n",
    "# print('Predicted:', decode_predictions(y1, top=3))"
   ]
  },
  {
   "cell_type": "code",
   "execution_count": 14,
   "id": "bd7bd48e",
   "metadata": {},
   "outputs": [],
   "source": [
    "# import matplotlib.pyplot as plt\n",
    "\n",
    "# plt.figure()\n",
    "# plt.subplot(111)\n",
    "# plt.imshow(np.reshape(x, [224,224,3]))"
   ]
  },
  {
   "cell_type": "code",
   "execution_count": null,
   "id": "5f419fc7",
   "metadata": {},
   "outputs": [],
   "source": []
  },
  {
   "cell_type": "code",
   "execution_count": 477,
   "id": "60cf557e",
   "metadata": {},
   "outputs": [
    {
     "name": "stderr",
     "output_type": "stream",
     "text": [
      "100% |########################################################################|\n"
     ]
    }
   ],
   "source": [
    "Gini = []\n",
    "index1 = 0\n",
    "index2 = 0\n",
    "top_set = 1 # 预测的前n个类中包含真实标签则表示预测正确\n",
    "img_num = range(0, 1000)\n",
    "num_class = 1000\n",
    "ground_truth_label = []\n",
    "predicted_confidence = []\n",
    "# advrage_confidence = np.ones((1,num_class))*(1.0/(num_class-1))\n",
    "# advrage_confidence = np.zeros((1,num_class))\n",
    "pbar = ProgressBar()\n",
    "for i in pbar(img_num):\n",
    "    img_path = DATA_PATH + file_name[i]\n",
    "    img = image.load_img(img_path, target_size=(224, 224))\n",
    "    x_tmp = image.img_to_array(img)\n",
    "    x_tmp = np.expand_dims(x_tmp, axis=0)\n",
    "    x_tmp = preprocess_input(x_tmp)\n",
    "    pre_tmp = base_model.predict(np.reshape(x_tmp, [-1,224,224,3]))\n",
    "    \n",
    "    Gini_tmp = 1-np.sum(pre_tmp*pre_tmp)  # 基于基尼指数\n",
    "#     Gini_tmp = -np.sum(pre_tmp*np.log(pre_tmp))  # 基于信息熵\n",
    "#     advrage_confidence[0][np.argmax(pre_tmp)] = 1\n",
    "#     Gini_tmp = -np.sum(advrage_confidence*np.log(pre_tmp))  # 基于交叉熵/反交叉熵\n",
    "    Gini.append(Gini_tmp)\n",
    "    \n",
    "#     index2 = index2 + get_acc(predict_label=decode_predictions(pre_tmp, top=top_set), ground_truth=WNID[val_ground_truth[i]-1])\n",
    "#     index1 = index1 + 1\n",
    "    predicted_confidence.append(pre_tmp)\n",
    "    ground_truth_label.append(WNID[val_ground_truth[i]-1])"
   ]
  },
  {
   "cell_type": "code",
   "execution_count": 478,
   "id": "029ebacd",
   "metadata": {},
   "outputs": [],
   "source": [
    "# print('test number:', index1, '\\t misclassified number:', index1-index2)"
   ]
  },
  {
   "cell_type": "code",
   "execution_count": null,
   "id": "b1f50864",
   "metadata": {},
   "outputs": [],
   "source": []
  },
  {
   "cell_type": "code",
   "execution_count": null,
   "id": "a019ead5",
   "metadata": {},
   "outputs": [],
   "source": []
  },
  {
   "cell_type": "code",
   "execution_count": 479,
   "id": "7497d0c1",
   "metadata": {},
   "outputs": [
    {
     "name": "stderr",
     "output_type": "stream",
     "text": [
      "100% |########################################################################|\r"
     ]
    },
    {
     "name": "stdout",
     "output_type": "stream",
     "text": [
      "APFD:  0.7350498575498575\n"
     ]
    },
    {
     "name": "stderr",
     "output_type": "stream",
     "text": [
      "\n"
     ]
    }
   ],
   "source": [
    "indexs = np.argsort(Gini)\n",
    "indexs = indexs[::-1]\n",
    "# # 计算APFD指标\n",
    "APFD,_,_ = get_APFD(Gini_indexs=indexs, ground_truth_label=np.array(ground_truth_label), predicted_confidence=np.array(predicted_confidence), top_set=top_set)\n",
    "print(\"APFD: \", APFD)\n",
    "# o_i = 0\n",
    "# pbar = ProgressBar()\n",
    "# # for i in pbar(range(0, (index1-index2))):\n",
    "# for i in (range(0, index1)):\n",
    "#     img_path = DATA_PATH + file_name[indexs[i]]\n",
    "#     img = image.load_img(img_path, target_size=(224, 224))\n",
    "#     x_tmp = image.img_to_array(img)\n",
    "#     x_tmp = np.expand_dims(x_tmp, axis=0)\n",
    "#     x_tmp = preprocess_input(x_tmp)\n",
    "#     pre_tmp = base_model.predict(np.reshape(x_tmp, [-1,224,224,3]))\n",
    "#     if not get_acc(predict_label=decode_predictions(pre_tmp, top=top_set), ground_truth=WNID[val_ground_truth[indexs[i]]-1]):\n",
    "#         o_i = o_i+i\n",
    "#         print(i, o_i)\n",
    "# APFD = 1-o_i/(index1*(index1-index2))+1/(2*index1)\n",
    "# print(\"APFD: \", APFD, o_i, index1, index1-index2)"
   ]
  },
  {
   "cell_type": "code",
   "execution_count": null,
   "id": "9af257ce",
   "metadata": {},
   "outputs": [],
   "source": []
  },
  {
   "cell_type": "code",
   "execution_count": 13,
   "id": "9788ea44",
   "metadata": {},
   "outputs": [],
   "source": [
    "# 前200个样本\n",
    "APFD:  0.901875  #基于基尼指数\n",
    "APFD:  0.8989062499999999    # 基于信息熵\n",
    "    \n",
    "# 前10000个样本\n",
    "APFD:  0.8936016026566561   #基于基尼指数"
   ]
  },
  {
   "cell_type": "code",
   "execution_count": 480,
   "id": "1045129a",
   "metadata": {},
   "outputs": [
    {
     "name": "stderr",
     "output_type": "stream",
     "text": [
      "100% |########################################################################|\r"
     ]
    },
    {
     "name": "stdout",
     "output_type": "stream",
     "text": [
      "RAUC:  0.890363463696797\n"
     ]
    },
    {
     "name": "stderr",
     "output_type": "stream",
     "text": [
      "\n"
     ]
    }
   ],
   "source": [
    "# 计算RAUC指标\n",
    "RAUC,_,_ = get_RAUC(Gini_indexs=indexs, ground_truth_label=np.array(ground_truth_label), \n",
    "                predicted_confidence=np.array(predicted_confidence), top_set=top_set)\n",
    "print(\"RAUC: \", RAUC)\n",
    "# true_y_axis = []\n",
    "# pre_y_axis = []\n",
    "# o_i = 0\n",
    "# pbar = ProgressBar()\n",
    "# for i in pbar(range(0, index1)):\n",
    "#     img_path = DATA_PATH + file_name[indexs[i]]\n",
    "#     img = image.load_img(img_path, target_size=(224, 224))\n",
    "#     x_tmp = image.img_to_array(img)\n",
    "#     x_tmp = np.expand_dims(x_tmp, axis=0)\n",
    "#     x_tmp = preprocess_input(x_tmp)\n",
    "#     pre_tmp = base_model.predict(np.reshape(x_tmp, [-1,224,224,3]))\n",
    "#     if not get_acc(predict_label=decode_predictions(pre_tmp, top=top_set), ground_truth=WNID[val_ground_truth[indexs[i]]-1]):\n",
    "#         o_i = o_i+1\n",
    "#         pre_y_axis.append(o_i)\n",
    "#     else:\n",
    "#         pre_y_axis.append(o_i)\n",
    "#     if i < index1-index2:\n",
    "#         true_y_axis.append(i+1)\n",
    "#     else:\n",
    "#         true_y_axis.append(index1-index2)\n",
    "            \n",
    "# RAUC = np.sum(pre_y_axis)/np.sum(true_y_axis)\n",
    "# print(\"RAUC: \", RAUC)"
   ]
  },
  {
   "cell_type": "code",
   "execution_count": null,
   "id": "44d1265a",
   "metadata": {},
   "outputs": [],
   "source": []
  },
  {
   "cell_type": "code",
   "execution_count": 57,
   "id": "43982d16",
   "metadata": {},
   "outputs": [
    {
     "name": "stderr",
     "output_type": "stream",
     "text": [
      "100% |########################################################################|\n"
     ]
    }
   ],
   "source": [
    "# # 使用中间隐层特征计算基尼指数/信息熵\n",
    "# from tensorflow.keras import backend as BE\n",
    "\n",
    "# model = Model(inputs=base_model.input, outputs=base_model.get_layer('predictions').output)\n",
    "# Gini_act=[]\n",
    "# pbar = ProgressBar()\n",
    "# for i in pbar(img_num):\n",
    "#     img_path = DATA_PATH + file_name[i]\n",
    "#     img = image.load_img(img_path, target_size=(224, 224))\n",
    "#     x_tmp = image.img_to_array(img)\n",
    "#     x_tmp = np.expand_dims(x_tmp, axis=0)\n",
    "#     x_tmp = preprocess_input(x_tmp)\n",
    "    \n",
    "# #     # 使用attention机制\n",
    "# #     x_act = model.predict(x_tmp.reshape([-1,224,224,3]))\n",
    "# #     att1 = np.dot(np.transpose(x_act), x_act)\n",
    "# #     att_weight = np.mean(att1, axis = 0).reshape(np.shape(x_act))\n",
    "# #     x_act_ = softmax(x_act)*softmax(att_weight)\n",
    "# # #     Gini_tmp = 1-np.sum(x_act_*x_act_)  # 基于基尼指数\n",
    "# #     Gini_tmp = 1-np.sum(x_act_*np.log(x_act_))  # 基于信息熵\n",
    "# #     Gini_act.append(Gini_tmp)\n",
    "    \n",
    "#     #  未使用attention机制\n",
    "#     x_act = softmax(model.predict(np.reshape(x_tmp, [-1,224,224,3])))\n",
    "#     Gini_tmp = 1-np.sum(x_act*x_act)  # 基于基尼指数\n",
    "# #     Gini_tmp = 1-np.sum(x_act*np.log(x_act))  # 基于信息熵\n",
    "#     Gini_act.append(Gini_tmp)\n"
   ]
  },
  {
   "cell_type": "code",
   "execution_count": 290,
   "id": "f46bf9c9",
   "metadata": {},
   "outputs": [
    {
     "name": "stderr",
     "output_type": "stream",
     "text": [
      "100% |########################################################################|\n"
     ]
    }
   ],
   "source": [
    "# # 使用梯度信息\n",
    "# Gini_act = []\n",
    "# num_class = 1000\n",
    "# img_size = (224,224,3)\n",
    "# # img_num = range(0,250)\n",
    "# pbar = ProgressBar()\n",
    "\n",
    "# for i in pbar(img_num):\n",
    "    \n",
    "#     img_path = DATA_PATH + file_name[i]\n",
    "#     img = image.load_img(img_path, target_size=(224, 224))\n",
    "#     x_tmp = image.img_to_array(img)\n",
    "#     x_tmp = np.expand_dims(x_tmp, axis=0)\n",
    "#     x_tmp = preprocess_input(x_tmp)\n",
    "#     preds = base_model.predict(x_tmp)\n",
    "    \n",
    "# #     使用真实标签验证\n",
    "# #     for j1 in range(1000):\n",
    "# #         if vgg19_json[str(j1)][0] == WNID[val_ground_truth[i]-1]:\n",
    "# #             break\n",
    "# #     grads = get_loss_gradients(img_input=x_tmp, model=base_model, \n",
    "# #                                target_one_hot=np.reshape(to_categorical(j1, 1000),(-1,1000)))\n",
    "    \n",
    "# #     使用预测标签当做真实标签验证\n",
    "#     model_ = Model(inputs=model.input, outputs=base_model.get_layer('fc2').output)\n",
    "#     hidden_layer = model_.predict(x_tmp)\n",
    "#     dim1 = len(hidden_layer[0])\n",
    "#     target_one_hot_ave = np.zeros([1, dim1]) * (1.0/dim1)\n",
    "#     target_one_hot_ave[0][np.argmax(hidden_layer[0])] = 1\n",
    "#     target_one_hot_ave = target_one_hot_ave * hidden_layer\n",
    "#     grads = get_loss_gradients(img_input=x_tmp, model=model_, \n",
    "#                                target_one_hot=target_one_hot_ave, from_logits=False)\n",
    "    \n",
    "# #     label1 = np.argmax(preds[0])\n",
    "# #     target_one_hot = np.reshape(to_categorical(label1, num_class), (-1, num_class))\n",
    "# #     grads = get_loss_gradients(img_input=x_tmp, model=base_model, \n",
    "# #                                target_one_hot=target_one_hot)\n",
    "\n",
    "# #     grads = np.clip(grads, 0, 1)\n",
    "# #     preds[0][label1] = -1\n",
    "# #     label2 = np.argmax(preds[0])\n",
    "# #     grads2 = get_loss_gradients(img_input=x_tmp, model=base_model, \n",
    "# #                                target_one_hot=target_one_hot)\n",
    "\n",
    "#     x_act = np.sum(np.abs(grads))\n",
    "# #     if np.sum(np.abs(grads))>np.sum(np.abs(grads2)):\n",
    "# #         x_act = 1\n",
    "# #     else:\n",
    "# #         x_act=2\n",
    "        \n",
    "# #     grads = get_gradients(img_input=x_tmp, model=base_model, top_pred_idx=tf.argmax(preds[0]))\n",
    "# #     preds[0][tf.argmax(preds[0])] = -1\n",
    "# #     grads2 = get_gradients(img_input=x_tmp, model=base_model, top_pred_idx=tf.argmax(preds[0]))\n",
    "# #     if np.sum(np.abs(grads))>np.sum(np.abs(grads2)):\n",
    "# #         x_act = 1\n",
    "# #     else:\n",
    "# #         x_act=2\n",
    "    \n",
    "# #     grads = np.clip(grads, -1, 0)\n",
    "# #     grads2 = np.clip(grads2, -1, 0)\n",
    "# #     x_act = np.sum(np.abs(grads)) - np.sum(np.abs(grads2))\n",
    "# #     grads_min = get_gradients(img_input=x_tmp, model=base_model, top_pred_idx=tf.argmin(preds[0]))\n",
    "# #     x_act = np.sum(np.abs(grads)) * np.sum(np.abs(grads_min))\n",
    "\n",
    "\n",
    "\n",
    "# #     preds = base_model.predict(x_tmp)\n",
    "# # #     grads = get_gradients(img_input=x_tmp, model=base_model, top_pred_idx=tf.argmax(preds[0]))\n",
    "# #     integrated_grads, grads, avg_grads = get_integrated_gradients(img_input=x_tmp[0], model=base_model, top_pred_idx=tf.argmax(preds[0]), num_steps=2)\n",
    "# #     x_act = np.sum(np.abs(grads[2]))+np.sum(np.abs(grads[0]))\n",
    "# #     print(np.sum(np.abs(grads[2])),np.sum(np.abs(grads[1])),np.sum(np.abs(grads[0])),np.sum(np.abs(avg_grads)))\n",
    "# # #     grads_min = get_gradients(img_input=x_tmp, model=base_model, top_pred_idx=tf.argmin(preds[0]))\n",
    "# # #     x_act = np.sum(np.abs(grads)) * np.sum(np.abs(grads_min))\n",
    "    \n",
    "# #     pbar = ProgressBar()\n",
    "# #     x_act = []\n",
    "# #     for label_i in pbar(range(num_class)):\n",
    "# #         grads = get_gradients(img_input=x_tmp, model=base_model, top_pred_idx=label_i)\n",
    "# # #         grads = get_integrated_gradients(img_input=x_tmp, model=base_model, top_pred_idx=label_i)\n",
    "# #         x_act.append(np.sum(grads))\n",
    "# #     x_act = np.array(x_act).reshape(-1, num_class)\n",
    "# #     x_act = softmax(x_act)\n",
    "    \n",
    "# #     Gini_tmp = 1-np.sum(x_act*x_act)   \n",
    "#     Gini_act.append(x_act)"
   ]
  },
  {
   "cell_type": "code",
   "execution_count": 639,
   "id": "9dfc2521",
   "metadata": {},
   "outputs": [
    {
     "name": "stderr",
     "output_type": "stream",
     "text": [
      "100% |########################################################################|\n"
     ]
    }
   ],
   "source": [
    "# 使用梯度信息\n",
    "# img_num = range(0, 250)\n",
    "# Gini_act = []\n",
    "num_class = 1000\n",
    "img_size = (224,224,3)\n",
    "pbar = ProgressBar()\n",
    "\n",
    "# grads_CE = []\n",
    "# grads_RCE = []\n",
    "# grads_pre1 = []\n",
    "# grads_pre2 = []\n",
    "# grads_pre_min = []\n",
    "# grads_CE_ave = []\n",
    "# grads_CE_min = []\n",
    "# grads_CE2 = []\n",
    "\n",
    "grads_CE_positive = []\n",
    "grads_CE_negtive = []\n",
    "\n",
    "for i in pbar(img_num):\n",
    "    \n",
    "    img_path = DATA_PATH + file_name[i]\n",
    "    img = image.load_img(img_path, target_size=(224, 224))\n",
    "    x_tmp = image.img_to_array(img)\n",
    "    x_tmp = np.expand_dims(x_tmp, axis=0)\n",
    "    x_tmp = preprocess_input(x_tmp)\n",
    "    preds = base_model.predict(x_tmp)\n",
    "    \n",
    "#     使用预测标签当做真实标签验证\n",
    "    label1 = np.argmax(preds[0])\n",
    "    target_one_hot = preds\n",
    "    target_one_hot[0][label1] = 1\n",
    "    grads = get_loss_gradients(img_input=x_tmp, model=base_model, target_one_hot=target_one_hot)\n",
    "    grads_CE_positive.append(grads)\n",
    "    \n",
    "    target_one_hot = preds\n",
    "    target_one_hot[0][label1] = 0\n",
    "    grads = get_loss_gradients(img_input=x_tmp, model=base_model, target_one_hot=target_one_hot)\n",
    "    grads_CE_negtive.append(grads)\n",
    "\n",
    "#     label1 = np.argmax(preds[0])\n",
    "#     target_one_hot = np.reshape(to_categorical(label1, num_class), (-1, num_class))\n",
    "#     grads = get_loss_gradients(img_input=x_tmp, model=base_model, target_one_hot=target_one_hot)\n",
    "#     grads_CE.append(grads)\n",
    "    \n",
    "#     label1_min = np.argmin(preds[0])\n",
    "#     target_one_hot = np.reshape(to_categorical(label1_min, num_class), (-1, num_class))\n",
    "#     grads = get_loss_gradients(img_input=x_tmp, model=base_model, target_one_hot=target_one_hot)\n",
    "#     grads_CE_min.append(grads)\n",
    "    \n",
    "#     grads = get_gradients(img_input=x_tmp, model=base_model, top_pred_idx=label1_min)\n",
    "#     grads_pre_min.append(grads)\n",
    "    \n",
    "#     target_one_hot = np.ones([1, num_class]) * (1.0/(num_class-1))\n",
    "#     target_one_hot[0][label1] = 0\n",
    "#     grads = get_loss_gradients(img_input=x_tmp, model=base_model, target_one_hot=target_one_hot)\n",
    "#     grads_RCE.append(grads)\n",
    "    \n",
    "#     target_one_hot = np.ones([1, num_class]) * (1.0/(num_class))\n",
    "#     grads = get_loss_gradients(img_input=x_tmp, model=base_model, target_one_hot=target_one_hot)\n",
    "#     grads_CE_ave.append(grads)\n",
    "    \n",
    "#     grads = get_gradients(img_input=x_tmp, model=base_model, top_pred_idx=label1)\n",
    "#     grads_pre1.append(grads)\n",
    "    \n",
    "#     preds[0][label1] = 0\n",
    "#     label2 = np.argmax(preds[0])\n",
    "#     grads = get_gradients(img_input=x_tmp, model=base_model, top_pred_idx=label2)\n",
    "#     grads_pre2.append(grads)\n",
    "    \n",
    "#     target_one_hot = np.reshape(to_categorical(label2, num_class), (-1, num_class))\n",
    "#     grads = get_loss_gradients(img_input=x_tmp, model=base_model, target_one_hot=target_one_hot)\n",
    "#     grads_CE2.append(grads)\n"
   ]
  },
  {
   "cell_type": "code",
   "execution_count": 645,
   "id": "fe10d7c4",
   "metadata": {},
   "outputs": [
    {
     "name": "stderr",
     "output_type": "stream",
     "text": [
      "100% |########################################################################|\n",
      "100% |########################################################################|\n",
      "100% |########################################################################|\r"
     ]
    },
    {
     "name": "stdout",
     "output_type": "stream",
     "text": [
      "APFD:  0.6904088319088318 351\n",
      "RAUC:  0.8362531295864629\n"
     ]
    },
    {
     "name": "stderr",
     "output_type": "stream",
     "text": [
      "\n"
     ]
    }
   ],
   "source": [
    "Gini_act_ =[]\n",
    "pbar = ProgressBar()\n",
    "for i in pbar(range(len(grads_CE_positive))):\n",
    "#     x_act = np.sum(np.abs(grads_CE[i]))\n",
    "    x_act =[np.sum(np.abs(grads_CE_positive[i])),\n",
    "            np.sum(np.abs(grads_CE_negtive[i])),\n",
    "           ]\n",
    "#     print(i,':',x_act)\n",
    "    Gini_act_.append(x_act)\n",
    "    \n",
    "Gini_act_ = np.array(Gini_act_)\n",
    "indexs = np.argsort(Gini_act_[:,1]/Gini_act_[:,0])\n",
    "# print(indexs)\n",
    "indexs = indexs[::-1]\n",
    "# print(indexs)\n",
    "APFD,wrong_number,wrong_index = get_APFD(Gini_indexs=indexs, ground_truth_label=np.array(ground_truth_label), \n",
    "                predicted_confidence=np.array(predicted_confidence), top_set=top_set)\n",
    "print(\"APFD: \", APFD, wrong_number)\n",
    "RAUC,_,_ = get_RAUC(Gini_indexs=indexs, ground_truth_label=np.array(ground_truth_label), \n",
    "                predicted_confidence=np.array(predicted_confidence), top_set=top_set)\n",
    "print(\"RAUC: \", RAUC)"
   ]
  },
  {
   "cell_type": "code",
   "execution_count": null,
   "id": "d64ac638",
   "metadata": {},
   "outputs": [],
   "source": []
  },
  {
   "cell_type": "code",
   "execution_count": 341,
   "id": "a4701711",
   "metadata": {},
   "outputs": [
    {
     "name": "stdout",
     "output_type": "stream",
     "text": [
      "7.3869915 11.189025 11.174898 2.115178 2.8073308\n",
      "2.4294407 17.323147 17.304945 1.8713104 1.8632013\n",
      "2.875944 11.7236 11.711569 1.4050138 1.4200213\n",
      "5.270518 11.276661 11.262339 2.0938423 1.1635923\n",
      "2.7589445 22.305952 22.282848 1.2901204 1.3552691\n",
      "3.7819545 8.438682 8.427843 1.1134738 0.5739374\n",
      "0.6285847 19.955963 19.935661 0.5863522 0.4647086\n",
      "7.466598 12.038355 12.022115 4.387728 2.2807024\n",
      "8.709082 5.83937 5.829669 2.57412 1.7856172\n",
      "3.950269 34.457554 34.420277 3.4191606 1.767835\n",
      "*******************************************************\n",
      "695.92035 3611.6404 3607.7095 294.23935 189.24251\n"
     ]
    }
   ],
   "source": [
    "for i in range(10):\n",
    "    print(np.sum(np.abs(grads_CE[i])),np.sum(np.abs(grads_RCE[i])),np.sum(np.abs(grads_CE_ave[i])),\n",
    "      np.sum(np.abs(grads_pre1[i])),np.sum(np.abs(grads_pre2[i])))\n",
    "print('*******************************************************')\n",
    "print(np.sum(np.abs(grads_CE)),np.sum(np.abs(grads_RCE)),np.sum(np.abs(grads_CE_ave)),\n",
    "      np.sum(np.abs(grads_pre1)),np.sum(np.abs(grads_pre2)))"
   ]
  },
  {
   "cell_type": "code",
   "execution_count": 491,
   "id": "30d268fd",
   "metadata": {},
   "outputs": [
    {
     "name": "stdout",
     "output_type": "stream",
     "text": [
      "(1000, 1, 224, 224, 3) (1000, 1, 224, 224, 3) (1000, 1, 224, 224, 3) (1000, 1, 224, 224, 3) (1000, 1, 224, 224, 3) (1000, 1, 224, 224, 3) (1000, 1, 224, 224, 3) (1000, 1, 224, 224, 3)\n"
     ]
    }
   ],
   "source": [
    "print(np.shape(grads_CE),np.shape(grads_RCE),np.shape(grads_pre1),np.shape(grads_pre2),\n",
    "      np.shape(grads_pre_min),np.shape(grads_CE_ave),np.shape(grads_CE_min),np.shape(grads_CE2))"
   ]
  },
  {
   "cell_type": "code",
   "execution_count": 646,
   "id": "6d64c519",
   "metadata": {},
   "outputs": [
    {
     "name": "stderr",
     "output_type": "stream",
     "text": [
      "100% |########################################################################|\n"
     ]
    }
   ],
   "source": [
    "Gini_act =[]\n",
    "pbar = ProgressBar()\n",
    "for i in pbar(range(len(grads_CE))):\n",
    "#     x_act = np.sum(np.abs(grads_CE[i]))\n",
    "    x_act =[np.sum(np.abs(grads_CE[i])),\n",
    "            np.sum(np.abs(grads_CE2[i])),\n",
    "            np.sum(np.abs(grads_CE_min[i])),\n",
    "            np.sum(np.abs(grads_RCE[i])),\n",
    "            np.sum(np.abs(grads_CE_ave[i])),\n",
    "            np.sum(np.abs(grads_pre1[i])),\n",
    "            np.sum(np.abs(grads_pre2[i])),\n",
    "            np.sum(np.abs(grads_pre_min[i])),\n",
    "            np.std(grads_CE[i]),\n",
    "            np.std(grads_CE2[i]),\n",
    "            np.std(grads_CE_min[i]),\n",
    "            np.std(grads_RCE[i]),\n",
    "            np.std(grads_CE_ave[i]),\n",
    "            np.std(grads_pre1[i]),\n",
    "            np.std(grads_pre2[i]),\n",
    "            np.std(grads_pre_min[i]),\n",
    "           ]\n",
    "#     print(i,':',x_act)\n",
    "    Gini_act.append(x_act)\n",
    "    \n",
    "#     # attention 机制\n",
    "# for i in pbar(range(len(grads_CE))):\n",
    "# #     x_act = np.sum(np.abs(grads_CE[i]))\n",
    "#     x_act =[np.sum(np.abs(  [np.dot( np.transpose(grads_CE[i], (0,3,1,2))[0][0] , np.transpose(grads_CE[i], (0,3,2,1))[0][0]),\n",
    "#                              np.dot( np.transpose(grads_CE[i], (0,3,1,2))[0][1] , np.transpose(grads_CE[i], (0,3,2,1))[0][1]),\n",
    "#                              np.dot( np.transpose(grads_CE[i], (0,3,1,2))[0][2] , np.transpose(grads_CE[i], (0,3,2,1))[0][2])]  )),\n",
    "#             np.sum(np.abs(  [np.dot( np.transpose(grads_CE2[i], (0,3,1,2))[0][0] , np.transpose(grads_CE2[i], (0,3,2,1))[0][0]),\n",
    "#                              np.dot( np.transpose(grads_CE2[i], (0,3,1,2))[0][1] , np.transpose(grads_CE2[i], (0,3,2,1))[0][1]),\n",
    "#                              np.dot( np.transpose(grads_CE2[i], (0,3,1,2))[0][2] , np.transpose(grads_CE2[i], (0,3,2,1))[0][2])]  )),\n",
    "#             np.sum(np.abs(  [np.dot( np.transpose(grads_CE_min[i], (0,3,1,2))[0][0] , np.transpose(grads_CE_min[i], (0,3,2,1))[0][0]),\n",
    "#                              np.dot( np.transpose(grads_CE_min[i], (0,3,1,2))[0][1] , np.transpose(grads_CE_min[i], (0,3,2,1))[0][1]),\n",
    "#                              np.dot( np.transpose(grads_CE_min[i], (0,3,1,2))[0][2] , np.transpose(grads_CE_min[i], (0,3,2,1))[0][2])]  )),\n",
    "#             np.sum(np.abs(  [np.dot( np.transpose(grads_RCE[i], (0,3,1,2))[0][0] , np.transpose(grads_RCE[i], (0,3,2,1))[0][0]),\n",
    "#                              np.dot( np.transpose(grads_RCE[i], (0,3,1,2))[0][1] , np.transpose(grads_RCE[i], (0,3,2,1))[0][1]),\n",
    "#                              np.dot( np.transpose(grads_RCE[i], (0,3,1,2))[0][2] , np.transpose(grads_RCE[i], (0,3,2,1))[0][2])]  )),\n",
    "#             np.sum(np.abs(  [np.dot( np.transpose(grads_CE_ave[i], (0,3,1,2))[0][0] , np.transpose(grads_CE_ave[i], (0,3,2,1))[0][0]),\n",
    "#                              np.dot( np.transpose(grads_CE_ave[i], (0,3,1,2))[0][1] , np.transpose(grads_CE_ave[i], (0,3,2,1))[0][1]),\n",
    "#                              np.dot( np.transpose(grads_CE_ave[i], (0,3,1,2))[0][2] , np.transpose(grads_CE_ave[i], (0,3,2,1))[0][2])]  )),\n",
    "#             np.sum(np.abs(  [np.dot( np.transpose(grads_pre1[i], (0,3,1,2))[0][0] , np.transpose(grads_pre1[i], (0,3,2,1))[0][0]),\n",
    "#                              np.dot( np.transpose(grads_pre1[i], (0,3,1,2))[0][1] , np.transpose(grads_pre1[i], (0,3,2,1))[0][1]),\n",
    "#                              np.dot( np.transpose(grads_pre1[i], (0,3,1,2))[0][2] , np.transpose(grads_pre1[i], (0,3,2,1))[0][2])]  )),\n",
    "#             np.sum(np.abs(  [np.dot( np.transpose(grads_pre2[i], (0,3,1,2))[0][0] , np.transpose(grads_pre2[i], (0,3,2,1))[0][0]),\n",
    "#                              np.dot( np.transpose(grads_pre2[i], (0,3,1,2))[0][1] , np.transpose(grads_pre2[i], (0,3,2,1))[0][1]),\n",
    "#                              np.dot( np.transpose(grads_pre2[i], (0,3,1,2))[0][2] , np.transpose(grads_pre2[i], (0,3,2,1))[0][2])]  )),\n",
    "#             np.sum(np.abs(  [np.dot( np.transpose(grads_pre_min[i], (0,3,1,2))[0][0] , np.transpose(grads_pre_min[i], (0,3,2,1))[0][0]),\n",
    "#                              np.dot( np.transpose(grads_pre_min[i], (0,3,1,2))[0][1] , np.transpose(grads_pre_min[i], (0,3,2,1))[0][1]),\n",
    "#                              np.dot( np.transpose(grads_pre_min[i], (0,3,1,2))[0][2] , np.transpose(grads_pre_min[i], (0,3,2,1))[0][2])]  ))]\n",
    "# #     print(i,':',x_act)\n",
    "#     Gini_act.append(x_act)"
   ]
  },
  {
   "cell_type": "code",
   "execution_count": null,
   "id": "92e380d3",
   "metadata": {},
   "outputs": [],
   "source": []
  },
  {
   "cell_type": "code",
   "execution_count": 647,
   "id": "5dc01e1d",
   "metadata": {},
   "outputs": [
    {
     "name": "stderr",
     "output_type": "stream",
     "text": [
      "100% |########################################################################|\n",
      "100% |########################################################################|\n"
     ]
    },
    {
     "name": "stdout",
     "output_type": "stream",
     "text": [
      "APFD:  0.7234487179487179 351\n",
      "RAUC:  0.8763014763014763\n"
     ]
    }
   ],
   "source": [
    "Gini_act = np.array(Gini_act)\n",
    "# indexs = np.argsort(np.sqrt(Gini_act[:,0]*Gini_act[:,0]+Gini_act[:,5]*Gini_act[:,5]+Gini_act[:,6]*Gini_act[:,6]+Gini_act[:,7]*Gini_act[:,7])/\n",
    "#                     np.sqrt(Gini_act[:,1]*Gini_act[:,1]+Gini_act[:,2]*Gini_act[:,2]+Gini_act[:,3]*Gini_act[:,3]+Gini_act[:,4]*Gini_act[:,4]))\n",
    "indexs = np.argsort(np.abs(Gini_act[:,0]/(np.abs(Gini_act[:,1]))))\n",
    "#                     np.sqrt(Gini_act[:,1]+Gini_act[:,2]+Gini_act[:,3]+Gini_act[:,4]))\n",
    "# print(indexs)\n",
    "indexs = indexs[::-1]\n",
    "# print(indexs)\n",
    "APFD,wrong_number,wrong_index = get_APFD(Gini_indexs=indexs, ground_truth_label=np.array(ground_truth_label), \n",
    "                predicted_confidence=np.array(predicted_confidence), top_set=top_set)\n",
    "print(\"APFD: \", APFD, wrong_number)\n",
    "RAUC,_,_ = get_RAUC(Gini_indexs=indexs, ground_truth_label=np.array(ground_truth_label), \n",
    "                predicted_confidence=np.array(predicted_confidence), top_set=top_set)\n",
    "print(\"RAUC: \", RAUC)"
   ]
  },
  {
   "cell_type": "code",
   "execution_count": 553,
   "id": "67ab3160",
   "metadata": {},
   "outputs": [
    {
     "data": {
      "text/plain": [
       "array([2.9121702e+00, 9.2403870e+00, 1.8496599e+01, 1.4295383e+01,\n",
       "       1.4279771e+01, 1.2114879e+00, 7.9420924e-01, 4.0131471e-07],\n",
       "      dtype=float32)"
      ]
     },
     "execution_count": 553,
     "metadata": {},
     "output_type": "execute_result"
    }
   ],
   "source": []
  },
  {
   "cell_type": "code",
   "execution_count": 596,
   "id": "ceb86fad",
   "metadata": {},
   "outputs": [
    {
     "name": "stderr",
     "output_type": "stream",
     "text": [
      "100% |########################################################################|\n",
      "100% |########################################################################|\r"
     ]
    },
    {
     "name": "stdout",
     "output_type": "stream",
     "text": [
      "APFD:  0.5732094017094016 351\n",
      "RAUC:  0.6941932141932142\n"
     ]
    },
    {
     "name": "stderr",
     "output_type": "stream",
     "text": [
      "\n"
     ]
    }
   ],
   "source": [
    "Cluster_Gini_act = []\n",
    "\n",
    "for i in range(len(grads_CE)):\n",
    "    tmp1 = np.sqrt (np.sum( (data[i]-centers[0]) * (data[i]-centers[0]) ) )\n",
    "    tmp2 = np.sqrt (np.sum( (data[i]-centers[1]) * (data[i]-centers[1]) ) )\n",
    "    if (tmp1<tmp2):\n",
    "#         print(tmp1)\n",
    "        Cluster_Gini_act.append(tmp2)\n",
    "    else:\n",
    "        Cluster_Gini_act.append(1000000-tmp1)\n",
    "        \n",
    "indexs = np.argsort(Cluster_Gini_act)\n",
    "indexs = indexs[::-1]\n",
    "# print(indexs)\n",
    "APFD,wrong_number,wrong_index = get_APFD(Gini_indexs=indexs, ground_truth_label=np.array(ground_truth_label), \n",
    "                predicted_confidence=np.array(predicted_confidence), top_set=top_set)\n",
    "print(\"APFD: \", APFD, wrong_number)\n",
    "RAUC,_,_ = get_RAUC(Gini_indexs=indexs, ground_truth_label=np.array(ground_truth_label), \n",
    "                predicted_confidence=np.array(predicted_confidence), top_set=top_set)\n",
    "print(\"RAUC: \", RAUC)"
   ]
  },
  {
   "cell_type": "code",
   "execution_count": 590,
   "id": "799cd896",
   "metadata": {},
   "outputs": [
    {
     "data": {
      "text/plain": [
       "(250,)"
      ]
     },
     "execution_count": 590,
     "metadata": {},
     "output_type": "execute_result"
    }
   ],
   "source": [
    "np.shape(ground_truth_cluster)"
   ]
  },
  {
   "cell_type": "code",
   "execution_count": 649,
   "id": "128ddae5",
   "metadata": {},
   "outputs": [
    {
     "data": {
      "image/png": "[encoded data removed]",
      "text/plain": [
       "<Figure size 432x288 with 1 Axes>"
      ]
     },
     "metadata": {
      "needs_background": "light"
     },
     "output_type": "display_data"
    }
   ],
   "source": [
    "import matplotlib.pyplot as plt\n",
    "from sklearn.datasets import make_blobs\n",
    "from sklearn.cluster import KMeans,AffinityPropagation, SpectralClustering\n",
    "\n",
    "# 读取数据\n",
    "data = np.array(Gini_act)\n",
    "# 聚类数量\n",
    "k = 2\n",
    "# 训练模型\n",
    "\n",
    "# model = AffinityPropagation(damping=0.5, max_iter=500, convergence_iter=30,\n",
    "#                          preference=-50).fit(data)\n",
    "# centers = model.cluster_centers_\n",
    "# result = model.labels_\n",
    "\n",
    "# model = SpectralClustering(gamma=0.1, n_clusters=2)\n",
    "# model.fit_predict(data)\n",
    "# # centers = model.cluster_centers_\n",
    "# result = model.labels_\n",
    "\n",
    "\n",
    "model = KMeans(n_clusters=k)\n",
    "model.fit(data)\n",
    "# 分类中心点坐标\n",
    "centers = model.cluster_centers_\n",
    "# 预测结果\n",
    "result = model.predict(data)\n",
    "\n",
    "\n",
    "# 用不同的颜色绘制数据点\n",
    "mark = ['or', 'og']\n",
    "for i, d in enumerate(data):\n",
    "    plt.plot(d[0], d[1], mark[ground_truth_cluster[i]])\n",
    "# 画出各个分类的中心点\n",
    "mark = ['*r', '*g']\n",
    "for i, center in enumerate(centers):\n",
    "    plt.plot(center[0], center[1], mark[i], markersize=20)\n",
    "\n",
    "# # 绘制簇的作用域\n",
    "# # 获取数据值所在的范围\n",
    "# x_min, x_max = data[:, 0].min() - 1, data[:, 0].max() + 1\n",
    "# y_min, y_max = data[:, 1].min() - 1, data[:, 1].max() + 1\n",
    "\n",
    "# # 生成网格矩阵\n",
    "# xx, yy = np.meshgrid(np.arange(x_min, x_max, 0.02), np.arange(y_min, y_max, 0.02))\n",
    "# z = model.predict(np.c_[xx.ravel(), yy.ravel()])\n",
    "# z = z.reshape(xx.shape)\n",
    "# cs = plt.contourf(xx, yy, z)\n",
    "# plt.show()"
   ]
  },
  {
   "cell_type": "code",
   "execution_count": 475,
   "id": "3bcad01a",
   "metadata": {},
   "outputs": [],
   "source": [
    "# centers = model.cluster_centers_\n",
    "result = model.labels_"
   ]
  },
  {
   "cell_type": "code",
   "execution_count": null,
   "id": "ddb4afd8",
   "metadata": {},
   "outputs": [],
   "source": [
    "SpectralClustering().fit_predict"
   ]
  },
  {
   "cell_type": "code",
   "execution_count": null,
   "id": "c75e62d0",
   "metadata": {},
   "outputs": [],
   "source": [
    "SpectralClustering().fit"
   ]
  },
  {
   "cell_type": "code",
   "execution_count": 428,
   "id": "b2f1b141",
   "metadata": {},
   "outputs": [
    {
     "name": "stdout",
     "output_type": "stream",
     "text": [
      "[0 1 0 0 1 0 1 0 0 1 1 1 1 0 0 1 1 1 1 1 0 0 0 1 0 0 1 0 0 0 1 1 0 0 1 1 0\n",
      " 0 0 0 1 0 1 1 1 0 1 1 0 0 0 1 1 1 1 0 0 0 0 0 0 0 1 1 0 1 1 0 0 0 0 1 1 1\n",
      " 1 0 0 1 0 1 0 1 0 0 0 0 1 0 0 0 0 0 1 0 1 0 1 1 0 0 0 0 0 0 0 0 0 0 0 0 0\n",
      " 0 0 0 0 1 0 0 0 0 0 1 0 0 0 0 1 0 1 1 1 0 1 0 1 0 0 0 0 0 0 0 1 1 0 0 0 0\n",
      " 0 0 0 1 1 1 0 0 1 0 0 0 0 0 1 0 0 0 0 0 1 0 0 1 1 1 0 0 0 0 1 0 0 1 1 0 0\n",
      " 1 0 0 0 0 0 0 0 1 1 1 0 1 0 0 1 0 0 0 1 1 0 0 0 0 1 0 1 0 1 0 1 1 0 0 1 1\n",
      " 0 0 1 0 0 1 0 0 1 0 1 0 0 1 0 0 0 1 0 0 1 0 0 1 1 0 0 0]\n"
     ]
    }
   ],
   "source": [
    "print(1-result)"
   ]
  },
  {
   "cell_type": "code",
   "execution_count": 591,
   "id": "bab86595",
   "metadata": {},
   "outputs": [
    {
     "name": "stdout",
     "output_type": "stream",
     "text": [
      "[1 1 1 1 0 1 0 1 1 0 0 0 0 0 0 0 1 1 0 0 0 1 0 0 0 1 0 1 0 1 0 0 1 1 0 0 1\n",
      " 0 1 1 1 0 0 0 0 1 0 0 1 1 0 0 0 0 1 0 1 0 1 0 1 1 0 0 1 0 0 0 0 1 1 0 0 0\n",
      " 0 0 0 0 0 0 0 0 0 1 1 0 1 1 0 0 0 0 0 1 0 0 0 0 0 0 0 1 0 0 0 1 0 1 0 1 0\n",
      " 1 0 1 0 0 0 0 1 0 1 0 0 1 1 0 0 1 0 0 0 1 0 1 0 1 1 0 0 1 0 0 0 0 0 0 1 0\n",
      " 0 1 0 0 0 0 0 1 0 0 0 0 1 1 0 0 0 0 0 0 0 0 0 0 0 0 0 1 0 1 0 1 1 0 0 1 0\n",
      " 0 0 0 0 0 1 0 1 0 0 0 1 0 0 0 0 1 0 1 1 0 1 0 0 1 0 0 0 1 0 0 0 0 0 0 0 0\n",
      " 0 0 0 1 0 1 1 0 0 1 0 0 0 1 0 1 1 1 0 1 0 1 1 0 0 0 0 1 0 1 1 1 1 0 1 0 0\n",
      " 1 1 0 0 0 1 0 1 0 1 1 0 0 0 0 1 0 1 0 1 0 0 0 0 0 1 1 0 0 0 1 0 1 1 0 1 1\n",
      " 1 0 0 0 1 0 1 0 0 1 0 0 0 1 1 1 0 0 1 0 0 0 0 1 0 0 0 0 0 0 1 0 0 0 1 0 0\n",
      " 1 1 0 1 0 1 0 0 0 0 0 1 1 0 0 0 0 1 0 0 0 0 0 0 1 0 1 0 0 0 0 1 0 0 0 0 0\n",
      " 0 1 0 0 1 0 1 1 1 1 0 0 0 0 1 0 1 0 1 0 0 0 0 0 0 0 0 1 0 0 0 1 0 0 0 0 0\n",
      " 1 0 0 0 0 1 0 0 0 0 0 0 0 0 0 0 0 0 1 1 0 0 0 0 1 1 0 0 0 1 0 0 0 0 1 0 0\n",
      " 0 0 0 0 1 1 1 0 0 0 0 1 1 0 1 0 1 0 0 0 1 0 0 1 1 0 0 0 1 0 0 0 0 0 0 0 0\n",
      " 0 0 1 0 0 0 0 0 0 0 1 0 0 0 1 0 0 0 0 0 0 1 0 0 0 0 0 1 1 0 0 1 1 1 1 1 1\n",
      " 1 0 0 0 0 1 0 1 1 1 0 1 1 0 0 0 0 0 0 0 1 0 1 0 1 0 0 1 0 0 1 0 0 0 0 1 1\n",
      " 0 1 1 0 0 1 1 0 1 1 1 0 1 0 0 0 1 0 0 0 0 0 0 0 1 1 1 0 1 1 0 1 1 1 0 0 0\n",
      " 0 1 0 1 1 1 0 1 0 0 1 0 1 1 0 1 0 0 1 1 0 1 0 0 0 0 1 0 1 0 0 0 0 0 1 0 1\n",
      " 0 0 1 1 0 1 0 0 0 0 0 0 1 1 1 0 1 0 0 0 0 0 1 0 1 0 0 0 0 1 1 1 0 1 1 0 1\n",
      " 1 0 1 1 1 0 0 0 0 0 1 1 0 1 0 0 1 1 0 0 1 0 0 0 0 0 0 0 0 1 0 0 1 0 1 0 0\n",
      " 1 0 0 1 0 0 0 0 1 0 0 1 0 1 0 0 0 1 0 1 1 0 0 1 0 1 1 0 0 0 1 0 0 0 1 0 0\n",
      " 0 0 1 0 1 0 0 0 1 1 1 0 0 0 0 1 1 1 1 1 0 1 0 1 0 0 0 1 0 0 0 0 0 1 0 1 0\n",
      " 0 0 0 0 1 1 0 1 0 0 0 0 0 1 0 0 0 0 1 0 0 1 1 1 1 1 1 0 0 0 1 0 0 0 0 1 0\n",
      " 1 1 0 1 0 0 0 0 1 1 0 1 1 1 0 0 0 0 0 0 0 1 0 1 0 1 1 0 1 0 1 1 0 1 0 0 0\n",
      " 0 0 1 1 1 0 1 0 0 0 1 0 0 0 0 0 0 1 1 0 0 1 1 1 0 0 0 0 0 0 0 0 0 0 0 1 0\n",
      " 0 0 0 0 0 1 0 0 1 0 1 0 1 0 0 0 0 0 0 0 1 0 1 1 0 1 0 0 1 1 0 0 1 0 1 0 1\n",
      " 1 1 0 1 0 0 0 1 0 0 0 1 1 0 0 0 1 0 0 0 1 1 1 1 0 0 0 1 1 1 0 1 1 0 0 0 0\n",
      " 0 0 0 1 1 0 1 0 1 0 0 0 0 0 1 1 1 1 0 1 0 0 0 0 0 0 0 0 0 0 0 0 0 0 1 1 1\n",
      " 1]\n"
     ]
    }
   ],
   "source": [
    "ground_truth_cluster = np.zeros([len(result)], dtype=np.int32)\n",
    "ground_truth_cluster[wrong_index]=1\n",
    "print(ground_truth_cluster)"
   ]
  },
  {
   "cell_type": "code",
   "execution_count": 694,
   "id": "8e96da7e",
   "metadata": {},
   "outputs": [
    {
     "data": {
      "text/plain": [
       "0.6524837034965916"
      ]
     },
     "execution_count": 694,
     "metadata": {},
     "output_type": "execute_result"
    }
   ],
   "source": [
    "# print(np.sum(ground_truth_cluster&clf.predict(data)))\n",
    "# print(np.sum(ground_truth_cluster & (1-result)), np.sum(ground_truth_cluster), np.sum(1-result))\n",
    "\n",
    "clf.predict_proba(data[0].reshape(-1, 16))[0][1]\n",
    "# SVM_Gini_act"
   ]
  },
  {
   "cell_type": "code",
   "execution_count": 688,
   "id": "455558ad",
   "metadata": {},
   "outputs": [],
   "source": [
    "svm.SVC?"
   ]
  },
  {
   "cell_type": "code",
   "execution_count": 710,
   "id": "819685a1",
   "metadata": {},
   "outputs": [
    {
     "name": "stdout",
     "output_type": "stream",
     "text": [
      "Support Vector：\n",
      " [201 196]\n",
      "Score： 0.7833333333333333\n"
     ]
    }
   ],
   "source": [
    "from sklearn import datasets\n",
    "from sklearn import model_selection\n",
    "from sklearn import svm\n",
    "# 加载数据集\n",
    "cancer = datasets.load_breast_cancer()\n",
    "X = data  # 样本\n",
    "y = ground_truth_cluster  # 类别\n",
    "# 划分数据集\n",
    "X_trainer, X_test, Y_trainer, Y_test = model_selection.train_test_split(data, ground_truth_cluster, test_size=0.3)\n",
    "# 分类器\n",
    "# kernel : {'linear', 'poly', 'rbf', 'sigmoid', 'precomputed'}, default='rbf'\n",
    "clf = svm.SVC(kernel=\"rbf\", probability=True)   # 参数kernel为线性核函数\n",
    "clf.fit(X_trainer, Y_trainer)  # 训练分类器\n",
    "print(\"Support Vector：\\n\", clf.n_support_)  # 每一类中属于支持向量的点数目\n",
    "# print(\"Predict：\\n\", clf.predict(X_test))  # 对测试集的预测结果\n",
    "score = clf.score(X_test, Y_test)  # 模型得分\n",
    "print(\"Score：\", score)\n"
   ]
  },
  {
   "cell_type": "code",
   "execution_count": 711,
   "id": "0a5e4f68",
   "metadata": {},
   "outputs": [
    {
     "name": "stderr",
     "output_type": "stream",
     "text": [
      "100% |########################################################################|\n",
      "100% |########################################################################|\r"
     ]
    },
    {
     "name": "stdout",
     "output_type": "stream",
     "text": [
      "APFD:  0.7262464387464387 351\n",
      "RAUC:  0.8796926530259863\n"
     ]
    },
    {
     "name": "stderr",
     "output_type": "stream",
     "text": [
      "\n"
     ]
    }
   ],
   "source": [
    "SVM_Gini_act = []\n",
    "for data1 in data:\n",
    "    SVM_Gini_act.append(  clf.predict_proba(data1.reshape(-1, 16))[0][1]  )\n",
    "\n",
    "indexs = np.argsort(SVM_Gini_act)\n",
    "indexs = indexs[::-1]\n",
    "# print(indexs)\n",
    "APFD,wrong_number,wrong_index = get_APFD(Gini_indexs=indexs, ground_truth_label=np.array(ground_truth_label), \n",
    "                predicted_confidence=np.array(predicted_confidence), top_set=top_set)\n",
    "print(\"APFD: \", APFD, wrong_number)\n",
    "RAUC,_,_ = get_RAUC(Gini_indexs=indexs, ground_truth_label=np.array(ground_truth_label), \n",
    "                predicted_confidence=np.array(predicted_confidence), top_set=top_set)\n",
    "print(\"RAUC: \", RAUC)\n"
   ]
  },
  {
   "cell_type": "code",
   "execution_count": 659,
   "id": "47ec0ca9",
   "metadata": {},
   "outputs": [
    {
     "data": {
      "text/plain": [
       "293"
      ]
     },
     "execution_count": 659,
     "metadata": {},
     "output_type": "execute_result"
    }
   ],
   "source": []
  },
  {
   "cell_type": "code",
   "execution_count": 664,
   "id": "fa4ced1e",
   "metadata": {},
   "outputs": [],
   "source": [
    "clf?"
   ]
  },
  {
   "cell_type": "code",
   "execution_count": null,
   "id": "7f3ed4fb",
   "metadata": {},
   "outputs": [],
   "source": []
  },
  {
   "cell_type": "code",
   "execution_count": null,
   "id": "62af5331",
   "metadata": {},
   "outputs": [],
   "source": []
  },
  {
   "cell_type": "code",
   "execution_count": 253,
   "id": "718df43b",
   "metadata": {},
   "outputs": [],
   "source": [
    "import keras\n",
    "def get_loss_gradients(img_input, model, target_one_hot, from_logits=False):\n",
    "    images = tf.cast(img_input, tf.float32)\n",
    "    cce = tf.keras.losses.CategoricalCrossentropy(from_logits=from_logits)\n",
    "    with tf.GradientTape() as tape:\n",
    "        tape.watch(images)\n",
    "        preds = model(images)\n",
    "        loss = cce(target_one_hot, preds)\n",
    "#         top_class = preds[:, top_pred_idx]\n",
    "\n",
    "    grads = tape.gradient(loss, images)\n",
    "    return grads\n",
    "\n",
    "# def get_loss_gradients_Layer(img_input, hidden_layer_input, model, target_one_hot, layer_name = None):\n",
    "#     images = tf.cast(img_input, tf.float32)\n",
    "#     hidden_layer_input = tf.cast(hidden_layer, tf.float32)\n",
    "#     cce = tf.keras.losses.CategoricalCrossentropy()\n",
    "#     if layer_name is not None:\n",
    "# #         model_layer = Model(inputs=model.input, outputs=model.get_layer(layer_name).output)\n",
    "#         with tf.GradientTape() as tape:\n",
    "#             tape.watch(hidden_layer_input)\n",
    "#             preds = model(images)\n",
    "#             loss = cce(target_one_hot, preds)\n",
    "#     #         top_class = preds[:, top_pred_idx]\n",
    "#     else:\n",
    "#         with tf.GradientTape() as tape:\n",
    "#             tape.watch(images)\n",
    "#             preds = model(images)\n",
    "#             loss = cce(target_one_hot, preds)\n",
    "#     grads = tape.gradient(loss, images)\n",
    "#     return grads\n",
    "\n",
    "# def get_loss_gradients_Layer(img_input, hidden_layer_input, model, target_one_hot, layer_name = None):\n",
    "#     images = tf.cast(img_input, tf.float32)\n",
    "#     cce = tf.keras.losses.CategoricalCrossentropy()\n",
    "#     if layer_name is not None:\n",
    "#         model_layer = Model(inputs=hidden_layer_input, outputs=model.get_layer('fc2').output)\n",
    "#         hidden_layer = tf.cast(hidden_layer_input, tf.float32)\n",
    "#         with tf.GradientTape() as tape:\n",
    "#             tape.watch(hidden_layer)\n",
    "#             preds = model_layer(hidden_layer)\n",
    "#             print(np.shape(preds), np.sum(preds))\n",
    "#             loss = cce(target_one_hot, preds)\n",
    "#     #         top_class = preds[:, top_pred_idx]\n",
    "#     else:\n",
    "#         with tf.GradientTape() as tape:\n",
    "#             tape.watch(images)\n",
    "#             preds = model(images)\n",
    "#             loss = cce(target_one_hot, preds)\n",
    "#     grads = tape.gradient(loss, images)\n",
    "#     return grads\n"
   ]
  },
  {
   "cell_type": "code",
   "execution_count": null,
   "id": "e95fed18",
   "metadata": {},
   "outputs": [],
   "source": []
  },
  {
   "cell_type": "code",
   "execution_count": 24,
   "id": "8685734a",
   "metadata": {},
   "outputs": [
    {
     "name": "stderr",
     "output_type": "stream",
     "text": [
      "100% |########################################################################|\n"
     ]
    }
   ],
   "source": [
    "# 对中间隐层特征进行分级，计算基尼指数/信息熵\n",
    "from tensorflow.keras import backend as BE\n",
    "\n",
    "num_class = 100\n",
    "# img_num = range(0,10)\n",
    "model = Model(inputs=base_model.input, outputs=base_model.get_layer('fc2').output)\n",
    "Gini_act=[]\n",
    "# ground_truth_label = []\n",
    "# predicted_confidence = []\n",
    "pbar = ProgressBar()\n",
    "for i in pbar(img_num):\n",
    "    img_path = DATA_PATH + file_name[i]\n",
    "    img = image.load_img(img_path, target_size=(224, 224))\n",
    "    x_tmp = image.img_to_array(img)\n",
    "    x_tmp = np.expand_dims(x_tmp, axis=0)\n",
    "    x_tmp = preprocess_input(x_tmp)\n",
    "    \n",
    "    #  使用分组机制\n",
    "#     x_act = softmax(model.predict(np.reshape(x_tmp, [-1,224,224,3])))\n",
    "    x_act = model.predict(np.reshape(x_tmp, [-1,224,224,3]))\n",
    "    mu = np.average(x_act[0])\n",
    "    sigma = np.std(x_act[0])\n",
    "    x_act[0] = (x_act[0] - mu) / sigma\n",
    "    \n",
    "    # attention机制\n",
    "    att1 = np.dot(np.transpose(x_act), x_act)\n",
    "    att_weight = np.mean(att1, axis = 0).reshape(np.shape(x_act))\n",
    "    x_act = x_act*att_weight\n",
    "\n",
    "    x_act_sorted = np.sort(x_act[0])[::-1]  # 对x_act进行从大到小排序\n",
    "    group1 = int(np.shape(x_act)[1]/num_class)\n",
    "    if group1<1:\n",
    "        break\n",
    "    vect1 = np.zeros((1, num_class))\n",
    "    x_act_sorted = np.sort(x_act[0])[::-1]\n",
    "    for j in range(0, num_class-1):\n",
    "        vect1[0][j] = np.sum(x_act_sorted[j*group1:(j+1)*group1])\n",
    "    vect1[0][-1] = np.sum(x_act_sorted[num_class*group1:-1])\n",
    "\n",
    "    Gini_tmp = 1-np.sum(vect1*vect1)  # 基于基尼指数\n",
    "#     Gini_tmp = -np.sum(x_act*np.log(x_act))  # 基于信息熵\n",
    "    Gini_act.append(Gini_tmp)"
   ]
  },
  {
   "cell_type": "code",
   "execution_count": null,
   "id": "887003ac",
   "metadata": {},
   "outputs": [],
   "source": []
  },
  {
   "cell_type": "code",
   "execution_count": 26,
   "id": "af6c6e9b",
   "metadata": {},
   "outputs": [
    {
     "data": {
      "text/plain": [
       "range(0, 100)"
      ]
     },
     "execution_count": 26,
     "metadata": {},
     "output_type": "execute_result"
    }
   ],
   "source": [
    "img_num"
   ]
  },
  {
   "cell_type": "code",
   "execution_count": 25,
   "id": "d95ed4aa",
   "metadata": {},
   "outputs": [
    {
     "name": "stderr",
     "output_type": "stream",
     "text": [
      "Clipping input data to the valid range for imshow with RGB data ([0..1] for floats or [0..255] for integers).\n"
     ]
    },
    {
     "data": {
      "text/plain": [
       "<matplotlib.image.AxesImage at 0x7fac00030f60>"
      ]
     },
     "execution_count": 25,
     "metadata": {},
     "output_type": "execute_result"
    },
    {
     "data": {
      "image/png": "[encoded data removed]",
      "text/plain": [
       "<Figure size 432x288 with 1 Axes>"
      ]
     },
     "metadata": {
      "needs_background": "light"
     },
     "output_type": "display_data"
    }
   ],
   "source": [
    "import matplotlib.pyplot as plt\n",
    "\n",
    "plt.figure()\n",
    "plt.subplot(121)\n",
    "plt.imshow(grads[0])\n",
    "# plt.subplot(122)\n",
    "# plt.imshow(igrads)"
   ]
  },
  {
   "cell_type": "code",
   "execution_count": null,
   "id": "141170bd",
   "metadata": {},
   "outputs": [],
   "source": []
  },
  {
   "cell_type": "code",
   "execution_count": 358,
   "id": "69ab7ff7",
   "metadata": {},
   "outputs": [
    {
     "name": "stderr",
     "output_type": "stream",
     "text": [
      "100% |########################################################################|\r"
     ]
    },
    {
     "name": "stdout",
     "output_type": "stream",
     "text": [
      "APFD:  0.48671428571428577\n"
     ]
    },
    {
     "name": "stderr",
     "output_type": "stream",
     "text": [
      "\n"
     ]
    }
   ],
   "source": [
    "# indexs = np.argsort(Gini_act)\n",
    "# indexs = indexs[::-1]\n",
    "# APFD,_,_ = get_APFD(Gini_indexs=indexs, ground_truth_label=np.array(ground_truth_label), \n",
    "#                 predicted_confidence=np.array(predicted_confidence), top_set=top_set)\n",
    "# print(\"APFD: \", APFD)\n",
    "# # o_i = 0\n",
    "# # pbar = ProgressBar()\n",
    "# # for i in pbar(range(0, index1)):\n",
    "# # # for i in range(0, index1):\n",
    "# #     img_path = DATA_PATH + file_name[indexs[i]]\n",
    "# #     img = image.load_img(img_path, target_size=(224, 224))\n",
    "# #     x_tmp = image.img_to_array(img)\n",
    "# #     x_tmp = np.expand_dims(x_tmp, axis=0)\n",
    "# #     x_tmp = preprocess_input(x_tmp)\n",
    "# #     pre_tmp = base_model.predict(np.reshape(x_tmp, [-1,224,224,3]))\n",
    "# #     if not get_acc(predict_label=decode_predictions(pre_tmp, top=top_set), ground_truth=WNID[val_ground_truth[indexs[i]]-1]):\n",
    "# #         o_i = o_i+i\n",
    "# # #         print(i,o_i)\n",
    "# # APFD = 1-o_i/(index1*(index1-index2))+1/(2*index1)\n",
    "# # print(\"APFD: \", APFD)"
   ]
  },
  {
   "cell_type": "code",
   "execution_count": null,
   "id": "f71ae444",
   "metadata": {},
   "outputs": [],
   "source": []
  },
  {
   "cell_type": "code",
   "execution_count": 39,
   "id": "5d156d70",
   "metadata": {},
   "outputs": [
    {
     "data": {
      "text/plain": [
       "300"
      ]
     },
     "execution_count": 39,
     "metadata": {},
     "output_type": "execute_result"
    }
   ],
   "source": [
    "# # 前200个样本\n",
    "# APFD:  0.9518749999999999 # 未使用attention机制，fc2层特征，基于基尼指数\n",
    "# APFD:  0.9358593749999999    # 未使用attention机制，fc2层特征，基于信息熵\n",
    "# APFD:  0.943359375   # 使用attention机制，fc2层特征，基于基尼指数\n",
    "# APFD:  0.9811718749999999 # 使用attention机制，fc2层特征，基于信息熵\n",
    "# # 前10000个样本\n",
    "# APFD:  0.961101140629512    # 使用attention机制，fc2层特征，基于信息熵"
   ]
  },
  {
   "cell_type": "code",
   "execution_count": 360,
   "id": "a81cba0e",
   "metadata": {},
   "outputs": [
    {
     "name": "stderr",
     "output_type": "stream",
     "text": [
      "100% |########################################################################|\r"
     ]
    },
    {
     "name": "stdout",
     "output_type": "stream",
     "text": [
      "RAUC:  0.5803786574870913\n"
     ]
    },
    {
     "name": "stderr",
     "output_type": "stream",
     "text": [
      "\n"
     ]
    }
   ],
   "source": [
    "# # 计算RAUC指标\n",
    "# RAUC,_,_ = get_RAUC(Gini_indexs=indexs, ground_truth_label=np.array(ground_truth_label), \n",
    "#                 predicted_confidence=np.array(predicted_confidence), top_set=top_set)\n",
    "# print(\"RAUC: \", RAUC)\n",
    "\n",
    "# # true_y_axis = []\n",
    "# # pre_y_axis = []\n",
    "# # o_i = 0\n",
    "# # pbar = ProgressBar()\n",
    "# # for i in pbar(range(0, index1)):\n",
    "# #     img_path = DATA_PATH + file_name[indexs[i]]\n",
    "# #     img = image.load_img(img_path, target_size=(224, 224))\n",
    "# #     x_tmp = image.img_to_array(img)\n",
    "# #     x_tmp = np.expand_dims(x_tmp, axis=0)\n",
    "# #     x_tmp = preprocess_input(x_tmp)\n",
    "# #     pre_tmp = base_model.predict(np.reshape(x_tmp, [-1,224,224,3]))\n",
    "# #     if not get_acc(predict_label=decode_predictions(pre_tmp, top=top_set), ground_truth=WNID[val_ground_truth[indexs[i]]-1]):\n",
    "# #         o_i = o_i+1\n",
    "# #         pre_y_axis.append(o_i)\n",
    "# #     else:\n",
    "# #         pre_y_axis.append(o_i)\n",
    "# #     if i < index1-index2:\n",
    "# #         true_y_axis.append(i+1)\n",
    "# #     else:\n",
    "# #         true_y_axis.append(index1-index2)\n",
    "            \n",
    "# # RAUC = np.sum(pre_y_axis)/np.sum(true_y_axis)\n",
    "# # print(\"RAUC: \", RAUC)"
   ]
  },
  {
   "cell_type": "code",
   "execution_count": 107,
   "id": "0eabd1f4",
   "metadata": {},
   "outputs": [
    {
     "data": {
      "text/plain": [
       "'n01751748'"
      ]
     },
     "execution_count": 107,
     "metadata": {},
     "output_type": "execute_result"
    }
   ],
   "source": [
    "WNID[val_ground_truth[indexs[i]]-1]"
   ]
  },
  {
   "cell_type": "code",
   "execution_count": 108,
   "id": "5d0b6e84",
   "metadata": {},
   "outputs": [],
   "source": [
    "decode_predictions?"
   ]
  },
  {
   "cell_type": "code",
   "execution_count": 109,
   "id": "a8bfd69b",
   "metadata": {},
   "outputs": [],
   "source": [
    "\n"
   ]
  },
  {
   "cell_type": "code",
   "execution_count": 125,
   "id": "3053037f",
   "metadata": {},
   "outputs": [
    {
     "name": "stdout",
     "output_type": "stream",
     "text": [
      "394\n"
     ]
    }
   ],
   "source": []
  },
  {
   "cell_type": "code",
   "execution_count": 126,
   "id": "8dde85cf",
   "metadata": {},
   "outputs": [
    {
     "data": {
      "text/plain": [
       "'n02640242'"
      ]
     },
     "execution_count": 126,
     "metadata": {},
     "output_type": "execute_result"
    }
   ],
   "source": []
  },
  {
   "cell_type": "code",
   "execution_count": null,
   "id": "51237732",
   "metadata": {},
   "outputs": [],
   "source": [
    "n02640242"
   ]
  }
 ],
 "metadata": {
  "kernelspec": {
   "display_name": "Python 3",
   "language": "python",
   "name": "python3"
  },
  "language_info": {
   "codemirror_mode": {
    "name": "ipython",
    "version": 3
   },
   "file_extension": ".py",
   "mimetype": "text/x-python",
   "name": "python",
   "nbconvert_exporter": "python",
   "pygments_lexer": "ipython3",
   "version": "3.6.13"
  }
 },
 "nbformat": 4,
 "nbformat_minor": 5
}
