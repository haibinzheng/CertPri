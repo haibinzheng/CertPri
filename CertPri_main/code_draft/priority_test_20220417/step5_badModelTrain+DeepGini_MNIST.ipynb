{
 "cells": [
  {
   "cell_type": "code",
   "execution_count": 12,
   "id": "90b61167",
   "metadata": {},
   "outputs": [],
   "source": [
    "import numpy as np\n",
    "\n",
    "DATA_PATH = \"/public/liujiawei/huawei/ZHB/ADF-master/mnist/\"\n",
    "X_train = np.load(DATA_PATH+\"mnist_train.npy\")\n",
    "Y_train = np.load(DATA_PATH+\"mnist_train_label.npy\")\n",
    "X_test = np.load(DATA_PATH+\"mnist_test.npy\")\n",
    "Y_test = np.load(DATA_PATH+\"mnist_test_label.npy\")"
   ]
  },
  {
   "cell_type": "code",
   "execution_count": 13,
   "id": "3a62ca22",
   "metadata": {},
   "outputs": [],
   "source": [
    "from tensorflow.keras.layers import Dense\n",
    "from tensorflow.keras.models import Sequential,load_model\n",
    "from tensorflow.keras.utils import to_categorical\n",
    "from sklearn.preprocessing import StandardScaler"
   ]
  },
  {
   "cell_type": "code",
   "execution_count": 14,
   "id": "bc88dd0d",
   "metadata": {},
   "outputs": [
    {
     "name": "stdout",
     "output_type": "stream",
     "text": [
      "Train on 60000 samples\n",
      "60000/60000 [==============================] - 1s 16us/sample - loss: 1.4401 - acc: 0.6664\n"
     ]
    }
   ],
   "source": [
    "input_shape = 28*28\n",
    "\n",
    "model = Sequential()\n",
    "model.add(Dense(input_shape=(input_shape,), units=input_shape, activation='relu'))\n",
    "# model.add(Dense(units=128, activation='relu'))\n",
    "model.add(Dense(units=64, activation='relu'))\n",
    "model.add(Dense(units=10, activation='softmax'))\n",
    "# model.compile(optimizer='adam', loss='categorical_crossentropy', metrics=['accuracy'])\n",
    "model.compile(optimizer='sgd', loss='categorical_crossentropy', metrics=['accuracy'])\n",
    "\n",
    "model.fit(X_train, Y_train,epochs=1,batch_size=256)\n",
    "\n",
    "MODEL_PATH = \"/public/liujiawei/huawei/ZHB/ADF-master/models/\"\n",
    "model.save(MODEL_PATH+\"mnist_FC4_bad.h5\")\n",
    "\n",
    "del model"
   ]
  },
  {
   "cell_type": "code",
   "execution_count": 15,
   "id": "85833ebe",
   "metadata": {},
   "outputs": [],
   "source": [
    "MODEL_PATH = \"/public/liujiawei/huawei/ZHB/ADF-master/models/\"\n",
    "model = load_model(MODEL_PATH+\"mnist_FC4_bad.h5\")"
   ]
  },
  {
   "cell_type": "code",
   "execution_count": 16,
   "id": "c65d88ba",
   "metadata": {},
   "outputs": [
    {
     "name": "stdout",
     "output_type": "stream",
     "text": [
      "10000/10000 [==============================] - 0s 19us/sample - loss: 0.7901 - acc: 0.8420\n",
      "accuracy 0.842\n"
     ]
    }
   ],
   "source": [
    "loss_acc = model.evaluate(X_test, Y_test, batch_size=128)\n",
    "print('accuracy', loss_acc[-1])"
   ]
  },
  {
   "cell_type": "code",
   "execution_count": 17,
   "id": "9252c53b",
   "metadata": {},
   "outputs": [],
   "source": [
    "Gini = []\n",
    "index1 = 0\n",
    "index2 = 0\n",
    "for x_tmp in X_test:\n",
    "    per_tmp = model.predict(x_tmp.reshape([-1,28*28]))\n",
    "    label_tmp = np.argmax(per_tmp)\n",
    "    if label_tmp == np.argmax(Y_test[index1]):\n",
    "        index2 = index2 +1\n",
    "    index1 = index1 + 1\n",
    "    Gini_tmp = 1-np.sum(per_tmp*per_tmp)\n",
    "    Gini.append(Gini_tmp)"
   ]
  },
  {
   "cell_type": "code",
   "execution_count": 18,
   "id": "029ebacd",
   "metadata": {},
   "outputs": [
    {
     "name": "stdout",
     "output_type": "stream",
     "text": [
      "test number: 10000 \t misclassified number: 1580\n"
     ]
    }
   ],
   "source": [
    "print('test number:', index1, '\\t misclassified number:', index1-index2)"
   ]
  },
  {
   "cell_type": "code",
   "execution_count": 19,
   "id": "a019ead5",
   "metadata": {},
   "outputs": [],
   "source": [
    "indexs = np.argsort(Gini)\n",
    "indexs = indexs[::-1]"
   ]
  },
  {
   "cell_type": "code",
   "execution_count": 20,
   "id": "7497d0c1",
   "metadata": {},
   "outputs": [
    {
     "name": "stdout",
     "output_type": "stream",
     "text": [
      "0.9658267721518987\n"
     ]
    }
   ],
   "source": [
    "o_i = 0\n",
    "for i in range(0, (index1-index2)):\n",
    "    x_tmp = X_test[indexs[i]].reshape([-1,28*28])\n",
    "    y_tmp = Y_test[indexs[i]]\n",
    "    per_tmp = model.predict(x_tmp)\n",
    "    if np.argmax(y_tmp)!=np.argmax(per_tmp):\n",
    "        o_i = o_i+i\n",
    "APFD = 1-o_i/(index1*(index1-index2))+1/(2*index1)\n",
    "print(APFD)"
   ]
  },
  {
   "cell_type": "code",
   "execution_count": 31,
   "id": "43982d16",
   "metadata": {},
   "outputs": [],
   "source": [
    "def softmax( f ):\n",
    "    # instead: first shift the values of f so that the highest number is 0:\n",
    "    f -= np.max(f) # f becomes [-666, -333, 0]\n",
    "    return np.exp(f) / np.sum(np.exp(f))  # safe to do, gives the correct answer\n",
    "    \n",
    "from tensorflow.keras import backend as BE\n",
    "import tensorflow as tf\n",
    "\n",
    "get_activations = BE.function(inputs=model.inputs[0], outputs=model.layers[-3].output[:,:])\n",
    "\n",
    "Gini_act = []\n",
    "for x_tmp in X_test:\n",
    "    x_act = get_activations(x_tmp.reshape([-1,28*28]))\n",
    "    Gini_tmp = 1-np.sum(x_act*x_act)\n",
    "    Gini_act.append(Gini_tmp)\n"
   ]
  },
  {
   "cell_type": "code",
   "execution_count": 29,
   "id": "3854353e",
   "metadata": {},
   "outputs": [
    {
     "name": "stdout",
     "output_type": "stream",
     "text": [
      "0.9858898101265823\n"
     ]
    }
   ],
   "source": [
    "indexs = np.argsort(Gini_act)\n",
    "indexs = indexs[::-1]\n",
    "o_i = 0\n",
    "for i in range(0, (index1-index2)):\n",
    "    x_tmp = X_test[indexs[i]].reshape([-1,28*28])\n",
    "    y_tmp = Y_test[indexs[i]]\n",
    "    per_tmp = model.predict(x_tmp)\n",
    "    if np.argmax(y_tmp)!=np.argmax(per_tmp):\n",
    "        o_i = o_i+i\n",
    "APFD = 1-o_i/(index1*(index1-index2))+1/(2*index1)\n",
    "print(APFD)"
   ]
  },
  {
   "cell_type": "code",
   "execution_count": null,
   "id": "69ab7ff7",
   "metadata": {},
   "outputs": [],
   "source": [
    "0.9832627215189873 倒数第一层\n",
    "0.9858898101265823 倒数第二层"
   ]
  },
  {
   "cell_type": "code",
   "execution_count": null,
   "id": "5d156d70",
   "metadata": {},
   "outputs": [],
   "source": []
  }
 ],
 "metadata": {
  "kernelspec": {
   "display_name": "Python 3",
   "language": "python",
   "name": "python3"
  },
  "language_info": {
   "codemirror_mode": {
    "name": "ipython",
    "version": 3
   },
   "file_extension": ".py",
   "mimetype": "text/x-python",
   "name": "python",
   "nbconvert_exporter": "python",
   "pygments_lexer": "ipython3",
   "version": "3.6.13"
  }
 },
 "nbformat": 4,
 "nbformat_minor": 5
}
