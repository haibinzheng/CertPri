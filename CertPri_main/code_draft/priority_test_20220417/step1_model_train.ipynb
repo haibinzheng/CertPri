{
 "cells": [
  {
   "cell_type": "code",
   "execution_count": 1,
   "id": "90b61167",
   "metadata": {},
   "outputs": [],
   "source": [
    "import numpy as np\n",
    "\n",
    "DATA_PATH = \"/public/liujiawei/huawei/ZHB/ADF-master/mnist/\"\n",
    "X_train = np.load(DATA_PATH+\"mnist_train.npy\")\n",
    "Y_train = np.load(DATA_PATH+\"mnist_train_label.npy\")\n",
    "X_test = np.load(DATA_PATH+\"mnist_test.npy\")\n",
    "Y_test = np.load(DATA_PATH+\"mnist_test_label.npy\")"
   ]
  },
  {
   "cell_type": "code",
   "execution_count": 2,
   "id": "3a62ca22",
   "metadata": {},
   "outputs": [],
   "source": [
    "from tensorflow.keras.layers import Dense\n",
    "from tensorflow.keras.models import Sequential\n",
    "from tensorflow.keras.utils import to_categorical\n",
    "from sklearn.preprocessing import StandardScaler"
   ]
  },
  {
   "cell_type": "code",
   "execution_count": 3,
   "id": "bc88dd0d",
   "metadata": {},
   "outputs": [
    {
     "name": "stdout",
     "output_type": "stream",
     "text": [
      "WARNING:tensorflow:From /public/liujiawei/anaconda3/envs/HUAWEI/lib/python3.6/site-packages/tensorflow_core/python/ops/resource_variable_ops.py:1630: calling BaseResourceVariable.__init__ (from tensorflow.python.ops.resource_variable_ops) with constraint is deprecated and will be removed in a future version.\n",
      "Instructions for updating:\n",
      "If using Keras pass *_constraint arguments to layers.\n",
      "Train on 60000 samples\n",
      "Epoch 1/10\n",
      "60000/60000 [==============================] - 4s 65us/sample - loss: 0.2163 - acc: 0.9333\n",
      "Epoch 2/10\n",
      "60000/60000 [==============================] - 4s 63us/sample - loss: 0.0847 - acc: 0.9741\n",
      "Epoch 3/10\n",
      "60000/60000 [==============================] - 4s 61us/sample - loss: 0.0587 - acc: 0.9820\n",
      "Epoch 4/10\n",
      "60000/60000 [==============================] - 4s 62us/sample - loss: 0.0459 - acc: 0.9857\n",
      "Epoch 5/10\n",
      "60000/60000 [==============================] - 4s 62us/sample - loss: 0.0372 - acc: 0.9888\n",
      "Epoch 6/10\n",
      "60000/60000 [==============================] - 4s 61us/sample - loss: 0.0304 - acc: 0.9907\n",
      "Epoch 7/10\n",
      "60000/60000 [==============================] - 4s 63us/sample - loss: 0.0295 - acc: 0.9907\n",
      "Epoch 8/10\n",
      "60000/60000 [==============================] - 4s 61us/sample - loss: 0.0238 - acc: 0.9926\n",
      "Epoch 9/10\n",
      "60000/60000 [==============================] - 4s 61us/sample - loss: 0.0208 - acc: 0.9937\n",
      "Epoch 10/10\n",
      "60000/60000 [==============================] - 4s 62us/sample - loss: 0.0179 - acc: 0.9943\n"
     ]
    },
    {
     "data": {
      "text/plain": [
       "<tensorflow.python.keras.callbacks.History at 0x7f34b851ba20>"
      ]
     },
     "execution_count": 3,
     "metadata": {},
     "output_type": "execute_result"
    }
   ],
   "source": [
    "input_shape = 28*28\n",
    "\n",
    "model = Sequential()\n",
    "model.add(Dense(input_shape=(input_shape,), units=input_shape, activation='relu'))\n",
    "model.add(Dense(units=512, activation='relu'))\n",
    "model.add(Dense(units=1024, activation='relu'))\n",
    "model.add(Dense(units=64, activation='relu'))\n",
    "model.add(Dense(units=10, activation='softmax'))\n",
    "model.compile(optimizer='adam', loss='categorical_crossentropy', metrics=['accuracy'])\n",
    "\n",
    "model.fit(X_train, Y_train,epochs=10,batch_size=128)"
   ]
  },
  {
   "cell_type": "code",
   "execution_count": 4,
   "id": "85833ebe",
   "metadata": {},
   "outputs": [],
   "source": [
    "MODEL_PATH = \"/public/liujiawei/huawei/ZHB/ADF-master/models/\"\n",
    "model.save(MODEL_PATH+\"mnist_FC4.h5\")"
   ]
  },
  {
   "cell_type": "code",
   "execution_count": null,
   "id": "3e25ddcf",
   "metadata": {},
   "outputs": [],
   "source": []
  },
  {
   "cell_type": "code",
   "execution_count": 5,
   "id": "d784f5bb",
   "metadata": {},
   "outputs": [
    {
     "name": "stdout",
     "output_type": "stream",
     "text": [
      "10000/10000 [==============================] - 0s 27us/sample - loss: 0.0813 - acc: 0.9827\n",
      "(2,) 0.9827\n"
     ]
    }
   ],
   "source": [
    "loss_acc = model.evaluate(X_test, Y_test, batch_size=128)\n",
    "print(np.shape(loss_acc),loss_acc[-1])"
   ]
  },
  {
   "cell_type": "code",
   "execution_count": null,
   "id": "ee94c9c5",
   "metadata": {},
   "outputs": [],
   "source": []
  }
 ],
 "metadata": {
  "kernelspec": {
   "display_name": "Python 3",
   "language": "python",
   "name": "python3"
  },
  "language_info": {
   "codemirror_mode": {
    "name": "ipython",
    "version": 3
   },
   "file_extension": ".py",
   "mimetype": "text/x-python",
   "name": "python",
   "nbconvert_exporter": "python",
   "pygments_lexer": "ipython3",
   "version": "3.6.13"
  }
 },
 "nbformat": 4,
 "nbformat_minor": 5
}
