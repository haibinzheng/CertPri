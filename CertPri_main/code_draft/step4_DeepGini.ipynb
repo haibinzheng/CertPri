{
 "cells": [
  {
   "cell_type": "code",
   "execution_count": 3,
   "id": "90b61167",
   "metadata": {},
   "outputs": [],
   "source": [
    "import numpy as np\n",
    "\n",
    "DATA_PATH = \"/public/liujiawei/huawei/ZHB/ADF-master/mnist/\"\n",
    "X_train = np.load(DATA_PATH+\"mnist_train.npy\")\n",
    "Y_train = np.load(DATA_PATH+\"mnist_train_label.npy\")\n",
    "X_test = np.load(DATA_PATH+\"mnist_test.npy\")\n",
    "Y_test = np.load(DATA_PATH+\"mnist_test_label.npy\")"
   ]
  },
  {
   "cell_type": "code",
   "execution_count": 4,
   "id": "3a62ca22",
   "metadata": {},
   "outputs": [],
   "source": [
    "from tensorflow.keras.layers import Dense\n",
    "from tensorflow.keras.models import Sequential,load_model\n",
    "from tensorflow.keras.utils import to_categorical\n",
    "from sklearn.preprocessing import StandardScaler"
   ]
  },
  {
   "cell_type": "code",
   "execution_count": 5,
   "id": "bc88dd0d",
   "metadata": {},
   "outputs": [
    {
     "name": "stdout",
     "output_type": "stream",
     "text": [
      "WARNING:tensorflow:From /public/liujiawei/anaconda3/envs/HUAWEI/lib/python3.6/site-packages/tensorflow_core/python/ops/resource_variable_ops.py:1630: calling BaseResourceVariable.__init__ (from tensorflow.python.ops.resource_variable_ops) with constraint is deprecated and will be removed in a future version.\n",
      "Instructions for updating:\n",
      "If using Keras pass *_constraint arguments to layers.\n"
     ]
    }
   ],
   "source": [
    "input_shape = 28*28\n",
    "\n",
    "model = Sequential()\n",
    "model.add(Dense(input_shape=(input_shape,), units=input_shape, activation='relu'))\n",
    "model.add(Dense(units=512, activation='relu'))\n",
    "model.add(Dense(units=1024, activation='relu'))\n",
    "model.add(Dense(units=64, activation='relu'))\n",
    "model.add(Dense(units=10, activation='softmax'))\n",
    "model.compile(optimizer='adam', loss='categorical_crossentropy', metrics=['accuracy'])"
   ]
  },
  {
   "cell_type": "code",
   "execution_count": 6,
   "id": "85833ebe",
   "metadata": {},
   "outputs": [
    {
     "name": "stdout",
     "output_type": "stream",
     "text": [
      "WARNING:tensorflow:From /public/liujiawei/anaconda3/envs/HUAWEI/lib/python3.6/site-packages/tensorflow_core/python/ops/init_ops.py:97: calling GlorotUniform.__init__ (from tensorflow.python.ops.init_ops) with dtype is deprecated and will be removed in a future version.\n",
      "Instructions for updating:\n",
      "Call initializer instance with the dtype argument instead of passing it to the constructor\n",
      "WARNING:tensorflow:From /public/liujiawei/anaconda3/envs/HUAWEI/lib/python3.6/site-packages/tensorflow_core/python/ops/init_ops.py:97: calling Zeros.__init__ (from tensorflow.python.ops.init_ops) with dtype is deprecated and will be removed in a future version.\n",
      "Instructions for updating:\n",
      "Call initializer instance with the dtype argument instead of passing it to the constructor\n"
     ]
    }
   ],
   "source": [
    "MODEL_PATH = \"/public/liujiawei/huawei/ZHB/ADF-master/models/\"\n",
    "model = load_model(MODEL_PATH+\"mnist_FC4.h5\")"
   ]
  },
  {
   "cell_type": "code",
   "execution_count": 7,
   "id": "1a9a0fec",
   "metadata": {},
   "outputs": [
    {
     "name": "stdout",
     "output_type": "stream",
     "text": [
      "[[8.1880060e-19 1.1946783e-12 2.1346804e-13 7.7883793e-12 2.6276783e-11\n",
      "  6.9444208e-15 2.8902736e-16 9.9999988e-01 3.6701772e-14 1.5277264e-07]]\n"
     ]
    },
    {
     "data": {
      "text/plain": [
       "0.99999976"
      ]
     },
     "execution_count": 7,
     "metadata": {},
     "output_type": "execute_result"
    }
   ],
   "source": [
    "per_tmp = model.predict(X_test[0:1])\n",
    "label_tmp = np.argmax(per_tmp)\n",
    "print(per_tmp)\n",
    "np.sum(per_tmp * per_tmp)"
   ]
  },
  {
   "cell_type": "code",
   "execution_count": null,
   "id": "430935f4",
   "metadata": {},
   "outputs": [],
   "source": []
  },
  {
   "cell_type": "code",
   "execution_count": 8,
   "id": "9252c53b",
   "metadata": {},
   "outputs": [],
   "source": [
    "Gini = []\n",
    "index1 = 0\n",
    "index2 = 0\n",
    "for x_tmp in X_test:\n",
    "    per_tmp = model.predict(x_tmp.reshape([-1,28*28]))\n",
    "    label_tmp = np.argmax(per_tmp)\n",
    "    if label_tmp == np.argmax(Y_test[index1]):\n",
    "        index2 = index2 +1\n",
    "    index1 = index1 + 1\n",
    "    Gini_tmp = 1-np.sum(per_tmp*per_tmp)\n",
    "    Gini.append(Gini_tmp)"
   ]
  },
  {
   "cell_type": "code",
   "execution_count": 9,
   "id": "f43bf51b",
   "metadata": {},
   "outputs": [
    {
     "name": "stdout",
     "output_type": "stream",
     "text": [
      "10000 173\n"
     ]
    }
   ],
   "source": [
    "print(index1, index1-index2)"
   ]
  },
  {
   "cell_type": "code",
   "execution_count": 10,
   "id": "3c1d8bde",
   "metadata": {},
   "outputs": [
    {
     "name": "stdout",
     "output_type": "stream",
     "text": [
      "10000/10000 [==============================] - 0s 35us/sample - loss: 0.0813 - acc: 0.9827\n",
      "[0.08125762678885899, 0.9827]\n"
     ]
    }
   ],
   "source": [
    "print(model.evaluate(X_test, Y_test, batch_size=128))"
   ]
  },
  {
   "cell_type": "code",
   "execution_count": 46,
   "id": "adc55739",
   "metadata": {},
   "outputs": [],
   "source": [
    "indexs = np.argsort(Gini)\n",
    "indexs = indexs[::-1]"
   ]
  },
  {
   "cell_type": "code",
   "execution_count": 47,
   "id": "92cbd876",
   "metadata": {},
   "outputs": [
    {
     "name": "stdout",
     "output_type": "stream",
     "text": [
      "0.8791627883911133 0.0\n"
     ]
    }
   ],
   "source": [
    "per_tmp = model.predict(X_test[6651].reshape([-1,28*28]))\n",
    "print(1-np.sum(per_tmp*per_tmp), Gini[indexs[9999]])"
   ]
  },
  {
   "cell_type": "code",
   "execution_count": 57,
   "id": "7497d0c1",
   "metadata": {},
   "outputs": [
    {
     "name": "stdout",
     "output_type": "stream",
     "text": [
      "0.9968193641618497\n"
     ]
    }
   ],
   "source": [
    "o_i = 0\n",
    "for i in range(0, (index1-index2)):\n",
    "    x_tmp = X_test[indexs[i]].reshape([-1,28*28])\n",
    "    y_tmp = Y_test[indexs[i]]\n",
    "    per_tmp = model.predict(x_tmp)\n",
    "    if np.argmax(y_tmp)!=np.argmax(per_tmp):\n",
    "        o_i = o_i+i\n",
    "APFD = 1-o_i/(index1*(index1-index2))+1/(2*index1)\n",
    "print(APFD)"
   ]
  },
  {
   "cell_type": "code",
   "execution_count": 82,
   "id": "43982d16",
   "metadata": {},
   "outputs": [],
   "source": [
    "def softmax( f ):\n",
    "    # instead: first shift the values of f so that the highest number is 0:\n",
    "    f -= np.max(f) # f becomes [-666, -333, 0]\n",
    "    return np.exp(f) / np.sum(np.exp(f))  # safe to do, gives the correct answer\n",
    "    \n",
    "from tensorflow.keras import backend as BE\n",
    "import tensorflow as tf\n",
    "\n",
    "get_activations = BE.function(inputs=model.inputs[0], outputs=model.layers[-2].output[:,:])\n",
    "\n",
    "Gini_act = []\n",
    "for x_tmp in X_test:\n",
    "    x_act = get_activations(x_tmp.reshape([-1,28*28]))\n",
    "    Gini_tmp = 1-np.sum(x_act*x_act)\n",
    "    Gini_act.append(Gini_tmp)\n"
   ]
  },
  {
   "cell_type": "code",
   "execution_count": 83,
   "id": "3854353e",
   "metadata": {},
   "outputs": [
    {
     "name": "stdout",
     "output_type": "stream",
     "text": [
      "0.9976598265895954\n"
     ]
    }
   ],
   "source": [
    "indexs = np.argsort(Gini_act)\n",
    "indexs = indexs[::-1]\n",
    "o_i = 0\n",
    "for i in range(0, (index1-index2)):\n",
    "    x_tmp = X_test[indexs[i]].reshape([-1,28*28])\n",
    "    y_tmp = Y_test[indexs[i]]\n",
    "    per_tmp = model.predict(x_tmp)\n",
    "    if np.argmax(y_tmp)!=np.argmax(per_tmp):\n",
    "        o_i = o_i+i\n",
    "APFD = 1-o_i/(index1*(index1-index2))+1/(2*index1)\n",
    "print(APFD)"
   ]
  },
  {
   "cell_type": "code",
   "execution_count": null,
   "id": "69ab7ff7",
   "metadata": {},
   "outputs": [],
   "source": []
  },
  {
   "cell_type": "code",
   "execution_count": null,
   "id": "5d156d70",
   "metadata": {},
   "outputs": [],
   "source": []
  }
 ],
 "metadata": {
  "kernelspec": {
   "display_name": "Python 3",
   "language": "python",
   "name": "python3"
  },
  "language_info": {
   "codemirror_mode": {
    "name": "ipython",
    "version": 3
   },
   "file_extension": ".py",
   "mimetype": "text/x-python",
   "name": "python",
   "nbconvert_exporter": "python",
   "pygments_lexer": "ipython3",
   "version": "3.6.13"
  }
 },
 "nbformat": 4,
 "nbformat_minor": 5
}
