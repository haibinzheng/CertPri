{
 "cells": [
  {
   "cell_type": "code",
   "execution_count": 17,
   "id": "eba204bb",
   "metadata": {},
   "outputs": [
    {
     "name": "stdout",
     "output_type": "stream",
     "text": [
      "5\n",
      "3\n",
      "5\n",
      "0\n"
     ]
    },
    {
     "data": {
      "image/png": "[encoded data removed]",
      "text/plain": [
       "<Figure size 432x288 with 4 Axes>"
      ]
     },
     "metadata": {
      "needs_background": "light"
     },
     "output_type": "display_data"
    }
   ],
   "source": [
    "# -*- coding: utf-8 -*-\n",
    "import numpy as np\n",
    "import struct\n",
    "import os\n",
    "from collections import defaultdict\n",
    "\n",
    "def read_data_sets(dir, one_hot=True):\n",
    "\tfiles = {\n",
    "\t\t'test': ['t10k-images.idx3-ubyte', 't10k-labels.idx1-ubyte'],\n",
    "\t\t'train': ['train-images.idx3-ubyte', 'train-labels.idx1-ubyte']\n",
    "\t}\n",
    "\tdata_set = defaultdict(dict)\n",
    "\tfor key,value in files.items():\n",
    "\t\tfor i,fn in enumerate(value):\n",
    "\t\t\tfile = open(os.path.join(dir, fn), 'rb')\n",
    "\t\t\tf = file.read()\n",
    "\t\t\tfile.close()\n",
    "\t\t\tif not i:\n",
    "\t\t\t\timg_index = struct.calcsize('>IIII')\n",
    "\t\t\t\t_,size,row,column = struct.unpack('>IIII', f[:img_index])\n",
    "\t\t\t\timgs = struct.unpack_from(str(size*row*column) + 'B', f, img_index)\n",
    "\t\t\t\tdata_set['img_shape'] = (row, column, 1)\n",
    "\t\t\t\timgs = np.reshape(imgs, (size, row*column)).astype(np.float32)\n",
    "\t\t\t\timgs = (imgs - np.min(imgs)) / (np.max(imgs) - np.min(imgs))\n",
    "\t\t\t\tdata_set[key]['images'] = imgs\n",
    "\t\t\telse:\n",
    "\t\t\t\tlabel_index = struct.calcsize('>II')\n",
    "\t\t\t\t_,size = struct.unpack('>II', f[:label_index])\n",
    "\t\t\t\tlabels = struct.unpack_from(str(size) + 'B', f, label_index)\n",
    "\t\t\t\tlabels = np.reshape(labels, (size,))\n",
    "\t\t\t\tif one_hot:\n",
    "\t\t\t\t\ttmp = np.zeros((size, np.max(labels)+1))\n",
    "\t\t\t\t\ttmp[np.arange(size),labels] = 1\n",
    "\t\t\t\t\tlabels = tmp\n",
    "\t\t\t\tdata_set[key]['labels'] = labels\n",
    "\treturn data_set\n",
    "\n",
    "if __name__ == '__main__':\n",
    "\timport matplotlib.pyplot as plt\n",
    "\tdata_set = read_data_sets('/public/liujiawei/huawei/ZHB/ADF-master/mnist')\n",
    "\timgs = data_set['train']['images'] * 255\n",
    "\tlabels = data_set['train']['labels']\n",
    "\timg_shape = data_set['img_shape'] * 255\n",
    "\t# print(imgs[0])\n",
    "\tplt.figure()\n",
    "\tplt.subplot(221); plt.imshow(imgs[0].reshape(img_shape[:2])); print(np.argmax(labels[0]))\n",
    "\tplt.subplot(222); plt.imshow(imgs[10].reshape(img_shape[:2])); print(np.argmax(labels[10]))\n",
    "\tplt.subplot(223); plt.imshow(imgs[100].reshape(img_shape[:2])); print(np.argmax(labels[100]))\n",
    "\tplt.subplot(224); plt.imshow(imgs[1000].reshape(img_shape[:2])); print(np.argmax(labels[1000]))\n",
    "\tplt.show()\n"
   ]
  },
  {
   "cell_type": "code",
   "execution_count": 29,
   "id": "1644a611",
   "metadata": {},
   "outputs": [
    {
     "data": {
      "text/plain": [
       "(28,)"
      ]
     },
     "execution_count": 29,
     "metadata": {},
     "output_type": "execute_result"
    }
   ],
   "source": [
    "img_shape[3:4]"
   ]
  },
  {
   "cell_type": "code",
   "execution_count": null,
   "id": "5934077b",
   "metadata": {},
   "outputs": [],
   "source": []
  },
  {
   "cell_type": "code",
   "execution_count": 10,
   "id": "61f5ab0e",
   "metadata": {},
   "outputs": [],
   "source": [
    "train_imgs = data_set['train']['images'] \n",
    "train_labels = data_set['train']['labels'] \n",
    "test_imgs = data_set['test']['images'] \n",
    "test_labels = data_set['test']['labels'] "
   ]
  },
  {
   "cell_type": "code",
   "execution_count": 14,
   "id": "3998c2fe",
   "metadata": {},
   "outputs": [
    {
     "name": "stdout",
     "output_type": "stream",
     "text": [
      "(60000, 784) (60000, 10) (10000, 784) (10000, 10)\n"
     ]
    }
   ],
   "source": [
    "print(np.shape(train_imgs),np.shape(train_labels),np.shape(test_imgs),np.shape(test_labels))"
   ]
  },
  {
   "cell_type": "code",
   "execution_count": 15,
   "id": "3c8faff4",
   "metadata": {},
   "outputs": [],
   "source": [
    "DATA_PATH = \"/public/liujiawei/huawei/ZHB/ADF-master/mnist/\"\n",
    "np.save(DATA_PATH+\"mnist_train\",train_imgs)\n",
    "np.save(DATA_PATH+\"mnist_train_label\",train_labels)\n",
    "np.save(DATA_PATH+\"mnist_test\",test_imgs)\n",
    "np.save(DATA_PATH+\"mnist_train_label\",test_labels)"
   ]
  },
  {
   "cell_type": "code",
   "execution_count": null,
   "id": "cc8da287",
   "metadata": {},
   "outputs": [],
   "source": []
  }
 ],
 "metadata": {
  "kernelspec": {
   "display_name": "Python 3",
   "language": "python",
   "name": "python3"
  },
  "language_info": {
   "codemirror_mode": {
    "name": "ipython",
    "version": 3
   },
   "file_extension": ".py",
   "mimetype": "text/x-python",
   "name": "python",
   "nbconvert_exporter": "python",
   "pygments_lexer": "ipython3",
   "version": "3.6.13"
  }
 },
 "nbformat": 4,
 "nbformat_minor": 5
}
