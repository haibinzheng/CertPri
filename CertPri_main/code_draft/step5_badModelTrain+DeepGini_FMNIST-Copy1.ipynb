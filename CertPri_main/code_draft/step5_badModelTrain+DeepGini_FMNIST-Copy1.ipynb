{
 "cells": [
  {
   "cell_type": "code",
   "execution_count": 1,
   "id": "90b61167",
   "metadata": {},
   "outputs": [],
   "source": [
    "from tensorflow.keras.datasets import fashion_mnist\n",
    "from tensorflow.keras.utils import to_categorical\n",
    "import numpy as np\n",
    "from tensorflow.keras.layers import Dense\n",
    "from tensorflow.keras.models import Sequential,load_model\n",
    "from tensorflow.keras.utils import to_categorical\n",
    "from sklearn.preprocessing import StandardScaler\n",
    "from progressbar import ProgressBar\n",
    "import random\n",
    "import matplotlib.pyplot as plt\n",
    "from tensorflow.keras import backend as BE\n",
    "from tensorflow.keras.models import Model\n",
    "import os\n",
    "import tensorflow as tf\n",
    "from Integrated_Gradients_algorithm import *\n",
    "\n",
    "# tf.enable_eager_execution(\n",
    "#     config=None,\n",
    "#     device_policy=None,\n",
    "#     execution_mode=None\n",
    "# )\n",
    "tf.compat.v1.disable_eager_execution()\n",
    "# tf.config.run_functions_eagerly(True)\n",
    "os.environ[\"CUDA_VISIBLE_DEVICES\"] = \"5\"\n",
    "config=tf.compat.v1.ConfigProto()\n",
    "config.gpu_options.allow_growth=True   #不全部占满显存, 按需分配\n",
    "sess=tf.compat.v1.Session(config=config)     "
   ]
  },
  {
   "cell_type": "code",
   "execution_count": 2,
   "id": "686692ca",
   "metadata": {},
   "outputs": [],
   "source": [
    "# import keras\n",
    "def get_loss_gradients(img_input, model, target_one_hot, from_logits=False):\n",
    "    images = tf.cast(img_input, tf.float32)\n",
    "    cce = tf.keras.losses.CategoricalCrossentropy(from_logits=from_logits)\n",
    "    with tf.GradientTape() as tape:\n",
    "        tape.watch(images)\n",
    "        preds = model(images)\n",
    "        loss = cce(target_one_hot, preds)\n",
    "#         top_class = preds[:, top_pred_idx]\n",
    "\n",
    "    grads = tape.gradient(loss, images)\n",
    "    return grads"
   ]
  },
  {
   "cell_type": "code",
   "execution_count": 3,
   "id": "66ca4a91",
   "metadata": {},
   "outputs": [],
   "source": [
    "def get_acc(predict_label, ground_truth=None):\n",
    "    for i in predict_label[0]:\n",
    "        if i[0] == ground_truth:\n",
    "            return True\n",
    "    return False\n",
    "\n",
    "def softmax( f ):\n",
    "    # instead: first shift the values of f so that the highest number is 0:\n",
    "    s = f-np.max(f) # f becomes [-666, -333, 0]\n",
    "    return np.exp(s) / np.sum(np.exp(s))  # safe to do, gives the correct answer\n",
    "\n",
    "def get_APFD(Gini_indexs, ground_truth_label, predicted_confidence, top_set=None):\n",
    "    o_i = 0\n",
    "    pbar = ProgressBar()\n",
    "    wrong_num = 0\n",
    "    wrong_index = []\n",
    "    for i in pbar(range(0, len(Gini_indexs))):\n",
    "        if top_set is not None:\n",
    "            if not get_acc(predict_label=decode_predictions(predicted_confidence[Gini_indexs[i]], top=top_set), \n",
    "                           ground_truth=ground_truth_label[Gini_indexs[i]]):\n",
    "                o_i = o_i+i\n",
    "#                 print(i, o_i)\n",
    "                wrong_num = wrong_num+1\n",
    "                wrong_index.append(i)\n",
    "        else:\n",
    "            if np.argmax(ground_truth_label[Gini_indexs[i]]) != np.argmax(predicted_confidence[Gini_indexs[i]]):\n",
    "                o_i = o_i+i\n",
    "                wrong_num = wrong_num+1\n",
    "                wrong_index.append(i)\n",
    "    APFD = 1 - o_i/(len(Gini_indexs)*wrong_num) + 1/(2*len(Gini_indexs))\n",
    "    return APFD, wrong_num, wrong_index\n",
    "\n",
    "def get_RAUC(Gini_indexs, ground_truth_label, predicted_confidence, top_set=None):\n",
    "    pre_y_axis = []\n",
    "    o_i = 0\n",
    "    wrong_num = 0\n",
    "    pbar = ProgressBar()\n",
    "    for i in pbar(range(0, len(Gini_indexs))):\n",
    "        if top_set is not None:\n",
    "            if not get_acc(predict_label=decode_predictions(predicted_confidence[Gini_indexs[i]], top=top_set), \n",
    "                           ground_truth=ground_truth_label[Gini_indexs[i]]):  \n",
    "                o_i = o_i+1\n",
    "                wrong_num = wrong_num+1\n",
    "                pre_y_axis.append(o_i)\n",
    "            else:\n",
    "                pre_y_axis.append(o_i)\n",
    "        else:\n",
    "            if np.argmax(ground_truth_label[Gini_indexs[i]]) != np.argmax(predicted_confidence[Gini_indexs[i]]):\n",
    "                o_i = o_i+1\n",
    "                wrong_num = wrong_num+1\n",
    "                pre_y_axis.append(o_i)\n",
    "            else:\n",
    "                pre_y_axis.append(o_i)\n",
    "    true_y_axis = wrong_num*(len(Gini_indexs)-wrong_num) + (wrong_num+1)*wrong_num/2\n",
    "    RAUC = np.sum(pre_y_axis)/true_y_axis\n",
    "#     print(\"RAUC: \", RAUC)\n",
    "    return RAUC, len(Gini_indexs), wrong_num"
   ]
  },
  {
   "cell_type": "code",
   "execution_count": null,
   "id": "48cc8fa4",
   "metadata": {},
   "outputs": [],
   "source": []
  },
  {
   "cell_type": "code",
   "execution_count": 4,
   "id": "992b6412",
   "metadata": {},
   "outputs": [],
   "source": [
    "(X_train, Y_train), (X_test, Y_test) = fashion_mnist.load_data()\n",
    "X_train = np.reshape(X_train,[-1,28*28])\n",
    "X_test = np.reshape(X_test,[-1,28*28])\n",
    "Y_train = to_categorical(Y_train,10)\n",
    "Y_test = to_categorical(Y_test,10)"
   ]
  },
  {
   "cell_type": "code",
   "execution_count": 5,
   "id": "bc88dd0d",
   "metadata": {},
   "outputs": [],
   "source": [
    "# input_shape = 28*28\n",
    "\n",
    "# model = Sequential()\n",
    "# model.add(Dense(input_shape=(input_shape,), units=input_shape, activation='relu'))\n",
    "# model.add(Dense(units=128, activation='relu'))\n",
    "# model.add(Dense(units=32, activation='relu'))\n",
    "# model.add(Dense(units=10, activation='softmax'))\n",
    "# # model.compile(optimizer='adam', loss='categorical_crossentropy', metrics=['accuracy'])\n",
    "# model.compile(optimizer='adam', loss='categorical_crossentropy', metrics=['accuracy'])\n",
    "\n",
    "# # # model training\n",
    "# # model.fit(X_train, Y_train, epochs=1, batch_size=512)\n",
    "\n",
    "# # MODEL_PATH = \"/public/liujiawei/huawei/ZHB/ADF-master/models/\"\n",
    "# # model.save(MODEL_PATH+\"fmnist_FC4_bad.h5\")\n",
    "\n",
    "# # del model"
   ]
  },
  {
   "cell_type": "code",
   "execution_count": 6,
   "id": "85833ebe",
   "metadata": {},
   "outputs": [],
   "source": [
    "MODEL_PATH = \"/public/liujiawei/huawei/ZHB/ADF-master/models/\"\n",
    "model = load_model(MODEL_PATH+\"fmnist_FC4_bad.h5\")"
   ]
  },
  {
   "cell_type": "code",
   "execution_count": 7,
   "id": "c65d88ba",
   "metadata": {},
   "outputs": [
    {
     "name": "stderr",
     "output_type": "stream",
     "text": [
      "/public/liujiawei/anaconda3/envs/ZHB_env/lib/python3.6/site-packages/keras/engine/training.py:2470: UserWarning: `Model.state_updates` will be removed in a future version. This property should not be used in TensorFlow 2.0, as `updates` are applied automatically.\n",
      "  warnings.warn('`Model.state_updates` will be removed in a future version. '\n"
     ]
    },
    {
     "name": "stdout",
     "output_type": "stream",
     "text": [
      "accuracy 0.7201\n"
     ]
    }
   ],
   "source": [
    "loss_acc = model.evaluate(X_test, Y_test, batch_size=128)\n",
    "print('accuracy', loss_acc[-1])"
   ]
  },
  {
   "cell_type": "code",
   "execution_count": 8,
   "id": "9252c53b",
   "metadata": {},
   "outputs": [
    {
     "name": "stderr",
     "output_type": "stream",
     "text": [
      "100% |########################################################################|\n",
      "100% |########################################################################|\n",
      "100% |########################################################################|\r"
     ]
    },
    {
     "name": "stdout",
     "output_type": "stream",
     "text": [
      "APFD: 0.7416754385964912\n",
      "RAUC: 0.863840837525048\n"
     ]
    },
    {
     "name": "stderr",
     "output_type": "stream",
     "text": [
      "\n"
     ]
    }
   ],
   "source": [
    "img_num = 1000\n",
    "X_test = X_test[0:img_num]\n",
    "Y_test = Y_test[0:img_num]\n",
    "Gini = []\n",
    "predicted_confidence = []\n",
    "index1 = 0\n",
    "index2 = 0\n",
    "pbar = ProgressBar()\n",
    "for x_tmp in pbar(X_test):\n",
    "    per_tmp = model.predict(x_tmp.reshape([-1,28*28]))\n",
    "    label_tmp = np.argmax(per_tmp)\n",
    "    if label_tmp == np.argmax(Y_test[index1]):\n",
    "        index2 = index2 +1\n",
    "    index1 = index1 + 1\n",
    "    Gini_tmp = 1-np.sum(per_tmp*per_tmp)\n",
    "#     Gini_tmp = -np.sum(per_tmp*np.log2(per_tmp))\n",
    "    Gini.append(Gini_tmp)\n",
    "    predicted_confidence.append(per_tmp)\n",
    "    \n",
    "indexs = np.argsort(Gini)\n",
    "indexs = indexs[::-1]\n",
    "\n",
    "APFD,_,_ = get_APFD(Gini_indexs=indexs, ground_truth_label=Y_test, \n",
    "                predicted_confidence=np.array(predicted_confidence))\n",
    "print('APFD:', APFD)\n",
    "RAUC,_,_ = get_RAUC(Gini_indexs=indexs, ground_truth_label=Y_test, \n",
    "                predicted_confidence=np.array(predicted_confidence))\n",
    "print('RAUC:', RAUC)"
   ]
  },
  {
   "cell_type": "code",
   "execution_count": 9,
   "id": "029ebacd",
   "metadata": {},
   "outputs": [
    {
     "name": "stdout",
     "output_type": "stream",
     "text": [
      "test number: 1000 \t misclassified number: 285\n"
     ]
    }
   ],
   "source": [
    "print('test number:', index1, '\\t misclassified number:', index1-index2)"
   ]
  },
  {
   "cell_type": "code",
   "execution_count": 10,
   "id": "7497d0c1",
   "metadata": {},
   "outputs": [],
   "source": [
    "# o_i = 0\n",
    "# for i in range(0, (index1)):\n",
    "#     x_tmp = X_test[indexs[i]].reshape([-1,28*28])\n",
    "#     y_tmp = Y_test[indexs[i]]\n",
    "#     per_tmp = model.predict(x_tmp)\n",
    "#     if np.argmax(y_tmp)!=np.argmax(per_tmp):\n",
    "#         o_i = o_i+i\n",
    "# APFD = 1-o_i/(index1*(index1-index2))+1/(2*index1)\n",
    "# print(APFD)"
   ]
  },
  {
   "cell_type": "code",
   "execution_count": 11,
   "id": "6a5b890e",
   "metadata": {},
   "outputs": [
    {
     "name": "stdout",
     "output_type": "stream",
     "text": [
      "Model: \"sequential\"\n",
      "_________________________________________________________________\n",
      "Layer (type)                 Output Shape              Param #   \n",
      "=================================================================\n",
      "dense (Dense)                (None, 784)               615440    \n",
      "_________________________________________________________________\n",
      "dense_1 (Dense)              (None, 128)               100480    \n",
      "_________________________________________________________________\n",
      "dense_2 (Dense)              (None, 32)                4128      \n",
      "_________________________________________________________________\n",
      "dense_3 (Dense)              (None, 10)                330       \n",
      "=================================================================\n",
      "Total params: 720,378\n",
      "Trainable params: 720,378\n",
      "Non-trainable params: 0\n",
      "_________________________________________________________________\n"
     ]
    }
   ],
   "source": [
    "model.summary()"
   ]
  },
  {
   "cell_type": "code",
   "execution_count": 12,
   "id": "5b391129",
   "metadata": {},
   "outputs": [],
   "source": [
    "# # use one layer's activation\n",
    "# get_activations = BE.function(inputs=model.inputs[0], outputs=model.layers[-3].output[:,:])\n",
    "# Gini_act = []\n",
    "# pbar = ProgressBar()\n",
    "# for x_tmp in pbar(X_test):    \n",
    "# #     # 使用attention机制\n",
    "# #     x_act = softmax(get_activations(x_tmp.reshape([-1,28*28])))\n",
    "# #     att1 = np.dot(np.transpose(x_act), x_act)\n",
    "# #     att_weight = np.sum(att1, axis = 1).reshape(np.shape(x_act))\n",
    "# #     x_act_ = softmax(x_act*att_weight)\n",
    "# #     Gini_tmp = 1-np.sum(x_act_*x_act_)\n",
    "# #     Gini_tmp = -np.sum(x_act_*np.log2(x_act_))\n",
    "# #     Gini_act.append(Gini_tmp)\n",
    "    \n",
    "#     # 未使用attention机制\n",
    "#     x_act = softmax(get_activations(x_tmp.reshape([-1,28*28])))\n",
    "# #     Gini_tmp = 1-np.sum(x_act*x_act)\n",
    "#     Gini_tmp = -np.sum(x_act*np.log2(x_act))\n",
    "#     Gini_act.append(Gini_tmp)\n",
    "\n",
    "# # # use all layers' activation\n",
    "# # pbar = ProgressBar()\n",
    "# # get_activations1 = BE.function(inputs=model.inputs[0], outputs=model.layers[-1].output[:,:])\n",
    "# # get_activations2 = BE.function(inputs=model.inputs[0], outputs=model.layers[-2].output[:,:])\n",
    "# # get_activations3 = BE.function(inputs=model.inputs[0], outputs=model.layers[-3].output[:,:])\n",
    "# # Gini_act = []\n",
    "# # for x_tmp in pbar(X_test):\n",
    "# #     x_act1 = softmax(get_activations1(x_tmp.reshape([-1,28*28])))\n",
    "# #     x_act2 = softmax(get_activations2(x_tmp.reshape([-1,28*28])))\n",
    "# #     x_act3 = softmax(get_activations3(x_tmp.reshape([-1,28*28])))\n",
    "# # #     Gini_tmp = 1-np.sum(x_act3*x_act3)\n",
    "# # #     Gini_tmp = 1-(np.sum(x_act1*x_act1)+np.sum(x_act2*x_act2)+np.sum(x_act3*x_act3))/3\n",
    "# #     Gini_tmp = -np.sum(x_act3*np.log2(x_act3))\n",
    "# # #     Gini_tmp = (-np.sum(x_act1*np.log2(x_act1))-np.sum(x_act2*np.log2(x_act2))-np.sum(x_act3*np.log2(x_act3)))/3\n",
    "# #     Gini_act.append(Gini_tmp)\n",
    "    \n",
    "# indexs = np.argsort(Gini_act)\n",
    "# indexs = indexs[::-1]\n",
    "# APFD = get_APFD(Gini_indexs=indexs, ground_truth_label=Y_test, \n",
    "#                 predicted_confidence=np.array(predicted_confidence))\n",
    "# print('APFD:', APFD)\n",
    "# RAUC,_,_ = get_RAUC(Gini_indexs=indexs, ground_truth_label=Y_test, \n",
    "#                 predicted_confidence=np.array(predicted_confidence))\n",
    "# print('RAUC:', RAUC)\n"
   ]
  },
  {
   "cell_type": "code",
   "execution_count": 13,
   "id": "cca10216",
   "metadata": {},
   "outputs": [],
   "source": [
    "#     输出层对模型的某一层求导\n",
    "def get_hidden_layer_gradient(x_input, model, pre_conf, layers_names):\n",
    "    top_pred_idx = np.argmax(pre_conf)\n",
    "    hidden_layer = model.get_layer(layers_names).output\n",
    "    grads = BE.gradients(loss = model.layers[-1].output[:, top_pred_idx], variables = hidden_layer)\n",
    "    get_gradients = BE.function(inputs=model.inputs[0], outputs=grads)\n",
    "    layer_grad = get_gradients(x_input)[0]\n",
    "    return layer_grad\n",
    "    \n",
    "#     损失函数对模型的某一层求导\n",
    "def get_hidden_layer_loss_gradient(x_input, model, pre_conf, layers_names):\n",
    "    top_pred_idx = np.argmax(pre_conf)\n",
    "    num_class = np.shape(pre_conf)[-1]\n",
    "    hidden_layer = model.get_layer(layers_names).output\n",
    "    loss = BE.categorical_crossentropy(to_categorical(top_pred_idx, num_class), model.layers[-1].output[:,:][0])\n",
    "#     loss = BE.categorical_crossentropy(to_categorical(label_tmp, num_class), pre_conf[0]) # 用 preds[0]会报NoneType错\n",
    "    grads = BE.gradients(loss = loss, variables = hidden_layer)\n",
    "    get_gradients = BE.function(inputs=model.inputs[0], outputs=grads)\n",
    "    layer_grad = get_gradients(x_input)[0]\n",
    "    return layer_grad"
   ]
  },
  {
   "cell_type": "code",
   "execution_count": null,
   "id": "0aa532ac",
   "metadata": {},
   "outputs": [],
   "source": []
  },
  {
   "cell_type": "code",
   "execution_count": null,
   "id": "7415bc8d",
   "metadata": {},
   "outputs": [
    {
     "name": "stderr",
     "output_type": "stream",
     "text": [
      " 14% |##########                                                              |\r"
     ]
    }
   ],
   "source": [
    "# use one layer's activation\n",
    "pbar = ProgressBar()\n",
    "# layer_pos = -2\n",
    "# get_activations = BE.function(inputs=model.inputs[0], outputs=model.layers[layer_pos].output[:,:])\n",
    "grads_pre1 = []\n",
    "grads_pre2 = []\n",
    "grads_CE = []\n",
    "grads_CE2 = []\n",
    "\n",
    "grads_Out_HL = []\n",
    "grads_Loss_HL = []\n",
    "feature_HL = []\n",
    "\n",
    "num_class = 10\n",
    "# predicted_confidence = []\n",
    "# ground_truth_label = []\n",
    "for x_tmp in pbar(X_test):\n",
    "    x_tmp = x_tmp.reshape(1, -1)\n",
    "    preds = model.predict(x_tmp)\n",
    "    label_tmp = np.argmax(preds)\n",
    "    layers_names = 'dense_2'\n",
    "    \n",
    "# #     损失函数对模型的某一层求导\n",
    "#     layer_grads = get_hidden_layer_loss_gradient(x_input=x_tmp, model=model, pre_conf=preds, layers_names=layers_names)\n",
    "#     grads_CE.append(layer_grads)\n",
    "        \n",
    "# #     输出层对模型的某一层求导\n",
    "#     layer_grads = get_hidden_layer_gradient(x_input, model, pre_conf, layers_names)\n",
    "        \n",
    "        \n",
    "#     hidden_layer = model.get_layer(layers_names).output\n",
    "# #     cce = tf.keras.losses.CategoricalCrossentropy()\n",
    "# #     with tf.GradientTape() as tape:\n",
    "# #         tape.watch(hidden_layer)\n",
    "# #         preds = model(x_tmp)\n",
    "# #         loss = cce(to_categorical(top_pred_idx, num_class), preds)\n",
    "# # #         top_class = preds[:, top_pred_idx]\n",
    "# #     grads = tape.gradient(top_class, tf.cast(x_tmp, tf.float32))\n",
    "# #     grads = BE.gradients(loss = model.layers[-1].output[:,label_tmp], variables = hidden_layer)\n",
    "# #     grads = BE.gradients(loss = cce(to_categorical(label_tmp, num_class), preds[0]), variables = hidden_layer)\n",
    "\n",
    "#     损失函数对模型的某一层求导\n",
    "    model_hidden_layer = Model(inputs=model.input, outputs=model.get_layer(layers_names).output)\n",
    "    hidden_layer = model.get_layer(layers_names).output\n",
    "    loss = BE.categorical_crossentropy( to_categorical(label_tmp, num_class), model.layers[-1].output[:,:][0] )\n",
    "    grads = BE.gradients(loss = loss, variables = hidden_layer)\n",
    "    get_gradients_loss = BE.function(inputs=model.inputs[0], outputs=grads)\n",
    "    x_grad = get_gradients_loss(x_tmp)[0]\n",
    "    features = model_hidden_layer.predict(x_tmp)\n",
    "    grads_Loss_HL.append(x_grad)\n",
    "    feature_HL.append(features)\n",
    "    \n",
    "    \n",
    "\n",
    "#     输出层对模型的某一层求导\n",
    "    hidden_layer = model.get_layer(layers_names).output\n",
    "    grads = BE.gradients(loss = model.layers[-1].output[:,label_tmp], variables = hidden_layer)\n",
    "    get_gradients_Out = BE.function(inputs=model.inputs[0], outputs=grads)\n",
    "    x_grad = get_gradients_Out(x_tmp)[0]\n",
    "    grads_Out_HL.append(x_grad)\n",
    "    \n",
    "#     target_one_hot = np.ones(num_class)*(1.0/num_class)\n",
    "#     grads = get_loss_gradients(img_input=x_tmp, model=model, target_one_hot=target_one_hot)\n",
    "#     grads = grads.numpy()\n",
    "#     grads = np.sum(np.abs(grads))\n",
    "#     grads_CE.append(grads)\n",
    "    \n",
    "#     # 计算每一类的梯度\n",
    "#     grads_sum = np.zeros(num_class)\n",
    "#     for label_i in range(num_class):\n",
    "# #         target_one_hot = np.reshape(to_categorical(label_i, num_class), (-1, num_class))\n",
    "# #         grads = get_loss_gradients(img_input=x_tmp, model=model, target_one_hot=target_one_hot)\n",
    "\n",
    "#         grads = get_gradients(img_input=x_tmp, model=model, top_pred_idx=label_i)\n",
    "# #         grads = grads.numpy()\n",
    "#         grads = np.sum(np.abs(grads))\n",
    "# #         grads = np.sum(grads)\n",
    "#         grads_sum[label_i] = grads*grads\n",
    "#     grads_CE.append(grads_sum)\n",
    "    \n",
    "    #     使用预测标签当做真实标签验证\n",
    "    label1 = np.argmax(preds[0])\n",
    "    grads = get_gradients(img_input=x_tmp, model=model, top_pred_idx=label1)\n",
    "#     grads = grads.numpy()\n",
    "#     grads = BE.sum(BE.abs(grads))\n",
    "    grads_pre1.append(grads)\n",
    "    \n",
    "    target_one_hot = np.reshape(to_categorical(label1, num_class), (-1, num_class))\n",
    "    grads = get_loss_gradients(img_input=x_tmp, model=model, target_one_hot=target_one_hot)\n",
    "#     grads = grads.numpy()\n",
    "#     grads = BE.sum(BE.abs(grads))\n",
    "    grads_CE.append(grads)\n",
    "    \n",
    "    preds[0][label1] = 0\n",
    "    label2 = np.argmax(preds[0])\n",
    "    grads = get_gradients(img_input=x_tmp, model=model, top_pred_idx=label2)\n",
    "#     grads = grads.numpy()\n",
    "#     grads = BE.sum(BE.abs(grads))\n",
    "    grads_pre2.append(grads)\n",
    "    \n",
    "    target_one_hot = np.reshape(to_categorical(label2, num_class), (-1, num_class))\n",
    "    grads = get_loss_gradients(img_input=x_tmp, model=model, target_one_hot=target_one_hot)\n",
    "#     grads = grads.numpy()\n",
    "#     grads = BE.sum(BE.abs(grads))\n",
    "    grads_CE2.append(grads)\n",
    "\n",
    "#     # 使用attention机制\n",
    "#     x_act = softmax(get_activations(x_tmp.reshape([-1,28*28])))\n",
    "#     att1 = np.dot(np.transpose(x_act), x_act)\n",
    "#     att_weight = np.sum(att1, axis = 1).reshape(np.shape(x_act))\n",
    "#     x_act_ = softmax(x_act*att_weight)\n",
    "#     Gini_tmp = 1-np.sum(x_act_*x_act_)\n",
    "#     Gini_act.append(Gini_tmp)\n",
    "    \n",
    "#     predicted_confidence.append(model.predict(x_tmp.reshape([-1,28*28])))\n",
    "#      # 未使用attention机制\n",
    "#     x_act = softmax(get_activations(x_tmp.reshape([-1,28*28])))\n",
    "#     Gini_tmp = 1-np.sum(x_act*x_act)\n",
    "#     Gini_act.append(Gini_tmp)\n"
   ]
  },
  {
   "cell_type": "code",
   "execution_count": 110,
   "id": "5941c463",
   "metadata": {},
   "outputs": [
    {
     "data": {
      "text/plain": [
       "TensorShape([None, 32])"
      ]
     },
     "execution_count": 110,
     "metadata": {},
     "output_type": "execute_result"
    }
   ],
   "source": []
  },
  {
   "cell_type": "code",
   "execution_count": 115,
   "id": "88847a78",
   "metadata": {},
   "outputs": [
    {
     "name": "stderr",
     "output_type": "stream",
     "text": [
      "100% |########################################################################|\n"
     ]
    }
   ],
   "source": [
    "# Gini_act = []\n",
    "# # grads_CE = np.array(grads_CE)\n",
    "# for i in range(len(grads_CE)):\n",
    "#     Gini_act.append(  1-np.sum(softmax(grads_CE[i]) * softmax(grads_CE[i])) )\n",
    "\n",
    "Gini_act =[]\n",
    "pbar = ProgressBar()\n",
    "for i in pbar(range(len(grads_CE))):\n",
    "#     x_act = np.sum(np.abs(grads_CE[i]))\n",
    "    x_act = np.sum(grads_CE[i]*grads_CE[i])\n",
    "#     print(i,':',x_act)\n",
    "    Gini_act.append(x_act)\n"
   ]
  },
  {
   "cell_type": "code",
   "execution_count": 116,
   "id": "d8d0cea2",
   "metadata": {},
   "outputs": [
    {
     "data": {
      "text/plain": [
       "(292,)"
      ]
     },
     "execution_count": 116,
     "metadata": {},
     "output_type": "execute_result"
    }
   ],
   "source": [
    "# Gini_act = np.array(Gini_act)\n",
    "# Gini_act.shape\n",
    "# print(np.max(Gini_act), np.max(grads_CE))\n",
    "np.shape(Gini_act)"
   ]
  },
  {
   "cell_type": "code",
   "execution_count": 117,
   "id": "78aeb139",
   "metadata": {},
   "outputs": [
    {
     "name": "stderr",
     "output_type": "stream",
     "text": [
      "100% |########################################################################|\n",
      "100% |########################################################################|\r"
     ]
    },
    {
     "name": "stdout",
     "output_type": "stream",
     "text": [
      "APFD: 0.6365729806329712\n",
      "RAUC: 0.7444952222683838\n"
     ]
    },
    {
     "name": "stderr",
     "output_type": "stream",
     "text": [
      "\n"
     ]
    }
   ],
   "source": [
    "Gini_act = np.array(Gini_act)\n",
    "# indexs = np.argsort(Gini_act[:,3]*Gini_act[:,3])\n",
    "indexs = np.argsort(Gini_act)\n",
    "indexs = indexs[::-1]\n",
    "APFD,_,wrong_index = get_APFD(Gini_indexs=indexs, ground_truth_label=Y_test, \n",
    "                predicted_confidence=np.array(predicted_confidence))\n",
    "print('APFD:', APFD)\n",
    "RAUC,_,_ = get_RAUC(Gini_indexs=indexs, ground_truth_label=Y_test, \n",
    "                predicted_confidence=np.array(predicted_confidence))\n",
    "print('RAUC:', RAUC)"
   ]
  },
  {
   "cell_type": "code",
   "execution_count": 72,
   "id": "aa31f940",
   "metadata": {},
   "outputs": [
    {
     "data": {
      "image/png": "[encoded data removed]",
      "text/plain": [
       "<Figure size 432x288 with 1 Axes>"
      ]
     },
     "metadata": {
      "needs_background": "light"
     },
     "output_type": "display_data"
    }
   ],
   "source": [
    "ground_truth_cluster = np.zeros([len(result)], dtype=np.int32)\n",
    "ground_truth_cluster[wrong_index]=1\n",
    "# print(ground_truth_cluster)\n",
    "\n",
    "import matplotlib.pyplot as plt\n",
    "from sklearn.datasets import make_blobs\n",
    "from sklearn.cluster import KMeans,AffinityPropagation, SpectralClustering\n",
    "\n",
    "# 读取数据\n",
    "data = np.squeeze(grads_CE, axis = 1)\n",
    "# 聚类数量\n",
    "k = 2\n",
    "# 训练模型\n",
    "model_kmeans = KMeans(n_clusters=k)\n",
    "model_kmeans.fit(data)\n",
    "# 分类中心点坐标\n",
    "centers = model_kmeans.cluster_centers_\n",
    "# 预测结果\n",
    "result = model_kmeans.predict(data)\n",
    "\n",
    "# 用不同的颜色绘制数据点\n",
    "mark = ['or', 'og']\n",
    "for i, d in enumerate(data):\n",
    "    plt.plot(d[0], d[1], mark[ground_truth_cluster[i]])\n",
    "# 画出各个分类的中心点\n",
    "mark = ['*r', '*g']\n",
    "for i, center in enumerate(centers):\n",
    "    plt.plot(center[0], center[1], mark[i], markersize=20)"
   ]
  },
  {
   "cell_type": "code",
   "execution_count": 109,
   "id": "3c619f4c",
   "metadata": {},
   "outputs": [
    {
     "name": "stdout",
     "output_type": "stream",
     "text": [
      "Support Vector：\n",
      " [81 62]\n",
      "Score： 0.6888888888888889\n"
     ]
    }
   ],
   "source": [
    "from sklearn import datasets\n",
    "from sklearn import model_selection\n",
    "from sklearn import svm\n",
    "# 加载数据集\n",
    "X = data  # 样本\n",
    "y = ground_truth_cluster  # 类别\n",
    "# 划分数据集\n",
    "X_trainer, X_tester, Y_trainer, Y_tester = model_selection.train_test_split(data, ground_truth_cluster, test_size=0.3)\n",
    "# 分类器\n",
    "# kernel : {'linear', 'poly', 'rbf', 'sigmoid', 'precomputed'}, default='rbf'\n",
    "clf = svm.SVC(kernel=\"rbf\", probability=True)   # 参数kernel为线性核函数\n",
    "clf.fit(X_trainer, Y_trainer)  # 训练分类器\n",
    "print(\"Support Vector：\\n\", clf.n_support_)  # 每一类中属于支持向量的点数目\n",
    "# print(\"Predict：\\n\", clf.predict(X_test))  # 对测试集的预测结果\n",
    "score = clf.score(X_tester, Y_tester)  # 模型得分\n",
    "print(\"Score：\", score)"
   ]
  },
  {
   "cell_type": "code",
   "execution_count": 98,
   "id": "65d9b95f",
   "metadata": {},
   "outputs": [
    {
     "name": "stderr",
     "output_type": "stream",
     "text": [
      "100% |########################################################################|\n",
      "100% |########################################################################|\r"
     ]
    },
    {
     "name": "stdout",
     "output_type": "stream",
     "text": [
      "APFD:  0.5298314606741573 89\n",
      "RAUC:  0.6189431179775281\n"
     ]
    },
    {
     "name": "stderr",
     "output_type": "stream",
     "text": [
      "\n"
     ]
    }
   ],
   "source": [
    "SVM_Gini_act = []\n",
    "for data1 in data:\n",
    "    SVM_Gini_act.append(  clf.predict_proba(data1.reshape(1, -1))[0][0]  )\n",
    "\n",
    "indexs = np.argsort(SVM_Gini_act)\n",
    "indexs = indexs[::-1]\n",
    "# print(indexs)\n",
    "APFD,wrong_number,wrong_index = get_APFD(Gini_indexs=indexs, ground_truth_label=Y_test, \n",
    "                predicted_confidence=np.array(predicted_confidence))\n",
    "print(\"APFD: \", APFD, wrong_number)\n",
    "RAUC,_,_ = get_RAUC(Gini_indexs=indexs, ground_truth_label=Y_test, \n",
    "                predicted_confidence=np.array(predicted_confidence))\n",
    "print(\"RAUC: \", RAUC)\n"
   ]
  },
  {
   "cell_type": "code",
   "execution_count": 93,
   "id": "6a72ce2f",
   "metadata": {},
   "outputs": [
    {
     "data": {
      "text/plain": [
       "0.6538965324587667"
      ]
     },
     "execution_count": 93,
     "metadata": {},
     "output_type": "execute_result"
    }
   ],
   "source": [
    "clf.predict_proba(data1.reshape(1, -1))[0][0]"
   ]
  },
  {
   "cell_type": "code",
   "execution_count": null,
   "id": "7e1d9848",
   "metadata": {},
   "outputs": [],
   "source": []
  },
  {
   "cell_type": "code",
   "execution_count": null,
   "id": "0cc247aa",
   "metadata": {},
   "outputs": [],
   "source": []
  },
  {
   "cell_type": "code",
   "execution_count": null,
   "id": "c87e5312",
   "metadata": {},
   "outputs": [],
   "source": []
  },
  {
   "cell_type": "code",
   "execution_count": null,
   "id": "e7f667b9",
   "metadata": {},
   "outputs": [],
   "source": []
  },
  {
   "cell_type": "code",
   "execution_count": null,
   "id": "bac215a7",
   "metadata": {},
   "outputs": [],
   "source": []
  },
  {
   "cell_type": "code",
   "execution_count": 137,
   "id": "52bc65d6",
   "metadata": {},
   "outputs": [],
   "source": [
    "Gini_act =[]\n",
    "pbar = ProgressBar()\n",
    "for i in pbar(range(len(grads_CE))):\n",
    "#     x_act = np.sum(np.abs(grads_CE[i]))\n",
    "    x_act =[np.sum(np.abs(grads_CE[i])),\n",
    "            np.sum(np.abs(grads_CE2[i])),\n",
    "#             np.sum(np.abs(grads_CE_min[i])),\n",
    "#             np.sum(np.abs(grads_RCE[i])),\n",
    "#             np.sum(np.abs(grads_CE_ave[i])),\n",
    "            np.sum(np.abs(grads_pre1[i])),\n",
    "            np.sum(np.abs(grads_pre2[i])),\n",
    "#             np.sum(np.abs(grads_pre_min[i]))\n",
    "           ]\n",
    "#     print(i,':',x_act)\n",
    "    Gini_act.append(x_act)"
   ]
  },
  {
   "cell_type": "code",
   "execution_count": 138,
   "id": "d6248789",
   "metadata": {},
   "outputs": [],
   "source": [
    "Gini_act = np.array(Gini_act)\n",
    "indexs = np.argsort(Gini_act[:,0]*Gini_act[:,0])\n",
    "indexs = indexs[::-1]\n",
    "APFD,_,_ = get_APFD(Gini_indexs=indexs, ground_truth_label=Y_test, \n",
    "                predicted_confidence=np.array(predicted_confidence))\n",
    "print('APFD:', APFD)\n",
    "RAUC,_,_ = get_RAUC(Gini_indexs=indexs, ground_truth_label=Y_test, \n",
    "                predicted_confidence=np.array(predicted_confidence))\n",
    "print('RAUC:', RAUC)"
   ]
  },
  {
   "cell_type": "code",
   "execution_count": 132,
   "id": "9f1d7449",
   "metadata": {},
   "outputs": [
    {
     "data": {
      "text/plain": [
       "(300,)"
      ]
     },
     "execution_count": 132,
     "metadata": {},
     "output_type": "execute_result"
    }
   ],
   "source": [
    "np.shape(grads_CE)"
   ]
  },
  {
   "cell_type": "code",
   "execution_count": 119,
   "id": "8b8d24d9",
   "metadata": {},
   "outputs": [],
   "source": [
    "def get_gradients(img_input, model, top_pred_idx):\n",
    "    images = tf.cast(img_input, tf.float32)\n",
    "\n",
    "    with tf.GradientTape() as tape:\n",
    "        tape.watch(images)\n",
    "        preds = model(images)\n",
    "#         print(np.shape(images))\n",
    "#         print(np.shape(preds))\n",
    "        top_class = preds[:, top_pred_idx]\n",
    "\n",
    "    grads = tape.gradient(top_class, images)\n",
    "    return grads"
   ]
  },
  {
   "cell_type": "code",
   "execution_count": 22,
   "id": "4726ff94",
   "metadata": {},
   "outputs": [
    {
     "name": "stdout",
     "output_type": "stream",
     "text": [
      "Model: \"sequential\"\n",
      "_________________________________________________________________\n",
      "Layer (type)                 Output Shape              Param #   \n",
      "=================================================================\n",
      "dense (Dense)                (None, 784)               615440    \n",
      "_________________________________________________________________\n",
      "dense_1 (Dense)              (None, 128)               100480    \n",
      "_________________________________________________________________\n",
      "dense_2 (Dense)              (None, 32)                4128      \n",
      "_________________________________________________________________\n",
      "dense_3 (Dense)              (None, 10)                330       \n",
      "=================================================================\n",
      "Total params: 720,378\n",
      "Trainable params: 720,378\n",
      "Non-trainable params: 0\n",
      "_________________________________________________________________\n"
     ]
    }
   ],
   "source": [
    "model.summary()"
   ]
  },
  {
   "cell_type": "code",
   "execution_count": 19,
   "id": "43982d16",
   "metadata": {},
   "outputs": [
    {
     "name": "stderr",
     "output_type": "stream",
     "text": [
      "100% |########################################################################|\n",
      "100% |########################################################################|\n",
      "100% |########################################################################|\r"
     ]
    },
    {
     "name": "stdout",
     "output_type": "stream",
     "text": [
      "APFD: 0.7498684210526315\n",
      "RAUC: 0.8690330477356181\n"
     ]
    },
    {
     "name": "stderr",
     "output_type": "stream",
     "text": [
      "\n"
     ]
    }
   ],
   "source": [
    "# # use one layer's activation\n",
    "# get_activations = BE.function(inputs=model.inputs[0], outputs=model.layers[-1].output[:,:])\n",
    "# Gini_act = []\n",
    "# pbar = ProgressBar()\n",
    "# for x_tmp in pbar(X_test):    \n",
    "#     # 使用attention机制\n",
    "#     x_act = softmax(get_activations(x_tmp.reshape([-1,28*28])))\n",
    "#     att1 = np.dot(np.transpose(x_act), x_act)\n",
    "#     att_weight = np.sum(att1, axis = 1).reshape(np.shape(x_act))\n",
    "#     x_act_ = softmax(x_act*att_weight)\n",
    "#     Gini_tmp = 1-np.sum(x_act_*x_act_)\n",
    "#     Gini_tmp = -np.sum(x_act_*np.log2(x_act_))\n",
    "#     Gini_act.append(Gini_tmp)\n",
    "    \n",
    "#     # 未使用attention机制\n",
    "#     x_act = softmax(get_activations(x_tmp.reshape([-1,28*28])))\n",
    "#     Gini_tmp = 1-np.sum(x_act*x_act)\n",
    "# #     Gini_tmp = -np.sum(x_act*np.log2(x_act))\n",
    "#     Gini_act.append(Gini_tmp)\n",
    "\n",
    "# # use all layers' activation\n",
    "# pbar = ProgressBar()\n",
    "# get_activations1 = BE.function(inputs=model.inputs[0], outputs=model.layers[-1].output[:,:])\n",
    "# get_activations2 = BE.function(inputs=model.inputs[0], outputs=model.layers[-2].output[:,:])\n",
    "# get_activations3 = BE.function(inputs=model.inputs[0], outputs=model.layers[-3].output[:,:])\n",
    "# Gini_act = []\n",
    "# for x_tmp in pbar(X_test):\n",
    "#     x_act1 = softmax(get_activations1(x_tmp.reshape([-1,28*28])))\n",
    "#     x_act2 = softmax(get_activations2(x_tmp.reshape([-1,28*28])))\n",
    "#     x_act3 = softmax(get_activations3(x_tmp.reshape([-1,28*28])))\n",
    "# #     Gini_tmp = 1-np.sum(x_act3*x_act3)\n",
    "# #     Gini_tmp = 1-(np.sum(x_act1*x_act1)+np.sum(x_act2*x_act2)+np.sum(x_act3*x_act3))/3\n",
    "#     Gini_tmp = -np.sum(x_act3*np.log2(x_act3))\n",
    "# #     Gini_tmp = (-np.sum(x_act1*np.log2(x_act1))-np.sum(x_act2*np.log2(x_act2))-np.sum(x_act3*np.log2(x_act3)))/3\n",
    "#     Gini_act.append(Gini_tmp)\n",
    "    \n",
    "# indexs = np.argsort(Gini_act)\n",
    "# indexs = indexs[::-1]\n",
    "# o_i = 0\n",
    "# pbar = ProgressBar()\n",
    "# for i in pbar(range(0, (index1))):\n",
    "#     x_tmp = X_test[indexs[i]].reshape([-1,28*28])\n",
    "#     y_tmp = Y_test[indexs[i]]\n",
    "#     per_tmp = model.predict(x_tmp)\n",
    "#     if np.argmax(y_tmp)!=np.argmax(per_tmp):\n",
    "#         o_i = o_i+i\n",
    "# APFD = 1-o_i/(index1*(index1-index2))+1/(2*index1)\n",
    "# print(APFD)"
   ]
  },
  {
   "cell_type": "code",
   "execution_count": null,
   "id": "3854353e",
   "metadata": {},
   "outputs": [],
   "source": []
  },
  {
   "cell_type": "code",
   "execution_count": null,
   "id": "69ab7ff7",
   "metadata": {},
   "outputs": [],
   "source": []
  },
  {
   "cell_type": "code",
   "execution_count": null,
   "id": "5d156d70",
   "metadata": {},
   "outputs": [],
   "source": [
    "APFD 指标基于基尼系数\n",
    " 使用所有层\n",
    "0.9357219241773963 使用倒数第三层\n",
    "0.946923104434907 使用倒数第二层\n",
    "0.921514556509299 使用倒数第一层，即最后一层（DeepGini）\n",
    "\n",
    "\n",
    "APFD 指标基于信息熵\n",
    "0.9608580114449213 使用所有层\n",
    "0.9608580114449213 使用倒数第三层\n",
    "0.9326023962804005 使用倒数第二层\n",
    "0.9212451001430615 使用倒数第一层，即最后一层"
   ]
  },
  {
   "cell_type": "code",
   "execution_count": null,
   "id": "cedbb8c3",
   "metadata": {},
   "outputs": [],
   "source": []
  }
 ],
 "metadata": {
  "kernelspec": {
   "display_name": "Python 3",
   "language": "python",
   "name": "python3"
  },
  "language_info": {
   "codemirror_mode": {
    "name": "ipython",
    "version": 3
   },
   "file_extension": ".py",
   "mimetype": "text/x-python",
   "name": "python",
   "nbconvert_exporter": "python",
   "pygments_lexer": "ipython3",
   "version": "3.6.13"
  }
 },
 "nbformat": 4,
 "nbformat_minor": 5
}
