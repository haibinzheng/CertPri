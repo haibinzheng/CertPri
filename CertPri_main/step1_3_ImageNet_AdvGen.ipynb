{
 "cells": [
  {
   "cell_type": "code",
   "execution_count": 42,
   "id": "90b61167",
   "metadata": {},
   "outputs": [],
   "source": [
    "from tensorflow.keras.datasets import cifar10\n",
    "import numpy as np\n",
    "from tensorflow.keras.layers import Dense\n",
    "from tensorflow.keras.models import Sequential,load_model\n",
    "from tensorflow.keras.utils import to_categorical\n",
    "from sklearn.preprocessing import StandardScaler\n",
    "\n",
    "from tensorflow.keras.applications.vgg19 import VGG19, decode_predictions\n",
    "from tensorflow.keras.preprocessing import image\n",
    "from tensorflow.keras.applications.vgg19 import preprocess_input\n",
    "from tensorflow.keras.models import Model\n",
    "import cv2\n",
    "from keras_preprocessing.image import ImageDataGenerator\n",
    "\n",
    "from tensorflow.keras.layers import *\n",
    "from tensorflow.keras.models import *\n",
    "from tensorflow.keras.optimizers import *\n",
    "from tensorflow.keras import backend as BE\n",
    "from tensorflow.keras.losses import categorical_crossentropy\n",
    "from progressbar import ProgressBar\n",
    "import os\n",
    "import scipy.io\n",
    "import tensorflow as tf\n",
    "import json\n",
    "import sys\n",
    "sys.path.append('..')  \n",
    "from GradPri_utils.utils import *\n",
    "\n",
    "# from tensorflow.keras import backend as BE\n",
    "# from Integrated_Gradients_algorithm import *\n",
    "# from GradVisualizer import *\n",
    "\n",
    "os.environ[\"CUDA_VISIBLE_DEVICES\"] = \"5\"\n",
    "config=tf.compat.v1.ConfigProto()\n",
    "config.gpu_options.allow_growth=True   #不全部占满显存, 按需分配\n",
    "sess=tf.compat.v1.Session(config=config) \n",
    "\n",
    "# tf.compat.v1.disable_eager_execution()\n",
    "# tf.compat.v1.enable_eager_execution()"
   ]
  },
  {
   "cell_type": "code",
   "execution_count": 2,
   "id": "258f8c19",
   "metadata": {},
   "outputs": [],
   "source": [
    "DATA_PATH = '../datasets/ImageNetVal/'\n",
    "file_name = getfile_name(DATA_PATH)\n",
    "file_name = np.sort(file_name)\n",
    "\n",
    "f = open(\"../datasets/ILSVRC2012_devkit_t12/data/ILSVRC2012_validation_ground_truth.txt\",encoding = \"utf-8\")\n",
    "val_ground_truth = f.read()\n",
    "val_ground_truth = val_ground_truth.split('\\n')\n",
    "for i in range(len(val_ground_truth)-1):\n",
    "    val_ground_truth[i] = int(val_ground_truth[i])\n",
    "\n",
    "vgg19_json = json.load(open('/public/liujiawei/.keras/models/imagenet_class_index.json','r',encoding=\"utf-8\"))"
   ]
  },
  {
   "cell_type": "code",
   "execution_count": 3,
   "id": "67d6a7d4",
   "metadata": {},
   "outputs": [],
   "source": [
    "base_model = VGG19(weights='imagenet')"
   ]
  },
  {
   "cell_type": "code",
   "execution_count": 43,
   "id": "cdce5da9",
   "metadata": {},
   "outputs": [
    {
     "name": "stdout",
     "output_type": "stream",
     "text": [
      "n04263257\n",
      "soup bowl\n",
      "1300\n"
     ]
    }
   ],
   "source": [
    "synsets = scipy.io.loadmat(os.path.join('../datasets', 'ILSVRC2012_devkit_t12', 'data', 'meta.mat'))['synsets']\n",
    "\n",
    "ILSVRC2012_ID = [s[0][0][0][0] for s in synsets]\n",
    "\n",
    "index1 = 821\n",
    "WNID = [s[0][1][0] for s in synsets]\n",
    "print(WNID[index1])\n",
    "\n",
    "words = [s[0][2][0] for s in synsets]\n",
    "print(words[index1])\n",
    "\n",
    "num_train_images = [s[0][7][0][0] for s in synsets]\n",
    "print(num_train_images[0])"
   ]
  },
  {
   "cell_type": "code",
   "execution_count": 5,
   "id": "e5b25b12",
   "metadata": {},
   "outputs": [
    {
     "name": "stdout",
     "output_type": "stream",
     "text": [
      "Model: \"vgg19\"\n",
      "_________________________________________________________________\n",
      "Layer (type)                 Output Shape              Param #   \n",
      "=================================================================\n",
      "input_1 (InputLayer)         [(None, 224, 224, 3)]     0         \n",
      "_________________________________________________________________\n",
      "block1_conv1 (Conv2D)        (None, 224, 224, 64)      1792      \n",
      "_________________________________________________________________\n",
      "block1_conv2 (Conv2D)        (None, 224, 224, 64)      36928     \n",
      "_________________________________________________________________\n",
      "block1_pool (MaxPooling2D)   (None, 112, 112, 64)      0         \n",
      "_________________________________________________________________\n",
      "block2_conv1 (Conv2D)        (None, 112, 112, 128)     73856     \n",
      "_________________________________________________________________\n",
      "block2_conv2 (Conv2D)        (None, 112, 112, 128)     147584    \n",
      "_________________________________________________________________\n",
      "block2_pool (MaxPooling2D)   (None, 56, 56, 128)       0         \n",
      "_________________________________________________________________\n",
      "block3_conv1 (Conv2D)        (None, 56, 56, 256)       295168    \n",
      "_________________________________________________________________\n",
      "block3_conv2 (Conv2D)        (None, 56, 56, 256)       590080    \n",
      "_________________________________________________________________\n",
      "block3_conv3 (Conv2D)        (None, 56, 56, 256)       590080    \n",
      "_________________________________________________________________\n",
      "block3_conv4 (Conv2D)        (None, 56, 56, 256)       590080    \n",
      "_________________________________________________________________\n",
      "block3_pool (MaxPooling2D)   (None, 28, 28, 256)       0         \n",
      "_________________________________________________________________\n",
      "block4_conv1 (Conv2D)        (None, 28, 28, 512)       1180160   \n",
      "_________________________________________________________________\n",
      "block4_conv2 (Conv2D)        (None, 28, 28, 512)       2359808   \n",
      "_________________________________________________________________\n",
      "block4_conv3 (Conv2D)        (None, 28, 28, 512)       2359808   \n",
      "_________________________________________________________________\n",
      "block4_conv4 (Conv2D)        (None, 28, 28, 512)       2359808   \n",
      "_________________________________________________________________\n",
      "block4_pool (MaxPooling2D)   (None, 14, 14, 512)       0         \n",
      "_________________________________________________________________\n",
      "block5_conv1 (Conv2D)        (None, 14, 14, 512)       2359808   \n",
      "_________________________________________________________________\n",
      "block5_conv2 (Conv2D)        (None, 14, 14, 512)       2359808   \n",
      "_________________________________________________________________\n",
      "block5_conv3 (Conv2D)        (None, 14, 14, 512)       2359808   \n",
      "_________________________________________________________________\n",
      "block5_conv4 (Conv2D)        (None, 14, 14, 512)       2359808   \n",
      "_________________________________________________________________\n",
      "block5_pool (MaxPooling2D)   (None, 7, 7, 512)         0         \n",
      "_________________________________________________________________\n",
      "flatten (Flatten)            (None, 25088)             0         \n",
      "_________________________________________________________________\n",
      "fc1 (Dense)                  (None, 4096)              102764544 \n",
      "_________________________________________________________________\n",
      "fc2 (Dense)                  (None, 4096)              16781312  \n",
      "_________________________________________________________________\n",
      "predictions (Dense)          (None, 1000)              4097000   \n",
      "=================================================================\n",
      "Total params: 143,667,240\n",
      "Trainable params: 143,667,240\n",
      "Non-trainable params: 0\n",
      "_________________________________________________________________\n"
     ]
    }
   ],
   "source": [
    "base_model.summary()"
   ]
  },
  {
   "cell_type": "code",
   "execution_count": 180,
   "id": "17e6500a",
   "metadata": {},
   "outputs": [
    {
     "name": "stdout",
     "output_type": "stream",
     "text": [
      "332 0.8655515\n",
      "True\n",
      "153 0.047508273\n",
      "332\n",
      "0.14438844\n"
     ]
    }
   ],
   "source": [
    "i = 9\n",
    "img_path = DATA_PATH + file_name[i]\n",
    "img = image.load_img(img_path, target_size=(224, 224))\n",
    "x_tmp = image.img_to_array(img)\n",
    "x_tmp = np.expand_dims(x_tmp, axis=0)\n",
    "x_tmp = preprocess_input(x_tmp)\n",
    "pre_tmp = base_model.predict(np.reshape(x_tmp, [-1,224,224,3]))\n",
    "print(np.argmax(pre_tmp), pre_tmp[0][np.argmax(pre_tmp)])\n",
    "print(get_acc(predict_label=decode_predictions(pre_tmp, top=top_set), \n",
    "               ground_truth=WNID[val_ground_truth[i]-1]))\n",
    "target_label = np.argsort(-pre_tmp) \n",
    "target_label = target_label[:,1][0]\n",
    "print(target_label, pre_tmp[0][target_label])\n",
    "x_adv_tmp = x_tmp.copy()\n",
    "label_argmax = np.argmax(pre_tmp)\n",
    "target_one_hot = np.reshape(to_categorical(label_argmax, num_class),(1,-1))\n",
    "print(label_argmax)\n",
    "loss0 = tf.keras.backend.eval(cce(target_one_hot, pre_tmp))\n",
    "print(loss0)"
   ]
  },
  {
   "cell_type": "code",
   "execution_count": 181,
   "id": "d670f9a7",
   "metadata": {},
   "outputs": [
    {
     "name": "stdout",
     "output_type": "stream",
     "text": [
      "0.8756693\n",
      "0.14438844 0.12295783 0.16886184\n"
     ]
    }
   ],
   "source": [
    "grads = get_loss_gradients(x_adv_tmp, base_model, target_one_hot)\n",
    "x_adv_tmp1 = np.clip(x_adv_tmp - grads*100, np.min(x_tmp), np.max(x_tmp))\n",
    "pre_tmp1 = base_model.predict(np.reshape(x_adv_tmp1, [-1,224,224,3]))\n",
    "loss1 = tf.keras.backend.eval(cce(target_one_hot, pre_tmp1))\n",
    "x_adv_tmp2 = np.clip(x_adv_tmp + grads*100, np.min(x_tmp), np.max(x_tmp))\n",
    "pre_tmp2 = base_model.predict(np.reshape(x_adv_tmp2, [-1,224,224,3]))\n",
    "loss2 = tf.keras.backend.eval(cce(target_one_hot, pre_tmp2))\n",
    "print((loss1-loss0)/(loss0-loss2))\n",
    "print(loss0,loss1,loss2)\n",
    "# print(np.argmax(pre_tmp), pre_tmp[0][np.argmax(pre_tmp)])\n",
    "# print(get_acc(predict_label=decode_predictions(pre_tmp, top=top_set), \n",
    "#                ground_truth=WNID[val_ground_truth[i]-1]))\n",
    "# target_label = np.argsort(-pre_tmp) \n",
    "# target_label = target_label[:,1][0]\n",
    "# print(target_label, pre_tmp[0][target_label])"
   ]
  },
  {
   "cell_type": "code",
   "execution_count": 157,
   "id": "e6c3e751",
   "metadata": {},
   "outputs": [],
   "source": [
    "cce = tf.keras.losses.CategoricalCrossentropy()"
   ]
  },
  {
   "cell_type": "code",
   "execution_count": 156,
   "id": "6865eb80",
   "metadata": {},
   "outputs": [
    {
     "name": "stdout",
     "output_type": "stream",
     "text": [
      "0.9962915\n",
      "0.933456 0.9328155 0.9321726\n"
     ]
    }
   ],
   "source": [
    "grads = get_gradients(x_adv_tmp, base_model, label_argmax)\n",
    "# target_one_hot = np.reshape(to_categorical(58, num_class),(1,-1))\n",
    "# grads = get_loss_gradients(x_adv_tmp, base_model, target_one_hot)\n",
    "x_adv_tmp1 = np.clip(x_adv_tmp + grads*100, np.min(x_tmp), np.max(x_tmp))\n",
    "pre_tmp1 = base_model.predict(np.reshape(x_adv_tmp1, [-1,224,224,3]))\n",
    "x_adv_tmp2 = np.clip(x_adv_tmp - grads*100, np.min(x_tmp), np.max(x_tmp))\n",
    "pre_tmp2 = base_model.predict(np.reshape(x_adv_tmp2, [-1,224,224,3]))\n",
    "print((pre_tmp1[0][label_argmax]-pre_tmp[0][label_argmax])/(pre_tmp[0][label_argmax]-pre_tmp2[0][label_argmax]))\n",
    "print(pre_tmp1[0][label_argmax],pre_tmp[0][label_argmax],pre_tmp2[0][label_argmax])\n",
    "# print(np.argmax(pre_tmp), pre_tmp[0][np.argmax(pre_tmp)])\n",
    "# print(get_acc(predict_label=decode_predictions(pre_tmp, top=top_set), \n",
    "#                ground_truth=WNID[val_ground_truth[i]-1]))\n",
    "# target_label = np.argsort(-pre_tmp) \n",
    "# target_label = target_label[:,1][0]\n",
    "# print(target_label, pre_tmp[0][target_label])"
   ]
  },
  {
   "cell_type": "code",
   "execution_count": 195,
   "id": "12714e08",
   "metadata": {},
   "outputs": [
    {
     "name": "stderr",
     "output_type": "stream",
     "text": [
      "/public/liujiawei/anaconda3/envs/ZHB_env/lib/python3.6/site-packages/ipykernel_launcher.py:36: RuntimeWarning: invalid value encountered in float_scalars\n",
      "/public/liujiawei/anaconda3/envs/ZHB_env/lib/python3.6/site-packages/ipykernel_launcher.py:36: RuntimeWarning: divide by zero encountered in float_scalars\n",
      "100% |########################################################################|\n"
     ]
    }
   ],
   "source": [
    "top_set = 1 # 预测的前n个类中包含真实标签则表示预测正确\n",
    "total_sample_num = 100\n",
    "img_num = range(0, total_sample_num)\n",
    "ground_truth_label = []  # 记录样本的真实标签\n",
    "predicted_confidence = []  # 记录样本的置信度信息\n",
    "Gini = []\n",
    "num_class = 1000\n",
    "DATA_PATH = '../datasets/ImageNetVal/'\n",
    "file_name = getfile_name(DATA_PATH)\n",
    "file_name = np.sort(file_name)\n",
    "\n",
    "pbar = ProgressBar()\n",
    "for i in pbar(img_num):\n",
    "    img_path = DATA_PATH + file_name[i]\n",
    "    img = image.load_img(img_path, target_size=(224, 224))\n",
    "    x_tmp = image.img_to_array(img)\n",
    "    x_tmp = np.expand_dims(x_tmp, axis=0)\n",
    "    x_tmp = preprocess_input(x_tmp)\n",
    "    pre_tmp = base_model.predict(np.reshape(x_tmp, [-1,224,224,3]))\n",
    "    predicted_confidence.append(pre_tmp)\n",
    "    ground_truth_label.append(WNID[val_ground_truth[i]-1])\n",
    "    \n",
    "    x_adv_tmp = x_tmp.copy()\n",
    "    label_argmax = np.argmax(pre_tmp)\n",
    "    target_one_hot = np.reshape(to_categorical(label_argmax, num_class),(1,-1))\n",
    "#     loss0 = tf.keras.backend.eval(cce(target_one_hot, pre_tmp))\n",
    "    \n",
    "    grads = get_loss_gradients(x_adv_tmp, base_model, target_one_hot)\n",
    "    x_adv_tmp1 = x_adv_tmp - grads*100\n",
    "    pre_tmp1 = base_model.predict(np.reshape(x_adv_tmp1, [-1,224,224,3]))\n",
    "#     loss1 = tf.keras.backend.eval(cce(target_one_hot, pre_tmp1))\n",
    "    \n",
    "    x_adv_tmp2 = x_adv_tmp + grads*100\n",
    "    pre_tmp2 = base_model.predict(np.reshape(x_adv_tmp2, [-1,224,224,3]))\n",
    "#     loss2 = tf.keras.backend.eval(cce(target_one_hot, pre_tmp2))\n",
    "    Gini.append((pre_tmp1[0][label_argmax]-pre_tmp[0][label_argmax])/(pre_tmp[0][label_argmax]-pre_tmp2[0][label_argmax]))"
   ]
  },
  {
   "cell_type": "code",
   "execution_count": 196,
   "id": "95ffc2a7",
   "metadata": {},
   "outputs": [
    {
     "name": "stderr",
     "output_type": "stream",
     "text": [
      "100% |########################################################################|\n",
      "100% |########################################################################|\r"
     ]
    },
    {
     "name": "stdout",
     "output_type": "stream",
     "text": [
      "APFD:  0.5544285714285714\n",
      "RAUC:  0.6619621342512909\n"
     ]
    },
    {
     "name": "stderr",
     "output_type": "stream",
     "text": [
      "\n"
     ]
    }
   ],
   "source": [
    "indexs = np.argsort(Gini)\n",
    "indexs = indexs[::-1]\n",
    "# 计算APFD指标\n",
    "APFD,_,_ = get_APFD(Gini_indexs=indexs, ground_truth_label=np.array(ground_truth_label), \n",
    "                    predicted_confidence=np.array(predicted_confidence), top_set=top_set,\n",
    "                   decode_predictions=decode_predictions)\n",
    "print(\"APFD: \", APFD)\n",
    "\n",
    "# 计算RAUC指标\n",
    "RAUC,_,_ = get_RAUC(Gini_indexs=indexs, ground_truth_label=np.array(ground_truth_label), \n",
    "                    predicted_confidence=np.array(predicted_confidence), top_set=top_set,\n",
    "                    decode_predictions=decode_predictions)\n",
    "print(\"RAUC: \", RAUC)"
   ]
  },
  {
   "cell_type": "code",
   "execution_count": null,
   "id": "56ae96d0",
   "metadata": {},
   "outputs": [],
   "source": []
  },
  {
   "cell_type": "code",
   "execution_count": null,
   "id": "72571eb3",
   "metadata": {},
   "outputs": [],
   "source": []
  },
  {
   "cell_type": "code",
   "execution_count": 14,
   "id": "60cf557e",
   "metadata": {},
   "outputs": [
    {
     "name": "stderr",
     "output_type": "stream",
     "text": [
      "100% |########################################################################|\n"
     ]
    }
   ],
   "source": [
    "top_set = 1 # 预测的前n个类中包含真实标签则表示预测正确\n",
    "total_sample_num = 3000\n",
    "img_num = range(0, total_sample_num)\n",
    "ground_truth_label = []  # 记录样本的真实标签\n",
    "predicted_confidence = []  # 记录样本的置信度信息\n",
    "num_class = 1000\n",
    "DATA_PATH = '../datasets/ImageNetVal/'\n",
    "file_name = getfile_name(DATA_PATH)\n",
    "file_name = np.sort(file_name)\n",
    "\n",
    "X_adv = []  # 保存对抗样本\n",
    "X_org = []  # 保存对抗样本对应的原始样本\n",
    "ground_truth_label = []  # 记录样本的真实标签\n",
    "predicted_confidence = []  # 记录原始样本的置信度信息\n",
    "X_adv_predicted_confidence = []  # 记录对抗样本的置信度信息\n",
    "index1 = [] # 记录被攻击成功的样本的位置\n",
    "max_iter = 1\n",
    "eps_pertur = 5e+5\n",
    "max_mean_pertur = 10\n",
    "conf_thre = 0.8 # 对抗样本的置信度阈值\n",
    "\n",
    "pbar = ProgressBar()\n",
    "for i in pbar(img_num):\n",
    "    img_path = DATA_PATH + file_name[i]\n",
    "    img = image.load_img(img_path, target_size=(224, 224))\n",
    "    x_tmp = image.img_to_array(img)\n",
    "    x_tmp = np.expand_dims(x_tmp, axis=0)\n",
    "    x_tmp = preprocess_input(x_tmp)\n",
    "    pre_tmp = base_model.predict(np.reshape(x_tmp, [-1,224,224,3]))\n",
    "    \n",
    "    if get_acc(predict_label=decode_predictions(pre_tmp, top=top_set), \n",
    "               ground_truth=WNID[val_ground_truth[i]-1]): # 选取能够被正确分类的样本\n",
    "        target_one_hot = np.reshape(to_categorical(np.argmax(pre_tmp), num_class),(1,-1))\n",
    "        x_adv_tmp = x_tmp.copy()\n",
    "        \n",
    "        target_label = np.argsort(-pre_tmp) \n",
    "        target_label = target_label[:,1][0]  # 置信度第二高的标签，作为目标标签\n",
    "#         grads = BE.gradients(loss = base_model.layers[-1].output[:,target_label], variables = base_model.inputs)\n",
    "#         get_gradients = BE.function(inputs=base_model.inputs[0], outputs=grads)\n",
    "#         pbar = ProgressBar()\n",
    "        for ii in range(0, max_iter):\n",
    "            grads = get_gradients(x_adv_tmp, base_model, target_label)\n",
    "            x_adv_tmp = np.clip(x_adv_tmp + grads*eps_pertur, np.min(x_tmp), np.max(x_tmp))\n",
    "            \n",
    "            if np.mean(np.abs(x_adv_tmp-x_tmp)) > max_mean_pertur:  # 如果扰动大于平均对抗扰动，则跳出迭代\n",
    "                break\n",
    "                \n",
    "            x_adv_pre_tmp = base_model.predict(np.reshape(x_adv_tmp, [-1,224,224,3]))\n",
    "            if not get_acc(predict_label=decode_predictions(x_adv_pre_tmp, top=top_set), \n",
    "                            ground_truth=WNID[val_ground_truth[i]-1]):  # 如果攻击成功，则判断置信度\n",
    "                if np.max(x_adv_pre_tmp) > conf_thre : # 当置信度大于阈值，保存该样本\n",
    "#                     print('attack succeed!')\n",
    "                    X_adv.append(x_adv_tmp)\n",
    "                    X_org.append(x_tmp)\n",
    "                    ground_truth_label.append(WNID[val_ground_truth[i]-1])\n",
    "                    X_adv_predicted_confidence.append(x_adv_pre_tmp)\n",
    "                    predicted_confidence.append(pre_tmp)\n",
    "                    index1.append(i)\n",
    "                    break"
   ]
  },
  {
   "cell_type": "code",
   "execution_count": 15,
   "id": "6177c944",
   "metadata": {},
   "outputs": [
    {
     "data": {
      "text/plain": [
       "(556,)"
      ]
     },
     "execution_count": 15,
     "metadata": {},
     "output_type": "execute_result"
    }
   ],
   "source": [
    "np.shape(index1)"
   ]
  },
  {
   "cell_type": "code",
   "execution_count": null,
   "id": "cff401a3",
   "metadata": {},
   "outputs": [],
   "source": []
  },
  {
   "cell_type": "code",
   "execution_count": 16,
   "id": "3dc0370a",
   "metadata": {},
   "outputs": [],
   "source": [
    "np.save('./featureExtraction/ImageNet_'+str(len(index1))+'samples_OneStepAdvOrg.npy',{\n",
    "    'X_adv': np.array(X_adv),\n",
    "    'X_org': np.array(X_org),\n",
    "    'ground_truth_label': np.array(ground_truth_label),\n",
    "    'X_adv_predicted_confidence': np.array(X_adv_predicted_confidence),\n",
    "    'predicted_confidence': np.array(predicted_confidence),\n",
    "    'index1': np.array(index1),\n",
    "}) "
   ]
  },
  {
   "cell_type": "code",
   "execution_count": null,
   "id": "7248654d",
   "metadata": {},
   "outputs": [],
   "source": []
  },
  {
   "cell_type": "code",
   "execution_count": null,
   "id": "04305c12",
   "metadata": {},
   "outputs": [],
   "source": []
  },
  {
   "cell_type": "code",
   "execution_count": 18,
   "id": "6bcb1b55",
   "metadata": {},
   "outputs": [
    {
     "name": "stderr",
     "output_type": "stream",
     "text": [
      "Clipping input data to the valid range for imshow with RGB data ([0..1] for floats or [0..255] for integers).\n",
      "Clipping input data to the valid range for imshow with RGB data ([0..1] for floats or [0..255] for integers).\n"
     ]
    },
    {
     "data": {
      "text/plain": [
       "<matplotlib.image.AxesImage at 0x7fde90364b70>"
      ]
     },
     "execution_count": 18,
     "metadata": {},
     "output_type": "execute_result"
    },
    {
     "data": {
      "image/png": "[encoded data removed]",
      "text/plain": [
       "<Figure size 432x288 with 2 Axes>"
      ]
     },
     "metadata": {
      "needs_background": "light"
     },
     "output_type": "display_data"
    }
   ],
   "source": [
    "plt.figure()\n",
    "pos1 = 3\n",
    "plt.subplot(121)\n",
    "plt.imshow(X_adv[pos1].reshape((224, 224, 3)))\n",
    "plt.subplot(122)\n",
    "plt.imshow(X_org[pos1].reshape((224, 224, 3)))"
   ]
  },
  {
   "cell_type": "code",
   "execution_count": 19,
   "id": "e13e75f6",
   "metadata": {},
   "outputs": [
    {
     "data": {
      "text/plain": [
       "2.0211413"
      ]
     },
     "execution_count": 19,
     "metadata": {},
     "output_type": "execute_result"
    }
   ],
   "source": [
    "np.mean(np.abs(X_adv[pos1]-X_org[pos1]))"
   ]
  },
  {
   "cell_type": "code",
   "execution_count": null,
   "id": "eb59d460",
   "metadata": {},
   "outputs": [],
   "source": []
  }
 ],
 "metadata": {
  "kernelspec": {
   "display_name": "Python 3",
   "language": "python",
   "name": "python3"
  },
  "language_info": {
   "codemirror_mode": {
    "name": "ipython",
    "version": 3
   },
   "file_extension": ".py",
   "mimetype": "text/x-python",
   "name": "python",
   "nbconvert_exporter": "python",
   "pygments_lexer": "ipython3",
   "version": "3.6.13"
  }
 },
 "nbformat": 4,
 "nbformat_minor": 5
}
