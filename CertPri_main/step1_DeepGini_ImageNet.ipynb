{
 "cells": [
  {
   "cell_type": "code",
   "execution_count": 1,
   "id": "90b61167",
   "metadata": {},
   "outputs": [],
   "source": [
    "from tensorflow.keras.datasets import cifar10\n",
    "import numpy as np\n",
    "from tensorflow.keras.layers import Dense\n",
    "from tensorflow.keras.models import Sequential,load_model\n",
    "from tensorflow.keras.utils import to_categorical\n",
    "from sklearn.preprocessing import StandardScaler\n",
    "\n",
    "from tensorflow.keras.applications.vgg19 import VGG19, decode_predictions\n",
    "from tensorflow.keras.preprocessing import image\n",
    "from tensorflow.keras.applications.vgg19 import preprocess_input\n",
    "from tensorflow.keras.models import Model\n",
    "import cv2\n",
    "from keras_preprocessing.image import ImageDataGenerator\n",
    "\n",
    "from tensorflow.keras.layers import *\n",
    "from tensorflow.keras.models import *\n",
    "from tensorflow.keras.optimizers import *\n",
    "from tensorflow.keras import backend as BE\n",
    "from tensorflow.keras.losses import categorical_crossentropy\n",
    "from progressbar import ProgressBar\n",
    "import os\n",
    "import scipy.io\n",
    "import tensorflow as tf\n",
    "import json\n",
    "import sys\n",
    "sys.path.append('..')  \n",
    "from GradPri_utils.utils import *\n",
    "\n",
    "# from tensorflow.keras import backend as BE\n",
    "# from Integrated_Gradients_algorithm import *\n",
    "# from GradVisualizer import *\n",
    "\n",
    "os.environ[\"CUDA_VISIBLE_DEVICES\"] = \"4\"\n",
    "config=tf.compat.v1.ConfigProto()\n",
    "config.gpu_options.allow_growth=True   #不全部占满显存, 按需分配\n",
    "sess=tf.compat.v1.Session(config=config) \n",
    "\n",
    "# tf.compat.v1.disable_eager_execution()\n",
    "# tf.compat.v1.enable_eager_execution()"
   ]
  },
  {
   "cell_type": "code",
   "execution_count": 2,
   "id": "258f8c19",
   "metadata": {},
   "outputs": [],
   "source": [
    "DATA_PATH = '../datasets/ImageNetVal/'\n",
    "file_name = getfile_name(DATA_PATH)\n",
    "file_name = np.sort(file_name)\n",
    "\n",
    "f = open(\"../datasets/ILSVRC2012_devkit_t12/data/ILSVRC2012_validation_ground_truth.txt\",encoding = \"utf-8\")\n",
    "val_ground_truth = f.read()\n",
    "val_ground_truth = val_ground_truth.split('\\n')\n",
    "for i in range(len(val_ground_truth)-1):\n",
    "    val_ground_truth[i] = int(val_ground_truth[i])\n",
    "\n",
    "    \n",
    "vgg19_json = json.load(open('/public/liujiawei/.keras/models/imagenet_class_index.json','r',encoding=\"utf-8\"))"
   ]
  },
  {
   "cell_type": "code",
   "execution_count": 3,
   "id": "67d6a7d4",
   "metadata": {},
   "outputs": [],
   "source": [
    "base_model = VGG19(weights='imagenet')"
   ]
  },
  {
   "cell_type": "code",
   "execution_count": 4,
   "id": "cdce5da9",
   "metadata": {},
   "outputs": [
    {
     "name": "stdout",
     "output_type": "stream",
     "text": [
      "n04263257\n",
      "soup bowl\n",
      "1300\n"
     ]
    }
   ],
   "source": [
    "synsets = scipy.io.loadmat(os.path.join('/public/liujiawei/huawei/ZHB/ADF-master/datasets', 'ILSVRC2012_devkit_t12', 'data', 'meta.mat'))['synsets']\n",
    "\n",
    "ILSVRC2012_ID = [s[0][0][0][0] for s in synsets]\n",
    "\n",
    "index1 = 821\n",
    "WNID = [s[0][1][0] for s in synsets]\n",
    "print(WNID[index1])\n",
    "\n",
    "words = [s[0][2][0] for s in synsets]\n",
    "print(words[index1])\n",
    "\n",
    "num_train_images = [s[0][7][0][0] for s in synsets]\n",
    "print(num_train_images[0])"
   ]
  },
  {
   "cell_type": "code",
   "execution_count": 5,
   "id": "e5b25b12",
   "metadata": {
    "scrolled": true
   },
   "outputs": [
    {
     "name": "stdout",
     "output_type": "stream",
     "text": [
      "Model: \"vgg19\"\n",
      "_________________________________________________________________\n",
      "Layer (type)                 Output Shape              Param #   \n",
      "=================================================================\n",
      "input_1 (InputLayer)         [(None, 224, 224, 3)]     0         \n",
      "_________________________________________________________________\n",
      "block1_conv1 (Conv2D)        (None, 224, 224, 64)      1792      \n",
      "_________________________________________________________________\n",
      "block1_conv2 (Conv2D)        (None, 224, 224, 64)      36928     \n",
      "_________________________________________________________________\n",
      "block1_pool (MaxPooling2D)   (None, 112, 112, 64)      0         \n",
      "_________________________________________________________________\n",
      "block2_conv1 (Conv2D)        (None, 112, 112, 128)     73856     \n",
      "_________________________________________________________________\n",
      "block2_conv2 (Conv2D)        (None, 112, 112, 128)     147584    \n",
      "_________________________________________________________________\n",
      "block2_pool (MaxPooling2D)   (None, 56, 56, 128)       0         \n",
      "_________________________________________________________________\n",
      "block3_conv1 (Conv2D)        (None, 56, 56, 256)       295168    \n",
      "_________________________________________________________________\n",
      "block3_conv2 (Conv2D)        (None, 56, 56, 256)       590080    \n",
      "_________________________________________________________________\n",
      "block3_conv3 (Conv2D)        (None, 56, 56, 256)       590080    \n",
      "_________________________________________________________________\n",
      "block3_conv4 (Conv2D)        (None, 56, 56, 256)       590080    \n",
      "_________________________________________________________________\n",
      "block3_pool (MaxPooling2D)   (None, 28, 28, 256)       0         \n",
      "_________________________________________________________________\n",
      "block4_conv1 (Conv2D)        (None, 28, 28, 512)       1180160   \n",
      "_________________________________________________________________\n",
      "block4_conv2 (Conv2D)        (None, 28, 28, 512)       2359808   \n",
      "_________________________________________________________________\n",
      "block4_conv3 (Conv2D)        (None, 28, 28, 512)       2359808   \n",
      "_________________________________________________________________\n",
      "block4_conv4 (Conv2D)        (None, 28, 28, 512)       2359808   \n",
      "_________________________________________________________________\n",
      "block4_pool (MaxPooling2D)   (None, 14, 14, 512)       0         \n",
      "_________________________________________________________________\n",
      "block5_conv1 (Conv2D)        (None, 14, 14, 512)       2359808   \n",
      "_________________________________________________________________\n",
      "block5_conv2 (Conv2D)        (None, 14, 14, 512)       2359808   \n",
      "_________________________________________________________________\n",
      "block5_conv3 (Conv2D)        (None, 14, 14, 512)       2359808   \n",
      "_________________________________________________________________\n",
      "block5_conv4 (Conv2D)        (None, 14, 14, 512)       2359808   \n",
      "_________________________________________________________________\n",
      "block5_pool (MaxPooling2D)   (None, 7, 7, 512)         0         \n",
      "_________________________________________________________________\n",
      "flatten (Flatten)            (None, 25088)             0         \n",
      "_________________________________________________________________\n",
      "fc1 (Dense)                  (None, 4096)              102764544 \n",
      "_________________________________________________________________\n",
      "fc2 (Dense)                  (None, 4096)              16781312  \n",
      "_________________________________________________________________\n",
      "predictions (Dense)          (None, 1000)              4097000   \n",
      "=================================================================\n",
      "Total params: 143,667,240\n",
      "Trainable params: 143,667,240\n",
      "Non-trainable params: 0\n",
      "_________________________________________________________________\n"
     ]
    }
   ],
   "source": [
    "base_model.summary()"
   ]
  },
  {
   "cell_type": "code",
   "execution_count": null,
   "id": "5f419fc7",
   "metadata": {},
   "outputs": [],
   "source": []
  },
  {
   "cell_type": "code",
   "execution_count": 6,
   "id": "60cf557e",
   "metadata": {},
   "outputs": [
    {
     "name": "stderr",
     "output_type": "stream",
     "text": [
      "100% |########################################################################|\n"
     ]
    }
   ],
   "source": [
    "Gini = []\n",
    "top_set = 1 # 预测的前n个类中包含真实标签则表示预测正确\n",
    "total_sample_num = 100\n",
    "img_num = range(0, total_sample_num)\n",
    "ground_truth_label = []  # 记录样本的真实标签\n",
    "predicted_confidence = []  # 记录样本的置信度信息\n",
    "Gini = []\n",
    "\n",
    "pbar = ProgressBar()\n",
    "for i in pbar(img_num):\n",
    "    img_path = DATA_PATH + file_name[i]\n",
    "    img = image.load_img(img_path, target_size=(224, 224))\n",
    "    x_tmp = image.img_to_array(img)\n",
    "    x_tmp = np.expand_dims(x_tmp, axis=0)\n",
    "    x_tmp = preprocess_input(x_tmp)\n",
    "    pre_tmp = base_model.predict(np.reshape(x_tmp, [-1,224,224,3]))\n",
    "    \n",
    "    Gini.append(1-np.sum(pre_tmp*pre_tmp))\n",
    "    predicted_confidence.append(pre_tmp)\n",
    "    ground_truth_label.append(WNID[val_ground_truth[i]-1])"
   ]
  },
  {
   "cell_type": "code",
   "execution_count": 7,
   "id": "7497d0c1",
   "metadata": {},
   "outputs": [
    {
     "name": "stderr",
     "output_type": "stream",
     "text": [
      "100% |########################################################################|\n",
      "100% |########################################################################|\r"
     ]
    },
    {
     "name": "stdout",
     "output_type": "stream",
     "text": [
      "APFD:  0.777\n",
      "RAUC:  0.9301204819277108\n"
     ]
    },
    {
     "name": "stderr",
     "output_type": "stream",
     "text": [
      "\n"
     ]
    }
   ],
   "source": [
    "indexs = np.argsort(Gini)\n",
    "indexs = indexs[::-1]\n",
    "top_set=1\n",
    "# 计算APFD指标\n",
    "APFD,_,_ = get_APFD(Gini_indexs=indexs, ground_truth_label=np.array(ground_truth_label), \n",
    "                    predicted_confidence=np.array(predicted_confidence), top_set=top_set,\n",
    "                    decode_predictions=decode_predictions)\n",
    "print(\"APFD: \", APFD)\n",
    "\n",
    "# 计算RAUC指标\n",
    "RAUC,_,_ = get_RAUC(Gini_indexs=indexs, ground_truth_label=np.array(ground_truth_label), \n",
    "                    predicted_confidence=np.array(predicted_confidence), top_set=top_set,\n",
    "                    decode_predictions=decode_predictions)\n",
    "print(\"RAUC: \", RAUC)"
   ]
  },
  {
   "cell_type": "code",
   "execution_count": 98,
   "id": "d3ce9768",
   "metadata": {},
   "outputs": [],
   "source": [
    "from functools import reduce\n",
    "from art.utils import random_sphere\n",
    "from art.config import ART_NUMPY_DTYPE\n",
    "import sys\n",
    "sys.path.append('..')  \n",
    "from GradPri_utils.utils import *\n",
    "from scipy.stats import weibull_min\n",
    "from scipy.optimize import fmin as scipy_optimizer\n",
    "\n",
    "def inverper_c(classifier, x, nb_batches, batch_size, radius, norm, c_init=1.0, pool_factor=5, prob_constant=0.05):\n",
    "    \"\"\"\"\n",
    "\n",
    "    x: np.ndarray,\n",
    "    nb_batches: int,\n",
    "    batch_size: int,\n",
    "    radius: float,\n",
    "    norm: float,\n",
    "    c_init: float = 1.0,\n",
    "    pool_factor: int = 10,\n",
    "    prob_constant: float = 0.5,\n",
    "\n",
    "    :param classifier: A trained model.\n",
    "    :param x: One input sample.\n",
    "    :param nb_batches: Number of repetitions of the estimate.\n",
    "    :param batch_size: Number of random examples to sample per batch.\n",
    "    :param radius: Radius of the maximum perturbation.\n",
    "    :param norm: Current support: 1, 2, np.inf.\n",
    "    :param c_init: Initialization of Weibull distribution.\n",
    "    :param pool_factor: The factor to create a pool of random samples with size pool_factor x n_s.\n",
    "    :return: CLEVER score.\n",
    "    \"\"\"\n",
    "    # Check if the targeted class is different from the predicted class\n",
    "#     y_pred = classifier.predict(np.array([x]))\n",
    "    y_pred = classifier.predict(np.reshape(x, [-1,224,224,3]))\n",
    "    pred_class = np.argmax(y_pred, axis=1)[0]\n",
    "\n",
    "    # Check if pool_factor is smaller than 1\n",
    "    if pool_factor < 1:  # pragma: no cover\n",
    "        raise ValueError(\"The `pool_factor` must be larger than 1.\")\n",
    "\n",
    "    # Some auxiliary vars\n",
    "    rand_pool_grad_set = []\n",
    "    grad_norm_set = []\n",
    "    dim = reduce(lambda x_, y: x_ * y, x.shape, 1)\n",
    "    shape = [pool_factor * batch_size]\n",
    "    shape.extend(x.shape)\n",
    "\n",
    "    # Generate a pool of samples\n",
    "    rand_pool = np.reshape(\n",
    "        random_sphere(nb_points=pool_factor * batch_size, nb_dims=dim, radius=radius, norm=norm),\n",
    "        shape,\n",
    "    )\n",
    "    rand_pool += np.repeat(np.array([x]), pool_factor * batch_size, 0)\n",
    "    rand_pool = rand_pool.astype(ART_NUMPY_DTYPE)\n",
    "#     if hasattr(classifier, \"clip_values\") and classifier.clip_values is not None:\n",
    "    np.clip(rand_pool, -128, 128, out=rand_pool)\n",
    "\n",
    "    # Change norm since q = p / (p-1)\n",
    "    if norm == 1:\n",
    "        norm = np.inf\n",
    "    elif norm == np.inf:\n",
    "        norm = 1\n",
    "    elif norm != 2:  # pragma: no cover\n",
    "        raise ValueError(f\"Norm {norm} not supported\")\n",
    "\n",
    "    # Compute gradients for all samples in rand_pool\n",
    "    for i in range(batch_size):\n",
    "        rand_pool_batch = rand_pool[i * pool_factor : (i + 1) * pool_factor]\n",
    "\n",
    "#         Compute gradients\n",
    "#         grad_pred_class = classifier.class_gradient(rand_pool_batch, label=pred_class)\n",
    "        grad_pred_class=[]\n",
    "        for x_tmp in rand_pool_batch:\n",
    "            grads = get_gradients(x_tmp, base_model, pred_class)\n",
    "            grad_pred_class.append(grads)\n",
    "        if np.isnan(grad_pred_class).any() :  # pragma: no cover\n",
    "            raise Exception(\"The classifier results NaN gradients.\")\n",
    "\n",
    "        grad = grad_pred_class\n",
    "        grad = np.reshape(grad, (pool_factor, -1))\n",
    "        grad = np.linalg.norm(grad, ord=norm, axis=1)\n",
    "        rand_pool_grad_set.extend(grad)\n",
    "\n",
    "    rand_pool_grads = np.array(rand_pool_grad_set)\n",
    "\n",
    "    # Loop over the batches\n",
    "    for _ in range(nb_batches):\n",
    "        # Random selection of gradients\n",
    "        grad_norm = rand_pool_grads[np.random.choice(pool_factor * batch_size, batch_size)]\n",
    "        grad_norm = np.max(grad_norm)\n",
    "        grad_norm_set.append(grad_norm)\n",
    "\n",
    "    # Maximum likelihood estimation for max gradient norms\n",
    "    [_, loc, _] = weibull_min.fit(-np.array(grad_norm_set), c_init, optimizer=scipy_optimizer)\n",
    "\n",
    "    # Compute function value\n",
    "    values = classifier.predict(np.reshape(x, [-1,224,224,3]))\n",
    "#     value = np.min( [(1+prob_constant)*values[:, pred_class] , 1] ) - values[:, pred_class]\n",
    "#     value = values[:, pred_class] - prob_constant\n",
    "#     value = np.max( [(1+prob_constant)*values[:, pred_class] , 0.9] ) - values[:, pred_class]\n",
    "    value = values[:, pred_class] * np.log(1+values[:, pred_class])\n",
    "\n",
    "#     tmp1 = values[:, pred_class]*(1+prob_constant)\n",
    "#     if tmp1<0.9:\n",
    "#         value = 0.9-values[:, pred_class]\n",
    "#     if tmp1>=0.9:\n",
    "#         value = 1.001-values[:, pred_class]\n",
    "\n",
    "    # Compute scores\n",
    "#     score = np.min([-value[0] / loc, radius])\n",
    "    score = -value[0] / loc\n",
    "\n",
    "    return score\n",
    "\n"
   ]
  },
  {
   "cell_type": "code",
   "execution_count": 99,
   "id": "25adf164",
   "metadata": {},
   "outputs": [
    {
     "data": {
      "text/plain": [
       "-1.2466826833825764"
      ]
     },
     "execution_count": 99,
     "metadata": {},
     "output_type": "execute_result"
    }
   ],
   "source": [
    "np.min(BoundaryGini2)"
   ]
  },
  {
   "cell_type": "code",
   "execution_count": 100,
   "id": "417adbe0",
   "metadata": {},
   "outputs": [
    {
     "name": "stderr",
     "output_type": "stream",
     "text": [
      "100% |########################################################################|\n"
     ]
    }
   ],
   "source": [
    "R_L1 = 40\n",
    "R_L2 = 2\n",
    "R_LI = 10\n",
    "top_set = 1 # 预测的前n个类中包含真实标签则表示预测正确\n",
    "# total_sample_num = 1000\n",
    "img_num = range(0, total_sample_num)\n",
    "# ground_truth_label = []  # 记录样本的真实标签\n",
    "# predicted_confidence = []  # 记录样本的置信度信息\n",
    "BoundaryGini2 = []\n",
    "\n",
    "pbar = ProgressBar()\n",
    "for i in pbar(img_num):\n",
    "    img_path = DATA_PATH + file_name[i]\n",
    "    img = image.load_img(img_path, target_size=(224, 224))\n",
    "    x_tmp = image.img_to_array(img)\n",
    "    x_tmp = np.expand_dims(x_tmp, axis=0)\n",
    "    x_tmp = preprocess_input(x_tmp)\n",
    "#     pre_tmp = base_model.predict(np.reshape(x_tmp, [-1,224,224,3]))\n",
    "    res_tmp = inverper_c(classifier=base_model, x=x_tmp, nb_batches=3, \n",
    "                         batch_size=5, radius=R_LI, norm=np.inf, c_init=1.0, pool_factor=5, prob_constant=0.01)\n",
    "    BoundaryGini2.append(res_tmp)\n"
   ]
  },
  {
   "cell_type": "code",
   "execution_count": 101,
   "id": "67e863cd",
   "metadata": {},
   "outputs": [
    {
     "name": "stderr",
     "output_type": "stream",
     "text": [
      "100% |########################################################################|\n",
      "100% |########################################################################|\r"
     ]
    },
    {
     "name": "stdout",
     "output_type": "stream",
     "text": [
      "APFD:  0.7567142857142858\n",
      "RAUC:  0.9056798623063683\n"
     ]
    },
    {
     "name": "stderr",
     "output_type": "stream",
     "text": [
      "\n"
     ]
    }
   ],
   "source": [
    "indexs = np.argsort(BoundaryGini2)\n",
    "# indexs = indexs[::-1]\n",
    "top_set=1\n",
    "# 计算APFD指标\n",
    "APFD,_,_ = get_APFD(Gini_indexs=indexs, ground_truth_label=np.array(ground_truth_label), \n",
    "                    predicted_confidence=np.array(predicted_confidence), top_set=top_set,\n",
    "                    decode_predictions=decode_predictions)\n",
    "print(\"APFD: \", APFD)\n",
    "\n",
    "# 计算RAUC指标\n",
    "RAUC,_,_ = get_RAUC(Gini_indexs=indexs, ground_truth_label=np.array(ground_truth_label), \n",
    "                    predicted_confidence=np.array(predicted_confidence), top_set=top_set,\n",
    "                    decode_predictions=decode_predictions)\n",
    "print(\"RAUC: \", RAUC)"
   ]
  },
  {
   "cell_type": "code",
   "execution_count": 56,
   "id": "a32ba2ea",
   "metadata": {},
   "outputs": [],
   "source": [
    "def inverper_Loss(classifier, x, nb_batches, batch_size, radius, norm, c_init=1.0, pool_factor=5, loss_ratio=0.8):\n",
    "    # Check if the targeted class is different from the predicted class\n",
    "#     y_pred = classifier.predict(np.array([x]))\n",
    "    y_pred = classifier.predict(np.reshape(x, [-1,224,224,3]))\n",
    "    pred_class = np.argmax(y_pred, axis=1)[0]\n",
    "\n",
    "    # Check if pool_factor is smaller than 1\n",
    "    if pool_factor < 1:  # pragma: no cover\n",
    "        raise ValueError(\"The `pool_factor` must be larger than 1.\")\n",
    "\n",
    "    # Some auxiliary vars\n",
    "    rand_pool_grad_set = []\n",
    "    grad_norm_set = []\n",
    "    dim = reduce(lambda x_, y: x_ * y, x.shape, 1)\n",
    "    shape = [pool_factor * batch_size]\n",
    "    shape.extend(x.shape)\n",
    "\n",
    "    # Generate a pool of samples\n",
    "    rand_pool = np.reshape(\n",
    "        random_sphere(nb_points=pool_factor * batch_size, nb_dims=dim, radius=radius, norm=norm),\n",
    "        shape,\n",
    "    )\n",
    "    rand_pool += np.repeat(np.array([x]), pool_factor * batch_size, 0)\n",
    "    rand_pool = rand_pool.astype(ART_NUMPY_DTYPE)\n",
    "#     if hasattr(classifier, \"clip_values\") and classifier.clip_values is not None:\n",
    "    np.clip(rand_pool, -128, 128, out=rand_pool)\n",
    "\n",
    "    # Change norm since q = p / (p-1)\n",
    "    if norm == 1:\n",
    "        norm = np.inf\n",
    "    elif norm == np.inf:\n",
    "        norm = 1\n",
    "    elif norm != 2:  # pragma: no cover\n",
    "        raise ValueError(f\"Norm {norm} not supported\")\n",
    "\n",
    "    # Compute gradients for all samples in rand_pool\n",
    "    for i in range(batch_size):\n",
    "        rand_pool_batch = rand_pool[i * pool_factor : (i + 1) * pool_factor]\n",
    "\n",
    "#         Compute gradients\n",
    "#         grad_pred_class = classifier.class_gradient(rand_pool_batch, label=pred_class)\n",
    "        grad_pred_class=[]\n",
    "        for x_tmp in rand_pool_batch:\n",
    "            grads = get_loss_gradients(x_tmp, base_model, target_one_hot=\n",
    "                                       tf.reshape(tf.one_hot(pred_class,len(y_pred[0])),(1,len(y_pred[0]))))\n",
    "#             grads = get_gradients(x_tmp, base_model, pred_class)\n",
    "            grad_pred_class.append(grads)\n",
    "        if np.isnan(grad_pred_class).any() :  # pragma: no cover\n",
    "            raise Exception(\"The classifier results NaN gradients.\")\n",
    "\n",
    "        grad = grad_pred_class\n",
    "        grad = np.reshape(grad, (pool_factor, -1))\n",
    "        grad = np.linalg.norm(grad, ord=norm, axis=1)\n",
    "        rand_pool_grad_set.extend(grad)\n",
    "\n",
    "    rand_pool_grads = np.array(rand_pool_grad_set)\n",
    "\n",
    "    # Loop over the batches\n",
    "    for _ in range(nb_batches):\n",
    "        # Random selection of gradients\n",
    "        grad_norm = rand_pool_grads[np.random.choice(pool_factor * batch_size, batch_size)]\n",
    "        grad_norm = np.max(grad_norm)\n",
    "        grad_norm_set.append(grad_norm)\n",
    "\n",
    "    # Maximum likelihood estimation for max gradient norms\n",
    "    [_, loc, _] = weibull_min.fit(-np.array(grad_norm_set), c_init, optimizer=scipy_optimizer)\n",
    "\n",
    "    # Compute function value\n",
    "    values = classifier.predict(np.reshape(x, [-1,224,224,3]))\n",
    "    loss = tf.nn.sparse_softmax_cross_entropy_with_logits(labels=np.argmax(values), logits=values[0]) \n",
    "    value = loss - loss*loss_ratio\n",
    "\n",
    "    # Compute scores\n",
    "#     score = np.min([-value[0] / loc, radius])\n",
    "    score = -value / loc\n",
    "\n",
    "    return score"
   ]
  },
  {
   "cell_type": "code",
   "execution_count": 64,
   "id": "f7d9eab6",
   "metadata": {},
   "outputs": [
    {
     "name": "stderr",
     "output_type": "stream",
     "text": [
      "100% |########################################################################|\n"
     ]
    }
   ],
   "source": [
    "R_L1 = 40\n",
    "R_L2 = 100\n",
    "R_LI = 5\n",
    "\n",
    "BoundaryGini3 = []\n",
    "\n",
    "pbar = ProgressBar()\n",
    "for i in pbar(img_num):\n",
    "    img_path = DATA_PATH + file_name[i]\n",
    "    img = image.load_img(img_path, target_size=(224, 224))\n",
    "    x_tmp = image.img_to_array(img)\n",
    "    x_tmp = np.expand_dims(x_tmp, axis=0)\n",
    "    x_tmp = preprocess_input(x_tmp)\n",
    "#     pre_tmp = base_model.predict(np.reshape(x_tmp, [-1,224,224,3]))\n",
    "    res_tmp = inverper_Loss(classifier=base_model, x=x_tmp, nb_batches=3, \n",
    "                         batch_size=3, radius=R_L2, norm=2, c_init=1.0, pool_factor=3, loss_ratio=0.9)\n",
    "    BoundaryGini3.append(res_tmp)"
   ]
  },
  {
   "cell_type": "code",
   "execution_count": 65,
   "id": "998be26f",
   "metadata": {},
   "outputs": [
    {
     "name": "stderr",
     "output_type": "stream",
     "text": [
      "100% |########################################################################|\n",
      "100% |########################################################################|\r"
     ]
    },
    {
     "name": "stdout",
     "output_type": "stream",
     "text": [
      "APFD:  0.7644285714285715\n",
      "RAUC:  0.9149741824440619\n"
     ]
    },
    {
     "name": "stderr",
     "output_type": "stream",
     "text": [
      "\n"
     ]
    }
   ],
   "source": [
    "indexs = np.argsort(BoundaryGini3)\n",
    "# indexs = indexs[::-1]\n",
    "top_set=1\n",
    "# 计算APFD指标\n",
    "APFD,_,_ = get_APFD(Gini_indexs=indexs, ground_truth_label=np.array(ground_truth_label), \n",
    "                    predicted_confidence=np.array(predicted_confidence), top_set=top_set,\n",
    "                    decode_predictions=decode_predictions)\n",
    "print(\"APFD: \", APFD)\n",
    "\n",
    "# 计算RAUC指标\n",
    "RAUC,_,_ = get_RAUC(Gini_indexs=indexs, ground_truth_label=np.array(ground_truth_label), \n",
    "                    predicted_confidence=np.array(predicted_confidence), top_set=top_set,\n",
    "                    decode_predictions=decode_predictions)\n",
    "print(\"RAUC: \", RAUC)"
   ]
  },
  {
   "cell_type": "code",
   "execution_count": 61,
   "id": "5d74b51c",
   "metadata": {},
   "outputs": [
    {
     "data": {
      "text/plain": [
       "0.0025024386"
      ]
     },
     "execution_count": 61,
     "metadata": {},
     "output_type": "execute_result"
    }
   ],
   "source": [
    "np.min(np.array(BoundaryGini3))"
   ]
  },
  {
   "cell_type": "code",
   "execution_count": 46,
   "id": "473dc2bd",
   "metadata": {},
   "outputs": [],
   "source": [
    "import numpy as np\n",
    "a = np.zeros(100)\n",
    "b = np.zeros(100)\n",
    "for i in range(0, 100):\n",
    "    a[i] = i/100\n",
    "    b[i] = a[i]+a[i]*np.log(1+a[i])\n",
    "    if b[i]>1:\n",
    "        b[i] = 1\n",
    "#         print(a[i], b[i])\n",
    "#         break"
   ]
  },
  {
   "cell_type": "code",
   "execution_count": 37,
   "id": "2537d0ca",
   "metadata": {},
   "outputs": [],
   "source": [
    "def sigmoid(x):\n",
    "    return 1.0/(1+np.exp(-x))"
   ]
  },
  {
   "cell_type": "code",
   "execution_count": 47,
   "id": "f5073bcb",
   "metadata": {},
   "outputs": [
    {
     "data": {
      "image/png": "[encoded data removed]",
      "text/plain": [
       "<Figure size 576x432 with 1 Axes>"
      ]
     },
     "metadata": {
      "needs_background": "light"
     },
     "output_type": "display_data"
    }
   ],
   "source": [
    "import matplotlib.pyplot as plt\n",
    "plt.figure(figsize=(8,6))  # 定义图的大小\n",
    "plt.xlabel(\"x\")     # X轴标签\n",
    "plt.ylabel(\"y\")        # Y轴坐标标签\n",
    "plt.title(\"Example\")      #  曲线图的标题\n",
    "\n",
    "plt.plot(a,b)            # 绘制曲线图\n",
    "#在ipython的交互环境中需要这句话才能显示出来\n",
    "plt.show()"
   ]
  },
  {
   "cell_type": "code",
   "execution_count": null,
   "id": "56266211",
   "metadata": {},
   "outputs": [],
   "source": []
  },
  {
   "cell_type": "code",
   "execution_count": null,
   "id": "e6e7b455",
   "metadata": {},
   "outputs": [],
   "source": []
  }
 ],
 "metadata": {
  "kernelspec": {
   "display_name": "Python 3",
   "language": "python",
   "name": "python3"
  },
  "language_info": {
   "codemirror_mode": {
    "name": "ipython",
    "version": 3
   },
   "file_extension": ".py",
   "mimetype": "text/x-python",
   "name": "python",
   "nbconvert_exporter": "python",
   "pygments_lexer": "ipython3",
   "version": "3.6.13"
  }
 },
 "nbformat": 4,
 "nbformat_minor": 5
}
