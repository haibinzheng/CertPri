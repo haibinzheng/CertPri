{
 "cells": [
  {
   "cell_type": "code",
   "execution_count": 1,
   "id": "5485eeb5",
   "metadata": {},
   "outputs": [],
   "source": [
    "# from __future__ import absolute_import, division, print_function, unicode_literals\n",
    "\n",
    "# from tensorflow.keras.preprocessing import sequence\n",
    "# from tensorflow.keras.models import Sequential\n",
    "# from tensorflow.keras.layers import Conv1D, MaxPooling1D, Flatten, Dense, Embedding, Dropout, BatchNormalization\n",
    "# from tensorflow.keras.datasets import imdb\n",
    "# from keras.datasets import boston_housing\n",
    "import numpy as np\n",
    "import tensorflow as tf\n",
    "from tensorflow import keras\n",
    "\n",
    "import os\n",
    "import sys\n",
    "sys.path.append('..')  \n",
    "from GradPri_utils.utils import *\n",
    "from tensorflow.keras.preprocessing import image\n",
    "\n",
    "os.environ[\"CUDA_DEVICE_ORDER\"] = \"PCI_BUS_ID\"\n",
    "os.environ[\"CUDA_VISIBLE_DEVICES\"] = \"4\""
   ]
  },
  {
   "cell_type": "code",
   "execution_count": 54,
   "id": "b79a95bc",
   "metadata": {},
   "outputs": [],
   "source": [
    "DATA_PATH_train = 'ants_bees/train'\n",
    "file_name_train_ants = getfile_name(os.path.join(DATA_PATH_train, 'ants'))\n",
    "file_name_train_bees = getfile_name(os.path.join(DATA_PATH_train, 'bees'))\n",
    "input_size = 224 #224 for Vgg19 and ResNet101V2, 150 for Xception, 299 for InceptionV3\n",
    "\n",
    "trainX = []\n",
    "trainY = []\n",
    "for i in range(len(file_name_train_ants)):\n",
    "    img_path = os.path.join(DATA_PATH_train, 'ants', file_name_train_ants[i])\n",
    "    img = image.load_img(img_path, target_size=(input_size, input_size))\n",
    "    x_tmp = image.img_to_array(img)\n",
    "    trainX.append(x_tmp)\n",
    "    trainY.append(0)\n",
    "\n",
    "for i in range(len(file_name_train_bees)):\n",
    "    img_path = os.path.join(DATA_PATH_train, 'bees', file_name_train_bees[i])\n",
    "    img = image.load_img(img_path, target_size=(input_size, input_size))\n",
    "    x_tmp = image.img_to_array(img)\n",
    "    trainX.append(x_tmp)\n",
    "    trainY.append(1)"
   ]
  },
  {
   "cell_type": "code",
   "execution_count": 55,
   "id": "a3a8249a",
   "metadata": {},
   "outputs": [],
   "source": [
    "DATA_PATH_test = 'ants_bees/test'\n",
    "file_name_test_ants = getfile_name(os.path.join(DATA_PATH_test, 'ants'))\n",
    "file_name_test_bees = getfile_name(os.path.join(DATA_PATH_test, 'bees'))\n",
    "\n",
    "testX = []\n",
    "testY = []\n",
    "for i in range(len(file_name_test_ants)):\n",
    "    img_path = os.path.join(DATA_PATH_test, 'ants', file_name_test_ants[i])\n",
    "    img = image.load_img(img_path, target_size=(input_size, input_size))\n",
    "    x_tmp = image.img_to_array(img)\n",
    "    testX.append(x_tmp)\n",
    "    testY.append(0)\n",
    "\n",
    "for i in range(len(file_name_test_bees)):\n",
    "    img_path = os.path.join(DATA_PATH_test, 'bees', file_name_test_bees[i])\n",
    "    img = image.load_img(img_path, target_size=(input_size, input_size))\n",
    "    x_tmp = image.img_to_array(img)\n",
    "    testX.append(x_tmp)\n",
    "    testY.append(1)"
   ]
  },
  {
   "cell_type": "code",
   "execution_count": 56,
   "id": "3bf6ddfb",
   "metadata": {},
   "outputs": [],
   "source": [
    "trainX = np.array(trainX)\n",
    "trainY = np.array(trainY)\n",
    "testX = np.array(testX)\n",
    "testY = np.array(testY)"
   ]
  },
  {
   "cell_type": "code",
   "execution_count": 57,
   "id": "6379b8a0",
   "metadata": {},
   "outputs": [
    {
     "name": "stdout",
     "output_type": "stream",
     "text": [
      "(244, 224, 224, 3) (244,) (153, 224, 224, 3) (153,)\n"
     ]
    }
   ],
   "source": [
    "print(np.shape(trainX), np.shape(trainY), np.shape(testX), np.shape(testY))"
   ]
  },
  {
   "cell_type": "code",
   "execution_count": null,
   "id": "03043376",
   "metadata": {},
   "outputs": [],
   "source": []
  },
  {
   "cell_type": "code",
   "execution_count": 67,
   "id": "0e3accab",
   "metadata": {},
   "outputs": [],
   "source": [
    "# # First, instantiate a base model with pre-trained weights.\n",
    "# base_model = keras.applications.Xception(\n",
    "#     weights='imagenet',  # Load weights pre-trained on ImageNet.\n",
    "#     input_shape=(input_size, input_size, 3),\n",
    "#     include_top=False)  # Do not include the ImageNet classifier at the top.\n",
    "\n",
    "# base_model = keras.applications.InceptionV3(\n",
    "#     weights='imagenet',  # Load weights pre-trained on ImageNet.\n",
    "#     input_shape=(input_size, input_size, 3),\n",
    "#     include_top=False)  # Do not include the ImageNet classifier at the top.\n",
    "\n",
    "# base_model = keras.applications.ResNet101V2(\n",
    "#     weights='imagenet',  # Load weights pre-trained on ImageNet.\n",
    "#     input_shape=(input_size, input_size, 3),\n",
    "#     include_top=False)  # Do not include the ImageNet classifier at the top.\n",
    "\n",
    "base_model = keras.applications.VGG19(\n",
    "    weights='imagenet',  # Load weights pre-trained on ImageNet.\n",
    "    input_shape=(input_size, input_size, 3),\n",
    "    include_top=False)  # Do not include the ImageNet classifier at the top."
   ]
  },
  {
   "cell_type": "code",
   "execution_count": 68,
   "id": "049a6566",
   "metadata": {},
   "outputs": [],
   "source": [
    "# Then, freeze the base model.\n",
    "base_model.trainable = False"
   ]
  },
  {
   "cell_type": "code",
   "execution_count": 69,
   "id": "fd14b6e2",
   "metadata": {},
   "outputs": [
    {
     "name": "stdout",
     "output_type": "stream",
     "text": [
      "Model: \"model_11\"\n",
      "_________________________________________________________________\n",
      "Layer (type)                 Output Shape              Param #   \n",
      "=================================================================\n",
      "input_27 (InputLayer)        [(None, 224, 224, 3)]     0         \n",
      "_________________________________________________________________\n",
      "vgg19 (Functional)           (None, 7, 7, 512)         20024384  \n",
      "_________________________________________________________________\n",
      "global_average_pooling2d_11  (None, 512)               0         \n",
      "_________________________________________________________________\n",
      "dense_17 (Dense)             (None, 1)                 513       \n",
      "=================================================================\n",
      "Total params: 20,024,897\n",
      "Trainable params: 513\n",
      "Non-trainable params: 20,024,384\n",
      "_________________________________________________________________\n"
     ]
    }
   ],
   "source": [
    "# Create a new model on top.\n",
    "inputs = keras.Input(shape=(input_size, input_size, 3))\n",
    "# We make sure that the base_model is running in inference mode here,\n",
    "# by passing `training=False`. This is important for fine-tuning, as you will\n",
    "# learn in a few paragraphs.\n",
    "x = base_model(inputs, training=False)\n",
    "# Convert features of shape `base_model.output_shape[1:]` to vectors\n",
    "\n",
    "x = keras.layers.GlobalAveragePooling2D()(x)\n",
    "\n",
    "# x = keras.layers.Conv2D(1024, (3, 3), activation='relu', padding='same')(x)\n",
    "# x = keras.layers.Conv2D(1024, (3, 3), activation='relu', padding='same')(x)\n",
    "# x = keras.layers.MaxPooling2D((2, 2), strides=(2, 2))(x)\n",
    "# x = keras.layers.Flatten()(x)\n",
    "# x = keras.layers.Dense(1024, activation='relu')(x)\n",
    "# x = keras.layers.Dense(128, activation='relu')(x)\n",
    "\n",
    "# A Dense classifier with a single unit (binary classification)\n",
    "outputs = keras.layers.Dense(1)(x)\n",
    "model = keras.Model(inputs, outputs)\n",
    "\n",
    "model.summary()"
   ]
  },
  {
   "cell_type": "code",
   "execution_count": 70,
   "id": "ce0b0150",
   "metadata": {},
   "outputs": [
    {
     "name": "stdout",
     "output_type": "stream",
     "text": [
      "Epoch 1/20\n",
      "16/16 [==============================] - 2s 78ms/step - loss: 1.8606 - binary_accuracy: 0.5000 - val_loss: 1.3810 - val_binary_accuracy: 0.6471\n",
      "Epoch 2/20\n",
      "16/16 [==============================] - 0s 22ms/step - loss: 1.0261 - binary_accuracy: 0.6844 - val_loss: 0.9686 - val_binary_accuracy: 0.6797\n",
      "Epoch 3/20\n",
      "16/16 [==============================] - 0s 23ms/step - loss: 0.6661 - binary_accuracy: 0.7541 - val_loss: 0.7809 - val_binary_accuracy: 0.7778\n",
      "Epoch 4/20\n",
      "16/16 [==============================] - 0s 24ms/step - loss: 0.5025 - binary_accuracy: 0.8361 - val_loss: 0.7237 - val_binary_accuracy: 0.7908\n",
      "Epoch 5/20\n",
      "16/16 [==============================] - 1s 43ms/step - loss: 0.4260 - binary_accuracy: 0.8238 - val_loss: 0.6818 - val_binary_accuracy: 0.8366\n",
      "Epoch 6/20\n",
      "16/16 [==============================] - 0s 24ms/step - loss: 0.3347 - binary_accuracy: 0.8770 - val_loss: 0.6833 - val_binary_accuracy: 0.8235\n",
      "Epoch 7/20\n",
      "16/16 [==============================] - 0s 26ms/step - loss: 0.2887 - binary_accuracy: 0.8852 - val_loss: 0.6823 - val_binary_accuracy: 0.8170\n",
      "Epoch 8/20\n",
      "16/16 [==============================] - 0s 25ms/step - loss: 0.2404 - binary_accuracy: 0.9098 - val_loss: 0.6399 - val_binary_accuracy: 0.8301\n",
      "Epoch 9/20\n",
      "16/16 [==============================] - 1s 49ms/step - loss: 0.2127 - binary_accuracy: 0.9221 - val_loss: 0.6438 - val_binary_accuracy: 0.8235\n",
      "Epoch 10/20\n",
      "16/16 [==============================] - 0s 25ms/step - loss: 0.1813 - binary_accuracy: 0.9303 - val_loss: 0.6334 - val_binary_accuracy: 0.8235\n",
      "Epoch 11/20\n",
      "16/16 [==============================] - 0s 23ms/step - loss: 0.1615 - binary_accuracy: 0.9467 - val_loss: 0.6339 - val_binary_accuracy: 0.8170\n",
      "Epoch 12/20\n",
      "16/16 [==============================] - 0s 24ms/step - loss: 0.1383 - binary_accuracy: 0.9467 - val_loss: 0.6385 - val_binary_accuracy: 0.8105\n",
      "Epoch 13/20\n",
      "16/16 [==============================] - 1s 56ms/step - loss: 0.1220 - binary_accuracy: 0.9508 - val_loss: 0.6344 - val_binary_accuracy: 0.8235\n",
      "Epoch 14/20\n",
      "16/16 [==============================] - 0s 23ms/step - loss: 0.1074 - binary_accuracy: 0.9590 - val_loss: 0.6351 - val_binary_accuracy: 0.8235\n",
      "Epoch 15/20\n",
      "16/16 [==============================] - 0s 23ms/step - loss: 0.0964 - binary_accuracy: 0.9672 - val_loss: 0.6345 - val_binary_accuracy: 0.8170\n",
      "Epoch 16/20\n",
      "16/16 [==============================] - 0s 23ms/step - loss: 0.0858 - binary_accuracy: 0.9713 - val_loss: 0.6354 - val_binary_accuracy: 0.8170\n",
      "Epoch 17/20\n",
      "16/16 [==============================] - 1s 56ms/step - loss: 0.0790 - binary_accuracy: 0.9713 - val_loss: 0.6281 - val_binary_accuracy: 0.8170\n",
      "Epoch 18/20\n",
      "16/16 [==============================] - 0s 22ms/step - loss: 0.0729 - binary_accuracy: 0.9754 - val_loss: 0.6370 - val_binary_accuracy: 0.8170\n",
      "Epoch 19/20\n",
      "16/16 [==============================] - 0s 24ms/step - loss: 0.0632 - binary_accuracy: 0.9795 - val_loss: 0.6322 - val_binary_accuracy: 0.8170\n",
      "Epoch 20/20\n",
      "16/16 [==============================] - 0s 24ms/step - loss: 0.0577 - binary_accuracy: 0.9836 - val_loss: 0.6349 - val_binary_accuracy: 0.8235\n"
     ]
    },
    {
     "data": {
      "text/plain": [
       "<keras.callbacks.History at 0x7efc991579b0>"
      ]
     },
     "execution_count": 70,
     "metadata": {},
     "output_type": "execute_result"
    }
   ],
   "source": [
    "# Train the model on new data.\n",
    "model.compile(optimizer=keras.optimizers.Adam(),\n",
    "              loss=keras.losses.BinaryCrossentropy(from_logits=True),\n",
    "              metrics=[keras.metrics.BinaryAccuracy()])\n",
    "\n",
    "model.fit(x=trainX, y=trainY, batch_size=16, epochs=20, shuffle=True,\n",
    "         validation_data=(testX, testY))"
   ]
  },
  {
   "cell_type": "code",
   "execution_count": 71,
   "id": "539363c1",
   "metadata": {},
   "outputs": [
    {
     "name": "stdout",
     "output_type": "stream",
     "text": [
      "8/8 [==============================] - 1s 22ms/step - loss: 0.0544 - binary_accuracy: 0.9918\n"
     ]
    },
    {
     "data": {
      "text/plain": [
       "[0.05435030534863472, 0.9918032884597778]"
      ]
     },
     "execution_count": 71,
     "metadata": {},
     "output_type": "execute_result"
    }
   ],
   "source": [
    "model.evaluate(x=trainX, y=trainY)"
   ]
  },
  {
   "cell_type": "code",
   "execution_count": 72,
   "id": "fd51d12f",
   "metadata": {},
   "outputs": [
    {
     "name": "stdout",
     "output_type": "stream",
     "text": [
      "5/5 [==============================] - 0s 20ms/step - loss: 0.6349 - binary_accuracy: 0.8235\n"
     ]
    },
    {
     "data": {
      "text/plain": [
       "[0.6349330544471741, 0.8235294222831726]"
      ]
     },
     "execution_count": 72,
     "metadata": {},
     "output_type": "execute_result"
    }
   ],
   "source": [
    "model.evaluate(x=testX, y=testY)"
   ]
  },
  {
   "cell_type": "code",
   "execution_count": null,
   "id": "91717fd1",
   "metadata": {},
   "outputs": [],
   "source": []
  }
 ],
 "metadata": {
  "kernelspec": {
   "display_name": "Python 3",
   "language": "python",
   "name": "python3"
  },
  "language_info": {
   "codemirror_mode": {
    "name": "ipython",
    "version": 3
   },
   "file_extension": ".py",
   "mimetype": "text/x-python",
   "name": "python",
   "nbconvert_exporter": "python",
   "pygments_lexer": "ipython3",
   "version": "3.6.13"
  }
 },
 "nbformat": 4,
 "nbformat_minor": 5
}
