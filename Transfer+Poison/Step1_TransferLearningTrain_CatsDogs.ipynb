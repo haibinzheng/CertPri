{
 "cells": [
  {
   "cell_type": "code",
   "execution_count": 1,
   "id": "5485eeb5",
   "metadata": {},
   "outputs": [],
   "source": [
    "# from __future__ import absolute_import, division, print_function, unicode_literals\n",
    "\n",
    "# from tensorflow.keras.preprocessing import sequence\n",
    "# from tensorflow.keras.models import Sequential\n",
    "# from tensorflow.keras.layers import Conv1D, MaxPooling1D, Flatten, Dense, Embedding, Dropout, BatchNormalization\n",
    "# from tensorflow.keras.datasets import imdb\n",
    "# from keras.datasets import boston_housing\n",
    "import numpy as np\n",
    "import tensorflow as tf\n",
    "from tensorflow import keras\n",
    "from progressbar import ProgressBar\n",
    "\n",
    "import os\n",
    "import sys\n",
    "sys.path.append('..')  \n",
    "from GradPri_utils.utils import *\n",
    "from tensorflow.keras.preprocessing import image\n",
    "\n",
    "os.environ[\"CUDA_DEVICE_ORDER\"] = \"PCI_BUS_ID\"\n",
    "os.environ[\"CUDA_VISIBLE_DEVICES\"] = \"3\""
   ]
  },
  {
   "cell_type": "code",
   "execution_count": 2,
   "id": "b79a95bc",
   "metadata": {},
   "outputs": [
    {
     "name": "stderr",
     "output_type": "stream",
     "text": [
      "100% |########################################################################|\n",
      "100% |########################################################################|\n"
     ]
    }
   ],
   "source": [
    "# DATA_PATH_train = 'cats_dogs/train'\n",
    "# file_name_train_cats = getfile_name(os.path.join(DATA_PATH_train, 'cats'))\n",
    "# file_name_train_dogs = getfile_name(os.path.join(DATA_PATH_train, 'dogs'))\n",
    "# input_size = 224 #224 for Vgg16, Vgg19 and ResNet101V2; 150 for Xception; 299 for InceptionV3\n",
    "\n",
    "# trainX = []\n",
    "# trainY = []\n",
    "# pbar = ProgressBar()\n",
    "# for i in pbar(range(len(file_name_train_cats))):\n",
    "#     img_path = os.path.join(DATA_PATH_train, 'cats', file_name_train_cats[i])\n",
    "#     img = image.load_img(img_path, target_size=(input_size, input_size))\n",
    "#     x_tmp = image.img_to_array(img)\n",
    "#     trainX.append(x_tmp)\n",
    "#     trainY.append(0)\n",
    "\n",
    "# pbar = ProgressBar()\n",
    "# for i in pbar(range(len(file_name_train_dogs))):\n",
    "#     img_path = os.path.join(DATA_PATH_train, 'dogs', file_name_train_dogs[i])\n",
    "#     img = image.load_img(img_path, target_size=(input_size, input_size))\n",
    "#     x_tmp = image.img_to_array(img)\n",
    "#     trainX.append(x_tmp)\n",
    "#     trainY.append(1)"
   ]
  },
  {
   "cell_type": "code",
   "execution_count": 3,
   "id": "a3a8249a",
   "metadata": {},
   "outputs": [
    {
     "name": "stderr",
     "output_type": "stream",
     "text": [
      "100% |########################################################################|\n",
      "100% |########################################################################|\n"
     ]
    }
   ],
   "source": [
    "# DATA_PATH_test = 'cats_dogs/test'\n",
    "# file_name_test_cats = getfile_name(os.path.join(DATA_PATH_test, 'cats'))\n",
    "# file_name_test_dogs = getfile_name(os.path.join(DATA_PATH_test, 'dogs'))\n",
    "\n",
    "# testX = []\n",
    "# testY = []\n",
    "# pbar = ProgressBar()\n",
    "# for i in pbar(range(len(file_name_test_cats))):\n",
    "#     img_path = os.path.join(DATA_PATH_test, 'cats', file_name_test_cats[i])\n",
    "#     img = image.load_img(img_path, target_size=(input_size, input_size))\n",
    "#     x_tmp = image.img_to_array(img)\n",
    "#     testX.append(x_tmp)\n",
    "#     testY.append(0)\n",
    "\n",
    "# pbar = ProgressBar()\n",
    "# for i in pbar(range(len(file_name_test_dogs))):\n",
    "#     img_path = os.path.join(DATA_PATH_test, 'dogs', file_name_test_dogs[i])\n",
    "#     img = image.load_img(img_path, target_size=(input_size, input_size))\n",
    "#     x_tmp = image.img_to_array(img)\n",
    "#     testX.append(x_tmp)\n",
    "#     testY.append(1)"
   ]
  },
  {
   "cell_type": "code",
   "execution_count": 4,
   "id": "3bf6ddfb",
   "metadata": {},
   "outputs": [],
   "source": [
    "# trainX = np.array(trainX)\n",
    "# trainY = np.array(trainY)\n",
    "# testX = np.array(testX)\n",
    "# testY = np.array(testY)"
   ]
  },
  {
   "cell_type": "code",
   "execution_count": 10,
   "id": "03043376",
   "metadata": {},
   "outputs": [],
   "source": [
    "# np.save('cats_dogs/trainX.npy', trainX)\n",
    "# np.save('cats_dogs/trainY.npy', trainY)\n",
    "# np.save('cats_dogs/testX.npy', testX)\n",
    "# np.save('cats_dogs/testY.npy', testY)"
   ]
  },
  {
   "cell_type": "code",
   "execution_count": 2,
   "id": "a7fe7fbd",
   "metadata": {},
   "outputs": [],
   "source": [
    "input_size = 224 #224 for Vgg16, Vgg19 and ResNet101V2; 150 for Xception; 299 for InceptionV3\n",
    "\n",
    "trainX = np.load('cats_dogs/trainX.npy')\n",
    "trainY = np.load('cats_dogs/trainY.npy')\n",
    "testX = np.load('cats_dogs/testX.npy')\n",
    "testY = np.load('cats_dogs/testY.npy')"
   ]
  },
  {
   "cell_type": "code",
   "execution_count": 3,
   "id": "6379b8a0",
   "metadata": {},
   "outputs": [
    {
     "name": "stdout",
     "output_type": "stream",
     "text": [
      "(20000, 224, 224, 3) (20000,) (5000, 224, 224, 3) (5000,)\n"
     ]
    }
   ],
   "source": [
    "print(np.shape(trainX), np.shape(trainY), np.shape(testX), np.shape(testY))"
   ]
  },
  {
   "cell_type": "code",
   "execution_count": 5,
   "id": "39ce5727",
   "metadata": {},
   "outputs": [],
   "source": []
  },
  {
   "cell_type": "code",
   "execution_count": 6,
   "id": "0e3accab",
   "metadata": {},
   "outputs": [],
   "source": [
    "# # First, instantiate a base model with pre-trained weights.\n",
    "# base_model = keras.applications.Xception(\n",
    "#     weights='imagenet',  # Load weights pre-trained on ImageNet.\n",
    "#     input_shape=(input_size, input_size, 3),\n",
    "#     include_top=False)  # Do not include the ImageNet classifier at the top.\n",
    "\n",
    "# base_model = keras.applications.InceptionV3(\n",
    "#     weights='imagenet',  # Load weights pre-trained on ImageNet.\n",
    "#     input_shape=(input_size, input_size, 3),\n",
    "#     include_top=False)  # Do not include the ImageNet classifier at the top.\n",
    "\n",
    "# base_model = keras.applications.ResNet101V2(\n",
    "#     weights='imagenet',  # Load weights pre-trained on ImageNet.\n",
    "#     input_shape=(input_size, input_size, 3),\n",
    "#     include_top=False)  # Do not include the ImageNet classifier at the top.\n",
    "\n",
    "base_model = keras.applications.VGG19(\n",
    "    weights='imagenet',  # Load weights pre-trained on ImageNet.\n",
    "    input_shape=(input_size, input_size, 3),\n",
    "    include_top=False)  # Do not include the ImageNet classifier at the top.\n",
    "\n",
    "# base_model = keras.applications.VGG16(\n",
    "#     weights='imagenet',  # Load weights pre-trained on ImageNet.\n",
    "#     input_shape=(input_size, input_size, 3),\n",
    "#     include_top=False)  # Do not include the ImageNet classifier at the top."
   ]
  },
  {
   "cell_type": "code",
   "execution_count": 7,
   "id": "049a6566",
   "metadata": {},
   "outputs": [],
   "source": [
    "# Then, freeze the base model.\n",
    "base_model.trainable = False"
   ]
  },
  {
   "cell_type": "code",
   "execution_count": 8,
   "id": "fd14b6e2",
   "metadata": {},
   "outputs": [
    {
     "name": "stdout",
     "output_type": "stream",
     "text": [
      "Model: \"model\"\n",
      "_________________________________________________________________\n",
      "Layer (type)                 Output Shape              Param #   \n",
      "=================================================================\n",
      "input_2 (InputLayer)         [(None, 224, 224, 3)]     0         \n",
      "_________________________________________________________________\n",
      "vgg19 (Functional)           (None, 7, 7, 512)         20024384  \n",
      "_________________________________________________________________\n",
      "global_average_pooling2d (Gl (None, 512)               0         \n",
      "_________________________________________________________________\n",
      "dense (Dense)                (None, 1)                 513       \n",
      "=================================================================\n",
      "Total params: 20,024,897\n",
      "Trainable params: 513\n",
      "Non-trainable params: 20,024,384\n",
      "_________________________________________________________________\n"
     ]
    }
   ],
   "source": [
    "# Create a new model on top.\n",
    "inputs = keras.Input(shape=(input_size, input_size, 3))\n",
    "# We make sure that the base_model is running in inference mode here,\n",
    "# by passing `training=False`. This is important for fine-tuning, as you will\n",
    "# learn in a few paragraphs.\n",
    "x = base_model(inputs, training=False)\n",
    "# Convert features of shape `base_model.output_shape[1:]` to vectors\n",
    "\n",
    "x = keras.layers.GlobalAveragePooling2D()(x)\n",
    "\n",
    "# x = keras.layers.Conv2D(1024, (3, 3), activation='relu', padding='same')(x)\n",
    "# x = keras.layers.Conv2D(1024, (3, 3), activation='relu', padding='same')(x)\n",
    "# x = keras.layers.MaxPooling2D((2, 2), strides=(2, 2))(x)\n",
    "# x = keras.layers.Flatten()(x)\n",
    "# x = keras.layers.Dense(1024, activation='relu')(x)\n",
    "# x = keras.layers.Dense(128, activation='relu')(x)\n",
    "\n",
    "# A Dense classifier with a single unit (binary classification)\n",
    "outputs = keras.layers.Dense(1)(x)\n",
    "model = keras.Model(inputs, outputs)\n",
    "\n",
    "model.summary()"
   ]
  },
  {
   "cell_type": "code",
   "execution_count": 9,
   "id": "ce0b0150",
   "metadata": {},
   "outputs": [
    {
     "name": "stdout",
     "output_type": "stream",
     "text": [
      "Epoch 1/10\n",
      "157/157 [==============================] - 52s 251ms/step - loss: 0.7829 - binary_accuracy: 0.8124\n",
      "Epoch 2/10\n",
      "157/157 [==============================] - 41s 264ms/step - loss: 0.1704 - binary_accuracy: 0.9433\n",
      "Epoch 3/10\n",
      "157/157 [==============================] - 42s 264ms/step - loss: 0.1273 - binary_accuracy: 0.9556\n",
      "Epoch 4/10\n",
      "157/157 [==============================] - 38s 241ms/step - loss: 0.1038 - binary_accuracy: 0.9634\n",
      "Epoch 5/10\n",
      "157/157 [==============================] - 32s 206ms/step - loss: 0.0917 - binary_accuracy: 0.9665\n",
      "Epoch 6/10\n",
      "157/157 [==============================] - 29s 186ms/step - loss: 0.0818 - binary_accuracy: 0.9686\n",
      "Epoch 7/10\n",
      "157/157 [==============================] - 27s 169ms/step - loss: 0.0757 - binary_accuracy: 0.9704\n",
      "Epoch 8/10\n",
      "157/157 [==============================] - 26s 165ms/step - loss: 0.0703 - binary_accuracy: 0.9724\n",
      "Epoch 9/10\n",
      "157/157 [==============================] - 26s 162ms/step - loss: 0.0666 - binary_accuracy: 0.9739\n",
      "Epoch 10/10\n",
      "157/157 [==============================] - 25s 160ms/step - loss: 0.0636 - binary_accuracy: 0.9752\n"
     ]
    },
    {
     "data": {
      "text/plain": [
       "<keras.callbacks.History at 0x7f8e78334dd8>"
      ]
     },
     "execution_count": 9,
     "metadata": {},
     "output_type": "execute_result"
    }
   ],
   "source": [
    "# Train the model on new data.\n",
    "model.compile(optimizer=keras.optimizers.Adam(),\n",
    "              loss=keras.losses.BinaryCrossentropy(from_logits=True),\n",
    "              metrics=[keras.metrics.BinaryAccuracy()])\n",
    "\n",
    "model.fit(x=trainX, y=trainY, batch_size=128, epochs=10, shuffle=True)"
   ]
  },
  {
   "cell_type": "code",
   "execution_count": 13,
   "id": "539363c1",
   "metadata": {},
   "outputs": [],
   "source": [
    "model.evaluate(x=trainX, y=trainY, batch_size=128)"
   ]
  },
  {
   "cell_type": "code",
   "execution_count": 12,
   "id": "fd51d12f",
   "metadata": {},
   "outputs": [
    {
     "name": "stdout",
     "output_type": "stream",
     "text": [
      "40/40 [==============================] - 7s 147ms/step - loss: 0.0720 - binary_accuracy: 0.9718\n"
     ]
    },
    {
     "data": {
      "text/plain": [
       "[0.07199510186910629, 0.9718000292778015]"
      ]
     },
     "execution_count": 12,
     "metadata": {},
     "output_type": "execute_result"
    }
   ],
   "source": [
    "model.evaluate(x=testX, y=testY, batch_size=128)"
   ]
  },
  {
   "cell_type": "code",
   "execution_count": null,
   "id": "91717fd1",
   "metadata": {},
   "outputs": [],
   "source": []
  }
 ],
 "metadata": {
  "kernelspec": {
   "display_name": "Python 3",
   "language": "python",
   "name": "python3"
  },
  "language_info": {
   "codemirror_mode": {
    "name": "ipython",
    "version": 3
   },
   "file_extension": ".py",
   "mimetype": "text/x-python",
   "name": "python",
   "nbconvert_exporter": "python",
   "pygments_lexer": "ipython3",
   "version": "3.6.13"
  }
 },
 "nbformat": 4,
 "nbformat_minor": 5
}
