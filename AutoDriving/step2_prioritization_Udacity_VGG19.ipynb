{
 "cells": [
  {
   "cell_type": "code",
   "execution_count": 1,
   "id": "a6fa1874",
   "metadata": {},
   "outputs": [],
   "source": [
    "from tensorflow.keras.datasets import cifar10\n",
    "import numpy as np\n",
    "from tensorflow.keras.layers import Dense\n",
    "from tensorflow.keras.models import Sequential,load_model\n",
    "from tensorflow.keras.utils import to_categorical\n",
    "from sklearn.preprocessing import StandardScaler\n",
    "\n",
    "from tensorflow.keras.applications.vgg19 import VGG19, decode_predictions\n",
    "from tensorflow.keras.preprocessing import image\n",
    "from tensorflow.keras.applications.vgg19 import preprocess_input\n",
    "from tensorflow.keras.models import Model\n",
    "import cv2\n",
    "from keras_preprocessing.image import ImageDataGenerator\n",
    "\n",
    "from tensorflow.keras.layers import *\n",
    "from tensorflow.keras.models import *\n",
    "from tensorflow.keras.optimizers import *\n",
    "from tensorflow.keras import backend as BE\n",
    "from tensorflow.keras.losses import categorical_crossentropy\n",
    "from progressbar import ProgressBar\n",
    "import os\n",
    "import scipy.io\n",
    "import tensorflow as tf\n",
    "import json\n",
    "import sys\n",
    "sys.path.append('..')  \n",
    "from GradPri_utils.utils import *\n",
    "\n",
    "# from tensorflow.keras import backend as BE\n",
    "# from Integrated_Gradients_algorithm import *\n",
    "# from GradVisualizer import *\n",
    "\n",
    "os.environ[\"CUDA_VISIBLE_DEVICES\"] = \"4\"\n",
    "config=tf.compat.v1.ConfigProto()\n",
    "config.gpu_options.allow_growth=True   #不全部占满显存, 按需分配\n",
    "sess=tf.compat.v1.Session(config=config) \n",
    "\n",
    "# tf.compat.v1.disable_eager_execution()\n",
    "# tf.compat.v1.enable_eager_execution()"
   ]
  },
  {
   "cell_type": "code",
   "execution_count": 2,
   "id": "5c9c6a0e",
   "metadata": {},
   "outputs": [],
   "source": [
    "base_model = load_model(\"./model/Udacity_VGG19.h5\")"
   ]
  },
  {
   "cell_type": "code",
   "execution_count": 3,
   "id": "7f74976e",
   "metadata": {},
   "outputs": [
    {
     "name": "stdout",
     "output_type": "stream",
     "text": [
      "Model: \"sequential\"\n",
      "_________________________________________________________________\n",
      "Layer (type)                 Output Shape              Param #   \n",
      "=================================================================\n",
      "block1_conv1 (Conv2D)        (None, 128, 128, 64)      1792      \n",
      "_________________________________________________________________\n",
      "block1_bn1 (BatchNormalizati (None, 128, 128, 64)      256       \n",
      "_________________________________________________________________\n",
      "block1_act1 (Activation)     (None, 128, 128, 64)      0         \n",
      "_________________________________________________________________\n",
      "block1_conv2 (Conv2D)        (None, 128, 128, 64)      36928     \n",
      "_________________________________________________________________\n",
      "block1_bn2 (BatchNormalizati (None, 128, 128, 64)      256       \n",
      "_________________________________________________________________\n",
      "block1_act2 (Activation)     (None, 128, 128, 64)      0         \n",
      "_________________________________________________________________\n",
      "block1_pool (MaxPooling2D)   (None, 64, 64, 64)        0         \n",
      "_________________________________________________________________\n",
      "block1_drop (Dropout)        (None, 64, 64, 64)        0         \n",
      "_________________________________________________________________\n",
      "block2_conv1 (Conv2D)        (None, 64, 64, 128)       73856     \n",
      "_________________________________________________________________\n",
      "block2_bn1 (BatchNormalizati (None, 64, 64, 128)       512       \n",
      "_________________________________________________________________\n",
      "block2_act1 (Activation)     (None, 64, 64, 128)       0         \n",
      "_________________________________________________________________\n",
      "block2_conv2 (Conv2D)        (None, 64, 64, 128)       147584    \n",
      "_________________________________________________________________\n",
      "block2_bn2 (BatchNormalizati (None, 64, 64, 128)       512       \n",
      "_________________________________________________________________\n",
      "block2_act2 (Activation)     (None, 64, 64, 128)       0         \n",
      "_________________________________________________________________\n",
      "block2_pool (MaxPooling2D)   (None, 32, 32, 128)       0         \n",
      "_________________________________________________________________\n",
      "block2_drop (Dropout)        (None, 32, 32, 128)       0         \n",
      "_________________________________________________________________\n",
      "block3_conv1 (Conv2D)        (None, 32, 32, 256)       295168    \n",
      "_________________________________________________________________\n",
      "block3_bn1 (BatchNormalizati (None, 32, 32, 256)       1024      \n",
      "_________________________________________________________________\n",
      "block3_act1 (Activation)     (None, 32, 32, 256)       0         \n",
      "_________________________________________________________________\n",
      "block3_conv2 (Conv2D)        (None, 32, 32, 256)       590080    \n",
      "_________________________________________________________________\n",
      "block3_bn2 (BatchNormalizati (None, 32, 32, 256)       1024      \n",
      "_________________________________________________________________\n",
      "block3_act2 (Activation)     (None, 32, 32, 256)       0         \n",
      "_________________________________________________________________\n",
      "block3_conv3 (Conv2D)        (None, 32, 32, 256)       590080    \n",
      "_________________________________________________________________\n",
      "block3_bn3 (BatchNormalizati (None, 32, 32, 256)       1024      \n",
      "_________________________________________________________________\n",
      "block3_act3 (Activation)     (None, 32, 32, 256)       0         \n",
      "_________________________________________________________________\n",
      "block3_conv4 (Conv2D)        (None, 32, 32, 256)       590080    \n",
      "_________________________________________________________________\n",
      "block3_bn4 (BatchNormalizati (None, 32, 32, 256)       1024      \n",
      "_________________________________________________________________\n",
      "block3_act4 (Activation)     (None, 32, 32, 256)       0         \n",
      "_________________________________________________________________\n",
      "block3_pool (MaxPooling2D)   (None, 16, 16, 256)       0         \n",
      "_________________________________________________________________\n",
      "block3_drop (Dropout)        (None, 16, 16, 256)       0         \n",
      "_________________________________________________________________\n",
      "block4_conv1 (Conv2D)        (None, 16, 16, 512)       1180160   \n",
      "_________________________________________________________________\n",
      "block4_bn1 (BatchNormalizati (None, 16, 16, 512)       2048      \n",
      "_________________________________________________________________\n",
      "block4_act1 (Activation)     (None, 16, 16, 512)       0         \n",
      "_________________________________________________________________\n",
      "block4_conv2 (Conv2D)        (None, 16, 16, 512)       2359808   \n",
      "_________________________________________________________________\n",
      "block4_bn2 (BatchNormalizati (None, 16, 16, 512)       2048      \n",
      "_________________________________________________________________\n",
      "block4_act2 (Activation)     (None, 16, 16, 512)       0         \n",
      "_________________________________________________________________\n",
      "block4_conv3 (Conv2D)        (None, 16, 16, 512)       2359808   \n",
      "_________________________________________________________________\n",
      "block4_bn3 (BatchNormalizati (None, 16, 16, 512)       2048      \n",
      "_________________________________________________________________\n",
      "block4_act3 (Activation)     (None, 16, 16, 512)       0         \n",
      "_________________________________________________________________\n",
      "block4_conv4 (Conv2D)        (None, 16, 16, 512)       2359808   \n",
      "_________________________________________________________________\n",
      "block4_bn4 (BatchNormalizati (None, 16, 16, 512)       2048      \n",
      "_________________________________________________________________\n",
      "block4_act4 (Activation)     (None, 16, 16, 512)       0         \n",
      "_________________________________________________________________\n",
      "block4_pool (MaxPooling2D)   (None, 8, 8, 512)         0         \n",
      "_________________________________________________________________\n",
      "block4_drop (Dropout)        (None, 8, 8, 512)         0         \n",
      "_________________________________________________________________\n",
      "block5_conv1 (Conv2D)        (None, 8, 8, 512)         2359808   \n",
      "_________________________________________________________________\n",
      "block5_bn1 (BatchNormalizati (None, 8, 8, 512)         2048      \n",
      "_________________________________________________________________\n",
      "block5_act1 (Activation)     (None, 8, 8, 512)         0         \n",
      "_________________________________________________________________\n",
      "block5_conv2 (Conv2D)        (None, 8, 8, 512)         2359808   \n",
      "_________________________________________________________________\n",
      "block5_bn2 (BatchNormalizati (None, 8, 8, 512)         2048      \n",
      "_________________________________________________________________\n",
      "block5_act2 (Activation)     (None, 8, 8, 512)         0         \n",
      "_________________________________________________________________\n",
      "block5_conv3 (Conv2D)        (None, 8, 8, 512)         2359808   \n",
      "_________________________________________________________________\n",
      "block5_bn3 (BatchNormalizati (None, 8, 8, 512)         2048      \n",
      "_________________________________________________________________\n",
      "block5_act3 (Activation)     (None, 8, 8, 512)         0         \n",
      "_________________________________________________________________\n",
      "block5_conv4 (Conv2D)        (None, 8, 8, 512)         2359808   \n",
      "_________________________________________________________________\n",
      "block5_bn4 (BatchNormalizati (None, 8, 8, 512)         2048      \n",
      "_________________________________________________________________\n",
      "block5_act4 (Activation)     (None, 8, 8, 512)         0         \n",
      "_________________________________________________________________\n",
      "block5_pool (MaxPooling2D)   (None, 4, 4, 512)         0         \n",
      "_________________________________________________________________\n",
      "block5_drop (Dropout)        (None, 4, 4, 512)         0         \n",
      "_________________________________________________________________\n",
      "flatten (Flatten)            (None, 8192)              0         \n",
      "_________________________________________________________________\n",
      "fc1 (Dense)                  (None, 4096)              33558528  \n",
      "_________________________________________________________________\n",
      "drop1 (Dropout)              (None, 4096)              0         \n",
      "_________________________________________________________________\n",
      "fc2 (Dense)                  (None, 4096)              16781312  \n",
      "_________________________________________________________________\n",
      "drop2 (Dropout)              (None, 4096)              0         \n",
      "_________________________________________________________________\n",
      "predictions (Dense)          (None, 1)                 4097      \n",
      "=================================================================\n",
      "Total params: 70,390,337\n",
      "Trainable params: 70,379,329\n",
      "Non-trainable params: 11,008\n",
      "_________________________________________________________________\n"
     ]
    }
   ],
   "source": [
    "base_model.summary()"
   ]
  },
  {
   "cell_type": "code",
   "execution_count": 5,
   "id": "5750ee27",
   "metadata": {},
   "outputs": [],
   "source": [
    "DATA_PATH = '/public/liujiawei/ZHB/GradPri/UdacityData'\n",
    "\n",
    "X_test = np.load(os.path.join(DATA_PATH, 'test_X.npy'))\n",
    "Y_test = np.load(os.path.join(DATA_PATH, 'test_Y.npy'))"
   ]
  },
  {
   "cell_type": "code",
   "execution_count": 6,
   "id": "b03b3c81",
   "metadata": {},
   "outputs": [
    {
     "name": "stdout",
     "output_type": "stream",
     "text": [
      "x_test shape: (5279, 128, 128, 3)\n",
      "5279 test samples\n"
     ]
    }
   ],
   "source": [
    "print('x_test shape:', X_test.shape)\n",
    "print(X_test.shape[0], 'test samples')"
   ]
  },
  {
   "cell_type": "code",
   "execution_count": 114,
   "id": "dbef07a7",
   "metadata": {},
   "outputs": [],
   "source": [
    "from functools import reduce\n",
    "from art.utils import random_sphere\n",
    "from art.config import ART_NUMPY_DTYPE\n",
    "import sys\n",
    "sys.path.append('..')  \n",
    "from GradPri_utils.utils import *\n",
    "from scipy.stats import weibull_min\n",
    "from scipy.optimize import fmin as scipy_optimizer\n",
    "\n",
    "def inverper_r(regression, x, nb_batches, batch_size, radius, norm, c_init=1.0, pool_factor=5):\n",
    "    # Check if the targeted class is different from the predicted class\n",
    "#     y_pred = regression.predict(np.array([x]))\n",
    "    y_pred = regression.predict(np.reshape(x, [-1,128,128,3]))\n",
    "#     pred_class = np.argmax(y_pred, axis=1)[0]\n",
    "\n",
    "    # Check if pool_factor is smaller than 1\n",
    "    if pool_factor < 1:  # pragma: no cover\n",
    "        raise ValueError(\"The `pool_factor` must be larger than 1.\")\n",
    "\n",
    "    # Some auxiliary vars\n",
    "    rand_pool_grad_set = []\n",
    "    grad_norm_set = []\n",
    "    dim = reduce(lambda x_, y: x_ * y, x.shape, 1)\n",
    "    shape = [pool_factor * batch_size]\n",
    "    shape.extend(x.shape)\n",
    "\n",
    "    # Generate a pool of samples\n",
    "    rand_pool = np.reshape(\n",
    "        random_sphere(nb_points=pool_factor * batch_size, nb_dims=dim, radius=radius, norm=norm),\n",
    "        shape,\n",
    "    )\n",
    "    rand_pool += np.repeat(np.array([x]), pool_factor * batch_size, 0)\n",
    "    rand_pool = rand_pool.astype(ART_NUMPY_DTYPE)\n",
    "#     if hasattr(regression, \"clip_values\") and regression.clip_values is not None:\n",
    "    np.clip(rand_pool, -128, 128, out=rand_pool)\n",
    "\n",
    "    # Change norm since q = p / (p-1)\n",
    "    if norm == 1:\n",
    "        norm = np.inf\n",
    "    elif norm == np.inf:\n",
    "        norm = 1\n",
    "    elif norm != 2:  # pragma: no cover\n",
    "        raise ValueError(f\"Norm {norm} not supported\")\n",
    "\n",
    "    # Compute gradients for all samples in rand_pool\n",
    "    for i in range(batch_size):\n",
    "        rand_pool_batch = rand_pool[i * pool_factor : (i + 1) * pool_factor]\n",
    "\n",
    "#         Compute gradients\n",
    "#         grad_pred = regression.class_gradient(rand_pool_batch, label=pred_class)\n",
    "        grad_pred=[]\n",
    "        for x_tmp in rand_pool_batch:\n",
    "            grads = get_gradients_regression_one_out(x_tmp, base_model)\n",
    "            grad_pred.append(grads)\n",
    "        if np.isnan(grad_pred).any() :  # pragma: no cover\n",
    "            raise Exception(\"The regression results NaN gradients.\")\n",
    "\n",
    "        grad = grad_pred\n",
    "        grad = np.reshape(grad, (pool_factor, -1))\n",
    "        grad = np.linalg.norm(grad, ord=norm, axis=1)\n",
    "        rand_pool_grad_set.extend(grad)\n",
    "\n",
    "    rand_pool_grads = np.array(rand_pool_grad_set)\n",
    "\n",
    "    # Loop over the batches\n",
    "    for _ in range(nb_batches):\n",
    "        # Random selection of gradients\n",
    "        grad_norm = rand_pool_grads[np.random.choice(pool_factor * batch_size, batch_size)]\n",
    "        grad_norm = np.max(grad_norm)\n",
    "#         grad_norm = np.sum(np.abs(grad_norm)) \n",
    "        grad_norm_set.append(grad_norm)\n",
    "\n",
    "    # Maximum likelihood estimation for max gradient norms\n",
    "    [_, loc, _] = weibull_min.fit(-np.array(grad_norm_set), c_init, optimizer=scipy_optimizer)\n",
    "\n",
    "    # Compute function value\n",
    "#     values = regression.predict(np.reshape(x, [-1,128,128,3]))\n",
    "    values = regression.predict(np.reshape(rand_pool_batch, [-1,128,128,3]))\n",
    "#     value = np.min( [(1+prob_constant)*values[:, pred_class] , 1] ) - values[:, pred_class]\n",
    "#     value = values[:, pred_class] - prob_constant\n",
    "#     value = np.max( [(1+prob_constant)*values[:, pred_class] , 0.9] ) - values[:, pred_class]\n",
    "#     value = values[0] * np.log(1+values[0])\n",
    "#     value = np.max(np.sum(values, axis=-1)) - np.min(np.sum(values, axis=-1))\n",
    "\n",
    "#     tmp1 = values[:, pred_class]*(1+prob_constant)\n",
    "#     if tmp1<0.9:\n",
    "#         value = 0.9-values[:, pred_class]\n",
    "#     if tmp1>=0.9:\n",
    "#         value = 1.001-values[:, pred_class]\n",
    "\n",
    "    # Compute scores\n",
    "#     score = np.min([-value[0] / loc, radius])\n",
    "#     score = -value[0] / loc\n",
    "    score = -1 / loc\n",
    "\n",
    "    return score"
   ]
  },
  {
   "cell_type": "code",
   "execution_count": 121,
   "id": "4b7de3b5",
   "metadata": {
    "scrolled": true
   },
   "outputs": [
    {
     "name": "stderr",
     "output_type": "stream",
     "text": [
      "  2% |#                                                                       |\r"
     ]
    },
    {
     "name": "stdout",
     "output_type": "stream",
     "text": [
      "(1,)\n",
      "(2,)\n",
      "(3,)\n"
     ]
    },
    {
     "name": "stderr",
     "output_type": "stream",
     "text": [
      "  4% |##                                                                      |\r"
     ]
    },
    {
     "name": "stdout",
     "output_type": "stream",
     "text": [
      "(1,)\n",
      "(2,)\n",
      "(3,)\n"
     ]
    },
    {
     "name": "stderr",
     "output_type": "stream",
     "text": [
      "  6% |####                                                                    |\r"
     ]
    },
    {
     "name": "stdout",
     "output_type": "stream",
     "text": [
      "(1,)\n",
      "(2,)\n",
      "(3,)\n",
      "(1,)\n",
      "(2,)\n",
      "(3,)\n"
     ]
    },
    {
     "name": "stderr",
     "output_type": "stream",
     "text": [
      " 10% |#######                                                                 |\r"
     ]
    },
    {
     "name": "stdout",
     "output_type": "stream",
     "text": [
      "(1,)\n",
      "(2,)\n",
      "(3,)\n",
      "(1,)\n",
      "(2,)\n",
      "(3,)\n"
     ]
    },
    {
     "name": "stderr",
     "output_type": "stream",
     "text": [
      " 14% |##########                                                              |\r"
     ]
    },
    {
     "name": "stdout",
     "output_type": "stream",
     "text": [
      "(1,)\n",
      "(2,)\n",
      "(3,)\n"
     ]
    },
    {
     "name": "stderr",
     "output_type": "stream",
     "text": [
      " 16% |###########                                                             |\r"
     ]
    },
    {
     "name": "stdout",
     "output_type": "stream",
     "text": [
      "(1,)\n",
      "(2,)\n",
      "(3,)\n"
     ]
    },
    {
     "name": "stderr",
     "output_type": "stream",
     "text": [
      " 18% |############                                                            |\r"
     ]
    },
    {
     "name": "stdout",
     "output_type": "stream",
     "text": [
      "(1,)\n",
      "(2,)\n",
      "(3,)\n",
      "(1,)\n",
      "(2,)\n",
      "(3,)\n"
     ]
    },
    {
     "name": "stderr",
     "output_type": "stream",
     "text": [
      " 22% |###############                                                         |\r"
     ]
    },
    {
     "name": "stdout",
     "output_type": "stream",
     "text": [
      "(1,)\n",
      "(2,)\n",
      "(3,)\n"
     ]
    },
    {
     "name": "stderr",
     "output_type": "stream",
     "text": [
      " 24% |#################                                                       |\r"
     ]
    },
    {
     "name": "stdout",
     "output_type": "stream",
     "text": [
      "(1,)\n",
      "(2,)\n",
      "(3,)\n",
      "(1,)\n",
      "(2,)\n",
      "(3,)\n"
     ]
    },
    {
     "name": "stderr",
     "output_type": "stream",
     "text": [
      " 28% |####################                                                    |\r"
     ]
    },
    {
     "name": "stdout",
     "output_type": "stream",
     "text": [
      "(1,)\n",
      "(2,)\n",
      "(3,)\n",
      "(1,)\n",
      "(2,)\n",
      "(3,)\n"
     ]
    },
    {
     "name": "stderr",
     "output_type": "stream",
     "text": [
      " 32% |#######################                                                 |\r"
     ]
    },
    {
     "name": "stdout",
     "output_type": "stream",
     "text": [
      "(1,)\n",
      "(2,)\n",
      "(3,)\n"
     ]
    },
    {
     "name": "stderr",
     "output_type": "stream",
     "text": [
      " 34% |########################                                                |\r"
     ]
    },
    {
     "name": "stdout",
     "output_type": "stream",
     "text": [
      "(1,)\n",
      "(2,)\n",
      "(3,)\n"
     ]
    },
    {
     "name": "stderr",
     "output_type": "stream",
     "text": [
      " 36% |#########################                                               |\r"
     ]
    },
    {
     "name": "stdout",
     "output_type": "stream",
     "text": [
      "(1,)\n",
      "(2,)\n",
      "(3,)\n"
     ]
    },
    {
     "name": "stderr",
     "output_type": "stream",
     "text": [
      " 38% |###########################                                             |\r"
     ]
    },
    {
     "name": "stdout",
     "output_type": "stream",
     "text": [
      "(1,)\n",
      "(2,)\n",
      "(3,)\n"
     ]
    },
    {
     "name": "stderr",
     "output_type": "stream",
     "text": [
      " 40% |############################                                            |\r"
     ]
    },
    {
     "name": "stdout",
     "output_type": "stream",
     "text": [
      "(1,)\n",
      "(2,)\n",
      "(3,)\n"
     ]
    },
    {
     "name": "stderr",
     "output_type": "stream",
     "text": [
      " 42% |##############################                                          |\r"
     ]
    },
    {
     "name": "stdout",
     "output_type": "stream",
     "text": [
      "(1,)\n",
      "(2,)\n",
      "(3,)\n"
     ]
    },
    {
     "name": "stderr",
     "output_type": "stream",
     "text": [
      " 44% |###############################                                         |\r"
     ]
    },
    {
     "name": "stdout",
     "output_type": "stream",
     "text": [
      "(1,)\n",
      "(2,)\n",
      "(3,)\n"
     ]
    },
    {
     "name": "stderr",
     "output_type": "stream",
     "text": [
      " 46% |#################################                                       |\r"
     ]
    },
    {
     "name": "stdout",
     "output_type": "stream",
     "text": [
      "(1,)\n",
      "(2,)\n",
      "(3,)\n"
     ]
    },
    {
     "name": "stderr",
     "output_type": "stream",
     "text": [
      " 48% |##################################                                      |\r"
     ]
    },
    {
     "name": "stdout",
     "output_type": "stream",
     "text": [
      "(1,)\n",
      "(2,)\n",
      "(3,)\n"
     ]
    },
    {
     "name": "stderr",
     "output_type": "stream",
     "text": [
      " 50% |####################################                                    |\r"
     ]
    },
    {
     "name": "stdout",
     "output_type": "stream",
     "text": [
      "(1,)\n",
      "(2,)\n",
      "(3,)\n",
      "(1,)\n",
      "(2,)\n",
      "(3,)\n"
     ]
    },
    {
     "name": "stderr",
     "output_type": "stream",
     "text": [
      " 54% |######################################                                  |\r"
     ]
    },
    {
     "name": "stdout",
     "output_type": "stream",
     "text": [
      "(1,)\n",
      "(2,)\n",
      "(3,)\n",
      "(1,)\n",
      "(2,)\n",
      "(3,)\n"
     ]
    },
    {
     "name": "stderr",
     "output_type": "stream",
     "text": [
      " 58% |#########################################                               |\r"
     ]
    },
    {
     "name": "stdout",
     "output_type": "stream",
     "text": [
      "(1,)\n",
      "(2,)\n",
      "(3,)\n"
     ]
    },
    {
     "name": "stderr",
     "output_type": "stream",
     "text": [
      " 60% |###########################################                             |\r"
     ]
    },
    {
     "name": "stdout",
     "output_type": "stream",
     "text": [
      "(1,)\n",
      "(2,)\n",
      "(3,)\n",
      "(1,)\n",
      "(2,)\n",
      "(3,)\n"
     ]
    },
    {
     "name": "stderr",
     "output_type": "stream",
     "text": [
      " 64% |##############################################                          |\r"
     ]
    },
    {
     "name": "stdout",
     "output_type": "stream",
     "text": [
      "(1,)\n",
      "(2,)\n",
      "(3,)\n",
      "(1,)\n",
      "(2,)\n",
      "(3,)\n"
     ]
    },
    {
     "name": "stderr",
     "output_type": "stream",
     "text": [
      " 68% |################################################                        |\r"
     ]
    },
    {
     "name": "stdout",
     "output_type": "stream",
     "text": [
      "(1,)\n",
      "(2,)\n",
      "(3,)\n",
      "(1,)\n",
      "(2,)\n",
      "(3,)\n"
     ]
    },
    {
     "name": "stderr",
     "output_type": "stream",
     "text": [
      " 72% |###################################################                     |\r"
     ]
    },
    {
     "name": "stdout",
     "output_type": "stream",
     "text": [
      "(1,)\n",
      "(2,)\n",
      "(3,)\n",
      "(1,)\n",
      "(2,)\n",
      "(3,)\n"
     ]
    },
    {
     "name": "stderr",
     "output_type": "stream",
     "text": [
      " 76% |######################################################                  |\r"
     ]
    },
    {
     "name": "stdout",
     "output_type": "stream",
     "text": [
      "(1,)\n",
      "(2,)\n",
      "(3,)\n",
      "(1,)\n",
      "(2,)\n",
      "(3,)\n"
     ]
    },
    {
     "name": "stderr",
     "output_type": "stream",
     "text": [
      " 80% |#########################################################               |\r"
     ]
    },
    {
     "name": "stdout",
     "output_type": "stream",
     "text": [
      "(1,)\n",
      "(2,)\n",
      "(3,)\n",
      "(1,)\n",
      "(2,)\n",
      "(3,)\n"
     ]
    },
    {
     "name": "stderr",
     "output_type": "stream",
     "text": [
      " 84% |############################################################            |\r"
     ]
    },
    {
     "name": "stdout",
     "output_type": "stream",
     "text": [
      "(1,)\n",
      "(2,)\n",
      "(3,)\n",
      "(1,)\n",
      "(2,)\n",
      "(3,)\n"
     ]
    },
    {
     "name": "stderr",
     "output_type": "stream",
     "text": [
      " 88% |###############################################################         |\r"
     ]
    },
    {
     "name": "stdout",
     "output_type": "stream",
     "text": [
      "(1,)\n",
      "(2,)\n",
      "(3,)\n",
      "(1,)\n",
      "(2,)\n",
      "(3,)\n"
     ]
    },
    {
     "name": "stderr",
     "output_type": "stream",
     "text": [
      " 92% |##################################################################      |\r"
     ]
    },
    {
     "name": "stdout",
     "output_type": "stream",
     "text": [
      "(1,)\n",
      "(2,)\n",
      "(3,)\n"
     ]
    },
    {
     "name": "stderr",
     "output_type": "stream",
     "text": [
      " 94% |###################################################################     |\r"
     ]
    },
    {
     "name": "stdout",
     "output_type": "stream",
     "text": [
      "(1,)\n",
      "(2,)\n",
      "(3,)\n"
     ]
    },
    {
     "name": "stderr",
     "output_type": "stream",
     "text": [
      " 96% |#####################################################################   |\r"
     ]
    },
    {
     "name": "stdout",
     "output_type": "stream",
     "text": [
      "(1,)\n",
      "(2,)\n",
      "(3,)\n"
     ]
    },
    {
     "name": "stderr",
     "output_type": "stream",
     "text": [
      " 98% |######################################################################  |\r"
     ]
    },
    {
     "name": "stdout",
     "output_type": "stream",
     "text": [
      "(1,)\n",
      "(2,)\n",
      "(3,)\n",
      "(1,)\n",
      "(2,)\n",
      "(3,)\n"
     ]
    },
    {
     "name": "stderr",
     "output_type": "stream",
     "text": [
      "100% |########################################################################|\n"
     ]
    }
   ],
   "source": [
    "R_L1 = 40\n",
    "R_L2 = 2\n",
    "R_LI = 20\n",
    "top_set = 1 # 预测的前n个类中包含真实标签则表示预测正确\n",
    "total_sample_num = 50\n",
    "img_num = range(0, total_sample_num)\n",
    "ground_truth_label = []  # 记录样本的真实标签\n",
    "predicted_confidence = []  # 记录样本的置信度信息\n",
    "BoundaryGini2 = []\n",
    "\n",
    "pbar = ProgressBar()\n",
    "for i in pbar(img_num):\n",
    "#     img_path = DATA_PATH + file_name[i]\n",
    "#     img = image.load_img(img_path, target_size=(224, 224))\n",
    "#     x_tmp = image.img_to_array(img)\n",
    "#     x_tmp = np.expand_dims(x_tmp, axis=0)\n",
    "#     x_tmp = preprocess_input(x_tmp)\n",
    "    \n",
    "    x_tmp = X_test[i]\n",
    "    x_tmp = np.expand_dims(x_tmp, axis=0)\n",
    "    ground_truth_label.append(Y_test[i])\n",
    "    predicted_confidence.append(base_model.predict(x_tmp)[0])\n",
    "#     pre_tmp = base_model.predict(np.reshape(x_tmp, [-1,224,224,3]))\n",
    "    res_tmp = inverper_r(regression=base_model, x=x_tmp, nb_batches=3, \n",
    "                         batch_size=10, radius=R_LI, norm=np.inf, c_init=1.0, pool_factor=5)\n",
    "    BoundaryGini2.append(res_tmp)"
   ]
  },
  {
   "cell_type": "code",
   "execution_count": 217,
   "id": "bac4ea5d",
   "metadata": {},
   "outputs": [
    {
     "name": "stderr",
     "output_type": "stream",
     "text": [
      "100% |########################################################################|\n",
      "100% |########################################################################|\r"
     ]
    },
    {
     "name": "stdout",
     "output_type": "stream",
     "text": [
      "APFD:  0.5129166666666667\n",
      "RAUC:  0.9488993710691824\n"
     ]
    },
    {
     "name": "stderr",
     "output_type": "stream",
     "text": [
      "\n"
     ]
    }
   ],
   "source": [
    "num_metric = 50 #total_sample_num\n",
    "thre_mse = None\n",
    "indexs = np.argsort(BoundaryGini2[0: num_metric])\n",
    "indexs = indexs[::-1]\n",
    "top_set=1\n",
    "# 计算APFD指标\n",
    "APFD,_,_ = get_APFD_reg(Gini_indexs=indexs, ground_truth_label=np.array(ground_truth_label[0: num_metric]), \n",
    "                    predicted_confidence=np.array(predicted_confidence[0: num_metric]), thre_mse=0.0001)\n",
    "print(\"APFD: \", APFD)\n",
    "\n",
    "# 计算RAUC指标\n",
    "RAUC,_,_ = get_RAUC_reg(Gini_indexs=indexs, ground_truth_label=np.array(ground_truth_label[0: num_metric]), \n",
    "                    predicted_confidence=np.array(predicted_confidence[0: num_metric]), thre_mse=0.0001)\n",
    "print(\"RAUC: \", RAUC)"
   ]
  },
  {
   "cell_type": "code",
   "execution_count": 113,
   "id": "7900f8a3",
   "metadata": {},
   "outputs": [
    {
     "name": "stdout",
     "output_type": "stream",
     "text": [
      "0.12396701\n"
     ]
    }
   ],
   "source": [
    "x_tmp = X_test[7]\n",
    "x_tmp = np.expand_dims(x_tmp, axis=0)\n",
    "grads = get_gradients_regression_one_out(x_tmp, base_model)\n",
    "print(np.sum(np.abs(grads)))"
   ]
  },
  {
   "cell_type": "code",
   "execution_count": 191,
   "id": "95517af5",
   "metadata": {},
   "outputs": [
    {
     "name": "stderr",
     "output_type": "stream",
     "text": [
      "100% |########################################################################|\r"
     ]
    },
    {
     "name": "stdout",
     "output_type": "stream",
     "text": [
      "RAUC:  0.6340508806262231 \t RAUC2:  0.3056\n"
     ]
    },
    {
     "name": "stderr",
     "output_type": "stream",
     "text": [
      "\n"
     ]
    }
   ],
   "source": [
    "indexs_rand = []\n",
    "for i in range(len(indexs)):\n",
    "    indexs_rand.append(i)\n",
    "indexs_rand = np.array(indexs_rand)\n",
    "indexs_rand\n",
    "import random\n",
    "random.shuffle(indexs_rand)\n",
    "\n",
    "RAUC2,_,_ = get_RAUC_reg2(Gini_indexs=indexs_rand, ground_truth_label=np.array(ground_truth_label[0: num_metric]), \n",
    "                    predicted_confidence=np.array(predicted_confidence[0: num_metric]))\n",
    "print(\"RAUC: \", RAUC, '\\t', \"RAUC2: \", RAUC2)"
   ]
  },
  {
   "cell_type": "code",
   "execution_count": 177,
   "id": "d8766067",
   "metadata": {},
   "outputs": [
    {
     "data": {
      "text/plain": [
       "array([40, 44,  4, 27,  3, 31, 15, 29, 19, 48, 41, 46, 45, 13, 34,  2, 35,\n",
       "       36, 14, 17, 25, 16,  1, 26, 38, 28, 42, 24, 47, 11, 22, 43, 33, 23,\n",
       "       30, 39,  8,  6, 21, 10, 37, 49,  0, 32,  5,  7,  9, 18, 12, 20])"
      ]
     },
     "execution_count": 177,
     "metadata": {},
     "output_type": "execute_result"
    }
   ],
   "source": []
  },
  {
   "cell_type": "code",
   "execution_count": 116,
   "id": "2bd767a9",
   "metadata": {},
   "outputs": [],
   "source": [
    "def get_APFD_reg(Gini_indexs, ground_truth_label, predicted_confidence, thre_mse=None):\n",
    "    o_i = 0\n",
    "    pbar = ProgressBar()\n",
    "    wrong_num = 0\n",
    "    wrong_num_index = []\n",
    "    \n",
    "    if thre_mse is None:\n",
    "        mse_tmp = []\n",
    "        for i in range(len(Gini_indexs)):\n",
    "            mse_tmp.append( np.sum(pow( predicted_confidence[i][0] - ground_truth_label[i], 2)))\n",
    "        thre_mse = np.mean(mse_tmp)\n",
    "        # thre_rmse = np.sqrt(thre_mse)\n",
    "\n",
    "    for i in pbar(range(0, len(Gini_indexs))):\n",
    "#         mse = np.sum(pow( ground_truth_label[i] - predicted_confidence[i][0], 2))\n",
    "        mse = np.sum(pow( ground_truth_label[Gini_indexs[i]] - predicted_confidence[Gini_indexs[i]][0], 2))\n",
    "        if mse > thre_mse:\n",
    "            o_i = o_i+i\n",
    "            wrong_num = wrong_num+1\n",
    "            wrong_num_index.append(Gini_indexs[i])\n",
    "    APFD = 1 - o_i/(len(Gini_indexs)*wrong_num) + 1/(2*len(Gini_indexs))\n",
    "    return APFD, wrong_num, np.array(wrong_num_index).reshape(-1)\n",
    "\n",
    "def get_RAUC_reg(Gini_indexs, ground_truth_label, predicted_confidence, thre_mse=None):\n",
    "    pre_y_axis = []\n",
    "    o_i = 0\n",
    "    wrong_num = 0\n",
    "    pbar = ProgressBar()\n",
    "    \n",
    "    if thre_mse is None:\n",
    "        mse_tmp = []\n",
    "        for i in range(len(Gini_indexs)):\n",
    "            mse_tmp.append( np.sum(pow( predicted_confidence[i][0] - ground_truth_label[i], 2)))\n",
    "        thre_mse = np.mean(mse_tmp)\n",
    "    \n",
    "    for i in pbar(range(0, len(Gini_indexs))):\n",
    "        mse = np.sum(pow( ground_truth_label[Gini_indexs[i]] - predicted_confidence[Gini_indexs[i]][0], 2))\n",
    "        if mse > thre_mse:\n",
    "            o_i = o_i+1\n",
    "            wrong_num = wrong_num+1\n",
    "            pre_y_axis.append(o_i)\n",
    "        else:\n",
    "            pre_y_axis.append(o_i)\n",
    "    true_y_axis = wrong_num*(len(Gini_indexs)-wrong_num) + (wrong_num+1)*wrong_num/2\n",
    "    RAUC = np.sum(pre_y_axis)/true_y_axis\n",
    "#     print(\"RAUC: \", RAUC)\n",
    "    return RAUC, len(Gini_indexs), wrong_num"
   ]
  },
  {
   "cell_type": "code",
   "execution_count": 169,
   "id": "3220f797",
   "metadata": {},
   "outputs": [],
   "source": [
    "def get_RAUC_reg2(Gini_indexs, ground_truth_label, predicted_confidence):\n",
    "    pre_y_axis = []\n",
    "    o_i = 0\n",
    "    wrong_num = None\n",
    "    pbar = ProgressBar()\n",
    "\n",
    "    mse_tmp = []\n",
    "    for i in range(len(Gini_indexs)):\n",
    "        mse_tmp.append( np.sum(pow( predicted_confidence[i][0] - ground_truth_label[i], 2)))\n",
    "    indexs = np.argsort(mse_tmp)\n",
    "    indexs = indexs[::-1]\n",
    "#     print(mse_tmp, indexs)\n",
    "    \n",
    "    tmp1 = 0\n",
    "    for i in pbar(range(len(Gini_indexs))):\n",
    "        for j in range(i+1):\n",
    "            if Gini_indexs[i]==indexs[j]:\n",
    "                tmp1 += 1\n",
    "        pre_y_axis.append(tmp1)\n",
    "#     print(pre_y_axis)\n",
    "    true_y_axis = len(Gini_indexs)*len(Gini_indexs)/2\n",
    "    RAUC = np.sum(pre_y_axis)/true_y_axis\n",
    "#     true_y_axis = wrong_num*(len(Gini_indexs)-wrong_num) + (wrong_num+1)*wrong_num/2\n",
    "#     RAUC = np.sum(pre_y_axis)/true_y_axis\n",
    "# #     print(\"RAUC: \", RAUC)\n",
    "    return RAUC, len(Gini_indexs), wrong_num"
   ]
  },
  {
   "cell_type": "code",
   "execution_count": null,
   "id": "85ffc8d5",
   "metadata": {},
   "outputs": [],
   "source": []
  },
  {
   "cell_type": "code",
   "execution_count": null,
   "id": "cba509fd",
   "metadata": {},
   "outputs": [],
   "source": []
  },
  {
   "cell_type": "code",
   "execution_count": null,
   "id": "6b9095c0",
   "metadata": {},
   "outputs": [],
   "source": []
  }
 ],
 "metadata": {
  "kernelspec": {
   "display_name": "Python 3",
   "language": "python",
   "name": "python3"
  },
  "language_info": {
   "codemirror_mode": {
    "name": "ipython",
    "version": 3
   },
   "file_extension": ".py",
   "mimetype": "text/x-python",
   "name": "python",
   "nbconvert_exporter": "python",
   "pygments_lexer": "ipython3",
   "version": "3.6.13"
  }
 },
 "nbformat": 4,
 "nbformat_minor": 5
}
