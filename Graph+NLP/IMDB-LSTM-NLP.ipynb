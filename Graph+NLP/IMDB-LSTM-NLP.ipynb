{
 "cells": [
  {
   "cell_type": "code",
   "execution_count": 1,
   "id": "8ffaea14",
   "metadata": {},
   "outputs": [],
   "source": [
    "from __future__ import absolute_import, division, print_function, unicode_literals\n",
    "\n",
    "from tensorflow.keras.preprocessing import sequence\n",
    "from tensorflow.keras.models import Sequential\n",
    "from tensorflow.keras.layers import Conv1D, MaxPooling1D, Flatten, Dense, Embedding\n",
    "from tensorflow.keras.layers import MaxPooling2D\n",
    "from tensorflow.keras.datasets import imdb\n",
    "import numpy as np\n",
    "\n",
    "from tensorflow.keras.layers import Dense,LSTM\n",
    "import os\n",
    "\n",
    "os.environ[\"CUDA_DEVICE_ORDER\"] = \"PCI_BUS_ID\"\n",
    "os.environ[\"CUDA_VISIBLE_DEVICES\"] = \"4\""
   ]
  },
  {
   "cell_type": "code",
   "execution_count": 2,
   "id": "3dd98a47",
   "metadata": {},
   "outputs": [],
   "source": [
    "(X_train_seq, Y_train), (X_test_seq, Y_test) = imdb.load_data()\n",
    "\n",
    "vocabulary_size = -1\n",
    "\n",
    "for seq in X_train_seq:\n",
    "    max_index = max(seq)\n",
    "    if max_index > vocabulary_size:\n",
    "        vocabulary_size = max_index\n",
    "\n",
    "for seq in X_test_seq:\n",
    "    max_index = max(seq)\n",
    "    if max_index > vocabulary_size:\n",
    "        vocabulary_size = max_index\n",
    "\n",
    "vocabulary_size += 1\n",
    "\n",
    "X_train = sequence.pad_sequences(X_train_seq, maxlen=100)\n",
    "X_test = sequence.pad_sequences(X_test_seq, maxlen=100)"
   ]
  },
  {
   "cell_type": "code",
   "execution_count": 3,
   "id": "b885b1df",
   "metadata": {},
   "outputs": [
    {
     "name": "stdout",
     "output_type": "stream",
     "text": [
      "(141,) (25000,) (603,) (25000,)\n",
      "(25000, 100) (25000, 100)\n"
     ]
    }
   ],
   "source": [
    "print(np.shape(X_train_seq[2]), np.shape(Y_train), np.shape(X_test_seq[2]), np.shape(Y_test))\n",
    "print(np.shape(X_train), np.shape(X_test))"
   ]
  },
  {
   "cell_type": "code",
   "execution_count": 4,
   "id": "96d03e08",
   "metadata": {},
   "outputs": [
    {
     "name": "stdout",
     "output_type": "stream",
     "text": [
      "Model: \"sequential\"\n",
      "_________________________________________________________________\n",
      "Layer (type)                 Output Shape              Param #   \n",
      "=================================================================\n",
      "embedding (Embedding)        (None, 100, 300)          26576100  \n",
      "_________________________________________________________________\n",
      "lstm (LSTM)                  (None, 100, 64)           93440     \n",
      "_________________________________________________________________\n",
      "lstm_1 (LSTM)                (None, 32)                12416     \n",
      "_________________________________________________________________\n",
      "flatten (Flatten)            (None, 32)                0         \n",
      "_________________________________________________________________\n",
      "dense (Dense)                (None, 1)                 33        \n",
      "=================================================================\n",
      "Total params: 26,681,989\n",
      "Trainable params: 26,681,989\n",
      "Non-trainable params: 0\n",
      "_________________________________________________________________\n"
     ]
    }
   ],
   "source": [
    "model = Sequential()\n",
    "model.add(Embedding(output_dim=300, input_dim=vocabulary_size, input_length=100))\n",
    "\n",
    "model.add(LSTM(64,return_sequences=True))  #返回所有节点的输出\n",
    "# model.add(LSTM(32,return_sequences=True))  \n",
    "model.add(LSTM(32,return_sequences=False))  #返回最后一个节点的输出\n",
    "# model.add(MaxPooling1D(pool_size=2))\n",
    "model.add(Flatten())\n",
    "model.add(Dense(1, activation='sigmoid'))\n",
    "\n",
    "# model.add(Conv1D(filters=64, kernel_size=3, padding='same', activation='relu'))\n",
    "# model.add(MaxPooling1D(pool_size=2))\n",
    "\n",
    "\n",
    "model.compile(loss='binary_crossentropy', optimizer='rmsprop', metrics=['accuracy'])\n",
    "model.summary()"
   ]
  },
  {
   "cell_type": "code",
   "execution_count": 5,
   "id": "a39988a4",
   "metadata": {
    "scrolled": false
   },
   "outputs": [
    {
     "name": "stdout",
     "output_type": "stream",
     "text": [
      "Epoch 1/10\n",
      "196/196 [==============================] - 9s 13ms/step - loss: 0.4248 - accuracy: 0.8056\n",
      "Epoch 2/10\n",
      "196/196 [==============================] - 3s 13ms/step - loss: 0.2487 - accuracy: 0.9024\n",
      "Epoch 3/10\n",
      "196/196 [==============================] - 3s 13ms/step - loss: 0.1711 - accuracy: 0.9344\n",
      "Epoch 4/10\n",
      "196/196 [==============================] - 3s 13ms/step - loss: 0.1138 - accuracy: 0.9590\n",
      "Epoch 5/10\n",
      "196/196 [==============================] - 2s 12ms/step - loss: 0.0786 - accuracy: 0.9742\n",
      "Epoch 6/10\n",
      "196/196 [==============================] - 2s 12ms/step - loss: 0.0512 - accuracy: 0.9821\n",
      "Epoch 7/10\n",
      "196/196 [==============================] - 2s 13ms/step - loss: 0.0326 - accuracy: 0.9892\n",
      "Epoch 8/10\n",
      "196/196 [==============================] - 2s 13ms/step - loss: 0.0244 - accuracy: 0.9920\n",
      "Epoch 9/10\n",
      "196/196 [==============================] - 3s 13ms/step - loss: 0.0179 - accuracy: 0.9950\n",
      "Epoch 10/10\n",
      "196/196 [==============================] - 2s 12ms/step - loss: 0.0181 - accuracy: 0.9955\n"
     ]
    },
    {
     "data": {
      "text/plain": [
       "<keras.callbacks.History at 0x7fb6dac16b38>"
      ]
     },
     "execution_count": 5,
     "metadata": {},
     "output_type": "execute_result"
    }
   ],
   "source": [
    "model.fit(X_train, Y_train, epochs=10, batch_size=128)"
   ]
  },
  {
   "cell_type": "code",
   "execution_count": 6,
   "id": "3ebec63a",
   "metadata": {},
   "outputs": [
    {
     "name": "stdout",
     "output_type": "stream",
     "text": [
      "782/782 [==============================] - 5s 5ms/step - loss: 0.0030 - accuracy: 0.9996\n"
     ]
    }
   ],
   "source": [
    "a = model.evaluate(X_train,Y_train)"
   ]
  },
  {
   "cell_type": "code",
   "execution_count": 7,
   "id": "086f7b12",
   "metadata": {},
   "outputs": [
    {
     "name": "stdout",
     "output_type": "stream",
     "text": [
      "782/782 [==============================] - 4s 5ms/step - loss: 0.7864 - accuracy: 0.8117\n"
     ]
    }
   ],
   "source": [
    "a = model.evaluate(X_test,Y_test)"
   ]
  },
  {
   "cell_type": "code",
   "execution_count": 9,
   "id": "30cf269a",
   "metadata": {},
   "outputs": [
    {
     "name": "stdout",
     "output_type": "stream",
     "text": [
      "loss: 0.7864482998847961 acc: 0.8117200136184692\n"
     ]
    }
   ],
   "source": [
    "print('loss:', a[0], 'acc:', a[1])"
   ]
  },
  {
   "cell_type": "code",
   "execution_count": null,
   "id": "5cce1172",
   "metadata": {},
   "outputs": [],
   "source": []
  }
 ],
 "metadata": {
  "kernelspec": {
   "display_name": "Python 3",
   "language": "python",
   "name": "python3"
  },
  "language_info": {
   "codemirror_mode": {
    "name": "ipython",
    "version": 3
   },
   "file_extension": ".py",
   "mimetype": "text/x-python",
   "name": "python",
   "nbconvert_exporter": "python",
   "pygments_lexer": "ipython3",
   "version": "3.6.13"
  }
 },
 "nbformat": 4,
 "nbformat_minor": 5
}
