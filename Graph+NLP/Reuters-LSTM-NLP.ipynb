{
 "cells": [
  {
   "cell_type": "code",
   "execution_count": 1,
   "id": "8ffaea14",
   "metadata": {},
   "outputs": [],
   "source": [
    "from __future__ import absolute_import, division, print_function, unicode_literals\n",
    "\n",
    "from tensorflow.keras.preprocessing import sequence\n",
    "from tensorflow.keras.models import Sequential\n",
    "from tensorflow.keras.layers import Conv1D, MaxPooling1D, Flatten, Dense, Embedding, Dropout, LSTM\n",
    "from tensorflow.keras.datasets import imdb\n",
    "import numpy as np\n",
    "from keras.datasets import reuters\n",
    "from keras.utils.np_utils import to_categorical\n",
    "\n",
    "import os\n",
    "\n",
    "os.environ[\"CUDA_DEVICE_ORDER\"] = \"PCI_BUS_ID\"\n",
    "os.environ[\"CUDA_VISIBLE_DEVICES\"] = \"4\""
   ]
  },
  {
   "cell_type": "code",
   "execution_count": 2,
   "id": "3dd98a47",
   "metadata": {},
   "outputs": [],
   "source": [
    "# (x_train, y_train), (x_test, y_test) = reuters.load_data(path=\"reuters.npz\",\n",
    "#                                                          num_words=None,\n",
    "#                                                          skip_top=0,\n",
    "#                                                          maxlen=None,\n",
    "#                                                          test_split=0.2,\n",
    "#                                                          seed=113,\n",
    "#                                                          start_char=1,\n",
    "#                                                          oov_char=2,\n",
    "#                                                          index_from=3)\n",
    "\n",
    "(X_train_seq, Y_train), (X_test_seq, Y_test) = reuters.load_data()"
   ]
  },
  {
   "cell_type": "code",
   "execution_count": 3,
   "id": "3b190619",
   "metadata": {},
   "outputs": [],
   "source": [
    "vocabulary_size = -1\n",
    "\n",
    "for seq in X_train_seq:\n",
    "    max_index = max(seq)\n",
    "    if max_index > vocabulary_size:\n",
    "        vocabulary_size = max_index\n",
    "\n",
    "for seq in X_test_seq:\n",
    "    max_index = max(seq)\n",
    "    if max_index > vocabulary_size:\n",
    "        vocabulary_size = max_index\n",
    "\n",
    "vocabulary_size += 1\n",
    "\n",
    "X_train = sequence.pad_sequences(X_train_seq, maxlen=100)\n",
    "X_test = sequence.pad_sequences(X_test_seq, maxlen=100)\n",
    "\n",
    "Y_train = to_categorical(Y_train)\n",
    "Y_test = to_categorical(Y_test)"
   ]
  },
  {
   "cell_type": "code",
   "execution_count": 4,
   "id": "b885b1df",
   "metadata": {},
   "outputs": [
    {
     "name": "stdout",
     "output_type": "stream",
     "text": [
      "(8982,) (8982, 46) (2246,) (2246, 46)\n",
      "(8982, 100) (2246, 100)\n"
     ]
    }
   ],
   "source": [
    "print(np.shape(X_train_seq), np.shape(Y_train), np.shape(X_test_seq), np.shape(Y_test))\n",
    "print(np.shape(X_train), np.shape(X_test))"
   ]
  },
  {
   "cell_type": "code",
   "execution_count": null,
   "id": "f1841c87",
   "metadata": {},
   "outputs": [],
   "source": []
  },
  {
   "cell_type": "code",
   "execution_count": 5,
   "id": "96d03e08",
   "metadata": {},
   "outputs": [
    {
     "name": "stdout",
     "output_type": "stream",
     "text": [
      "Model: \"sequential\"\n",
      "_________________________________________________________________\n",
      "Layer (type)                 Output Shape              Param #   \n",
      "=================================================================\n",
      "embedding (Embedding)        (None, 100, 300)          9294600   \n",
      "_________________________________________________________________\n",
      "lstm (LSTM)                  (None, 100, 256)          570368    \n",
      "_________________________________________________________________\n",
      "lstm_1 (LSTM)                (None, 100, 128)          197120    \n",
      "_________________________________________________________________\n",
      "dense (Dense)                (None, 100, 1024)         132096    \n",
      "_________________________________________________________________\n",
      "dropout (Dropout)            (None, 100, 1024)         0         \n",
      "_________________________________________________________________\n",
      "flatten (Flatten)            (None, 102400)            0         \n",
      "_________________________________________________________________\n",
      "dense_1 (Dense)              (None, 46)                4710446   \n",
      "=================================================================\n",
      "Total params: 14,904,630\n",
      "Trainable params: 14,904,630\n",
      "Non-trainable params: 0\n",
      "_________________________________________________________________\n"
     ]
    }
   ],
   "source": [
    "model = Sequential()\n",
    "model.add(Embedding(output_dim=300, input_dim=vocabulary_size, input_length=100))\n",
    "\n",
    "model.add(LSTM(256,return_sequences=True))  #返回所有节点的输出\n",
    "model.add(LSTM(128,return_sequences=True))  #返回所有节点的输出\n",
    "# model.add(LSTM(64,return_sequences=True))  #返回最后一个节点的输出\n",
    "# model.add(Flatten())\n",
    "# model.add(Dense(64, activation='softmax'))\n",
    "\n",
    "\n",
    "model.add(Dense(1024, activation='relu'))\n",
    "model.add(Dropout(0.5))\n",
    "model.add(Flatten())\n",
    "model.add(Dense(46, activation='softmax'))\n",
    "\n",
    "model.compile(optimizer='adam',loss='categorical_crossentropy',metrics=['accuracy'])\n",
    "# model.compile(loss='binary_crossentropy', optimizer='rmsprop', metrics=['accuracy'])\n",
    "model.summary()"
   ]
  },
  {
   "cell_type": "code",
   "execution_count": 6,
   "id": "aee23933",
   "metadata": {},
   "outputs": [
    {
     "name": "stdout",
     "output_type": "stream",
     "text": [
      "Epoch 1/10\n",
      "71/71 [==============================] - 7s 16ms/step - loss: 1.8768 - accuracy: 0.5254\n",
      "Epoch 2/10\n",
      "71/71 [==============================] - 2s 23ms/step - loss: 1.1414 - accuracy: 0.7111\n",
      "Epoch 3/10\n",
      "71/71 [==============================] - 2s 23ms/step - loss: 0.6959 - accuracy: 0.8140\n",
      "Epoch 4/10\n",
      "71/71 [==============================] - 2s 23ms/step - loss: 0.3981 - accuracy: 0.8953\n",
      "Epoch 5/10\n",
      "71/71 [==============================] - 1s 16ms/step - loss: 0.2689 - accuracy: 0.9335\n",
      "Epoch 6/10\n",
      "71/71 [==============================] - 2s 22ms/step - loss: 0.2062 - accuracy: 0.9479\n",
      "Epoch 7/10\n",
      "71/71 [==============================] - 2s 23ms/step - loss: 0.1821 - accuracy: 0.9503\n",
      "Epoch 8/10\n",
      "71/71 [==============================] - 1s 15ms/step - loss: 0.1673 - accuracy: 0.9503\n",
      "Epoch 9/10\n",
      "71/71 [==============================] - 2s 23ms/step - loss: 0.1413 - accuracy: 0.9559\n",
      "Epoch 10/10\n",
      "71/71 [==============================] - 2s 24ms/step - loss: 0.1336 - accuracy: 0.9537\n"
     ]
    },
    {
     "data": {
      "text/plain": [
       "<keras.callbacks.History at 0x7f9a4f0bc9b0>"
      ]
     },
     "execution_count": 6,
     "metadata": {},
     "output_type": "execute_result"
    }
   ],
   "source": [
    "model.fit(X_train, Y_train, epochs=10, batch_size=128)"
   ]
  },
  {
   "cell_type": "code",
   "execution_count": 7,
   "id": "3ebec63a",
   "metadata": {},
   "outputs": [
    {
     "name": "stdout",
     "output_type": "stream",
     "text": [
      "281/281 [==============================] - 4s 9ms/step - loss: 0.0975 - accuracy: 0.9655\n"
     ]
    },
    {
     "data": {
      "text/plain": [
       "[0.09753095358610153, 0.9654865264892578]"
      ]
     },
     "execution_count": 7,
     "metadata": {},
     "output_type": "execute_result"
    }
   ],
   "source": [
    "model.evaluate(X_train,Y_train)"
   ]
  },
  {
   "cell_type": "code",
   "execution_count": 8,
   "id": "30cf269a",
   "metadata": {},
   "outputs": [
    {
     "name": "stdout",
     "output_type": "stream",
     "text": [
      "71/71 [==============================] - 1s 7ms/step - loss: 1.8723 - accuracy: 0.7004\n"
     ]
    },
    {
     "data": {
      "text/plain": [
       "[1.8723424673080444, 0.7003561854362488]"
      ]
     },
     "execution_count": 8,
     "metadata": {},
     "output_type": "execute_result"
    }
   ],
   "source": [
    "model.evaluate(X_test,Y_test)"
   ]
  },
  {
   "cell_type": "code",
   "execution_count": null,
   "id": "28d2019d",
   "metadata": {},
   "outputs": [],
   "source": []
  }
 ],
 "metadata": {
  "kernelspec": {
   "display_name": "Python 3",
   "language": "python",
   "name": "python3"
  },
  "language_info": {
   "codemirror_mode": {
    "name": "ipython",
    "version": 3
   },
   "file_extension": ".py",
   "mimetype": "text/x-python",
   "name": "python",
   "nbconvert_exporter": "python",
   "pygments_lexer": "ipython3",
   "version": "3.6.13"
  }
 },
 "nbformat": 4,
 "nbformat_minor": 5
}
