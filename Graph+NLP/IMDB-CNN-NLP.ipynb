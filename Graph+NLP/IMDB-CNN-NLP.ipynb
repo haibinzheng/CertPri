{
 "cells": [
  {
   "cell_type": "code",
   "execution_count": 1,
   "id": "8ffaea14",
   "metadata": {},
   "outputs": [],
   "source": [
    "from __future__ import absolute_import, division, print_function, unicode_literals\n",
    "\n",
    "from tensorflow.keras.preprocessing import sequence\n",
    "from tensorflow.keras.models import Sequential\n",
    "from tensorflow.keras.layers import Conv1D, MaxPooling1D, Flatten, Dense, Embedding\n",
    "from tensorflow.keras.datasets import imdb\n",
    "import numpy as np\n",
    "\n",
    "import os\n",
    "\n",
    "os.environ[\"CUDA_DEVICE_ORDER\"] = \"PCI_BUS_ID\"\n",
    "os.environ[\"CUDA_VISIBLE_DEVICES\"] = \"4\""
   ]
  },
  {
   "cell_type": "code",
   "execution_count": 2,
   "id": "3dd98a47",
   "metadata": {},
   "outputs": [],
   "source": [
    "(X_train_seq, Y_train), (X_test_seq, Y_test) = imdb.load_data()\n",
    "\n",
    "vocabulary_size = -1\n",
    "\n",
    "for seq in X_train_seq:\n",
    "    max_index = max(seq)\n",
    "    if max_index > vocabulary_size:\n",
    "        vocabulary_size = max_index\n",
    "\n",
    "for seq in X_test_seq:\n",
    "    max_index = max(seq)\n",
    "    if max_index > vocabulary_size:\n",
    "        vocabulary_size = max_index\n",
    "\n",
    "vocabulary_size += 1\n",
    "\n",
    "X_train = sequence.pad_sequences(X_train_seq, maxlen=100)\n",
    "X_test = sequence.pad_sequences(X_test_seq, maxlen=100)"
   ]
  },
  {
   "cell_type": "code",
   "execution_count": 3,
   "id": "b885b1df",
   "metadata": {},
   "outputs": [
    {
     "name": "stdout",
     "output_type": "stream",
     "text": [
      "(25000,) (25000,) (25000,) (25000,)\n",
      "(218,) (68,)\n",
      "(25000, 100) (25000, 100)\n"
     ]
    }
   ],
   "source": [
    "print(np.shape(X_train_seq), np.shape(Y_train), np.shape(X_test_seq), np.shape(Y_test))\n",
    "print(np.shape(X_train_seq[0]), np.shape(X_test_seq[0]))\n",
    "print(np.shape(X_train), np.shape(X_test))"
   ]
  },
  {
   "cell_type": "code",
   "execution_count": 4,
   "id": "96d03e08",
   "metadata": {},
   "outputs": [
    {
     "name": "stdout",
     "output_type": "stream",
     "text": [
      "Model: \"sequential\"\n",
      "_________________________________________________________________\n",
      "Layer (type)                 Output Shape              Param #   \n",
      "=================================================================\n",
      "embedding (Embedding)        (None, 100, 300)          26576100  \n",
      "_________________________________________________________________\n",
      "conv1d (Conv1D)              (None, 100, 64)           57664     \n",
      "_________________________________________________________________\n",
      "max_pooling1d (MaxPooling1D) (None, 50, 64)            0         \n",
      "_________________________________________________________________\n",
      "flatten (Flatten)            (None, 3200)              0         \n",
      "_________________________________________________________________\n",
      "dense (Dense)                (None, 1)                 3201      \n",
      "=================================================================\n",
      "Total params: 26,636,965\n",
      "Trainable params: 26,636,965\n",
      "Non-trainable params: 0\n",
      "_________________________________________________________________\n",
      "Epoch 1/10\n",
      "196/196 [==============================] - 7s 5ms/step - loss: 0.4493 - accuracy: 0.7802\n",
      "Epoch 2/10\n",
      "196/196 [==============================] - 1s 4ms/step - loss: 0.2292 - accuracy: 0.9080\n",
      "Epoch 3/10\n",
      "196/196 [==============================] - 1s 4ms/step - loss: 0.1493 - accuracy: 0.9442\n",
      "Epoch 4/10\n",
      "196/196 [==============================] - 1s 5ms/step - loss: 0.0899 - accuracy: 0.9689\n",
      "Epoch 5/10\n",
      "196/196 [==============================] - 1s 4ms/step - loss: 0.0437 - accuracy: 0.9872\n",
      "Epoch 6/10\n",
      "196/196 [==============================] - 1s 4ms/step - loss: 0.0165 - accuracy: 0.9963\n",
      "Epoch 7/10\n",
      "196/196 [==============================] - 1s 5ms/step - loss: 0.0047 - accuracy: 0.9996\n",
      "Epoch 8/10\n",
      "196/196 [==============================] - 1s 4ms/step - loss: 0.0016 - accuracy: 0.9998\n",
      "Epoch 9/10\n",
      "196/196 [==============================] - 1s 4ms/step - loss: 2.4227e-04 - accuracy: 1.0000\n",
      "Epoch 10/10\n",
      "196/196 [==============================] - 1s 5ms/step - loss: 3.5175e-05 - accuracy: 1.0000\n"
     ]
    },
    {
     "data": {
      "text/plain": [
       "<keras.callbacks.History at 0x7f603b62fa20>"
      ]
     },
     "execution_count": 4,
     "metadata": {},
     "output_type": "execute_result"
    }
   ],
   "source": [
    "model = Sequential()\n",
    "model.add(Embedding(output_dim=300, input_dim=vocabulary_size, input_length=100))\n",
    "model.add(Conv1D(filters=64, kernel_size=3, padding='same', activation='relu'))\n",
    "model.add(MaxPooling1D(pool_size=2))\n",
    "model.add(Flatten())\n",
    "model.add(Dense(1, activation='sigmoid'))\n",
    "\n",
    "\n",
    "model.compile(loss='binary_crossentropy', optimizer='rmsprop', metrics=['accuracy'])\n",
    "model.summary()\n",
    "model.fit(X_train, Y_train, epochs=10, batch_size=128)"
   ]
  },
  {
   "cell_type": "code",
   "execution_count": 5,
   "id": "3ebec63a",
   "metadata": {},
   "outputs": [
    {
     "name": "stdout",
     "output_type": "stream",
     "text": [
      "782/782 [==============================] - 2s 2ms/step - loss: 5.3736e-06 - accuracy: 1.0000\n"
     ]
    },
    {
     "data": {
      "text/plain": [
       "[5.3736334848508704e-06, 1.0]"
      ]
     },
     "execution_count": 5,
     "metadata": {},
     "output_type": "execute_result"
    }
   ],
   "source": [
    "model.evaluate(X_train,Y_train)"
   ]
  },
  {
   "cell_type": "code",
   "execution_count": 6,
   "id": "30cf269a",
   "metadata": {},
   "outputs": [
    {
     "name": "stdout",
     "output_type": "stream",
     "text": [
      "782/782 [==============================] - 2s 2ms/step - loss: 1.0043 - accuracy: 0.8395\n"
     ]
    },
    {
     "data": {
      "text/plain": [
       "[1.0042940378189087, 0.8394799828529358]"
      ]
     },
     "execution_count": 6,
     "metadata": {},
     "output_type": "execute_result"
    }
   ],
   "source": [
    "model.evaluate(X_test,Y_test)"
   ]
  },
  {
   "cell_type": "code",
   "execution_count": null,
   "id": "428b10c9",
   "metadata": {},
   "outputs": [],
   "source": []
  }
 ],
 "metadata": {
  "kernelspec": {
   "display_name": "Python 3",
   "language": "python",
   "name": "python3"
  },
  "language_info": {
   "codemirror_mode": {
    "name": "ipython",
    "version": 3
   },
   "file_extension": ".py",
   "mimetype": "text/x-python",
   "name": "python",
   "nbconvert_exporter": "python",
   "pygments_lexer": "ipython3",
   "version": "3.6.13"
  }
 },
 "nbformat": 4,
 "nbformat_minor": 5
}
