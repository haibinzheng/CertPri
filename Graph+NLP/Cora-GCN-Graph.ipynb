{
 "cells": [
  {
   "cell_type": "code",
   "execution_count": 4,
   "id": "3394d1ee",
   "metadata": {},
   "outputs": [],
   "source": [
    "from __future__ import absolute_import, division, print_function, unicode_literals\n",
    "\n",
    "from spektral.datasets.citation import Citation\n",
    "from spektral.layers.convolutional import GCNConv\n",
    "from tensorflow.keras.models import Model\n",
    "from tensorflow.keras.layers import Input, Dropout, Dense\n",
    "import os\n",
    "import numpy as np\n",
    "os.environ[\"CUDA_DEVICE_ORDER\"] = \"PCI_BUS_ID\"\n",
    "os.environ[\"CUDA_VISIBLE_DEVICES\"] = \"4\""
   ]
  },
  {
   "cell_type": "code",
   "execution_count": 22,
   "id": "cf2d81bf",
   "metadata": {},
   "outputs": [],
   "source": [
    "graph = Citation('cora')\n",
    "X = graph.x\n",
    "A = graph.a\n",
    "Y = graph.y\n",
    "# train_mask = graph.mask_tr\n",
    "# val_mask = graph.mask_va\n",
    "# test_mask = graph.mask_te\n",
    "\n",
    "train_mask = graph.mask_te\n",
    "val_mask = graph.mask_tr\n",
    "test_mask = graph.mask_va\n",
    "\n",
    "n_classes = Y.shape[-1]  #分类数\n",
    "N = A.shape[0]  # 节点数\n",
    "F = X.shape[-1]  # 每个节点的特征维数\n"
   ]
  },
  {
   "cell_type": "code",
   "execution_count": 23,
   "id": "8df05601",
   "metadata": {},
   "outputs": [
    {
     "name": "stdout",
     "output_type": "stream",
     "text": [
      "(2708, 1433) (2708, 7) (2708, 2708)\n",
      "1000 140 500\n"
     ]
    }
   ],
   "source": [
    "print(np.shape(X), np.shape(Y), np.shape(A))\n",
    "print(np.sum(train_mask), np.sum(val_mask), np.sum(test_mask))"
   ]
  },
  {
   "cell_type": "code",
   "execution_count": 17,
   "id": "a5a865b3",
   "metadata": {},
   "outputs": [
    {
     "name": "stdout",
     "output_type": "stream",
     "text": [
      "7 [0. 0. 0. 0. 1. 0. 0.]\n",
      "2708 1433\n"
     ]
    }
   ],
   "source": [
    "print(n_classes, Y[1])\n",
    "print(N, F)"
   ]
  },
  {
   "cell_type": "code",
   "execution_count": 18,
   "id": "9a4c4e3f",
   "metadata": {},
   "outputs": [
    {
     "name": "stdout",
     "output_type": "stream",
     "text": [
      "Model: \"model_2\"\n",
      "__________________________________________________________________________________________________\n",
      "Layer (type)                    Output Shape         Param #     Connected to                     \n",
      "==================================================================================================\n",
      "input_5 (InputLayer)            [(None, 1433)]       0                                            \n",
      "__________________________________________________________________________________________________\n",
      "input_6 (InputLayer)            [(None, 2708)]       0                                            \n",
      "__________________________________________________________________________________________________\n",
      "gcn_conv_4 (GCNConv)            (None, 512)          734208      input_5[0][0]                    \n",
      "                                                                 input_6[0][0]                    \n",
      "__________________________________________________________________________________________________\n",
      "dropout_6 (Dropout)             (None, 512)          0           gcn_conv_4[0][0]                 \n",
      "__________________________________________________________________________________________________\n",
      "gcn_conv_5 (GCNConv)            (None, 128)          65664       dropout_6[0][0]                  \n",
      "                                                                 input_6[0][0]                    \n",
      "__________________________________________________________________________________________________\n",
      "dropout_7 (Dropout)             (None, 128)          0           gcn_conv_5[0][0]                 \n",
      "__________________________________________________________________________________________________\n",
      "dense_4 (Dense)                 (None, 128)          16512       dropout_7[0][0]                  \n",
      "__________________________________________________________________________________________________\n",
      "dropout_8 (Dropout)             (None, 128)          0           dense_4[0][0]                    \n",
      "__________________________________________________________________________________________________\n",
      "dense_5 (Dense)                 (None, 7)            903         dropout_8[0][0]                  \n",
      "==================================================================================================\n",
      "Total params: 817,287\n",
      "Trainable params: 817,287\n",
      "Non-trainable params: 0\n",
      "__________________________________________________________________________________________________\n"
     ]
    }
   ],
   "source": [
    "X_in = Input(shape=(F, ))\n",
    "A_in = Input(shape=(N, ), sparse=True)\n",
    "\n",
    "X_1 = GCNConv(512, 'relu')([X_in, A_in])  # 一个节点的特征、一个节点和所有节点的邻接关系\n",
    "X_1 = Dropout(0.5)(X_1)\n",
    "\n",
    "# X_1 = GCNConv(512, 'relu')([X_1, A_in])  # 一个节点的特征、一个节点和所有节点的邻接关系\n",
    "# X_1 = Dropout(0.5)(X_1)\n",
    "\n",
    "X_1 = GCNConv(128, 'relu')([X_1, A_in])  # 一个节点的特征、一个节点和所有节点的邻接关系\n",
    "X_1 = Dropout(0.5)(X_1)\n",
    "\n",
    "X_1 = Dense(128, 'relu')(X_1)  # 一个节点的特征、一个节点和所有节点的邻接关系\n",
    "X_1 = Dropout(0.5)(X_1)\n",
    "\n",
    "X_2 = Dense(n_classes, 'softmax')(X_1) \n",
    "# X_2 = GCNConv(n_classes, 'softmax')([X_1, A_in])\n",
    "\n",
    "model = Model(inputs=[X_in, A_in], outputs=X_2)\n",
    "model.compile(optimizer='adam', loss='categorical_crossentropy', weighted_metrics=['acc'])\n",
    "model.summary()\n"
   ]
  },
  {
   "cell_type": "code",
   "execution_count": 24,
   "id": "267eca86",
   "metadata": {},
   "outputs": [
    {
     "name": "stdout",
     "output_type": "stream",
     "text": [
      "Epoch 1/50\n",
      "1/1 [==============================] - 1s 516ms/step - loss: 0.5454 - acc: 0.5680 - val_loss: 0.0208 - val_acc: 0.9857\n",
      "Epoch 2/50\n",
      "1/1 [==============================] - 0s 97ms/step - loss: 0.5123 - acc: 0.6260 - val_loss: 0.0207 - val_acc: 0.9786\n",
      "Epoch 3/50\n",
      "1/1 [==============================] - 0s 113ms/step - loss: 0.5160 - acc: 0.6500 - val_loss: 0.0216 - val_acc: 0.9643\n",
      "Epoch 4/50\n",
      "1/1 [==============================] - 0s 105ms/step - loss: 0.4650 - acc: 0.6550 - val_loss: 0.0228 - val_acc: 0.9429\n",
      "Epoch 5/50\n",
      "1/1 [==============================] - 0s 110ms/step - loss: 0.4073 - acc: 0.6750 - val_loss: 0.0240 - val_acc: 0.9357\n",
      "Epoch 6/50\n",
      "1/1 [==============================] - 0s 204ms/step - loss: 0.4302 - acc: 0.6910 - val_loss: 0.0240 - val_acc: 0.9357\n",
      "Epoch 7/50\n",
      "1/1 [==============================] - 0s 174ms/step - loss: 0.4303 - acc: 0.6660 - val_loss: 0.0234 - val_acc: 0.9286\n",
      "Epoch 8/50\n",
      "1/1 [==============================] - 0s 189ms/step - loss: 0.4063 - acc: 0.6880 - val_loss: 0.0224 - val_acc: 0.9429\n",
      "Epoch 9/50\n",
      "1/1 [==============================] - 0s 107ms/step - loss: 0.3716 - acc: 0.7170 - val_loss: 0.0214 - val_acc: 0.9500\n",
      "Epoch 10/50\n",
      "1/1 [==============================] - 0s 108ms/step - loss: 0.3683 - acc: 0.7260 - val_loss: 0.0208 - val_acc: 0.9500\n",
      "Epoch 11/50\n",
      "1/1 [==============================] - 0s 113ms/step - loss: 0.3556 - acc: 0.7520 - val_loss: 0.0203 - val_acc: 0.9571\n",
      "Epoch 12/50\n",
      "1/1 [==============================] - 0s 123ms/step - loss: 0.3359 - acc: 0.7490 - val_loss: 0.0202 - val_acc: 0.9571\n",
      "Epoch 13/50\n",
      "1/1 [==============================] - 0s 117ms/step - loss: 0.3378 - acc: 0.7460 - val_loss: 0.0203 - val_acc: 0.9571\n",
      "Epoch 14/50\n",
      "1/1 [==============================] - 0s 107ms/step - loss: 0.3046 - acc: 0.7790 - val_loss: 0.0206 - val_acc: 0.9571\n",
      "Epoch 15/50\n",
      "1/1 [==============================] - 0s 107ms/step - loss: 0.3024 - acc: 0.7720 - val_loss: 0.0209 - val_acc: 0.9500\n",
      "Epoch 16/50\n",
      "1/1 [==============================] - 0s 113ms/step - loss: 0.2918 - acc: 0.8030 - val_loss: 0.0212 - val_acc: 0.9500\n",
      "Epoch 17/50\n",
      "1/1 [==============================] - 0s 105ms/step - loss: 0.2706 - acc: 0.8190 - val_loss: 0.0215 - val_acc: 0.9500\n",
      "Epoch 18/50\n",
      "1/1 [==============================] - 0s 135ms/step - loss: 0.2608 - acc: 0.8080 - val_loss: 0.0215 - val_acc: 0.9500\n",
      "Epoch 19/50\n",
      "1/1 [==============================] - 0s 186ms/step - loss: 0.2673 - acc: 0.8040 - val_loss: 0.0208 - val_acc: 0.9429\n",
      "Epoch 20/50\n",
      "1/1 [==============================] - 0s 249ms/step - loss: 0.2591 - acc: 0.8160 - val_loss: 0.0195 - val_acc: 0.9429\n",
      "Epoch 21/50\n",
      "1/1 [==============================] - 0s 127ms/step - loss: 0.2394 - acc: 0.8240 - val_loss: 0.0185 - val_acc: 0.9357\n",
      "Epoch 22/50\n",
      "1/1 [==============================] - 0s 109ms/step - loss: 0.2249 - acc: 0.8210 - val_loss: 0.0178 - val_acc: 0.9357\n",
      "Epoch 23/50\n",
      "1/1 [==============================] - 0s 128ms/step - loss: 0.2254 - acc: 0.8280 - val_loss: 0.0175 - val_acc: 0.9357\n",
      "Epoch 24/50\n",
      "1/1 [==============================] - 0s 97ms/step - loss: 0.2315 - acc: 0.8440 - val_loss: 0.0170 - val_acc: 0.9357\n",
      "Epoch 25/50\n",
      "1/1 [==============================] - 0s 115ms/step - loss: 0.2142 - acc: 0.8440 - val_loss: 0.0169 - val_acc: 0.9357\n",
      "Epoch 26/50\n",
      "1/1 [==============================] - 0s 107ms/step - loss: 0.2050 - acc: 0.8520 - val_loss: 0.0170 - val_acc: 0.9214\n",
      "Epoch 27/50\n",
      "1/1 [==============================] - 0s 98ms/step - loss: 0.2071 - acc: 0.8540 - val_loss: 0.0172 - val_acc: 0.9071\n",
      "Epoch 28/50\n",
      "1/1 [==============================] - 0s 107ms/step - loss: 0.1994 - acc: 0.8480 - val_loss: 0.0175 - val_acc: 0.9000\n",
      "Epoch 29/50\n",
      "1/1 [==============================] - 0s 108ms/step - loss: 0.1855 - acc: 0.8620 - val_loss: 0.0177 - val_acc: 0.9000\n",
      "Epoch 30/50\n",
      "1/1 [==============================] - 0s 128ms/step - loss: 0.1900 - acc: 0.8740 - val_loss: 0.0180 - val_acc: 0.9000\n",
      "Epoch 31/50\n",
      "1/1 [==============================] - 0s 141ms/step - loss: 0.1764 - acc: 0.8640 - val_loss: 0.0179 - val_acc: 0.9000\n",
      "Epoch 32/50\n",
      "1/1 [==============================] - 0s 173ms/step - loss: 0.1772 - acc: 0.8730 - val_loss: 0.0180 - val_acc: 0.9143\n",
      "Epoch 33/50\n",
      "1/1 [==============================] - 0s 270ms/step - loss: 0.1647 - acc: 0.8710 - val_loss: 0.0182 - val_acc: 0.9071\n",
      "Epoch 34/50\n",
      "1/1 [==============================] - 0s 101ms/step - loss: 0.1523 - acc: 0.8830 - val_loss: 0.0179 - val_acc: 0.9071\n",
      "Epoch 35/50\n",
      "1/1 [==============================] - 0s 109ms/step - loss: 0.1557 - acc: 0.8880 - val_loss: 0.0176 - val_acc: 0.9143\n",
      "Epoch 36/50\n",
      "1/1 [==============================] - 0s 115ms/step - loss: 0.1580 - acc: 0.8830 - val_loss: 0.0176 - val_acc: 0.9143\n",
      "Epoch 37/50\n",
      "1/1 [==============================] - 0s 104ms/step - loss: 0.1644 - acc: 0.8730 - val_loss: 0.0177 - val_acc: 0.9000\n",
      "Epoch 38/50\n",
      "1/1 [==============================] - 0s 100ms/step - loss: 0.1414 - acc: 0.8960 - val_loss: 0.0186 - val_acc: 0.9000\n",
      "Epoch 39/50\n",
      "1/1 [==============================] - 0s 93ms/step - loss: 0.1428 - acc: 0.8950 - val_loss: 0.0197 - val_acc: 0.8929\n",
      "Epoch 40/50\n",
      "1/1 [==============================] - 0s 118ms/step - loss: 0.1347 - acc: 0.9000 - val_loss: 0.0208 - val_acc: 0.8929\n",
      "Epoch 41/50\n",
      "1/1 [==============================] - 0s 108ms/step - loss: 0.1386 - acc: 0.8960 - val_loss: 0.0221 - val_acc: 0.8929\n",
      "Epoch 42/50\n",
      "1/1 [==============================] - 0s 96ms/step - loss: 0.1269 - acc: 0.9080 - val_loss: 0.0226 - val_acc: 0.8929\n",
      "Epoch 43/50\n",
      "1/1 [==============================] - 0s 104ms/step - loss: 0.1210 - acc: 0.9150 - val_loss: 0.0224 - val_acc: 0.8857\n",
      "Epoch 44/50\n",
      "1/1 [==============================] - 0s 105ms/step - loss: 0.1263 - acc: 0.8960 - val_loss: 0.0222 - val_acc: 0.8857\n",
      "Epoch 45/50\n",
      "1/1 [==============================] - 0s 218ms/step - loss: 0.1133 - acc: 0.9130 - val_loss: 0.0219 - val_acc: 0.8857\n",
      "Epoch 46/50\n",
      "1/1 [==============================] - 0s 184ms/step - loss: 0.1287 - acc: 0.9090 - val_loss: 0.0218 - val_acc: 0.8857\n",
      "Epoch 47/50\n",
      "1/1 [==============================] - 0s 172ms/step - loss: 0.1057 - acc: 0.9150 - val_loss: 0.0216 - val_acc: 0.8929\n",
      "Epoch 48/50\n",
      "1/1 [==============================] - 0s 96ms/step - loss: 0.1068 - acc: 0.9150 - val_loss: 0.0211 - val_acc: 0.8929\n",
      "Epoch 49/50\n",
      "1/1 [==============================] - 0s 108ms/step - loss: 0.1071 - acc: 0.9140 - val_loss: 0.0211 - val_acc: 0.8929\n",
      "Epoch 50/50\n",
      "1/1 [==============================] - 0s 110ms/step - loss: 0.1025 - acc: 0.9240 - val_loss: 0.0211 - val_acc: 0.8929\n"
     ]
    },
    {
     "data": {
      "text/plain": [
       "<keras.callbacks.History at 0x7f2176dcb208>"
      ]
     },
     "execution_count": 24,
     "metadata": {},
     "output_type": "execute_result"
    }
   ],
   "source": [
    "validation_data = ([X, A], Y, val_mask)\n",
    "model.fit([X, A], Y, epochs=50, sample_weight=train_mask, validation_data=validation_data, batch_size=N, shuffle=False)"
   ]
  },
  {
   "cell_type": "code",
   "execution_count": 25,
   "id": "dc7cf77b",
   "metadata": {},
   "outputs": [
    {
     "name": "stdout",
     "output_type": "stream",
     "text": [
      "1/1 [==============================] - 0s 227ms/step - loss: 0.0570 - acc: 0.9600\n",
      "Done. Train accuracy: [0.05695149302482605, 0.9599999785423279]\n"
     ]
    }
   ],
   "source": [
    "eval_results = model.evaluate([X, A], Y, sample_weight=train_mask, batch_size=N)\n",
    "print('Done. Train accuracy: {}'.format(eval_results))"
   ]
  },
  {
   "cell_type": "code",
   "execution_count": 26,
   "id": "4466f5e8",
   "metadata": {},
   "outputs": [
    {
     "name": "stdout",
     "output_type": "stream",
     "text": [
      "1/1 [==============================] - 0s 66ms/step - loss: 0.1626 - acc: 0.8340\n",
      "Done. Test accuracy: [0.1625974476337433, 0.8339999914169312]\n"
     ]
    }
   ],
   "source": [
    "eval_results = model.evaluate([X, A], Y, sample_weight=test_mask, batch_size=N)\n",
    "print('Done. Test accuracy: {}'.format(eval_results))"
   ]
  },
  {
   "cell_type": "code",
   "execution_count": null,
   "id": "a690d4f7",
   "metadata": {},
   "outputs": [],
   "source": []
  }
 ],
 "metadata": {
  "kernelspec": {
   "display_name": "Python 3",
   "language": "python",
   "name": "python3"
  },
  "language_info": {
   "codemirror_mode": {
    "name": "ipython",
    "version": 3
   },
   "file_extension": ".py",
   "mimetype": "text/x-python",
   "name": "python",
   "nbconvert_exporter": "python",
   "pygments_lexer": "ipython3",
   "version": "3.6.13"
  }
 },
 "nbformat": 4,
 "nbformat_minor": 5
}
