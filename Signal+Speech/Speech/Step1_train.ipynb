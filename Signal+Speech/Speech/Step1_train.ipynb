{
 "cells": [
  {
   "cell_type": "code",
   "execution_count": 1,
   "id": "61d50170",
   "metadata": {},
   "outputs": [],
   "source": [
    "from Constant import *\n",
    "from Model_Structure import *\n",
    "from dataset import *"
   ]
  },
  {
   "cell_type": "code",
   "execution_count": 2,
   "id": "a284b352",
   "metadata": {},
   "outputs": [
    {
     "name": "stderr",
     "output_type": "stream",
     "text": [
      "100%|██████████| 2500/2500 [01:08<00:00, 36.67it/s]\n",
      "100%|██████████| 400/400 [00:09<00:00, 42.67it/s]\n"
     ]
    }
   ],
   "source": [
    "# 加载数据\n",
    "X_train, Y_train, N_train, X_test, Y_test, N_test = load_dataset()"
   ]
  },
  {
   "cell_type": "code",
   "execution_count": 3,
   "id": "a65d5c29",
   "metadata": {},
   "outputs": [
    {
     "name": "stdout",
     "output_type": "stream",
     "text": [
      "(2500, 601, 64) (2500,) (2500,)\n",
      "(400, 601, 64) (400,) (400,)\n"
     ]
    }
   ],
   "source": [
    "print(np.shape(X_train), np.shape(Y_train), np.shape(N_train))\n",
    "print(np.shape(X_test), np.shape(Y_test), np.shape(N_test))"
   ]
  },
  {
   "cell_type": "code",
   "execution_count": 14,
   "id": "af73f933",
   "metadata": {},
   "outputs": [
    {
     "name": "stdout",
     "output_type": "stream",
     "text": [
      "[0 0 0 0 0 0 0 0 0 0 0 0 0 0 0 0 0 0 0 0 0 0 0 0 0 0 0 0 0 0 0 0 0 0 0 0 0\n",
      " 0 0 0 1 1 1 1 1 1 1 1 1 1 1 1 1 1 1 1 1 1 1 1 1 1 1 1 1 1 1 1 1 1 1 1 1 1\n",
      " 1 1 1 1 1 1 2 2 2 2 2 2 2 2 2 2 2 2 2 2 2 2 2 2 2 2 2 2 2 2 2 2 2 2 2 2 2\n",
      " 2 2 2 2 2 2 2 2 2 3 3 3 3 3 3 3 3 3 3 3 3 3 3 3 3 3 3 3 3 3 3 3 3 3 3 3 3\n",
      " 3 3 3 3 3 3 3 3 3 3 3 3 4 4 4 4 4 4 4 4 4 4 4 4 4 4 4 4 4 4 4 4 4 4 4 4 4\n",
      " 4 4 4 4 4 4 4 4 4 4 4 4 4 4 4 5 5 5 5 5 5 5 5 5 5 5 5 5 5 5 5 5 5 5 5 5 5\n",
      " 5 5 5 5 5 5 5 5 5 5 5 5 5 5 5 5 5 5 6 6 6 6 6 6 6 6 6 6 6 6 6 6 6 6 6 6 6\n",
      " 6 6 6 6 6 6 6 6 6 6 6 6 6 6 6 6 6 6 6 6 6 7 7 7 7 7 7 7 7 7 7 7 7 7 7 7 7\n",
      " 7 7 7 7 7 7 7 7 7 7 7 7 7 7 7 7 7 7 7 7 7 7 7 7 8 8 8 8 8 8 8 8 8 8 8 8 8\n",
      " 8 8 8 8 8 8 8 8 8 8 8 8 8 8 8 8 8 8 8 8 8 8 8 8 8 8 8 9 9 9 9 9 9 9 9 9 9\n",
      " 9 9 9 9 9 9 9 9 9 9 9 9 9 9 9 9 9 9 9 9 9 9 9 9 9 9 9 9 9 9]\n"
     ]
    }
   ],
   "source": [
    "print(Y_test)"
   ]
  },
  {
   "cell_type": "code",
   "execution_count": 4,
   "id": "a76627cf",
   "metadata": {},
   "outputs": [
    {
     "name": "stdout",
     "output_type": "stream",
     "text": [
      "WARNING:tensorflow:Layer lstm will not use cuDNN kernels since it doesn't meet the criteria. It will use a generic GPU kernel as fallback when running on GPU.\n",
      "WARNING:tensorflow:Layer lstm_1 will not use cuDNN kernels since it doesn't meet the criteria. It will use a generic GPU kernel as fallback when running on GPU.\n",
      "Model: \"model\"\n",
      "_________________________________________________________________\n",
      "Layer (type)                 Output Shape              Param #   \n",
      "=================================================================\n",
      "input_1 (InputLayer)         [(None, 601, 64)]         0         \n",
      "_________________________________________________________________\n",
      "lstm (LSTM)                  (None, 601, 32)           12416     \n",
      "_________________________________________________________________\n",
      "lstm_1 (LSTM)                (None, 601, 8)            1312      \n",
      "_________________________________________________________________\n",
      "flatten (Flatten)            (None, 4808)              0         \n",
      "_________________________________________________________________\n",
      "dense (Dense)                (None, 64)                307776    \n",
      "_________________________________________________________________\n",
      "dense_1 (Dense)              (None, 10)                650       \n",
      "=================================================================\n",
      "Total params: 322,154\n",
      "Trainable params: 322,154\n",
      "Non-trainable params: 0\n",
      "_________________________________________________________________\n"
     ]
    }
   ],
   "source": [
    "batch_size = 64\n",
    "epochs = 10\n",
    "# 加载模型\n",
    "model = vctk_model()"
   ]
  },
  {
   "cell_type": "code",
   "execution_count": 5,
   "id": "ef9623b8",
   "metadata": {},
   "outputs": [],
   "source": [
    "model_checkpoint = ModelCheckpoint(\"Weights/speech.h5\", monitor=\"val_loss\",\n",
    "                                   save_best_only=True, save_weights_only=False, verbose=1)\n",
    "lr_reducer = ReduceLROnPlateau(monitor='val_loss', factor=np.sqrt(0.1), cooldown=0, patience=2, min_lr=1e-5)\n",
    "callbacks = [lr_reducer, model_checkpoint]"
   ]
  },
  {
   "cell_type": "code",
   "execution_count": 6,
   "id": "f08fb408",
   "metadata": {},
   "outputs": [
    {
     "name": "stdout",
     "output_type": "stream",
     "text": [
      "Train on 2500 samples, validate on 400 samples\n",
      "Epoch 1/10\n",
      "2500/2500 [==============================] - ETA: 0s - loss: 2.0288 - accuracy: 0.2832"
     ]
    },
    {
     "name": "stderr",
     "output_type": "stream",
     "text": [
      "/public/liujiawei/anaconda3/envs/ZHB_env/lib/python3.6/site-packages/keras/engine/training.py:2470: UserWarning: `Model.state_updates` will be removed in a future version. This property should not be used in TensorFlow 2.0, as `updates` are applied automatically.\n",
      "  warnings.warn('`Model.state_updates` will be removed in a future version. '\n"
     ]
    },
    {
     "name": "stdout",
     "output_type": "stream",
     "text": [
      "\n",
      "Epoch 00001: val_loss improved from inf to 1.24710, saving model to Weights/speech.h5\n",
      "2500/2500 [==============================] - 42s 17ms/sample - loss: 2.0288 - accuracy: 0.2832 - val_loss: 1.2471 - val_accuracy: 0.5750 - lr: 0.0010\n",
      "Epoch 2/10\n",
      "2500/2500 [==============================] - ETA: 0s - loss: 0.9112 - accuracy: 0.6752\n",
      "Epoch 00002: val_loss improved from 1.24710 to 0.65965, saving model to Weights/speech.h5\n",
      "2500/2500 [==============================] - 39s 15ms/sample - loss: 0.9112 - accuracy: 0.6752 - val_loss: 0.6596 - val_accuracy: 0.7525 - lr: 0.0010\n",
      "Epoch 3/10\n",
      "2500/2500 [==============================] - ETA: 0s - loss: 0.4875 - accuracy: 0.8300\n",
      "Epoch 00003: val_loss improved from 0.65965 to 0.44580, saving model to Weights/speech.h5\n",
      "2500/2500 [==============================] - 38s 15ms/sample - loss: 0.4875 - accuracy: 0.8300 - val_loss: 0.4458 - val_accuracy: 0.8525 - lr: 0.0010\n",
      "Epoch 4/10\n",
      "2500/2500 [==============================] - ETA: 0s - loss: 0.3074 - accuracy: 0.8896\n",
      "Epoch 00004: val_loss improved from 0.44580 to 0.39466, saving model to Weights/speech.h5\n",
      "2500/2500 [==============================] - 37s 15ms/sample - loss: 0.3074 - accuracy: 0.8896 - val_loss: 0.3947 - val_accuracy: 0.8400 - lr: 0.0010\n",
      "Epoch 5/10\n",
      "2500/2500 [==============================] - ETA: 0s - loss: 0.1926 - accuracy: 0.9408\n",
      "Epoch 00005: val_loss improved from 0.39466 to 0.26046, saving model to Weights/speech.h5\n",
      "2500/2500 [==============================] - 35s 14ms/sample - loss: 0.1926 - accuracy: 0.9408 - val_loss: 0.2605 - val_accuracy: 0.9100 - lr: 0.0010\n",
      "Epoch 6/10\n",
      "2500/2500 [==============================] - ETA: 0s - loss: 0.1300 - accuracy: 0.9596\n",
      "Epoch 00006: val_loss improved from 0.26046 to 0.18406, saving model to Weights/speech.h5\n",
      "2500/2500 [==============================] - 36s 14ms/sample - loss: 0.1300 - accuracy: 0.9596 - val_loss: 0.1841 - val_accuracy: 0.9425 - lr: 0.0010\n",
      "Epoch 7/10\n",
      "2500/2500 [==============================] - ETA: 0s - loss: 0.0868 - accuracy: 0.9752\n",
      "Epoch 00007: val_loss did not improve from 0.18406\n",
      "2500/2500 [==============================] - 36s 14ms/sample - loss: 0.0868 - accuracy: 0.9752 - val_loss: 0.1864 - val_accuracy: 0.9425 - lr: 0.0010\n",
      "Epoch 8/10\n",
      "2500/2500 [==============================] - ETA: 0s - loss: 0.0579 - accuracy: 0.9832\n",
      "Epoch 00008: val_loss improved from 0.18406 to 0.15177, saving model to Weights/speech.h5\n",
      "2500/2500 [==============================] - 36s 14ms/sample - loss: 0.0579 - accuracy: 0.9832 - val_loss: 0.1518 - val_accuracy: 0.9375 - lr: 0.0010\n",
      "Epoch 9/10\n",
      "2500/2500 [==============================] - ETA: 0s - loss: 0.0424 - accuracy: 0.9872\n",
      "Epoch 00009: val_loss improved from 0.15177 to 0.10930, saving model to Weights/speech.h5\n",
      "2500/2500 [==============================] - 36s 14ms/sample - loss: 0.0424 - accuracy: 0.9872 - val_loss: 0.1093 - val_accuracy: 0.9675 - lr: 0.0010\n",
      "Epoch 10/10\n",
      "2500/2500 [==============================] - ETA: 0s - loss: 0.0322 - accuracy: 0.9928\n",
      "Epoch 00010: val_loss improved from 0.10930 to 0.09883, saving model to Weights/speech.h5\n",
      "2500/2500 [==============================] - 35s 14ms/sample - loss: 0.0322 - accuracy: 0.9928 - val_loss: 0.0988 - val_accuracy: 0.9750 - lr: 0.0010\n"
     ]
    },
    {
     "data": {
      "text/plain": [
       "<keras.callbacks.History at 0x7fd31c2ce630>"
      ]
     },
     "execution_count": 6,
     "metadata": {},
     "output_type": "execute_result"
    }
   ],
   "source": [
    "model.fit(x=X_train, y=Y_train, batch_size=batch_size, epochs=epochs, shuffle=True,\n",
    "          callbacks=callbacks, validation_data=(X_test, Y_test), verbose=1)"
   ]
  },
  {
   "cell_type": "code",
   "execution_count": 7,
   "id": "d8e8752c",
   "metadata": {},
   "outputs": [
    {
     "data": {
      "text/plain": [
       "[0.016838727484364064, 0.9984]"
      ]
     },
     "execution_count": 7,
     "metadata": {},
     "output_type": "execute_result"
    }
   ],
   "source": [
    "model.evaluate(X_train, Y_train)"
   ]
  },
  {
   "cell_type": "code",
   "execution_count": 8,
   "id": "01821951",
   "metadata": {},
   "outputs": [
    {
     "data": {
      "text/plain": [
       "[0.09883126325905323, 0.975]"
      ]
     },
     "execution_count": 8,
     "metadata": {},
     "output_type": "execute_result"
    }
   ],
   "source": [
    "model.evaluate(X_test, Y_test)"
   ]
  },
  {
   "cell_type": "code",
   "execution_count": null,
   "id": "8aeb1413",
   "metadata": {},
   "outputs": [],
   "source": []
  }
 ],
 "metadata": {
  "kernelspec": {
   "display_name": "Python 3",
   "language": "python",
   "name": "python3"
  },
  "language_info": {
   "codemirror_mode": {
    "name": "ipython",
    "version": 3
   },
   "file_extension": ".py",
   "mimetype": "text/x-python",
   "name": "python",
   "nbconvert_exporter": "python",
   "pygments_lexer": "ipython3",
   "version": "3.6.13"
  }
 },
 "nbformat": 4,
 "nbformat_minor": 5
}
