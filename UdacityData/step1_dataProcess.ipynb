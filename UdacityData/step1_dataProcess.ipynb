{
 "cells": [
  {
   "cell_type": "code",
   "execution_count": 2,
   "id": "898a1c27",
   "metadata": {},
   "outputs": [],
   "source": [
    "import rosbag\n",
    "# import roslib;  # roslib.load_manifest(PKG)\n",
    "# import rospy\n",
    "import cv2\n",
    "from cv_bridge import CvBridge\n",
    "import os\n",
    "from sensor_msgs.msg import Image\n",
    "import csv\n",
    "import numpy as np\n",
    "\n",
    "bridge = CvBridge()"
   ]
  },
  {
   "cell_type": "code",
   "execution_count": 4,
   "id": "a871b88c",
   "metadata": {},
   "outputs": [
    {
     "name": "stdout",
     "output_type": "stream",
     "text": [
      "HMB_1.bag\n",
      "HMB_2.bag\n",
      "HMB_4.bag\n",
      "HMB_5.bag\n",
      "HMB_6.bag\n"
     ]
    }
   ],
   "source": [
    "train_index = [1,2,4,5,6] #一共33808张图片\n",
    "input_path = '/public/liujiawei/ZHB/GradPri/UdacityData/trainBag'\n",
    "rgb_path = '/public/liujiawei/ZHB/GradPri/UdacityData/trainData'\n",
    "#'/common/hahabai/data/Ch2_002/HMB%d/' % i  # 已经建立好的存储rgb彩色图文件的目录\n",
    "train_label = []\n",
    "header = ['frame_id', 'steering_angle']\n",
    "for i in train_index:  #有5个bag训练文件\n",
    "    bag_file_name = 'HMB_%d.bag' % i # 'HMB_%d.orig.bag' % i\n",
    "    print(bag_file_name)\n",
    "    with rosbag.Bag(os.path.join(input_path, bag_file_name), 'r') as bag:\n",
    "        tmp1 = []\n",
    "        for topic, msg, t in bag.read_messages(\"/vehicle/steering_report/\"):\n",
    "            tmp1.append((\"%.2f\" % msg.header.stamp.to_sec(), msg.steering_wheel_angle))\n",
    "\n",
    "        #topic是/center_camera/image_color/compressed/\n",
    "        for topic, msg, t in bag.read_messages(\"/center_camera/image_color/compressed/\"):\n",
    "            # 由于topic是被压缩的，所以采用compressed_imgmsg_to_cv2读取\n",
    "            cv_image = bridge.compressed_imgmsg_to_cv2(msg, \"bgr8\")\n",
    "            # 如果topic是无压缩的，可以采用bridge.imgmsg_to_cv2(msg,\"bgr8\")\n",
    "            timestr = \"%.2f\" % msg.header.stamp.to_sec()\n",
    "#             timestr = str(t)\n",
    "            # %.6f表示小数点后带有6位，可根据精确度需要修改；\n",
    "            image_name = timestr + \".png\"  # 图像命名：时间戳.png\n",
    "            if not os.path.exists(rgb_path):\n",
    "                os.makedirs(rgb_path)\n",
    "            cv2.imwrite(os.path.join(rgb_path, image_name), cv_image)  # 保存\n",
    "            for j1 in tmp1:\n",
    "                if np.abs(float(j1[0]) - float(timestr))<=0.05:\n",
    "                    train_label.append((timestr, j1[1]))\n",
    "                    break\n",
    "        \n",
    "with open('train_label.csv', 'w', encoding='utf-8') as file_obj:\n",
    "    # 1:创建writer对象\n",
    "    writer = csv.writer(file_obj)\n",
    "    # 2:写表头\n",
    "    writer.writerow(header)\n",
    "    # 3:遍历列表，将每一行的数据写入csv\n",
    "    for p in train_label:\n",
    "        writer.writerow(p)"
   ]
  },
  {
   "cell_type": "code",
   "execution_count": null,
   "id": "89e39e2b",
   "metadata": {},
   "outputs": [],
   "source": []
  },
  {
   "cell_type": "code",
   "execution_count": 3,
   "id": "f650667f",
   "metadata": {},
   "outputs": [
    {
     "name": "stdout",
     "output_type": "stream",
     "text": [
      "HMB_3.bag\n"
     ]
    }
   ],
   "source": [
    "test_index = [3] #一共5279张图片\n",
    "input_path = '/public/liujiawei/ZHB/GradPri/UdacityData/testBag'\n",
    "rgb_path = '/public/liujiawei/ZHB/GradPri/UdacityData/testData'\n",
    "#'/common/hahabai/data/Ch2_002/HMB%d/' % i  # 已经建立好的存储rgb彩色图文件的目录\n",
    "test_label = []\n",
    "header = ['frame_id', 'steering_angle']\n",
    "\n",
    "for i in test_index:  #有1个bag测试文件\n",
    "    bag_file_name = 'HMB_%d.bag' % i # 'HMB_%d.orig.bag' % i\n",
    "    print(bag_file_name)\n",
    "    with rosbag.Bag(os.path.join(input_path, bag_file_name), 'r') as bag:\n",
    "        tmp1 = []\n",
    "        for topic, msg, t in bag.read_messages(\"/vehicle/steering_report/\"):\n",
    "            tmp1.append((\"%.2f\" % msg.header.stamp.to_sec(), msg.steering_wheel_angle))\n",
    "\n",
    "        #topic是/center_camera/image_color/compressed/\n",
    "        for topic, msg, t in bag.read_messages(\"/center_camera/image_color/compressed/\"):\n",
    "            # 由于topic是被压缩的，所以采用compressed_imgmsg_to_cv2读取\n",
    "            cv_image = bridge.compressed_imgmsg_to_cv2(msg, \"bgr8\")\n",
    "            # 如果topic是无压缩的，可以采用bridge.imgmsg_to_cv2(msg,\"bgr8\")\n",
    "            timestr = \"%.2f\" % msg.header.stamp.to_sec()\n",
    "#             timestr = str(t)\n",
    "            # %.6f表示小数点后带有6位，可根据精确度需要修改；\n",
    "            image_name = timestr + \".png\"  # 图像命名：时间戳.png\n",
    "            if not os.path.exists(rgb_path):\n",
    "                os.makedirs(rgb_path)\n",
    "            cv2.imwrite(os.path.join(rgb_path, image_name), cv_image)  # 保存\n",
    "            for j1 in tmp1:\n",
    "                if np.abs(float(j1[0]) - float(timestr))<=0.05:\n",
    "                    test_label.append((timestr, j1[1]))\n",
    "                    break\n",
    "\n",
    "with open('test_label.csv', 'w', encoding='utf-8') as file_obj:\n",
    "    # 1:创建writer对象\n",
    "    writer = csv.writer(file_obj)\n",
    "    # 2:写表头\n",
    "    writer.writerow(header)\n",
    "    # 3:遍历列表，将每一行的数据写入csv\n",
    "    for p in test_label:\n",
    "        writer.writerow(p)"
   ]
  },
  {
   "cell_type": "code",
   "execution_count": null,
   "id": "e5cf1a41",
   "metadata": {},
   "outputs": [],
   "source": []
  },
  {
   "cell_type": "code",
   "execution_count": null,
   "id": "fe5c87e4",
   "metadata": {},
   "outputs": [],
   "source": []
  }
 ],
 "metadata": {
  "kernelspec": {
   "display_name": "Python 3",
   "language": "python",
   "name": "python3"
  },
  "language_info": {
   "codemirror_mode": {
    "name": "ipython",
    "version": 3
   },
   "file_extension": ".py",
   "mimetype": "text/x-python",
   "name": "python",
   "nbconvert_exporter": "python",
   "pygments_lexer": "ipython3",
   "version": "3.6.13"
  }
 },
 "nbformat": 4,
 "nbformat_minor": 5
}
