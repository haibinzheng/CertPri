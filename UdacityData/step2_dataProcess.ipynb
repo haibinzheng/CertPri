{
 "cells": [
  {
   "cell_type": "code",
   "execution_count": 7,
   "id": "900138c9",
   "metadata": {},
   "outputs": [],
   "source": [
    "import csv\n",
    "import numpy as np\n",
    "import cv2\n",
    "from keras_preprocessing.image import ImageDataGenerator\n",
    "from tensorflow.keras.preprocessing import image\n",
    "from progressbar import ProgressBar\n",
    "from tensorflow.keras.applications.vgg19 import preprocess_input\n",
    "import os\n",
    "import scipy.io\n",
    "import tensorflow as tf\n",
    "import json\n",
    "import sys\n",
    "sys.path.append('..')"
   ]
  },
  {
   "cell_type": "code",
   "execution_count": 8,
   "id": "d5205326",
   "metadata": {},
   "outputs": [],
   "source": [
    "DATA_PATH = '/public/liujiawei/ZHB/GradPri/UdacityData'\n",
    "file_name = []\n",
    "train_Y = []\n",
    "with open(os.path.join(DATA_PATH, 'train_label.csv'), 'r', encoding='utf-8') as file_obj:\n",
    "    # 1.创建reader对象\n",
    "    reader = csv.reader(file_obj)\n",
    "    # 2.遍历进行读取数据\n",
    "    for r in reader:\n",
    "        if r[0] != 'frame_id':\n",
    "            file_name.append(r[0]+'.png')\n",
    "            train_Y.append(float(r[1]))"
   ]
  },
  {
   "cell_type": "code",
   "execution_count": 9,
   "id": "38205042",
   "metadata": {},
   "outputs": [
    {
     "name": "stderr",
     "output_type": "stream",
     "text": [
      "100% |########################################################################|\n"
     ]
    }
   ],
   "source": [
    "train_X = []\n",
    "pbar = ProgressBar()\n",
    "for img_name in pbar(file_name):\n",
    "    img_path = os.path.join(DATA_PATH, 'trainData', img_name)\n",
    "    img = image.load_img(img_path, target_size=(128, 128))\n",
    "    x_tmp = image.img_to_array(img)\n",
    "#     x_tmp = np.expand_dims(x_tmp, axis=0)\n",
    "    x_tmp = preprocess_input(x_tmp)\n",
    "    train_X.append(x_tmp)"
   ]
  },
  {
   "cell_type": "code",
   "execution_count": 10,
   "id": "ec2b3e12",
   "metadata": {},
   "outputs": [],
   "source": [
    "np.save('train_X.npy', train_X)\n",
    "np.save('train_Y.npy', train_Y)"
   ]
  },
  {
   "cell_type": "code",
   "execution_count": null,
   "id": "d3336de3",
   "metadata": {},
   "outputs": [],
   "source": []
  },
  {
   "cell_type": "code",
   "execution_count": 11,
   "id": "4ca0fbac",
   "metadata": {},
   "outputs": [],
   "source": [
    "file_name = []\n",
    "test_Y = []\n",
    "with open(os.path.join(DATA_PATH, 'test_label.csv'), 'r', encoding='utf-8') as file_obj:\n",
    "    # 1.创建reader对象\n",
    "    reader = csv.reader(file_obj)\n",
    "    # 2.遍历进行读取数据\n",
    "    for r in reader:\n",
    "        if r[0] != 'frame_id':\n",
    "            file_name.append(r[0]+'.png')\n",
    "            test_Y.append(float(r[1]))"
   ]
  },
  {
   "cell_type": "code",
   "execution_count": 12,
   "id": "84131d09",
   "metadata": {},
   "outputs": [],
   "source": [
    "test_X = []\n",
    "pbar = ProgressBar()\n",
    "for img_name in pbar(file_name):\n",
    "    img_path = os.path.join(DATA_PATH, 'testData', img_name)\n",
    "    img = image.load_img(img_path, target_size=(128, 128))\n",
    "    x_tmp = image.img_to_array(img)\n",
    "#     x_tmp = np.expand_dims(x_tmp, axis=0)\n",
    "    x_tmp = preprocess_input(x_tmp)\n",
    "    test_X.append(x_tmp)"
   ]
  },
  {
   "cell_type": "code",
   "execution_count": 13,
   "id": "8b93cbd1",
   "metadata": {},
   "outputs": [],
   "source": [
    "np.save('test_X.npy', test_X)\n",
    "np.save('test_Y.npy', test_Y)"
   ]
  },
  {
   "cell_type": "code",
   "execution_count": null,
   "id": "c4fb07a8",
   "metadata": {},
   "outputs": [],
   "source": []
  }
 ],
 "metadata": {
  "kernelspec": {
   "display_name": "Python 3",
   "language": "python",
   "name": "python3"
  },
  "language_info": {
   "codemirror_mode": {
    "name": "ipython",
    "version": 3
   },
   "file_extension": ".py",
   "mimetype": "text/x-python",
   "name": "python",
   "nbconvert_exporter": "python",
   "pygments_lexer": "ipython3",
   "version": "3.6.13"
  }
 },
 "nbformat": 4,
 "nbformat_minor": 5
}
